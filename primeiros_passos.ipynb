{
 "cells": [
  {
   "cell_type": "markdown",
   "metadata": {},
   "source": [
    "# Notebook em construção"
   ]
  },
  {
   "cell_type": "markdown",
   "metadata": {},
   "source": [
    "<img align=\"left\" src = https://www.linea.gov.br/wp-content/themes/LIneA/imagens/logo-header.png width=180 style=\"padding: 20px\"> <br>\n",
    "\n",
    "## LIneA JupyterHub - Primeiros Passos\n",
    "\n",
    "Contato: [helpdesk@linea.gov.br](mailto:helpdesk@linea.gov.br) <br>\n",
    "Última verificação: xx/xx/2021<br> \n",
    "\n"
   ]
  },
  {
   "cell_type": "markdown",
   "metadata": {},
   "source": [
    "### Roteiro\n",
    "\n",
    "* c/ SQLalchemy\n",
    " - abrir conexão no banco\n",
    " - visualizar a estrutura da tabela (select * from tabela limit 1)  \n",
    " - query por posição (q3c), funções simples (quadrado, círculo, distância), link p/ doc\n",
    " - queries com filtros (WHERE)\n",
    " - query que retorna um dataframe \n",
    "\n",
    "* c/ API\n",
    " - Consulta usando a API\n",
    " - Saber quais tabelas estão disponíveis\n",
    " - Saber quais colunas estão disponíveis em uma dada tabela\n",
    " - Consulta básica (select x from tabela where yy)\n",
    " - Consulta por posição\n",
    " - Registrar uma tabela no target viewer\n"
   ]
  },
  {
   "cell_type": "markdown",
   "metadata": {},
   "source": [
    "**Setup**"
   ]
  },
  {
   "cell_type": "code",
   "execution_count": null,
   "metadata": {},
   "outputs": [],
   "source": [
    "import numpy as np\n",
    "import matplotlib.pyplot as plt\n",
    "import pandas as pd\n",
    "import seaborn as sns\n",
    "\n",
    "import sqlalchemy\n",
    "\n",
    "\n",
    "#from astropy.table import Table, vstack\n",
    "#from scipy.stats import kde, gaussian_kde\n",
    "#from astropy import units as u\n",
    "#from astropy.coordinates import SkyCoord\n",
    "#from astropy.io import fits\n",
    "#import math as m\n",
    "#import healpy as hp\n",
    "#import os\n",
    "#import sys\n",
    "#from collections import OrderedDict\n",
    "#from helper_funcs import *\n",
    "\n",
    "# Append base directory to the system path\n",
    "#working_directory = os.getcwd()\n",
    "#base_directory = working_directory + '/..'\n",
    "#sys.path.append(base_directory)\n",
    "#from lib import my_plotlib as mpl\n",
    "\n",
    "\n",
    "# Reload python modules automatically\n",
    "%reload_ext autoreload\n",
    "%autoreload 2\n",
    "# show plots\n",
    "%matplotlib inline\n",
    "\n",
    "# seaborn plot setup\n",
    "sns.set(color_codes=True, font_scale=1.5) "
   ]
  },
  {
   "cell_type": "markdown",
   "metadata": {},
   "source": [
    "# 1. Introdução"
   ]
  },
  {
   "cell_type": "markdown",
   "metadata": {},
   "source": []
  },
  {
   "cell_type": "markdown",
   "metadata": {},
   "source": [
    "### 1.1 Dicas para trabalhar no Jupyter Lab\n",
    "\n",
    "Se você já está familiarizado com o Jupyter Lab, pule para a [seção 1.2](#dados). \n",
    "\n",
    "<aula 1 do curso>\n",
    "\n"
   ]
  },
  {
   "cell_type": "code",
   "execution_count": null,
   "metadata": {},
   "outputs": [],
   "source": []
  },
  {
   "cell_type": "markdown",
   "metadata": {},
   "source": [
    "<a class=\"anchor\" id=\"dados\"></a>\n",
    "### 1.2 Sobre os dados"
   ]
  },
  {
   "cell_type": "markdown",
   "metadata": {},
   "source": [
    "sobre o DES (link site, DR papers e key papers)"
   ]
  },
  {
   "cell_type": "markdown",
   "metadata": {},
   "source": [
    "magnitudes sextractor"
   ]
  },
  {
   "cell_type": "code",
   "execution_count": null,
   "metadata": {},
   "outputs": [],
   "source": []
  },
  {
   "cell_type": "markdown",
   "metadata": {},
   "source": [
    "flags de qualidade "
   ]
  },
  {
   "cell_type": "code",
   "execution_count": null,
   "metadata": {},
   "outputs": [],
   "source": []
  },
  {
   "cell_type": "markdown",
   "metadata": {},
   "source": [
    "separação estrela galáxia"
   ]
  },
  {
   "cell_type": "code",
   "execution_count": null,
   "metadata": {},
   "outputs": [],
   "source": []
  },
  {
   "cell_type": "code",
   "execution_count": null,
   "metadata": {},
   "outputs": [],
   "source": []
  },
  {
   "cell_type": "markdown",
   "metadata": {},
   "source": [
    "# 2. Acesso a dados\n",
    "## 2.1 Acesso ao banco de dados com SQLAlchemy"
   ]
  },
  {
   "cell_type": "code",
   "execution_count": null,
   "metadata": {},
   "outputs": [],
   "source": [
    "# Connect to database  \n",
    "address = xxxx \n",
    "engine = sqlalchemy.create_engine(address)\n",
    "conn = engine.connect()"
   ]
  },
  {
   "cell_type": "markdown",
   "metadata": {},
   "source": [
    "Consulta nomes das colunas"
   ]
  },
  {
   "cell_type": "code",
   "execution_count": null,
   "metadata": {},
   "outputs": [],
   "source": [
    "query = 'select * from des_dr2.coadd_objects limit 1'\n",
    "stm = sqlalchemy.sql.text(query)\n",
    "result = conn.execute(stm).fetchall() \n",
    "#result"
   ]
  },
  {
   "cell_type": "markdown",
   "metadata": {},
   "source": [
    "Consulta tamanho da tabela (número de linhas e colunas)"
   ]
  },
  {
   "cell_type": "code",
   "execution_count": null,
   "metadata": {},
   "outputs": [],
   "source": []
  },
  {
   "cell_type": "markdown",
   "metadata": {},
   "source": [
    "Requisita uma pequena amostra de estrelas "
   ]
  },
  {
   "cell_type": "code",
   "execution_count": null,
   "metadata": {},
   "outputs": [],
   "source": [
    "column_names = ('ra', 'dec', 'mag_auto_g', 'mag_auto_r', 'mag_auto_i', \n",
    "                'magerr_auto_g', 'magerr_auto_r', 'magerr_auto_i')"
   ]
  },
  {
   "cell_type": "code",
   "execution_count": null,
   "metadata": {},
   "outputs": [],
   "source": []
  },
  {
   "cell_type": "code",
   "execution_count": null,
   "metadata": {},
   "outputs": [],
   "source": [
    "query = (f'select {(\", \").join(column_names)} ' +\n",
    "        'where flags_i < 4 and extended_class_coadd < 2 ' + \n",
    "        'from des_dr2.coadd_objects limit 10') \n",
    "query"
   ]
  },
  {
   "cell_type": "code",
   "execution_count": null,
   "metadata": {},
   "outputs": [],
   "source": [
    "stm = sqlalchemy.sql.text(query)\n",
    "result = conn.execute(stm).fetchall()  \n",
    "table = Table(rows=result, names=column_names)#.to_pandas()"
   ]
  },
  {
   "cell_type": "code",
   "execution_count": null,
   "metadata": {},
   "outputs": [],
   "source": [
    "table"
   ]
  },
  {
   "cell_type": "code",
   "execution_count": null,
   "metadata": {},
   "outputs": [],
   "source": []
  },
  {
   "cell_type": "code",
   "execution_count": null,
   "metadata": {},
   "outputs": [],
   "source": []
  },
  {
   "cell_type": "code",
   "execution_count": null,
   "metadata": {},
   "outputs": [],
   "source": []
  },
  {
   "cell_type": "code",
   "execution_count": null,
   "metadata": {},
   "outputs": [],
   "source": []
  },
  {
   "cell_type": "markdown",
   "metadata": {},
   "source": [
    "## 2.2 Conexão com o Science Server via API"
   ]
  },
  {
   "cell_type": "markdown",
   "metadata": {},
   "source": [
    "<font color=\"red\" size=20> Em breve! </font>"
   ]
  },
  {
   "cell_type": "markdown",
   "metadata": {},
   "source": [
    "# 3. Exemplos de visualização "
   ]
  },
  {
   "cell_type": "code",
   "execution_count": null,
   "metadata": {},
   "outputs": [],
   "source": []
  },
  {
   "cell_type": "code",
   "execution_count": null,
   "metadata": {},
   "outputs": [],
   "source": []
  },
  {
   "cell_type": "code",
   "execution_count": null,
   "metadata": {},
   "outputs": [],
   "source": []
  },
  {
   "cell_type": "code",
   "execution_count": null,
   "metadata": {},
   "outputs": [],
   "source": []
  },
  {
   "cell_type": "code",
   "execution_count": null,
   "metadata": {},
   "outputs": [],
   "source": []
  },
  {
   "cell_type": "code",
   "execution_count": null,
   "metadata": {},
   "outputs": [],
   "source": []
  },
  {
   "cell_type": "code",
   "execution_count": null,
   "metadata": {},
   "outputs": [],
   "source": []
  }
 ],
 "metadata": {
  "kernelspec": {
   "display_name": "science",
   "language": "python",
   "name": "science"
  },
  "language_info": {
   "codemirror_mode": {
    "name": "ipython",
    "version": 3
   },
   "file_extension": ".py",
   "mimetype": "text/x-python",
   "name": "python",
   "nbconvert_exporter": "python",
   "pygments_lexer": "ipython3",
   "version": "3.6.8"
  }
 },
 "nbformat": 4,
 "nbformat_minor": 4
}
