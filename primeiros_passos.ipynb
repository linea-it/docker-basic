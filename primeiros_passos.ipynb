{
 "cells": [
  {
   "cell_type": "markdown",
   "metadata": {},
   "source": [
    "\n",
    "<img align=\"left\" src = https://www.linea.gov.br/wp-content/themes/LIneA/imagens/logo-header.png width=120 style=\"padding: 20px\"> <br> \n",
    "<img align=\"left\" src = https://jupyter.org/assets/hublogo.svg width=200 style=\"padding: 20px\"> <br> \n",
    "<br>\n",
    "<br>\n",
    "<br>\n",
    "<br>\n",
    "\n",
    "# Primeiros Passos \n",
    "\n",
    "Última verificação: 18/10/2021\n",
    "\n",
    "***"
   ]
  },
  {
   "cell_type": "markdown",
   "metadata": {
    "tags": [],
    "toc-hr-collapsed": true
   },
   "source": [
    "## 1. Introdução\n",
    "\n",
    "Bem vindo(a) ao LIneA JupyterHub! Este serviço está aberto ao público e oferece acesso a dados e poder de processamento através desta plataforma (JupyterLab). \n",
    "\n",
    "Neste notebook você encontrará dicas de:\n",
    "* como utilizar o JupyterLab;\n",
    "* como adicionar ou atualizar biblitecas;\n",
    "* como acessar os dados disponíveis no LIneA Science Server diretamente de um notebook. \n",
    "\n",
    "Se precisar de ajuda, entre em contato pelo [helpdesk@linea.gov.br](mailto:helpdesk@linea.gov.br) <br>\n",
    "\n"
   ]
  },
  {
   "cell_type": "markdown",
   "metadata": {
    "tags": []
   },
   "source": [
    "### 1.1 O que é o Jupyter Notebook? \n",
    "\n",
    "_Se você já está familiarizado com o Jupyter, pule para a [seção 2](#conda) (dica: navegue pelas seções do notebook usando a aba lateral do JupyterLab)._\n",
    "\n",
    "\n",
    "Um Jupyter Notebook é um arquivo com extensão _.ipynb_ composto por uma sequência de células executáveis que podem conter trechos de código, o resultado da execução desse código, texto formatado, equações e anexos. A documentação oficial do Jupyter Notebook está disponível em: https://jupyter-notebook.readthedocs.io \n",
    "\n",
    "Para acessar, editar e executar um notebook, usamos a aplicação JupyterLab, que é a interface de usuário de última geração dpo Jupyter, ou a sua versão clássica, também chamada de Jupyter Notebook. Para alternar entre as duas versões, basta substituir na URL: \n",
    "\n",
    "`jupyter.linea.gov.br/user/<seu username>/tree` -> para a versão cássica \n",
    "\n",
    "`jupyter.linea.gov.br/user/<seu username>/lab`  -> para o JupyterLab\n"
   ]
  },
  {
   "cell_type": "markdown",
   "metadata": {
    "slideshow": {
     "slide_type": "slide"
    },
    "tags": []
   },
   "source": [
    "### 1.2 Comandos básicos \n",
    "\n",
    "Existem dois modos no Jupyter Notebook (e no Jupyter Lab): **Edição** e **Comando**. No Jupyter Notebook (clássico), quando a célula está azul, você está no modo de comando. No modo de edição a cor é verde. No Jupyter Lab a cor é sempre azul.\n",
    "\n",
    "Para acessar os modos:\n",
    "+ Edição: **Enter**\n",
    "+ Comando: **Esc**\n",
    "\n",
    "Teste com a célula vazia abaixo:"
   ]
  },
  {
   "cell_type": "code",
   "execution_count": null,
   "metadata": {},
   "outputs": [],
   "source": []
  },
  {
   "cell_type": "markdown",
   "metadata": {
    "slideshow": {
     "slide_type": "subslide"
    },
    "tags": []
   },
   "source": [
    "#### Executando uma célula\n",
    "\n",
    "A linguagem de programação considerada na execução depende do _Kernel_ selecionado na criação do notebook. Neste notebook o kernel é Python 3.\n",
    "\n",
    "Para executar uma célula você pode clicar no botão \"play\" (&#9658;) ou usar o seguintes comandos:\n",
    "\n",
    "+ **Ctrl + Enter**: Somente executa a célula selecionada\n",
    "+ **Shift + Enter**: Executa a célula selecionada e pula para a próxima\n",
    "+ **Alt + Enter** (ou **option + return** no Mac): Executa a célula selecionada e cria uma abaixo\n",
    "\n",
    "Agora navegue para a célula abaixo com as setas do teclado e teste os comandos."
   ]
  },
  {
   "cell_type": "code",
   "execution_count": null,
   "metadata": {
    "slideshow": {
     "slide_type": "fragment"
    }
   },
   "outputs": [],
   "source": [
    "print(\"Hello, World!\")"
   ]
  },
  {
   "cell_type": "markdown",
   "metadata": {
    "slideshow": {
     "slide_type": "slide"
    }
   },
   "source": [
    "Note que ao lado da célula está escrito **In [1]:**. O número que aparecenentre colchetes indica a ordem de execução das células. **In [*]:** indica que a execução ainda está em andamento. Por exemplo, vamos importar a biblioteca `time` e utilizar a função `sleep`, que apenas nos faz esperar o tempo (em segundos) fornecido como argumento entre parênteses. "
   ]
  },
  {
   "cell_type": "code",
   "execution_count": null,
   "metadata": {},
   "outputs": [],
   "source": [
    "import time"
   ]
  },
  {
   "cell_type": "code",
   "execution_count": null,
   "metadata": {},
   "outputs": [],
   "source": [
    "time.sleep(5)"
   ]
  },
  {
   "cell_type": "markdown",
   "metadata": {},
   "source": [
    "Um exemplo com **loop**:"
   ]
  },
  {
   "cell_type": "code",
   "execution_count": null,
   "metadata": {},
   "outputs": [],
   "source": [
    "print(\"Contagem regressiva\")\n",
    "for i in [5,4,3,2,1]:\n",
    "    print(i)\n",
    "    time.sleep(1)\n",
    "print(\"Pronto!\")"
   ]
  },
  {
   "cell_type": "markdown",
   "metadata": {},
   "source": [
    "<font color=\"red\"><b>!!! CUIDADO !!!</b></font><br>\n",
    "Nada garante que as células sejam executadas na ordem em que aparecem. Se você fizer alterações no notebook e rodar as células fora de ordem, coisas inesperadas podem acontecer. Fique atento(a) à numeração In[x] ao interpretar seus resultados. "
   ]
  },
  {
   "cell_type": "markdown",
   "metadata": {},
   "source": [
    "#### Parada de emergência\n",
    "\n",
    "Se precisar interromper a execução de um notebook, use o botão de \"stop\" (&#9632;) ou vá pelo menu _Kernel_: \n",
    "\n",
    "- `Kernel > Interrupt Kernel` \n",
    "\n",
    "Depois de muitas alterações, é conveniente \"dar um _Restart_\" e rodar todas as celulas de uma vez, para garantir a ordem de execução. \n",
    "\n",
    "- `Kernel > Restart Kernel and Run All Cells`   \n",
    "\n",
    "#### Boas práticas: guarde seus notebooks limpos\n",
    "\n",
    "Antes de salvar seu notebook, apague todos os outputs, especialmente se ele estiver em um repositório GIT.    \n",
    "\n",
    "- `Edit > Clear All Outputs` \n",
    "\n",
    "ou então \n",
    "\n",
    "- `Kernel > Restart Kernel and Clear All Outputs` \n"
   ]
  },
  {
   "cell_type": "markdown",
   "metadata": {},
   "source": [
    "#### Acessando a documentação\n",
    "\n",
    "Pela forma tradicional do Python, usando a função `help`:"
   ]
  },
  {
   "cell_type": "code",
   "execution_count": null,
   "metadata": {},
   "outputs": [],
   "source": [
    "help(time.sleep)"
   ]
  },
  {
   "cell_type": "markdown",
   "metadata": {},
   "source": [
    "Ou pelo atalho (\"?\"):"
   ]
  },
  {
   "cell_type": "code",
   "execution_count": null,
   "metadata": {},
   "outputs": [],
   "source": [
    "time.sleep?"
   ]
  },
  {
   "cell_type": "markdown",
   "metadata": {},
   "source": [
    "Funções ou variáveis definidas em uma célula ficam na memória e valem para todas as outras células."
   ]
  },
  {
   "cell_type": "code",
   "execution_count": null,
   "metadata": {},
   "outputs": [],
   "source": [
    "def hello():\n",
    "    \"\"\" Função de exemplo. Apenas diz: Olá, Mundo! De novo =] \"\"\"\n",
    "    print(\" Hello, World! \\n Again =]\")"
   ]
  },
  {
   "cell_type": "code",
   "execution_count": null,
   "metadata": {},
   "outputs": [],
   "source": [
    "hello()"
   ]
  },
  {
   "cell_type": "markdown",
   "metadata": {},
   "source": [
    "Quando adicionamos documentação usando as aspas triplas logo abaixo do nome da função, esta mensagem fica disponível para consulta pela função `help`. "
   ]
  },
  {
   "cell_type": "code",
   "execution_count": null,
   "metadata": {},
   "outputs": [],
   "source": [
    "help(hello)"
   ]
  },
  {
   "cell_type": "markdown",
   "metadata": {},
   "source": [
    "#### Atalhos úteis no modo de comando\n",
    "\n",
    "+ **a**: cria antes\n",
    "+ **b**: cria depois\n",
    "+ **x**: cortar\n",
    "+ **c**: copiar\n",
    "+ **v**: colar\n",
    "+ **d, d**: apagar (apertar duas vezes o \"d\")\n",
    "+ **z**: desfazer o último \"apagar\""
   ]
  },
  {
   "cell_type": "markdown",
   "metadata": {},
   "source": [
    "#### Atalhos úteis no modo de edição\n",
    "+ copiar/cortar ou colar sem seleção: copia/corta ou cola a linha completa\n",
    "+ multicursor: `Ctrl` (pc) ou `command` (mac) + mouse click\n"
   ]
  },
  {
   "cell_type": "markdown",
   "metadata": {
    "tags": []
   },
   "source": [
    "### 1.3 Tipos de Células\n",
    "\n",
    "Além das células de código, todo o texto entre elas também é adicionado em células, porém do tipo **Markdown**. O tipo de célula pode ser alterado no menu da aba no Jupyter ou no modo de comando com os seguintes atalhos:\n",
    "\n",
    "+ **y** : Code \n",
    "+ **m** : Markdown\n",
    "+ **r** : Raw (texto puro)\n",
    "\n"
   ]
  },
  {
   "cell_type": "markdown",
   "metadata": {},
   "source": [
    "Por exemplo, com a nossa função hello, varie o tipo da célula e veja o resultado. "
   ]
  },
  {
   "cell_type": "raw",
   "metadata": {},
   "source": [
    "hello()"
   ]
  },
  {
   "cell_type": "markdown",
   "metadata": {},
   "source": [
    "#### Markdown\n",
    "\n",
    "Markdown é uma linguagem que converte texto simples em texto estruturado HTML, pensada para ser de fácil leitura e escrita. \n",
    "\n",
    "Entre no modo de edição das células abaixo para ver como cada item foi feito.\n"
   ]
  },
  {
   "cell_type": "markdown",
   "metadata": {
    "tags": []
   },
   "source": [
    "\n",
    "#### Títulos\n",
    "##### Subtítulos\n",
    "\n",
    "Títulos e Subtítulos são identificados com \"#\". O número de #s indica o nível de hierarquia. Os títulos demarcam as seções no menu lateral que é atualizado automaticamente.   \n",
    "\n",
    "Divisão com linha horizontal: \n",
    "\n",
    "********"
   ]
  },
  {
   "cell_type": "markdown",
   "metadata": {},
   "source": [
    "#### Links\n",
    "\n",
    "[Site do LIneA](https://www.linea.gov.br)\n",
    "\n",
    "[Contato](mailto:helpdesk@linea.gov.br) "
   ]
  },
  {
   "cell_type": "markdown",
   "metadata": {},
   "source": [
    "#### Font style\n",
    "\n",
    "\n",
    "**bold**, __bold__, _italic_, *italic*, ~~Strikethrough~~, ***Bold and italic***, \n",
    "\n",
    "> blockquote\n",
    "\n",
    "Inline `print(\"Hello World\")`\n",
    "\n",
    "```\n",
    "def quote_code_markdown()\n",
    "    return\n",
    "```\n",
    "\n",
    "Código em uma linguagem\n",
    "```python\n",
    "def python_func()\n",
    "    return\n",
    "```\n",
    "\n",
    "Mais detalhes sobre blocos de código no [link](https://help.github.com/en/articles/creating-and-highlighting-code-blocks)"
   ]
  },
  {
   "cell_type": "markdown",
   "metadata": {},
   "source": [
    "#### Listas\n",
    "\n",
    "- item 1\n",
    "- item 2\n",
    "- item 3\n",
    "\n",
    "\n",
    "1. item 1\n",
    "2. item 2\n",
    "3. item 3\n",
    "\n",
    "\n",
    "- item 1\n",
    "  - item 2\n",
    "    - item 3\n",
    "\n",
    "\n",
    "1. item 1\n",
    "   1. item 2\n",
    "      1. item 3\n",
    "\n",
    "Mais informações sobre markdown no [link](https://help.github.com/en/articles/basic-writing-and-formatting-syntax)"
   ]
  },
  {
   "cell_type": "markdown",
   "metadata": {},
   "source": [
    "#### Tabelas\n",
    "\n",
    "|  x  |  y  |  z  |\n",
    "|-----|-----|-----|\n",
    "| x1  | y1  | z1  |\n",
    "| x2  | y2  | z2  |\n",
    "| x3  | y3  | z3  |\n",
    "| x4  | y4  | z4  |\n",
    "| x5  | y5  | z5  |\n"
   ]
  },
  {
   "cell_type": "markdown",
   "metadata": {},
   "source": [
    "#### HTML\n",
    "\n",
    "Código HTML também funcionam nas células do tipo Markdown.\n",
    "\n",
    "<font color='red'>Change font color</font>\n",
    "\n",
    "<p style=\"background-color:green; color:white\">Lorem ipsum dolor sit amet, consectetur adipiscing elit. Etiam eget ligula eu lectus lobortis condimentum. Aliquam nonummy auctor massa. Pellentesque habitant morbi tristique senectus et netus et malesuada fames ac turpis egestas. Nulla at risus. Quisque purus magna, auctor et, sagittis ac, posuere eu, lectus. Nam mattis, felis ut adipiscing.</p>"
   ]
  },
  {
   "cell_type": "markdown",
   "metadata": {},
   "source": [
    "#### $\\LaTeX\\$\n",
    "\n",
    "É possível adicionar equações e expressões matemáticas em geral diretamente na célula do tipo **Markdown**, na mesma linha: $e^{i\\pi} + 1 = 0$,\n",
    "\n",
    "ou em uma linha separada, centralizado:\n",
    "$$e^x=\\sum_{i=0}^\\infty \\frac{1}{i!}x^i$$"
   ]
  },
  {
   "cell_type": "markdown",
   "metadata": {},
   "source": [
    "### 1.4 Comandos do terminal \n",
    "\n",
    "Para executar comandos do terminal diretamente na célula, basta iniciar a linha com o **`!`** "
   ]
  },
  {
   "cell_type": "code",
   "execution_count": null,
   "metadata": {},
   "outputs": [],
   "source": [
    "! ls"
   ]
  },
  {
   "cell_type": "code",
   "execution_count": null,
   "metadata": {},
   "outputs": [],
   "source": [
    "! cp README.md copy_README.md"
   ]
  },
  {
   "cell_type": "code",
   "execution_count": null,
   "metadata": {},
   "outputs": [],
   "source": [
    "! ls"
   ]
  },
  {
   "cell_type": "code",
   "execution_count": null,
   "metadata": {},
   "outputs": [],
   "source": [
    "! rm copy_README.md"
   ]
  },
  {
   "cell_type": "code",
   "execution_count": null,
   "metadata": {},
   "outputs": [],
   "source": [
    "! ls"
   ]
  },
  {
   "cell_type": "markdown",
   "metadata": {},
   "source": [
    "### 1.5 Comandos mágicos\n",
    "\n",
    "São executados com \"%\" (válido para a linha) ou \"%%\" (válido para a célula).  Note que alguns comandos mágicos são nomes de outras linguagens (ex.: `%%javascript`, `%%pearl`, `%%ruby`), o que possibilita trocar de kernel ou ambiente em uma célula em particular. "
   ]
  },
  {
   "cell_type": "markdown",
   "metadata": {},
   "source": [
    "Para testar a célula abaixo, remova o indicador de comentário na linguagem javascript (`//`) e execute a célula para gerar uma pop-up window.  "
   ]
  },
  {
   "cell_type": "code",
   "execution_count": null,
   "metadata": {},
   "outputs": [],
   "source": [
    "%%javascript\n",
    "\n",
    "//alert(\"Hello, World!\")"
   ]
  },
  {
   "cell_type": "markdown",
   "metadata": {},
   "source": [
    "Também é possível adicionar outras linguagens através da instalação de extensões. "
   ]
  },
  {
   "cell_type": "markdown",
   "metadata": {},
   "source": [
    "Um exemplos bastante útil é o comando `%time`, para uma linha:"
   ]
  },
  {
   "cell_type": "code",
   "execution_count": null,
   "metadata": {},
   "outputs": [],
   "source": [
    "%time print(\"Quanto tempo leva para imprimir esta frase?\")"
   ]
  },
  {
   "cell_type": "markdown",
   "metadata": {},
   "source": [
    "Ou `%%time`, para uma célula:"
   ]
  },
  {
   "cell_type": "code",
   "execution_count": null,
   "metadata": {},
   "outputs": [],
   "source": [
    "%%time\n",
    "print(\"===================\")\n",
    "hello()\n",
    "print(\"===================\")"
   ]
  },
  {
   "cell_type": "markdown",
   "metadata": {},
   "source": [
    "que retorna as medidas de `CPU times` e `Wall time`. Veja [neste post](https://stackoverflow.com/questions/556405/what-do-real-user-and-sys-mean-in-the-output-of-time1) um resumo do significado de cada uma dessas medidas. "
   ]
  },
  {
   "cell_type": "markdown",
   "metadata": {},
   "source": [
    "### 1.6 Configurações da célula\n",
    "\n",
    "\n",
    "#### Toggle scrolling \n",
    "\n",
    "Útil para outputs longos inconvenientes, clique com o botão direito do mouse e selecione \n",
    "\n",
    "`Enable Scrolling for Outputs`"
   ]
  },
  {
   "cell_type": "code",
   "execution_count": null,
   "metadata": {
    "tags": []
   },
   "outputs": [],
   "source": [
    "for i in range(50):\n",
    "    print(i)"
   ]
  },
  {
   "cell_type": "markdown",
   "metadata": {},
   "source": [
    "#### Numeração de linhas\n",
    "\n",
    "`View > Show Line Numbers`\n",
    "\n",
    "ou usando o atalho: `Shift` + `L` no modo de comando."
   ]
  },
  {
   "cell_type": "code",
   "execution_count": null,
   "metadata": {},
   "outputs": [],
   "source": [
    "print()\n",
    "print(\"Esta é a linha 2!\")\n",
    "print()\n",
    "print()"
   ]
  },
  {
   "cell_type": "markdown",
   "metadata": {},
   "source": [
    "### 1.7 Export  \n",
    "\n",
    "Para exportar seu notebook com resultados para uma versão estática e leve que abre em qualquer navegador, basta ir no menu em:\n",
    "\n",
    "`File > Export Notebook As... > HTML`\n",
    "\n",
    "*** "
   ]
  },
  {
   "cell_type": "markdown",
   "metadata": {},
   "source": [
    "<a class=\"anchor\" id=\"conda\"></a>\n",
    "## 2. Gerenciando suas bibliotecas "
   ]
  },
  {
   "cell_type": "markdown",
   "metadata": {},
   "source": [
    "A imagem [docker-basic](https://github.com/linea-it/docker-basic) é uma extensão da imagem [_datascience-notebook_](https://github.com/jupyter/docker-stacks) \n",
    "que já oferece os 3 kernels [Python](https://www.python.org), [Julia](https://julialang.org) e [R](https://www.r-project.org), e as principais bibliotecas de ciência de dados, equipada com algumas das bibliotecas mais usadas na astronomia, como [Astropy](https://www.astropy.org) e [Healpy](https://healpy.readthedocs.io).\n",
    "A lista de bibliotecas disponíveis pode ser acessada com o comando:"
   ]
  },
  {
   "cell_type": "code",
   "execution_count": null,
   "metadata": {
    "scrolled": true,
    "tags": []
   },
   "outputs": [],
   "source": [
    "! conda list"
   ]
  },
  {
   "cell_type": "markdown",
   "metadata": {},
   "source": [
    "Caso você não encontre a biblioteca necessária para a sua aplicação nesta lista, você poderá fazer uma instalação temporária com o `pip` ou `conda` no terminal, ou de dentro do usando o `!` antes dos comandos. Como exemplo, vamos instalar a biblioteca [healsparse](https://github.com/lsstdesc/healsparse). Os argumentos `--quiet` e `--yes` evitarão que o prompt fique preso aguardando confirmação.  "
   ]
  },
  {
   "cell_type": "code",
   "execution_count": null,
   "metadata": {},
   "outputs": [],
   "source": [
    "! conda install -c conda-forge healsparse --quiet --yes"
   ]
  },
  {
   "cell_type": "code",
   "execution_count": null,
   "metadata": {},
   "outputs": [],
   "source": [
    "! conda install -c conda-forge psycopg2 --quiet --yes"
   ]
  },
  {
   "cell_type": "markdown",
   "metadata": {},
   "source": [
    "Outro exemplo, agora usando o `pip`: "
   ]
  },
  {
   "cell_type": "code",
   "execution_count": null,
   "metadata": {},
   "outputs": [],
   "source": [
    "! pip install astropy "
   ]
  },
  {
   "cell_type": "code",
   "execution_count": null,
   "metadata": {},
   "outputs": [],
   "source": [
    "! pip install pandas "
   ]
  },
  {
   "cell_type": "markdown",
   "metadata": {},
   "source": [
    "Obs: a biblioteca Pandas já faz parte da imagem [docker-basic](https://github.com/linea-it/docker-basic). Note as mensagens de \"requisitos já satisfeitos\".\n",
    "\n",
    "<font color='red'>ATENÇÃO: </font> Se você é um usuário do serviço aberto ao público (usuários com perfis \"ouro\", \"prata\", ou \"bronze\"), as bibliotecas extras instaladas ficarão disponíveis apenas para o seu usuário e somente durante a sessão atual. Quando você se desconectar, seu container será destruído e, quando se conectar novamente, um novo container será criado apenas com as bibliotecas da imagem [docker-basic](https://github.com/linea-it/docker-basic). \n",
    "\n",
    "***"
   ]
  },
  {
   "cell_type": "markdown",
   "metadata": {},
   "source": [
    "## 3. Acesso a dados\n",
    "### 3.1 Sobre os dados"
   ]
  },
  {
   "cell_type": "markdown",
   "metadata": {},
   "source": [
    "<img align=\"left\" src=https://www.darkenergysurvey.org/wp-content/uploads/2016/01/des-logo-rev-lg.png width=400 style=\"background-color:black; padding: 20px\">"
   ]
  },
  {
   "cell_type": "markdown",
   "metadata": {},
   "source": [
    "\n",
    "<img align=\"left\" src=https://www.darkenergysurvey.org/wp-content/uploads/2016/05/12-0333-22D.jpg width=400 style=\"background-color:black; padding: 20px; margin-right: 2em\"> <br>\n",
    "\n",
    "\n"
   ]
  },
  {
   "cell_type": "markdown",
   "metadata": {},
   "source": [
    "O [Dark Energy Survey (DES)](https://www.darkenergysurvey.org/) é um levantamento fotométrico em 5 bandas do ótico ao infravermelho (_grizY_) que tem como principal objetivo a determinação da equação de estado da energia escura. O DES observou ~700 milhões de objetos detectados em ~5000 graus quadrados no hemisfério sul durante 6 anos. Os artigos com os principais resultados da análise dos dados dos três primeiros anos de observação estão disponíveis [nesta página](https://www.darkenergysurvey.org/des-year-3-cosmology-results-papers/).  \n",
    "<img align=\"center\" src=https://www.darkenergysurvey.org/wp-content/uploads/2021/06/dr2_footprint.png  width=500 style=\"padding: 20px\"> <br> \n",
    "Figura: Footprint Data Release 2 (fonte: [www.darkenergysurvey.org](https://www.darkenergysurvey.org/wp-content/uploads/2021/06/dr2_footprint.png)).  \n",
    "\n",
    "O [segundo _data release_ (DR2)](https://des.ncsa.illinois.edu/releases/dr2), já contendo os dados dos seis anos de observação, está disponível para público e pode ser acessado pelo [LIneA Science Server](https://desportal2.cosmology.illinois.edu/sky/) ou aqui pelo JupyterHub, como veremos a seguir."
   ]
  },
  {
   "cell_type": "markdown",
   "metadata": {},
   "source": [
    "### 3.2 Acesso ao banco de dados com SQL Alchemy"
   ]
  },
  {
   "cell_type": "markdown",
   "metadata": {},
   "source": [
    "Setup: "
   ]
  },
  {
   "cell_type": "code",
   "execution_count": null,
   "metadata": {},
   "outputs": [],
   "source": [
    "import matplotlib.pyplot as plt\n",
    "import pandas as pd\n",
    "from linea_db import get_table\n",
    "from astropy import units as u\n",
    "from astropy.coordinates import SkyCoord\n",
    "%reload_ext autoreload\n",
    "%autoreload 2"
   ]
  },
  {
   "cell_type": "markdown",
   "metadata": {},
   "source": [
    "#### Leitura dos dados\n"
   ]
  },
  {
   "cell_type": "markdown",
   "metadata": {
    "tags": []
   },
   "source": [
    "A função `get_table(query)` faz a consulta no banco de dados e traz uma tabela referente à _query_ fornecida no argumento  (por default, retorna um objeto do tipo [pandas.DataFrame](https://pandas.pydata.org/docs/reference/api/pandas.DataFrame.html)): "
   ]
  },
  {
   "cell_type": "code",
   "execution_count": null,
   "metadata": {},
   "outputs": [],
   "source": [
    "help(get_table)"
   ]
  },
  {
   "cell_type": "markdown",
   "metadata": {},
   "source": [
    "Por exemplo, vamos consultar as coordenadas de 100 objetos selecionados aleatoriamente.  "
   ]
  },
  {
   "cell_type": "code",
   "execution_count": null,
   "metadata": {},
   "outputs": [],
   "source": [
    "query = \"SELECT ra, dec FROM des_dr2.coadd_objects limit 100\"\n",
    "dados = get_table(query)"
   ]
  },
  {
   "cell_type": "code",
   "execution_count": null,
   "metadata": {},
   "outputs": [],
   "source": [
    "type(dados)"
   ]
  },
  {
   "cell_type": "code",
   "execution_count": null,
   "metadata": {},
   "outputs": [],
   "source": [
    "dados"
   ]
  },
  {
   "cell_type": "code",
   "execution_count": null,
   "metadata": {},
   "outputs": [],
   "source": [
    "dados.info()"
   ]
  },
  {
   "cell_type": "code",
   "execution_count": null,
   "metadata": {},
   "outputs": [],
   "source": [
    "dados.describe()"
   ]
  },
  {
   "cell_type": "markdown",
   "metadata": {
    "tags": []
   },
   "source": [
    "### 3.4 Exemplos"
   ]
  },
  {
   "cell_type": "markdown",
   "metadata": {},
   "source": [
    "Para ilustrar a visualização de uma pequena amostra de dados, vamos construir o diagrama cor-magnitude com as estrelas da [galáxia anã de Sculptor](https://en.wikipedia.org/wiki/Sculptor_Dwarf_Galaxy). \n",
    "\n",
    "|Equatorial Coordinates | |\n",
    "|:-- |--- | \n",
    "|Right ascension | 01h 00m 09.3s |\n",
    "|Declination | −33° 42' 33\" |\n"
   ]
  },
  {
   "cell_type": "markdown",
   "metadata": {},
   "source": [
    "\n",
    "\n",
    "A tabela abaixo traz os significados das colunas que vamos utilizar para fazer a consulta no banco de dados. A lista completa de colunas disponíveis na tabela DES DR2 está disponível [nesta página](https://des.ncsa.illinois.edu/releases/dr2/dr2-products/dr2-schema). \n",
    "\n",
    "\n",
    "|Coluna | Significado |\n",
    "|---|---|\n",
    "|COADD_OBJECT_ID | Unique identifier for the coadded objects|\n",
    "|RA | Right ascension, with quantized precision for indexing (ALPHAWIN_J2000 has full precision but not indexed) [degrees]|\n",
    "|DEC | Declination, with quantized precision for indexing (DELTAWIN_J2000 has full precision but not indexed) [degrees] |\n",
    "|EXTENDED_CLASS_COADD |0: high confidence stars; 1: candidate stars; 2: mostly galaxies; 3: high confidence galaxies; -9: No data; Using Sextractor photometry |\n",
    "|FLAGS_{G,R,I,Z,Y}| Additive flag describing cautionary advice about source extraction process. Use less than 4 for well behaved objects |\n",
    "|MAG_AUTO_{G,R,I,Z,Y} | Magnitude estimation, for an elliptical model based on the Kron radius [mag] |\n",
    "|MAG_AUTO_{G,R,I,Z,Y}_DERED | Dereddened magnitude estimation (using SFD98), for an elliptical model based on the Kron radius [mag]|\n",
    "\n",
    "\n"
   ]
  },
  {
   "cell_type": "markdown",
   "metadata": {},
   "source": [
    "Para fazer uma busca pelas coordenadas no banco, precisamos converter as unidades para _degrees_:"
   ]
  },
  {
   "cell_type": "code",
   "execution_count": null,
   "metadata": {},
   "outputs": [],
   "source": [
    "c = SkyCoord('01h00m09.3s', '−33d42m33s', frame='icrs')\n",
    "c  "
   ]
  },
  {
   "cell_type": "code",
   "execution_count": null,
   "metadata": {},
   "outputs": [],
   "source": [
    "print(f\"R.A.: {c.ra.deg:.2f} degrees\")\n",
    "print(f\"Dec.: {c.dec.deg:.2f} degrees\")"
   ]
  },
  {
   "cell_type": "code",
   "execution_count": null,
   "metadata": {},
   "outputs": [],
   "source": [
    "ra_min = c.ra.deg - (1./60./2.) # largura de 1 arcmin  \n",
    "ra_max = c.ra.deg + (1./60./2.) # (1/2 arcmin para cada lado)\n",
    "ra_min, ra_max"
   ]
  },
  {
   "cell_type": "code",
   "execution_count": null,
   "metadata": {},
   "outputs": [],
   "source": [
    "dec_min = c.dec.deg - (1/60/2) # largura de 1 arcmin  \n",
    "dec_max = c.dec.deg + (1/60/2) # (1/2 arcmin para cada lado)\n",
    "dec_min, dec_max"
   ]
  },
  {
   "cell_type": "markdown",
   "metadata": {},
   "source": [
    "Os dois exemplos abaixos mostram a consulta das magnitudes nas bandas $gri$ corrigidas do avermelhamento (sufixo _dered_) e seus respectivos erros, para uma seleção de objetos classificados como estrelas ('extended_class_coadd < 2') com fotometria de boa qualidade na banda _g_ ('flags_g <4'), no intervalo de magnitudes entre 15 e 24.    "
   ]
  },
  {
   "cell_type": "markdown",
   "metadata": {},
   "source": [
    "**Exemplo 1: seleção de uma região \"retangular\"**\n",
    "\n",
    "```sql \n",
    "SELECT coadd_object_id, ra ,dec, mag_auto_g_dered, mag_auto_r_dered, \n",
    "        mag_auto_i_dered, magerr_auto_g, magerr_auto_r, magerr_auto_i, \n",
    "FROM des_dr2.coadd_objects \n",
    "WHERE ra BETWEEN 15.03 AND 15.05\n",
    "AND dec BETWEEN  -33.72 AND -33.70\n",
    "AND mag_auto_g_dered BETWEEN 15 AND 24\n",
    "AND mag_auto_r_dered BETWEEN 15 AND 24\n",
    "AND mag_auto_i_dered BETWEEN 15 AND 24\n",
    "AND extended_class_coadd < 2 \n",
    "AND flags_g <4\n",
    "````"
   ]
  },
  {
   "cell_type": "markdown",
   "metadata": {},
   "source": [
    "**Exemplo 2: seleção de uma região  circular com Q3C**  \n",
    "\n",
    "    \n",
    "```sql \n",
    "SELECT coadd_object_id, ra ,dec, mag_auto_g_dered, mag_auto_r_dered, \n",
    "        mag_auto_i_dered, magerr_auto_g, magerr_auto_r, magerr_auto_i, \n",
    "FROM des_dr2.coadd_objects \n",
    "WHERE q3c_radial_query(ra, dec, 15.04, -33.71, 0.1)\n",
    "AND mag_auto_g_dered BETWEEN 15 AND 24\n",
    "AND mag_auto_r_dered BETWEEN 15 AND 24\n",
    "AND mag_auto_i_dered BETWEEN 15 AND 24\n",
    "AND extended_class_coadd < 2 \n",
    "AND flags_g <4\n",
    "````"
   ]
  },
  {
   "cell_type": "code",
   "execution_count": null,
   "metadata": {},
   "outputs": [],
   "source": [
    "query_1 = \"SELECT coadd_object_id, ra, dec, mag_auto_g_dered, mag_auto_r_dered, \" + \\\n",
    "          \"mag_auto_i_dered, magerr_auto_g, magerr_auto_r, magerr_auto_i \"+ \\\n",
    "          \"FROM des_dr2.coadd_objects  limit 10\"# +  \\\n",
    "         #f\"WHERE ra BETWEEN {ra_min:.4f} AND {ra_max:.4f} \" + \\\n",
    "         #f\"AND dec BETWEEN  {dec_min:.4f} AND {dec_max:.4f} \" + \\\n",
    "         # \"AND mag_auto_g_dered BETWEEN 15 AND 24 \" + \\\n",
    "         # \"AND mag_auto_r_dered BETWEEN 15 AND 24 \" + \\\n",
    "         # \"AND mag_auto_i_dered BETWEEN 15 AND 24 \" + \\\n",
    "         # \"AND extended_class_coadd < 2 \" + \\\n",
    "         # \"AND flags_g <4 \"\n",
    "query_1 "
   ]
  },
  {
   "cell_type": "code",
   "execution_count": null,
   "metadata": {},
   "outputs": [],
   "source": [
    "query_2 = \"SELECT coadd_object_id, ra ,dec, mag_auto_g_dered, mag_auto_r_dered, \" + \\\n",
    "          \"mag_auto_i_dered, magerr_auto_g, magerr_auto_r, magerr_auto_i, \" + \\\n",
    "          \"FROM des_dr2.coadd_objects \" + \\\n",
    "         f\"WHERE q3c_radial_query(ra, dec, {c.ra.deg:.4f}, {c.dec.deg:.2f}, 1./60.) \" + \\\n",
    "          \"AND mag_auto_g_dered BETWEEN 15 AND 24 \" + \\\n",
    "          \"AND mag_auto_r_dered BETWEEN 15 AND 24 \" + \\\n",
    "          \"AND mag_auto_i_dered BETWEEN 15 AND 24 \" + \\\n",
    "          \"AND extended_class_coadd < 2  \" + \\\n",
    "          \"AND flags_g <4\"\n",
    "query_2"
   ]
  },
  {
   "cell_type": "markdown",
   "metadata": {},
   "source": [
    "Para _queries_ mais complexas, a consulta no banco pode levar alguns minutos. "
   ]
  },
  {
   "cell_type": "code",
   "execution_count": null,
   "metadata": {},
   "outputs": [],
   "source": [
    "dados_exemplo_1 = get_table(query_1)"
   ]
  },
  {
   "cell_type": "code",
   "execution_count": null,
   "metadata": {},
   "outputs": [],
   "source": [
    "dados_exemplo_1"
   ]
  },
  {
   "cell_type": "code",
   "execution_count": null,
   "metadata": {},
   "outputs": [],
   "source": [
    "dados_exemplo_2 = get_table(query_2)"
   ]
  },
  {
   "cell_type": "markdown",
   "metadata": {},
   "source": [
    "**Gráficos básicos com a biblioteca Matplotlib**\n",
    "\n",
    "Documentação da biblioteca: [matplotlib.org](https://matplotlib.org/)\n",
    "\n",
    "Dicas: [cheatsheets](https://github.com/matplotlib/cheatsheets#cheatsheets)"
   ]
  },
  {
   "cell_type": "code",
   "execution_count": null,
   "metadata": {},
   "outputs": [],
   "source": [
    "plt.figure(figsize=[12,5], dpi=300)\n",
    "plt.suptitle(\"Stars from DES DR2\", fontsize=14)\n",
    "plt.subplot(1,2,1)\n",
    "plt.hist2d(dados_exemplo_1.RA, dados_exemplo_1.DEC, bins=50)\n",
    "plt.xlabel(\"R.A. (deg)\", fontsize=14)\n",
    "plt.ylabel(\"Dec. (deg)\", fontsize=14)\n",
    "plt.colorbar(label=\"density of points\")\n",
    "plt.xticks(fontsize=12)\n",
    "plt.yticks(fontsize=12)\n",
    "plt.subplot(1,2,2)\n",
    "plt.hist2d(dados_exemplo_2.RA, dados_exemplo_2.DEC, bins=50)\n",
    "plt.xlabel(\"R.A. (deg)\", fontsize=14)\n",
    "plt.ylabel(\"Dec. (deg)\", fontsize=14)\n",
    "plt.colorbar(label=\"density of points\")\n",
    "plt.xticks(fontsize=12)\n",
    "plt.yticks(fontsize=12)\n",
    "plt.tight_layout()"
   ]
  },
  {
   "cell_type": "markdown",
   "metadata": {},
   "source": [
    "Para o gráfico do CMD, vamos utilizar apenas o exemplo 2. Por conveniência, podemos alterar os nomes das colunas. "
   ]
  },
  {
   "cell_type": "code",
   "execution_count": null,
   "metadata": {},
   "outputs": [],
   "source": [
    "new_columns = {\"COADD_OBJECT_ID\": \"object_id\",\n",
    "               \"RA\": \"ra\",\n",
    "               \"DEC\": \"dec\",\n",
    "               \"MAG_AUTO_G_DERED\": \"mag_g\",\n",
    "               \"MAG_AUTO_R_DERED\": \"mag_r\",\n",
    "               \"MAG_AUTO_I_DERED\": \"mag_i\",\n",
    "               \"MAGERR_AUTO_G\": \"err_g\", \n",
    "               \"MAGERR_AUTO_R\": \"err_r\", \n",
    "               \"MAGERR_AUTO_I\": \"err_i\"}\n",
    "\n",
    "dados_exemplo_2.rename(columns=new_columns, inplace=True)"
   ]
  },
  {
   "cell_type": "code",
   "execution_count": null,
   "metadata": {},
   "outputs": [],
   "source": [
    "dados_exemplo_2.info()"
   ]
  },
  {
   "cell_type": "code",
   "execution_count": null,
   "metadata": {},
   "outputs": [],
   "source": [
    "dados_exemplo_2.head()"
   ]
  },
  {
   "cell_type": "markdown",
   "metadata": {},
   "source": [
    "Cálculo da cor $g-r$ (nova coluna no _dataframe_ **dados_exemplo_2**). "
   ]
  },
  {
   "cell_type": "code",
   "execution_count": null,
   "metadata": {},
   "outputs": [],
   "source": [
    "dados_exemplo_2[\"gmr\"] = dados_exemplo_2.mag_g - dados_exemplo_2.mag_r"
   ]
  },
  {
   "cell_type": "code",
   "execution_count": null,
   "metadata": {},
   "outputs": [],
   "source": [
    "dados_exemplo_2.describe()"
   ]
  },
  {
   "cell_type": "markdown",
   "metadata": {},
   "source": [
    "#### CMD "
   ]
  },
  {
   "cell_type": "code",
   "execution_count": null,
   "metadata": {},
   "outputs": [],
   "source": [
    "#plt.figure(figsize=[8,6])\n",
    "plt.title(\"CMD - Stars from DES DR2\", fontsize=14)\n",
    "plt.hexbin(dados.gmr, dados.mag_r, gridsize=200, bins='log')\n",
    "plt.xlabel(\"$g_{0} - r_{0}$\", fontsize=14)\n",
    "plt.ylabel(\"$g_{0}$\", fontsize=14)\n",
    "plt.colorbar(label=\"density of points\")\n",
    "plt.xticks(fontsize=12)\n",
    "plt.yticks(fontsize=12)\n",
    "plt.xlim(2.,-1.)\n",
    "plt.ylim(24,17)\n",
    "plt.tight_layout()"
   ]
  },
  {
   "cell_type": "markdown",
   "metadata": {
    "tags": []
   },
   "source": [
    "### 3.3 Conexão com o Science Server via API "
   ]
  },
  {
   "cell_type": "markdown",
   "metadata": {},
   "source": [
    "<font color=\"red\" > Em breve! </font>"
   ]
  },
  {
   "cell_type": "markdown",
   "metadata": {},
   "source": [
    "Em breve será possível consultar o banco de dados usando uma API para:\n",
    " - Saber quais tabelas estão disponíveis\n",
    " - Saber quais colunas estão disponíveis em uma dada tabela\n",
    " - Fazer a leitura dos dados com _queries_ simples (ex.: `select col1, col2, col3 from tabela1 where col2 > 0`)\n",
    " - Fazer uma busca por objetos pela posição\n",
    " - Registrar uma tabela no banco para ser acessada no Target Viewer"
   ]
  },
  {
   "cell_type": "code",
   "execution_count": null,
   "metadata": {},
   "outputs": [],
   "source": []
  },
  {
   "cell_type": "code",
   "execution_count": null,
   "metadata": {},
   "outputs": [],
   "source": []
  },
  {
   "cell_type": "code",
   "execution_count": null,
   "metadata": {},
   "outputs": [],
   "source": [
    "user = input(\"Type username: \")"
   ]
  },
  {
   "cell_type": "code",
   "execution_count": null,
   "metadata": {},
   "outputs": [],
   "source": [
    "import getpass"
   ]
  },
  {
   "cell_type": "code",
   "execution_count": null,
   "metadata": {},
   "outputs": [],
   "source": [
    "password = getpass.getpass(\"Type password:\")"
   ]
  },
  {
   "cell_type": "code",
   "execution_count": null,
   "metadata": {},
   "outputs": [],
   "source": [
    "from ipykernel.ipkernel import IPythonKernel\n",
    "\n",
    "ipython_input = IPythonKernel._input_request"
   ]
  },
  {
   "cell_type": "code",
   "execution_count": null,
   "metadata": {},
   "outputs": [],
   "source": [
    "help(ipython_input)"
   ]
  },
  {
   "cell_type": "code",
   "execution_count": null,
   "metadata": {},
   "outputs": [],
   "source": [
    "test_input = ipython_input()"
   ]
  },
  {
   "cell_type": "markdown",
   "metadata": {},
   "source": [
    "- no momento do spawn gerar 2 var ambiente (1 c/ username e outra c/ um token (senha temporaria de acesso ao postgres)  (novidade da nova versão do postgress)\n",
    "- pegar isso automaticamente\n",
    "\n",
    "- perguntar sobre exposição de tabelas não públicas. "
   ]
  },
  {
   "cell_type": "code",
   "execution_count": null,
   "metadata": {},
   "outputs": [],
   "source": []
  }
 ],
 "metadata": {
  "kernelspec": {
   "display_name": "basic",
   "language": "python",
   "name": "basic"
  },
  "language_info": {
   "codemirror_mode": {
    "name": "ipython",
    "version": 3
   },
   "file_extension": ".py",
   "mimetype": "text/x-python",
   "name": "python",
   "nbconvert_exporter": "python",
   "pygments_lexer": "ipython3",
   "version": "3.9.7"
  }
 },
 "nbformat": 4,
 "nbformat_minor": 4
}
