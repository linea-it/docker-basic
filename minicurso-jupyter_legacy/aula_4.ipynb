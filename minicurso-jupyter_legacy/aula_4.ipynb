{
 "cells": [
  {
   "cell_type": "markdown",
   "metadata": {},
   "source": [
    "<img align=\"left\" src = https://www.linea.gov.br/wp-content/themes/LIneA/imagens/logo-header.png width=180 style=\"padding: 20px\"> <br>\n",
    "\n",
    "## Curso básico de ferramentas computacionais para astronomia\n",
    "Contato: Julia Gschwend ([julia@linea.gov.br](mailto:julia@linea.gov.br)) <br>\n",
    "Github: https://github.com/linea-it/minicurso-jupyter  <br>\n",
    "Site: https://minicurso-ed2.linea.gov.br/ <br> \n",
    "Última verificação: 30/08/2021<br> "
   ]
  },
  {
   "cell_type": "markdown",
   "metadata": {},
   "source": [
    "# Aula 4 - Visualização de dados\n",
    "\n",
    "\n",
    "\n",
    "### Objetivo: Color-magnitude diagram (CMD) de galáxias\n",
    "\n",
    "Depois de explorar os comandos para criar e customizar gráficos básicos, ao final do notebook faremos um diagrama cor-magnitude de galáxias com dados observacionais do levantamento DES (Y1). Esta amostra faz parte do produto da publicação [Aguena et al. 2021](https://academic.oup.com/mnras/article-abstract/502/3/4435/6137813?redirectedFrom=PDF) e estão disponíveis para download no repositório de produtos científicos [LIneA Dataverse](https://dataverse.linea.gov.br/dataset.xhtml?persistentId=doi:10.5072/FK2/WQQOBC).\n",
    "\n",
    "No arquivo `cluster_members.csv` dentro da pasta `dados` vamos encontrar um catálogo de objetos classificados como membros de aglomerados de galáxias com alto valor de \"riqueza\", ou seja, que possuem muitos membros (neste caso > 250 membros).  \n",
    "\n",
    "\n",
    "#### CMD teórico:\n",
    "\n",
    "<img src=\"http://www-astro.physics.ox.ac.uk/~mxc/gedg/cm_diagram.png\" width=\"500\"/> \n",
    "\n",
    "Fonte da imagem: [University of Oxford's Galaxy Evolution Discussion Group web page](http://www-astro.physics.ox.ac.uk/~mxc/gedg/index_2010-04-07.html) \n",
    "\n",
    "#### \"_Caveats_\" e adaptações necessárias:\n",
    "\n",
    "+ As bandas $U$ e $B$ não fazem parte do conjunto de filtros disponíveis no DES (filtros $grizY$). Usaremos então as cores $g-r$ ou $g-i$. \n",
    "+ O redshift fotométrico (photo-$z$) é utilizado como um indicador de distância (redshift cosmológico). \n",
    "+ No diagrama teórico, o eixo $x$ se refere à massa das galáxias, que poderia ser substituída pela magnitude absoluta. Entretanto, as magnitudes disponíveis no catálogo são aparentes. Se os objetos estiverem todos a uma mesma distância (mesmo photo-$z$), podemos usar a magnitude aparente como indicador do brilho intrínseco de forma comparativa. \n",
    "\n",
    "\n",
    "**Dica: Para navegar nas seções do notebook, use o índice da barra lateral do Jupyter Lab.**\n"
   ]
  },
  {
   "cell_type": "markdown",
   "metadata": {},
   "source": [
    "## 0. Setup"
   ]
  },
  {
   "cell_type": "code",
   "execution_count": null,
   "metadata": {},
   "outputs": [],
   "source": [
    "import numpy as np\n",
    "import pandas as pd\n",
    "import matplotlib.pyplot as plt\n",
    "import seaborn as sns\n",
    "\n",
    "%matplotlib inline"
   ]
  },
  {
   "cell_type": "markdown",
   "metadata": {},
   "source": [
    "**Leitura dos dados**"
   ]
  },
  {
   "cell_type": "code",
   "execution_count": null,
   "metadata": {},
   "outputs": [],
   "source": [
    "dados = pd.read_csv(\"dados/cluster_members.csv\")"
   ]
  },
  {
   "cell_type": "code",
   "execution_count": null,
   "metadata": {},
   "outputs": [],
   "source": [
    "dados.head()"
   ]
  },
  {
   "cell_type": "code",
   "execution_count": null,
   "metadata": {},
   "outputs": [],
   "source": [
    "dados.size"
   ]
  },
  {
   "cell_type": "code",
   "execution_count": null,
   "metadata": {},
   "outputs": [],
   "source": [
    "dados.info()"
   ]
  },
  {
   "cell_type": "code",
   "execution_count": null,
   "metadata": {},
   "outputs": [],
   "source": [
    "dados.describe()"
   ]
  },
  {
   "cell_type": "markdown",
   "metadata": {},
   "source": [
    "# 1. Gráficos com a biblioteca Matplotlib\n",
    "\n",
    "[matplotlib.org](https://matplotlib.org/)\n",
    "\n",
    "[cheatsheets](https://github.com/matplotlib/cheatsheets#cheatsheets)"
   ]
  },
  {
   "cell_type": "markdown",
   "metadata": {},
   "source": [
    "## 1.1 Histogramas (1D)"
   ]
  },
  {
   "cell_type": "code",
   "execution_count": null,
   "metadata": {},
   "outputs": [],
   "source": []
  },
  {
   "cell_type": "markdown",
   "metadata": {},
   "source": [
    "**Freedman–Diaconis rule**\n",
    "\n",
    "Regra da estatística para calcular a largura de bin ótima para exibir uma distribuição de dados. Fonte: [Wikipedia](https://en.wikipedia.org/wiki/Freedman%E2%80%93Diaconis_rule)\n",
    "\n",
    "\n",
    "\n",
    "$$ bin \\ width = 2 \\  \\frac{Q_{3}-Q_{1}}{\\sqrt[3]{N}}  $$\n",
    "\n",
    "\n",
    "\n",
    "\n",
    "\n",
    "\n"
   ]
  },
  {
   "cell_type": "code",
   "execution_count": null,
   "metadata": {},
   "outputs": [],
   "source": [
    "q1, q2, q3 = dados.mag_i.quantile(q=[0.25, 0.50, 0.75])\n",
    "q1, q2, q3"
   ]
  },
  {
   "cell_type": "code",
   "execution_count": null,
   "metadata": {},
   "outputs": [],
   "source": [
    "def bin_width(series):\n",
    "    \"\"\"Return optimal bin width for a given pandas Series \n",
    "        object based on the Freedman–Diaconis rule\"\"\"   \n",
    "    \n",
    "    q1, q3 = series.quantile(q=[0.25, 0.75])\n",
    "    width = 2 * ((q3-q1)/(series.count()**(1./3.)))\n",
    "    \n",
    "    return width"
   ]
  },
  {
   "cell_type": "code",
   "execution_count": null,
   "metadata": {},
   "outputs": [],
   "source": [
    "bin_width(dados.mag_i) #aplicando na coluna mag_i"
   ]
  },
  {
   "cell_type": "code",
   "execution_count": null,
   "metadata": {},
   "outputs": [],
   "source": []
  },
  {
   "cell_type": "code",
   "execution_count": 2,
   "metadata": {},
   "outputs": [],
   "source": [
    "#help(plt.hist)"
   ]
  },
  {
   "cell_type": "code",
   "execution_count": null,
   "metadata": {},
   "outputs": [],
   "source": [
    "#help(np.histogram_bin_edges)"
   ]
  },
  {
   "cell_type": "code",
   "execution_count": null,
   "metadata": {},
   "outputs": [],
   "source": []
  },
  {
   "cell_type": "markdown",
   "metadata": {},
   "source": [
    "## 1.2 Plot (xy) and Scatter plots"
   ]
  },
  {
   "cell_type": "markdown",
   "metadata": {},
   "source": [
    "Plot"
   ]
  },
  {
   "cell_type": "code",
   "execution_count": null,
   "metadata": {},
   "outputs": [],
   "source": []
  },
  {
   "cell_type": "markdown",
   "metadata": {},
   "source": [
    "Scatter plot"
   ]
  },
  {
   "cell_type": "code",
   "execution_count": null,
   "metadata": {},
   "outputs": [],
   "source": []
  },
  {
   "cell_type": "markdown",
   "metadata": {},
   "source": [
    "## 1.3 Density plots"
   ]
  },
  {
   "cell_type": "code",
   "execution_count": null,
   "metadata": {},
   "outputs": [],
   "source": [
    "from scipy.stats import gaussian_kde"
   ]
  },
  {
   "cell_type": "code",
   "execution_count": null,
   "metadata": {},
   "outputs": [],
   "source": []
  },
  {
   "cell_type": "markdown",
   "metadata": {},
   "source": [
    "#### Mapas de densidade"
   ]
  },
  {
   "cell_type": "markdown",
   "metadata": {},
   "source": [
    "Histogram 2D"
   ]
  },
  {
   "cell_type": "code",
   "execution_count": null,
   "metadata": {},
   "outputs": [],
   "source": []
  },
  {
   "cell_type": "markdown",
   "metadata": {},
   "source": [
    "Hexbin"
   ]
  },
  {
   "cell_type": "code",
   "execution_count": null,
   "metadata": {},
   "outputs": [],
   "source": []
  },
  {
   "cell_type": "markdown",
   "metadata": {},
   "source": [
    "# 2. Gráficos com a biblioteca Seaborn"
   ]
  },
  {
   "cell_type": "code",
   "execution_count": null,
   "metadata": {},
   "outputs": [],
   "source": [
    "sns.set(color_codes=True, font_scale=1.5) # seaborn plot config"
   ]
  },
  {
   "cell_type": "markdown",
   "metadata": {},
   "source": [
    "## 2.1 Histogramas (1D)"
   ]
  },
  {
   "cell_type": "code",
   "execution_count": null,
   "metadata": {},
   "outputs": [],
   "source": []
  },
  {
   "cell_type": "markdown",
   "metadata": {},
   "source": [
    "## 2.2 Scatter plot"
   ]
  },
  {
   "cell_type": "code",
   "execution_count": null,
   "metadata": {},
   "outputs": [],
   "source": []
  },
  {
   "cell_type": "markdown",
   "metadata": {},
   "source": [
    "## 2.3 Density plots"
   ]
  },
  {
   "cell_type": "code",
   "execution_count": null,
   "metadata": {},
   "outputs": [],
   "source": []
  },
  {
   "cell_type": "markdown",
   "metadata": {},
   "source": [
    "## 2.4 Joint Plots"
   ]
  },
  {
   "cell_type": "code",
   "execution_count": null,
   "metadata": {},
   "outputs": [],
   "source": []
  },
  {
   "cell_type": "markdown",
   "metadata": {},
   "source": [
    "# 3. CMD"
   ]
  },
  {
   "cell_type": "markdown",
   "metadata": {},
   "source": [
    "Cálculo da cor"
   ]
  },
  {
   "cell_type": "code",
   "execution_count": null,
   "metadata": {},
   "outputs": [],
   "source": [
    "dados[\"gmi\"] = dados.mag_g - dados.mag_i"
   ]
  },
  {
   "cell_type": "markdown",
   "metadata": {},
   "source": [
    "Seleção de objetos em uma faixa estreita de redshift. "
   ]
  },
  {
   "cell_type": "code",
   "execution_count": null,
   "metadata": {},
   "outputs": [],
   "source": [
    "zmin = 0.5\n",
    "zmax = 0.6"
   ]
  },
  {
   "cell_type": "code",
   "execution_count": null,
   "metadata": {},
   "outputs": [],
   "source": [
    "same_distance = dados.query(f'z_gal > {zmin} & z_gal < {zmax}')"
   ]
  },
  {
   "cell_type": "code",
   "execution_count": null,
   "metadata": {},
   "outputs": [],
   "source": [
    "same_distance.size"
   ]
  },
  {
   "cell_type": "markdown",
   "metadata": {},
   "source": [
    "CMD"
   ]
  },
  {
   "cell_type": "code",
   "execution_count": null,
   "metadata": {},
   "outputs": [],
   "source": []
  },
  {
   "cell_type": "markdown",
   "metadata": {},
   "source": [
    "Red and blue"
   ]
  },
  {
   "cell_type": "code",
   "execution_count": null,
   "metadata": {},
   "outputs": [],
   "source": [
    "red = same_distance.query('gmi > 2 & gmi < 5')\n",
    "blue = same_distance.query('gmi > -1 & gmi < 2')"
   ]
  },
  {
   "cell_type": "code",
   "execution_count": null,
   "metadata": {},
   "outputs": [],
   "source": []
  },
  {
   "cell_type": "markdown",
   "metadata": {},
   "source": [
    "# 4. Export  \n",
    "\n",
    "Para exportar seu notebook com resultados para uma versão estática e leve que abre em qualquer navegador, basta ir no menu em:\n",
    "\n",
    "`File > Export Notebook As > Export to HTML`"
   ]
  },
  {
   "cell_type": "markdown",
   "metadata": {},
   "source": [
    "Antes de salvar o arquivo **.ipynb**, não se esqueça de limpar todos os outputs:\n",
    "\n",
    "`Edit > Clear All Outputs`"
   ]
  },
  {
   "cell_type": "code",
   "execution_count": null,
   "metadata": {},
   "outputs": [],
   "source": []
  }
 ],
 "metadata": {
  "kernelspec": {
   "display_name": "minicurso-ed2",
   "language": "python",
   "name": "minicurso-ed2"
  },
  "language_info": {
   "codemirror_mode": {
    "name": "ipython",
    "version": 3
   },
   "file_extension": ".py",
   "mimetype": "text/x-python",
   "name": "python",
   "nbconvert_exporter": "python",
   "pygments_lexer": "ipython3",
   "version": "3.8.6"
  }
 },
 "nbformat": 4,
 "nbformat_minor": 4
}
