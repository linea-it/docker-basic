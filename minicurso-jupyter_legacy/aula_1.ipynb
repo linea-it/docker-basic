{
 "cells": [
  {
   "cell_type": "markdown",
   "metadata": {},
   "source": [
    "<img align=\"left\" src = https://www.linea.gov.br/wp-content/themes/LIneA/imagens/logo-header.png width=180 style=\"padding: 20px\"> <br>\n",
    "\n",
    "## Curso básico de ferramentas computacionais para e-astronomia\n",
    "Contato: Julia Gschwend ([julia@linea.gov.br](mailto:julia@linea.gov.br)) <br>\n",
    "Github: https://github.com/linea-it/minicurso-jupyter  <br>\n",
    "Site: https://minicurso-ed2.linea.gov.br/ <br> \n",
    "Última verificação: 18/08/2021<br> "
   ]
  },
  {
   "cell_type": "markdown",
   "metadata": {},
   "source": [
    "# Aula 1 - Introdução ao Jupyter\n",
    "\n",
    "1. [O que é o Jupyter Notebook? ](#jupyter)  \n",
    "2. [Comandos básicos](#commands)\n",
    "3. [Tipos de células](#celltypes)\n",
    "4. [Comandos do terminal](#terminal)\n",
    "5. [Comandos mágicos](#magic)\n",
    "6. [Configurações da célula](#config)\n",
    "\n",
    "Nas versões mais recentes do Jupyter Lab também é possível acessar o índice (gerado automaticamente a partir dos títulos das sessões) na barra lateral. \n"
   ]
  },
  {
   "cell_type": "markdown",
   "metadata": {},
   "source": [
    "<a class=\"anchor\" id=\"jupyter\"></a>\n",
    "# 1. O que é o Jupyter Notebook? \n",
    "\n",
    "Um Jupyter Notebook é um arquivo com extensão _.ipynb_ composto por uma sequência de células executáveis que podem conter trechos de código, o resultado da execução desse código, texto formatado, equações e anexos. \n",
    "\n",
    "A documentação oficial do Jupyter Notebook está disponível em: https://jupyter-notebook.readthedocs.io \n",
    "\n",
    "Para acessar, editar e executar um notebook, usamos a aplicação Jupyter Lab ou a sua versão clássica, também chamada de Jupyter Notebook. No serviço oferecido pelo LIneA, o usuário escolhe qual versão acessar no momento da criação do container (tela de \"_Spawn_\"), logo após o login. Para alternar entre as duas versões, basta substituir na URL: \n",
    "\n",
    "`jupyter.linea.gov.br/user/<seu username>/tree` -> para a versão cássica \n",
    "\n",
    "`jupyter.linea.gov.br/user/<seu username>/lab`  -> para o Jupyter Lab\n",
    "\n",
    "<font color=#008081>(Pausa para um rápido tour pelas interfaces e os seus menus e botões)</font>\n",
    "\n",
    "Para esta demonstração, usaremos o Jupyter Notebook clássico."
   ]
  },
  {
   "cell_type": "markdown",
   "metadata": {
    "slideshow": {
     "slide_type": "slide"
    }
   },
   "source": [
    "<a class=\"anchor\" id=\"commands\"></a>\n",
    "# 2. Comandos básicos \n",
    "\n",
    "Existem dois modos no Jupyter Notebook (e no Jupyter Lab): **Edição** e **Comando**.\n",
    "\n",
    "No Jupyter Notebook (clássico), quando a célula está azul, você está no modo de comando. No modo de edição a cor é verde. No Jupyter Lab a cor é sempre azul.\n",
    "\n",
    "Para acessar os modos:\n",
    "+ Edição: **Enter**\n",
    "+ Comando: **Esc**\n",
    "\n",
    "Teste com a célula vazia abaixo:"
   ]
  },
  {
   "cell_type": "code",
   "execution_count": null,
   "metadata": {},
   "outputs": [],
   "source": []
  },
  {
   "cell_type": "markdown",
   "metadata": {
    "slideshow": {
     "slide_type": "subslide"
    }
   },
   "source": [
    "### Executando uma célula\n",
    "\n",
    "A linguagem de programação considerada na execução depende do _Kernel_ selecionado na criação do notebook. O padrão é Python 3 (veja a indicação no canto superior direito da tela). Para o curso, criamos um kernel específico com as bibliotecas que vamos precisar, além do Python 3.\n",
    "\n",
    "Para executar uma célula você pode clicar no botão ` >| Run` ou usar o seguintes comandos:\n",
    "+ **Ctrl + Enter**: Somente executa a célula selecionada\n",
    "+ **Shift + Enter**: Executa a célula selecionada e pula para a próxima\n",
    "+ **Alt + Enter** (ou **option + return** no Mac): Executa a célula selecionada e cria uma abaixo\n",
    "\n",
    "Agora navegue para a célula abaixo com as setas do teclado e teste os comandos."
   ]
  },
  {
   "cell_type": "code",
   "execution_count": null,
   "metadata": {
    "slideshow": {
     "slide_type": "fragment"
    }
   },
   "outputs": [],
   "source": [
    "print(\"Hello, World!\")"
   ]
  },
  {
   "cell_type": "markdown",
   "metadata": {
    "slideshow": {
     "slide_type": "slide"
    }
   },
   "source": [
    "Note que ao lado da célula está escrito **In [1]:**. O número que aparecenentre colchetes indica a ordem de execução das células. **In [*]:** indica que a execução ainda está em andamento. Por exemplo, vamos importar a biblioteca `time` e utilizar a função `sleep`, que apenas nos faz esperar o tempo (em segundos) fornecido como argumento entre parênteses. "
   ]
  },
  {
   "cell_type": "code",
   "execution_count": null,
   "metadata": {},
   "outputs": [],
   "source": [
    "import time"
   ]
  },
  {
   "cell_type": "code",
   "execution_count": null,
   "metadata": {},
   "outputs": [],
   "source": [
    "time.sleep(5)"
   ]
  },
  {
   "cell_type": "markdown",
   "metadata": {},
   "source": [
    "Um exemplo com **Loop**: (veremos mais sobre Loops na aula 2)"
   ]
  },
  {
   "cell_type": "code",
   "execution_count": null,
   "metadata": {},
   "outputs": [],
   "source": [
    "print(\"Contagem regressiva\")\n",
    "for i in [5,4,3,2,1]:\n",
    "    print(i)\n",
    "    time.sleep(1)\n",
    "print(\"Pronto!\")"
   ]
  },
  {
   "cell_type": "markdown",
   "metadata": {},
   "source": [
    "<font color=\"red\"><b>!!! CUIDADO !!!</b></font><br>\n",
    "Nada garante que as células sejam executadas na ordem em que aparecem. Se você fizer alterações no notebook e rodar as células fora de ordem, coisas inesperadas podem acontecer. Fique atento à numeração In[x] ao interpretar seus resultados. "
   ]
  },
  {
   "cell_type": "markdown",
   "metadata": {},
   "source": [
    "### Parada de emergência\n",
    "\n",
    "Se precisar interromper a execução de um notebook, use o botão de \"stop\" ou vá pelo menu _Kernel_: \n",
    "\n",
    "- `Kernel > Interrupt` (Jupyter Notebook Clássico)\n",
    "- `Kernel > Interrupt Kernel` (Jupyter Lab)\n",
    "\n",
    "Depois de muitas alterações, é conveniente \"dar um _Restart_\" e rodar todas as celulas de uma vez, para garantir a ordem de execução. \n",
    "\n",
    "- `Kernel > Restart & Run All` (Jupyter Notebook Clássico)\n",
    "- `Kernel > Restart Kernel and Run All Cells`  (Jupyter Lab) \n",
    "\n",
    "### Boas práticas: guarde seus notebooks limpos\n",
    "\n",
    "Antes de salvar seu notebook, apague todos os outputs, especialmente se ele estiver em um repositório GIT.    \n",
    "\n",
    "- `Cell > All Output > Clear` (Jupyter Notebook Clássico)\n",
    "- `Edit > Clear All Outputs` (Jupyter Lab) \n",
    "\n",
    "ou então \n",
    "\n",
    "- `Kernel > Restart & Clear Output` (Jupyter Notebook Clássico)\n",
    "- `Kernel > Restart Kernel and Clear All Outputs` (Jupyter Lab)\n"
   ]
  },
  {
   "cell_type": "markdown",
   "metadata": {},
   "source": [
    "### Acessando a documentação"
   ]
  },
  {
   "cell_type": "code",
   "execution_count": null,
   "metadata": {},
   "outputs": [],
   "source": [
    "help(time)"
   ]
  },
  {
   "cell_type": "code",
   "execution_count": null,
   "metadata": {},
   "outputs": [],
   "source": [
    "help(time.sleep)"
   ]
  },
  {
   "cell_type": "code",
   "execution_count": null,
   "metadata": {},
   "outputs": [],
   "source": [
    "#time?\n",
    "time.sleep?"
   ]
  },
  {
   "cell_type": "markdown",
   "metadata": {},
   "source": [
    "### Funções no Python"
   ]
  },
  {
   "cell_type": "markdown",
   "metadata": {},
   "source": [
    "Podemos definir funções como blocos de código que podem ser convocados posteriormente. Na aula 2 veremos mais sobre como as funções podem ser úteis. "
   ]
  },
  {
   "cell_type": "code",
   "execution_count": null,
   "metadata": {},
   "outputs": [],
   "source": [
    "def hello():\n",
    "    \"\"\" Função de exemplo. Apenas diz: Olá, Mundo! De novo =] \"\"\"\n",
    "    print(\" Hello, World! \\n Again =]\")"
   ]
  },
  {
   "cell_type": "markdown",
   "metadata": {},
   "source": [
    "Funções definidas em uma célula ficam na memória e valem para todas as outras células."
   ]
  },
  {
   "cell_type": "code",
   "execution_count": null,
   "metadata": {},
   "outputs": [],
   "source": [
    "hello()"
   ]
  },
  {
   "cell_type": "markdown",
   "metadata": {},
   "source": [
    "Quando adicionamos documentação usando as aspas triplas logo abaixo do nome da função, esta mensagem fica disponível para consulta pela função `help`. "
   ]
  },
  {
   "cell_type": "code",
   "execution_count": null,
   "metadata": {},
   "outputs": [],
   "source": [
    "help(hello)"
   ]
  },
  {
   "cell_type": "markdown",
   "metadata": {},
   "source": [
    "### Atalhos úteis no modo de comando\n",
    "\n",
    "+ **a**: cria antes\n",
    "+ **b**: cria depois\n",
    "+ **x**: cortar\n",
    "+ **c**: copiar\n",
    "+ **v**: colar\n",
    "+ **d, d**: apagar (apertar duas vezes o \"d\")\n",
    "+ **z**: desfazer o último \"apagar\""
   ]
  },
  {
   "cell_type": "markdown",
   "metadata": {},
   "source": [
    "### Atalhos úteis no modo de edição\n",
    "+ copiar/cortar ou colar sem seleção: copia/corta ou cola a linha completa\n",
    "+ multicursor: `Ctrl` (pc) ou `command`(mac) + mouse click\n"
   ]
  },
  {
   "cell_type": "markdown",
   "metadata": {},
   "source": [
    "<a class=\"anchor\" id=\"celltypes\"></a>\n",
    "# 3. Tipos de Células\n",
    "\n",
    "Além das células de código, todo o texto entre elas também é adicionado em células, porém do tipo **Markdown**. No modo de comando você pode alterar o tipo de célula com os seguintes comandos:\n",
    "\n",
    "+ **y** : Código\n",
    "+ **m** : Markdown\n",
    "+ **r** : Texto puro\n",
    "\n"
   ]
  },
  {
   "cell_type": "markdown",
   "metadata": {},
   "source": [
    "Por exemplo, com a nossa função hello, varie o tipo da célula e veja o resultado. "
   ]
  },
  {
   "cell_type": "code",
   "execution_count": null,
   "metadata": {},
   "outputs": [],
   "source": [
    "hello()"
   ]
  },
  {
   "cell_type": "markdown",
   "metadata": {},
   "source": [
    "<a class=\"anchor\" id=\"markdown\"></a>\n",
    "## Markdown\n",
    "\n",
    "Markdown é uma linguagem que converte texto simples em texto estruturado HTML, pensada para ser de fácil leitura e escrita. "
   ]
  },
  {
   "cell_type": "markdown",
   "metadata": {},
   "source": [
    "Entre no modo de edição das células abaixo para ver como cada item foi feito.\n",
    "\n",
    "# Título 1\n",
    "## Título 2\n",
    "### Título 3\n",
    "#### Título 4\n",
    "##### Título 5\n",
    "###### Título 6"
   ]
  },
  {
   "cell_type": "markdown",
   "metadata": {},
   "source": [
    "### Links\n",
    "\n",
    "[Site do LIneA](https://www.linea.gov.br)\n",
    "\n",
    "[Contato](mailto:helpdesk@linea.gov.br) "
   ]
  },
  {
   "cell_type": "markdown",
   "metadata": {},
   "source": [
    "### Font style\n",
    "\n",
    "\n",
    "**bold**, __bold__\n",
    "\n",
    "_italic_, *italic*\n",
    "\n",
    "~~Strikethrough~~\n",
    "\n",
    "***Bold and italic***\n",
    "\n",
    "> blockquote\n",
    "\n",
    "Inline `print(\"Hello World\")`\n",
    "\n",
    "```\n",
    "def quote_code_markdown()\n",
    "    return\n",
    "```\n",
    "\n",
    "Código em uma linguagem\n",
    "```python\n",
    "def python_func()\n",
    "    return\n",
    "```\n",
    "\n",
    "Mais detalhes sobre blocos de código no [link](https://help.github.com/en/articles/creating-and-highlighting-code-blocks)"
   ]
  },
  {
   "cell_type": "markdown",
   "metadata": {},
   "source": [
    "### Exemplos de listas\n",
    "\n",
    "- item 1\n",
    "- item 2\n",
    "- item 3\n",
    "\n",
    "\n",
    "1. item 1\n",
    "2. item 2\n",
    "3. item 3\n",
    "\n",
    "\n",
    "- item 1\n",
    "  - item 2\n",
    "    - item 3\n",
    "\n",
    "\n",
    "1. item 1\n",
    "   1. item 2\n",
    "      1. item 3\n",
    "\n",
    "Mais informações sobre markdown no [link](https://help.github.com/en/articles/basic-writing-and-formatting-syntax)"
   ]
  },
  {
   "cell_type": "markdown",
   "metadata": {},
   "source": [
    "### Exemplo de tabela\n",
    "\n",
    "|  x  |  y  |  z  |\n",
    "|-----|-----|-----|\n",
    "| x1  | y1  | z1  |\n",
    "| x2  | y2  | z2  |\n",
    "| x3  | y3  | z3  |\n",
    "| x4  | y4  | z4  |\n",
    "| x5  | y5  | z5  |\n"
   ]
  },
  {
   "cell_type": "markdown",
   "metadata": {},
   "source": [
    "### HTML\n",
    "\n",
    "Tags HTML também funcionam nas células do tipo Markdown.\n",
    "\n",
    "<h1>Heading 1</h1>\n",
    "<h2>Heading 2</h2>\n",
    "<h3>Heading 2</h3>\n",
    "\n",
    "\n",
    "<font color='red'>Change font color</font>\n",
    "\n",
    "<p style=\"background-color:green; color:white\">Lorem ipsum dolor sit amet, consectetur adipiscing elit. Etiam eget ligula eu lectus lobortis condimentum. Aliquam nonummy auctor massa. Pellentesque habitant morbi tristique senectus et netus et malesuada fames ac turpis egestas. Nulla at risus. Quisque purus magna, auctor et, sagittis ac, posuere eu, lectus. Nam mattis, felis ut adipiscing.</p>"
   ]
  },
  {
   "cell_type": "markdown",
   "metadata": {},
   "source": [
    "### $\\LaTeX\\$\n",
    "\n",
    "É possível adicionar equações e expressões matemáticas em geral diretamente na célula do tipo **Markdown**, na mesma linha: $e^{i\\pi} + 1 = 0$,\n",
    "\n",
    "ou em uma linha separada, centralizado:\n",
    "$$e^x=\\sum_{i=0}^\\infty \\frac{1}{i!}x^i$$"
   ]
  },
  {
   "cell_type": "markdown",
   "metadata": {},
   "source": [
    "É possível anexar imagens usando as funcionalidades do IPython"
   ]
  },
  {
   "cell_type": "code",
   "execution_count": null,
   "metadata": {
    "scrolled": true
   },
   "outputs": [],
   "source": [
    "from IPython.display import Image\n",
    "Image(\"anexos/python-logo.png\")"
   ]
  },
  {
   "cell_type": "markdown",
   "metadata": {},
   "source": [
    "Também é possível anexar imagens e vídeos usando HTML (obs: a célula precisa ser do tipo **Markdown**)."
   ]
  },
  {
   "cell_type": "raw",
   "metadata": {},
   "source": [
    "<img src=\"anexos/minions.gif\"/>"
   ]
  },
  {
   "cell_type": "raw",
   "metadata": {},
   "source": [
    "<center><video controls src=\"anexos/baby.mp4\" width=\"500\"/></center>"
   ]
  },
  {
   "cell_type": "markdown",
   "metadata": {},
   "source": [
    "<a class=\"anchor\" id=\"terminal\"></a>\n",
    "# 4. Comandos do terminal \n",
    "\n",
    "Para executar comandos do terminal diretamente na célula, basta iniciar a linha com o **`!`** "
   ]
  },
  {
   "cell_type": "code",
   "execution_count": null,
   "metadata": {},
   "outputs": [],
   "source": [
    "! ls"
   ]
  },
  {
   "cell_type": "code",
   "execution_count": null,
   "metadata": {},
   "outputs": [],
   "source": [
    "! cp README.md copy_README.md"
   ]
  },
  {
   "cell_type": "code",
   "execution_count": null,
   "metadata": {},
   "outputs": [],
   "source": [
    "! ls"
   ]
  },
  {
   "cell_type": "code",
   "execution_count": null,
   "metadata": {},
   "outputs": [],
   "source": [
    "! pip install numpy "
   ]
  },
  {
   "cell_type": "markdown",
   "metadata": {},
   "source": [
    "<a class=\"anchor\" id=\"magic\"></a>\n",
    "# 5. Comandos mágicos\n",
    "\n",
    "São executados com \"%\" (válido para a linha) ou \"%%\" (válido para a célula). \n",
    "\n",
    "O comando `%lsmagic` lista todos os comandos mágicos que vem \"de fábrica\" na instalação do Jupyter.\n"
   ]
  },
  {
   "cell_type": "code",
   "execution_count": null,
   "metadata": {},
   "outputs": [],
   "source": [
    "%lsmagic"
   ]
  },
  {
   "cell_type": "markdown",
   "metadata": {},
   "source": [
    " Note que alguns comandos mágicos são nomes de outras linguagens (ex.: `%%javascript`, `%%pearl`, `%%ruby`), o que possibilita trocar de kernel ou ambiente em uma célula em particular. "
   ]
  },
  {
   "cell_type": "code",
   "execution_count": null,
   "metadata": {},
   "outputs": [],
   "source": [
    "%%javascript\n",
    "\n",
    "//alert(\"Hello, World!\")"
   ]
  },
  {
   "cell_type": "markdown",
   "metadata": {},
   "source": [
    "Também é possível adicionar outras linguagens através da instalação de extensões. "
   ]
  },
  {
   "cell_type": "markdown",
   "metadata": {},
   "source": [
    "Dois exemplos bastante úteis são os comandos `%time` e `%%timeit`."
   ]
  },
  {
   "cell_type": "code",
   "execution_count": null,
   "metadata": {},
   "outputs": [],
   "source": [
    "%time print(\"Quanto tempo leva para imprimir esta frase?\")"
   ]
  },
  {
   "cell_type": "markdown",
   "metadata": {},
   "source": [
    "Veja [neste post](https://stackoverflow.com/questions/556405/what-do-real-user-and-sys-mean-in-the-output-of-time1) um resumo do significado de cada uma dessas medidas. "
   ]
  },
  {
   "cell_type": "code",
   "execution_count": null,
   "metadata": {},
   "outputs": [],
   "source": [
    "%%time\n",
    "print(\"===================\")\n",
    "hello()\n",
    "print(\"===================\")"
   ]
  },
  {
   "cell_type": "markdown",
   "metadata": {},
   "source": [
    "`%%timeit` vai repetir seu código quantas vezes couberem em um intervalo de 2 segundos e retornar a média e o desvio padrão do tempo gasto. "
   ]
  },
  {
   "cell_type": "code",
   "execution_count": null,
   "metadata": {},
   "outputs": [],
   "source": [
    "%%timeit\n",
    "x = 0\n",
    "for i in range(10): x += i"
   ]
  },
  {
   "cell_type": "markdown",
   "metadata": {},
   "source": [
    "<a class=\"anchor\" id=\"config\"></a>\n",
    "# 6. Configurações da célula\n",
    "\n",
    "\n",
    "### Toggle scrolling \n",
    "\n",
    "Útil para outputs longos inconvenientes\n",
    "\n",
    "`Cell > Current Outputs > Toggle Scrolling`"
   ]
  },
  {
   "cell_type": "code",
   "execution_count": null,
   "metadata": {},
   "outputs": [],
   "source": [
    "for i in range(50):\n",
    "    print(i)"
   ]
  },
  {
   "cell_type": "markdown",
   "metadata": {},
   "source": [
    "O Toggle Scrolling é setado automaticamente para outputs muito longos."
   ]
  },
  {
   "cell_type": "code",
   "execution_count": null,
   "metadata": {},
   "outputs": [],
   "source": [
    "for i in range(500):\n",
    "    print(2**i - 1)"
   ]
  },
  {
   "cell_type": "markdown",
   "metadata": {},
   "source": [
    "### Numeração de linhas\n",
    "\n",
    "`View > Toggle Line Numbers`\n",
    "\n",
    "ou usando o atalho: `Shift` + `L` no modo de comando."
   ]
  },
  {
   "cell_type": "code",
   "execution_count": null,
   "metadata": {},
   "outputs": [],
   "source": [
    "print()\n",
    "print(\"Por hoje é só, pessoal!\")\n",
    "print()\n",
    "print()"
   ]
  },
  {
   "cell_type": "code",
   "execution_count": null,
   "metadata": {},
   "outputs": [],
   "source": []
  }
 ],
 "metadata": {
  "kernelspec": {
   "display_name": "minicurso-ed2",
   "language": "python",
   "name": "minicurso-ed2"
  },
  "language_info": {
   "codemirror_mode": {
    "name": "ipython",
    "version": 3
   },
   "file_extension": ".py",
   "mimetype": "text/x-python",
   "name": "python",
   "nbconvert_exporter": "python",
   "pygments_lexer": "ipython3",
   "version": "3.8.6"
  },
  "toc-autonumbering": false,
  "toc-showcode": false,
  "toc-showmarkdowntxt": false,
  "toc-showtags": false
 },
 "nbformat": 4,
 "nbformat_minor": 4
}
