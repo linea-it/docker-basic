{
 "cells": [
  {
   "cell_type": "markdown",
   "metadata": {},
   "source": [
    "<img align=\"left\" src = https://www.linea.gov.br/wp-content/themes/LIneA/imagens/logo-header.png width=180 style=\"padding: 20px\"> <br>\n",
    "## Curso básico de ferramentas computacionais para e-astronomia\n",
    "Contato: Julia Gschwend ([julia@linea.gov.br](mailto:julia@linea.gov.br)) <br>\n",
    "Github: https://github.com/linea-it/minicurso-jupyter  <br>\n",
    "Site: https://minicurso-ed2.linea.gov.br/ <br> \n",
    "Última verificação: 23/08/2021<br> \n"
   ]
  },
  {
   "cell_type": "markdown",
   "metadata": {},
   "source": [
    "# Exercícios Aula 2 - Python básico operações com arrays usando Numpy\n",
    "\n",
    "Pratique os conceitos vistos na aula 2 com as seguintes atividades:\n"
   ]
  },
  {
   "cell_type": "markdown",
   "metadata": {},
   "source": [
    "Crie uma string com uma frase qualquer. Por exemplo, um ditado popular."
   ]
  },
  {
   "cell_type": "code",
   "execution_count": null,
   "metadata": {},
   "outputs": [],
   "source": [
    "frase = \"Jabuti não sobe em árvore.\""
   ]
  },
  {
   "cell_type": "markdown",
   "metadata": {},
   "source": [
    "Imprima a variável.   "
   ]
  },
  {
   "cell_type": "code",
   "execution_count": null,
   "metadata": {},
   "outputs": [],
   "source": [
    "print(frase)"
   ]
  },
  {
   "cell_type": "markdown",
   "metadata": {},
   "source": [
    "Transforme a string acima em uma lista usando o espaço em branco como separador. "
   ]
  },
  {
   "cell_type": "code",
   "execution_count": null,
   "metadata": {},
   "outputs": [],
   "source": [
    "lista_frase = frase.split(\" \")\n",
    "lista_frase"
   ]
  },
  {
   "cell_type": "markdown",
   "metadata": {},
   "source": [
    "Faça um Loop com o comando `for` para imprimir os elementos da sua lista, um a um.   "
   ]
  },
  {
   "cell_type": "code",
   "execution_count": null,
   "metadata": {},
   "outputs": [],
   "source": [
    "for palavra in lista_frase:\n",
    "    print(palavra)"
   ]
  },
  {
   "cell_type": "markdown",
   "metadata": {},
   "source": [
    "Crie um dicionário com pelo menos 10 entradas onde as chaves são nomes de pessoas fictícias e os valores são as suas idades. Sugestão: inclua todas as faixas etárias. "
   ]
  },
  {
   "cell_type": "code",
   "execution_count": null,
   "metadata": {},
   "outputs": [],
   "source": [
    "idades = {\"Dirce\": 82,\n",
    "          \"Maria\": 60,\n",
    "          \"Augusto\": 33,\n",
    "          \"Vicente\": 1,\n",
    "          \"Nathália\": 15,\n",
    "          \"Enzo\": 3,\n",
    "          \"Vívian\": 39,\n",
    "          \"Lúcio\": 41,\n",
    "          \"João Paulo\": 9,\n",
    "          \"Pedro\": 16} "
   ]
  },
  {
   "cell_type": "markdown",
   "metadata": {},
   "source": [
    "Crie um Loop para imprimir a `f-string` abaixo para cada item do dicionário:\n",
    "```python\n",
    "f\"{} tem {} anos.\" \n",
    "````"
   ]
  },
  {
   "cell_type": "code",
   "execution_count": null,
   "metadata": {},
   "outputs": [],
   "source": [
    "for key, val in idades.items():\n",
    "    print(f\"{key} tem {val} anos.\" )"
   ]
  },
  {
   "cell_type": "markdown",
   "metadata": {},
   "source": [
    "Use condicionais para criar um código que imprime os nomes das pessoas agrupando-os de acordo com faixas de idade. Sugestão: crianças, adolescentes, adultos. "
   ]
  },
  {
   "cell_type": "code",
   "execution_count": null,
   "metadata": {},
   "outputs": [],
   "source": [
    "print(\"Crianças:\") \n",
    "for key, val in idades.items():\n",
    "    if val < 12: \n",
    "        if val == 1: \n",
    "            print(f\"    {key} ({val} ano)\") \n",
    "        else: \n",
    "            print(f\"    {key} ({val} anos)\") \n",
    "print(\"Adolescentes:\") \n",
    "for key, val in idades.items():\n",
    "    if val >=12 and val < 18:\n",
    "        print(f\"    {key} ({val} anos)\") \n",
    "print(\"Adultos:\") \n",
    "for key, val in idades.items():\n",
    "    if val >= 18:\n",
    "        print(f\"    {key} ({val} anos)\") "
   ]
  },
  {
   "cell_type": "markdown",
   "metadata": {},
   "source": [
    "Crie uma função para retornar o resultado da expressão $ ax^2 + bx + c $ onde os coefficientes `a`, `b` e `c` são respectivamente as 3 primeiras idades do dicionário criado no exercício anterior no formato `float`. "
   ]
  },
  {
   "cell_type": "code",
   "execution_count": null,
   "metadata": {},
   "outputs": [],
   "source": [
    "def func(x):\n",
    "    return 82.*x**2 + 60.*x + 33."
   ]
  },
  {
   "cell_type": "markdown",
   "metadata": {},
   "source": [
    "Execute a função para $x = \\pi$."
   ]
  },
  {
   "cell_type": "code",
   "execution_count": null,
   "metadata": {},
   "outputs": [],
   "source": [
    "from math import pi\n",
    "func(pi)"
   ]
  },
  {
   "cell_type": "markdown",
   "metadata": {},
   "source": [
    "Crie uma lista vazia. Em um Loop, execute a função para a sequência de inteiros de 0 a 9 e vá adicionando os resultados à lista. "
   ]
  },
  {
   "cell_type": "code",
   "execution_count": null,
   "metadata": {},
   "outputs": [],
   "source": [
    "lista = []\n",
    "for i in range(10):\n",
    "    lista.append(func(i))\n",
    "lista"
   ]
  },
  {
   "cell_type": "markdown",
   "metadata": {},
   "source": [
    "Verifique o tipo dos elementos da lista."
   ]
  },
  {
   "cell_type": "code",
   "execution_count": null,
   "metadata": {},
   "outputs": [],
   "source": [
    "type(lista[0])"
   ]
  },
  {
   "cell_type": "markdown",
   "metadata": {},
   "source": [
    "Transforme esta lista em um array e atribua a outra variável. "
   ]
  },
  {
   "cell_type": "code",
   "execution_count": null,
   "metadata": {},
   "outputs": [],
   "source": [
    "import numpy as np\n",
    "array = np.array(lista)\n",
    "array"
   ]
  },
  {
   "cell_type": "markdown",
   "metadata": {},
   "source": [
    "Verifique o tipo dos elementos do array."
   ]
  },
  {
   "cell_type": "code",
   "execution_count": null,
   "metadata": {},
   "outputs": [],
   "source": [
    "type(array[0])"
   ]
  },
  {
   "cell_type": "markdown",
   "metadata": {},
   "source": [
    "Altere o tipo dos elementos do array para `int` e sobrescreva na mesma variável. "
   ]
  },
  {
   "cell_type": "code",
   "execution_count": null,
   "metadata": {},
   "outputs": [],
   "source": [
    "array = array.astype(int)\n",
    "array"
   ]
  },
  {
   "cell_type": "code",
   "execution_count": null,
   "metadata": {},
   "outputs": [],
   "source": [
    "type(array[0])"
   ]
  },
  {
   "cell_type": "markdown",
   "metadata": {},
   "source": [
    "Salve este array em um arquivo no formato CSV."
   ]
  },
  {
   "cell_type": "code",
   "execution_count": null,
   "metadata": {},
   "outputs": [],
   "source": [
    "np.savetxt(\"array.csv\", array, delimiter=\",\")"
   ]
  },
  {
   "cell_type": "markdown",
   "metadata": {},
   "source": [
    "Altere as dimensões deste array para 2 linhas e 5 colunas, e atribua o resultado a outra variável."
   ]
  },
  {
   "cell_type": "code",
   "execution_count": null,
   "metadata": {},
   "outputs": [],
   "source": [
    "new_array = array.reshape(2,5)\n",
    "new_array"
   ]
  },
  {
   "cell_type": "markdown",
   "metadata": {},
   "source": [
    "Imprima a sua matriz transposta."
   ]
  },
  {
   "cell_type": "code",
   "execution_count": null,
   "metadata": {},
   "outputs": [],
   "source": [
    "new_array.T"
   ]
  },
  {
   "cell_type": "markdown",
   "metadata": {},
   "source": [
    "Crie uma matriz diagonal com os elementos do array."
   ]
  },
  {
   "cell_type": "code",
   "execution_count": null,
   "metadata": {},
   "outputs": [],
   "source": [
    "np.diag(array)"
   ]
  },
  {
   "cell_type": "code",
   "execution_count": null,
   "metadata": {},
   "outputs": [],
   "source": []
  }
 ],
 "metadata": {
  "kernelspec": {
   "display_name": "minicurso-ed2",
   "language": "python",
   "name": "minicurso-ed2"
  },
  "language_info": {
   "codemirror_mode": {
    "name": "ipython",
    "version": 3
   },
   "file_extension": ".py",
   "mimetype": "text/x-python",
   "name": "python",
   "nbconvert_exporter": "python",
   "pygments_lexer": "ipython3",
   "version": "3.8.6"
  }
 },
 "nbformat": 4,
 "nbformat_minor": 4
}
