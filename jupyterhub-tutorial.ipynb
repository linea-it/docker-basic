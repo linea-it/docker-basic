{
 "cells": [
  {
   "cell_type": "markdown",
   "metadata": {},
   "source": [
    "\n",
    "<img align=\"left\" src = https://www.linea.org.br/wp-content/themes/LIneA/imagens/logo-header.png width=120 style=\"padding: 20px\"> <br> \n",
    "<img align=\"left\" src = https://jupyter.org/assets/homepage/hublogo.svg width=200 style=\"padding: 20px\"> <br> \n",
    "<br>\n",
    "<br>\n",
    "<br>\n",
    "<br>\n",
    "\n",
    "# JupyterHub Tutorial - Primeiros Passos \n",
    "\n",
    "Última verificação: 21/03/2022\n",
    "\n",
    "\n",
    "***\n",
    "\n",
    "Índice:\n",
    "\n",
    "1. [Introdução](#intro) \n",
    "2. [Gerenciamento de bibliotecas](#conda) \n",
    "3. [Acesso a dados](#data) \n",
    "\n",
    "***"
   ]
  },
  {
   "cell_type": "markdown",
   "metadata": {
    "tags": [],
    "toc-nb-collapsed": true
   },
   "source": [
    "<a class=\"anchor\" id=\"intro\"></a>\n",
    "## 1. Introdução\n",
    "\n",
    "Bem vindo(a) ao LIneA JupyterHub! \n",
    "\n",
    "Neste notebook você encontrará dicas de:\n",
    "* como utilizar o JupyterLab;\n",
    "* como adicionar ou atualizar biblitecas;\n",
    "* como acessar os dados disponíveis no LIneA Science Server diretamente de um notebook. \n",
    "\n",
    "Caso precise de ajuda, entre em contato pelo e-mail: [helpdesk@linea.org.br](mailto:helpdesk@linea.org.br) <br>\n",
    "\n"
   ]
  },
  {
   "cell_type": "markdown",
   "metadata": {
    "tags": []
   },
   "source": [
    "### 1.1 O que é o Jupyter Notebook? \n",
    "\n",
    "_Se você já está familiarizado com o Jupyter Notebook, pule para a [seção 2](#conda) (dica: navegue pelas seções do notebook usando a aba lateral do JupyterLab)._\n",
    "\n",
    "\n",
    "Um Jupyter Notebook é um arquivo com extensão _.ipynb_ composto por uma sequência de células executáveis que podem conter trechos de código, o resultado da execução desse código, texto formatado, equações e anexos. A documentação oficial do Jupyter Notebook está disponível em: https://jupyter-notebook.readthedocs.io \n",
    "\n",
    "Para acessar, editar e executar um notebook, usamos a aplicação JupyterLab, que é a interface de usuário de última geração do Jupyter, ou a sua versão clássica, também chamada de Jupyter Notebook. Para alternar entre as duas versões, basta substituir na URL: \n",
    "\n",
    "`jupyter.linea.org.br/user/<seu username>/tree` -> para a versão cássica \n",
    "\n",
    "`jupyter.linea.org.br/user/<seu username>/lab`  -> para o JupyterLab\n"
   ]
  },
  {
   "cell_type": "markdown",
   "metadata": {
    "slideshow": {
     "slide_type": "slide"
    },
    "tags": []
   },
   "source": [
    "### 1.2 Comandos básicos \n",
    "\n",
    "Existem dois modos no Jupyter Notebook (e no Jupyter Lab): **Edição** e **Comando**. No Jupyter Notebook (clássico), quando a célula está azul, você está no modo de comando. No modo de edição a cor é verde. No Jupyter Lab a cor é sempre azul.\n",
    "\n",
    "Para acessar os modos:\n",
    "+ Edição: **Enter**\n",
    "+ Comando: **Esc**\n",
    "\n",
    "Teste com a célula vazia abaixo:"
   ]
  },
  {
   "cell_type": "code",
   "execution_count": null,
   "metadata": {},
   "outputs": [],
   "source": []
  },
  {
   "cell_type": "markdown",
   "metadata": {
    "slideshow": {
     "slide_type": "subslide"
    },
    "tags": []
   },
   "source": [
    "**Executando uma célula**\n",
    "\n",
    "A linguagem de programação considerada na execução depende do _Kernel_ selecionado na criação do notebook. Neste notebook o kernel é Python 3.\n",
    "\n",
    "Para executar uma célula você pode clicar no botão \"play\" (&#9658;) ou usar o seguintes comandos:\n",
    "\n",
    "+ **Ctrl + Enter**: Somente executa a célula selecionada\n",
    "+ **Shift + Enter**: Executa a célula selecionada e pula para a próxima\n",
    "+ **Alt + Enter** (ou **option + return** no Mac): Executa a célula selecionada e cria uma abaixo\n",
    "\n",
    "Agora navegue para a célula abaixo com as setas do teclado e teste os comandos."
   ]
  },
  {
   "cell_type": "code",
   "execution_count": null,
   "metadata": {
    "slideshow": {
     "slide_type": "fragment"
    }
   },
   "outputs": [],
   "source": [
    "print(\"Hello, World!\")"
   ]
  },
  {
   "cell_type": "markdown",
   "metadata": {
    "slideshow": {
     "slide_type": "slide"
    }
   },
   "source": [
    "Note que ao lado da célula está escrito **In [1]:**. O número que aparecenentre colchetes indica a ordem de execução das células. **In [*]:** indica que a execução ainda está em andamento. Por exemplo, vamos importar a biblioteca `time` e utilizar a função `sleep`, que apenas nos faz esperar o tempo (em segundos) fornecido como argumento entre parênteses. "
   ]
  },
  {
   "cell_type": "code",
   "execution_count": null,
   "metadata": {},
   "outputs": [],
   "source": [
    "import time"
   ]
  },
  {
   "cell_type": "code",
   "execution_count": null,
   "metadata": {},
   "outputs": [],
   "source": [
    "print(\"wait 5 seconds with [*]...\")\n",
    "time.sleep(5)\n",
    "print(\"done!\")"
   ]
  },
  {
   "cell_type": "markdown",
   "metadata": {},
   "source": [
    "<font color=\"red\"><b>!!! CUIDADO !!!</b></font><br>\n",
    "Nada garante que as células sejam executadas na ordem em que aparecem. Se você fizer alterações no notebook e rodar as células fora de ordem, coisas inesperadas podem acontecer. Fique atento(a) à numeração In[x] ao interpretar seus resultados. "
   ]
  },
  {
   "cell_type": "markdown",
   "metadata": {},
   "source": [
    "**Parada de emergência**\n",
    "\n",
    "Se precisar interromper a execução de um notebook, use o botão de \"stop\" (&#9632;) ou vá pelo menu _Kernel_: \n",
    "\n",
    "`Kernel > Interrupt Kernel` \n",
    "\n",
    "Depois de muitas alterações, é conveniente \"dar um _Restart_\" e rodar todas as células de uma vez, para garantir a ordem de execução. \n",
    "\n",
    "`Kernel > Restart Kernel and Run All Cells`   \n",
    "\n",
    "**Boas práticas: guarde seus notebooks limpos**\n",
    "\n",
    "Antes de salvar seu notebook, apague todos os outputs, especialmente se ele estiver em um repositório GIT.    \n",
    "\n",
    "`Edit > Clear All Outputs` \n",
    "\n",
    "ou então \n",
    "\n",
    "`Kernel > Restart Kernel and Clear All Outputs` \n"
   ]
  },
  {
   "cell_type": "markdown",
   "metadata": {},
   "source": [
    "**Acessando a documentação**\n",
    "\n",
    "Pela forma tradicional do Python, usando a função `help`:"
   ]
  },
  {
   "cell_type": "code",
   "execution_count": null,
   "metadata": {},
   "outputs": [],
   "source": [
    "help(time.sleep)"
   ]
  },
  {
   "cell_type": "markdown",
   "metadata": {},
   "source": [
    "Ou pelo atalho (\"?\"):"
   ]
  },
  {
   "cell_type": "code",
   "execution_count": null,
   "metadata": {},
   "outputs": [],
   "source": [
    "time.sleep?"
   ]
  },
  {
   "cell_type": "markdown",
   "metadata": {},
   "source": [
    "**Atalhos úteis no modo de comando**\n",
    "\n",
    "+ **a**: cria antes\n",
    "+ **b**: cria depois\n",
    "+ **x**: cortar\n",
    "+ **c**: copiar\n",
    "+ **v**: colar\n",
    "+ **d, d**: apagar (apertar duas vezes o \"d\")\n",
    "+ **z**: desfazer o último \"apagar\""
   ]
  },
  {
   "cell_type": "markdown",
   "metadata": {},
   "source": [
    "**Atalhos úteis no modo de edição**\n",
    "+ copiar/cortar ou colar sem seleção: copia/corta ou cola a linha completa\n",
    "+ multicursor: `Ctrl` (pc) ou `command` (mac) + mouse click\n"
   ]
  },
  {
   "cell_type": "markdown",
   "metadata": {
    "tags": []
   },
   "source": [
    "### 1.3 Tipos de Células\n",
    "\n",
    "Além das células de código, todo o texto entre elas também é adicionado em células, porém do tipo **Markdown**. O tipo de célula pode ser alterado no menu da aba no Jupyter ou no modo de comando com os seguintes atalhos:\n",
    "\n",
    "+ **y** : Code \n",
    "+ **m** : Markdown\n",
    "+ **r** : Raw (texto puro)\n",
    "\n"
   ]
  },
  {
   "cell_type": "markdown",
   "metadata": {},
   "source": [
    "Por exemplo, varie o tipo da célula abaixo e veja o resultado. "
   ]
  },
  {
   "cell_type": "raw",
   "metadata": {},
   "source": [
    "time.time()"
   ]
  },
  {
   "cell_type": "markdown",
   "metadata": {},
   "source": [
    "**Markdown**\n",
    "\n",
    "Markdown é uma linguagem que converte texto simples em texto estruturado HTML que foi pensada para ser de fácil leitura e escrita. Entre no modo de edição das células abaixo para ver como cada item foi feito.\n"
   ]
  },
  {
   "cell_type": "markdown",
   "metadata": {
    "tags": []
   },
   "source": [
    "**Títulos e Subtítulos**\n",
    "\n",
    "Títulos e Subtítulos são identificados com \"#\". O número de #s indica o nível de hierarquia. Os títulos demarcam as seções no menu lateral que é atualizado automaticamente.   \n",
    "\n",
    "Divisão com linha horizontal: \n",
    "\n",
    "********"
   ]
  },
  {
   "cell_type": "markdown",
   "metadata": {},
   "source": [
    "**Links**\n",
    "\n",
    "[Site do LIneA](https://www.linea.org.br)\n",
    "\n",
    "[Contato](mailto:helpdesk@linea.org.br) "
   ]
  },
  {
   "cell_type": "markdown",
   "metadata": {},
   "source": [
    "**Font style**\n",
    "\n",
    "\n",
    "**bold**, __bold__, _italic_, *italic*, ~~Strikethrough~~, ***Bold and italic***, \n",
    "\n",
    "> blockquote\n",
    "\n",
    "Inline `print(\"Hello World\")`\n",
    "\n",
    "```\n",
    "def quote_code_markdown()\n",
    "    return\n",
    "```\n",
    "\n",
    "Código em uma linguagem\n",
    "```python\n",
    "def python_func()\n",
    "    return\n",
    "```\n",
    "\n",
    "Mais detalhes sobre blocos de código no [link](https://help.github.com/en/articles/creating-and-highlighting-code-blocks)"
   ]
  },
  {
   "cell_type": "markdown",
   "metadata": {
    "tags": []
   },
   "source": [
    "**Listas**\n",
    "\n",
    "- item 1\n",
    "- item 2\n",
    "- item 3\n",
    "\n",
    "\n",
    "1. item 1\n",
    "2. item 2\n",
    "3. item 3\n",
    "\n",
    "\n",
    "- item 1\n",
    "  - item 2\n",
    "    - item 3\n",
    "\n",
    "\n",
    "1. item 1\n",
    "   1. item 2\n",
    "      1. item 3\n",
    "\n",
    "Mais informações sobre markdown no [link](https://help.github.com/en/articles/basic-writing-and-formatting-syntax)"
   ]
  },
  {
   "cell_type": "markdown",
   "metadata": {},
   "source": [
    "**Tabelas**\n",
    "\n",
    "|  x  |  y  |  z  |\n",
    "|-----|-----|-----|\n",
    "| x1  | y1  | z1  |\n",
    "| x2  | y2  | z2  |\n",
    "| x3  | y3  | z3  |\n",
    "| x4  | y4  | z4  |\n",
    "| x5  | y5  | z5  |\n"
   ]
  },
  {
   "cell_type": "markdown",
   "metadata": {},
   "source": [
    "**HTML**\n",
    "\n",
    "Código HTML também funcionam nas células do tipo Markdown.\n",
    "\n",
    "<font color='red'>Change font color</font>\n",
    "\n",
    "<p style=\"background-color:green; color:white\">Lorem ipsum dolor sit amet, consectetur adipiscing elit. Etiam eget ligula eu lectus lobortis condimentum. Aliquam nonummy auctor massa. Pellentesque habitant morbi tristique senectus et netus et malesuada fames ac turpis egestas. Nulla at risus. Quisque purus magna, auctor et, sagittis ac, posuere eu, lectus. Nam mattis, felis ut adipiscing.</p>"
   ]
  },
  {
   "cell_type": "markdown",
   "metadata": {},
   "source": [
    "**$\\LaTeX\\$**\n",
    "\n",
    "É possível adicionar equações e expressões matemáticas em geral diretamente na célula do tipo **Markdown**, na mesma linha: $e^{i\\pi} + 1 = 0$,\n",
    "\n",
    "ou em uma linha separada, centralizado:\n",
    "$$e^x=\\sum_{i=0}^\\infty \\frac{1}{i!}x^i$$"
   ]
  },
  {
   "cell_type": "markdown",
   "metadata": {},
   "source": [
    "### 1.4 Comandos do terminal \n",
    "\n",
    "Para executar comandos do terminal diretamente na célula, basta iniciar a linha com o **`!`** "
   ]
  },
  {
   "cell_type": "code",
   "execution_count": null,
   "metadata": {},
   "outputs": [],
   "source": [
    "! ls"
   ]
  },
  {
   "cell_type": "code",
   "execution_count": null,
   "metadata": {},
   "outputs": [],
   "source": [
    "! cp README.md copy_README.md"
   ]
  },
  {
   "cell_type": "code",
   "execution_count": null,
   "metadata": {},
   "outputs": [],
   "source": [
    "! ls"
   ]
  },
  {
   "cell_type": "code",
   "execution_count": null,
   "metadata": {},
   "outputs": [],
   "source": [
    "! rm copy_README.md"
   ]
  },
  {
   "cell_type": "code",
   "execution_count": null,
   "metadata": {},
   "outputs": [],
   "source": [
    "! ls"
   ]
  },
  {
   "cell_type": "markdown",
   "metadata": {},
   "source": [
    "### 1.5 Comandos mágicos\n",
    "\n",
    "São executados com \"%\" (válido para a linha) ou \"%%\" (válido para a célula).  Note que alguns comandos mágicos são nomes de outras linguagens (ex.: `%%javascript`, `%%pearl`, `%%ruby`), o que possibilita trocar de kernel ou ambiente em uma célula em particular. Também é possível adicionar outras linguagens através da instalação de extensões.  "
   ]
  },
  {
   "cell_type": "markdown",
   "metadata": {},
   "source": [
    "Para testar a célula abaixo, remova o indicador de comentário na linguagem javascript (`//`) e execute a célula para gerar uma _pop-up window_. Enquanto a janela _pop-up_ estiver aberta, a célula ainda está em execução (note o sinal de [*]). Para liberar, pressione o botão \"OK\".      "
   ]
  },
  {
   "cell_type": "code",
   "execution_count": null,
   "metadata": {},
   "outputs": [],
   "source": [
    "%%javascript\n",
    "\n",
    "//alert(\"Hello, World!\")"
   ]
  },
  {
   "cell_type": "markdown",
   "metadata": {},
   "source": [
    "Um exemplos bastante útil é o comando mágico `%time`, para uma linha:"
   ]
  },
  {
   "cell_type": "code",
   "execution_count": null,
   "metadata": {},
   "outputs": [],
   "source": [
    "%time print(\"Quanto tempo leva para imprimir esta frase?\")"
   ]
  },
  {
   "cell_type": "markdown",
   "metadata": {},
   "source": [
    "Ou `%%time`, para uma célula:"
   ]
  },
  {
   "cell_type": "code",
   "execution_count": null,
   "metadata": {},
   "outputs": [],
   "source": [
    "%%time\n",
    "print()\n",
    "print(\"Quanto tempo leva \")\n",
    "print(\"para imprimir \")\n",
    "print(\"estas linhas?\")\n",
    "print()"
   ]
  },
  {
   "cell_type": "markdown",
   "metadata": {},
   "source": [
    "que retorna as medidas de `CPU times` e `Wall time`. Veja [neste post](https://stackoverflow.com/questions/556405/what-do-real-user-and-sys-mean-in-the-output-of-time1) um resumo do significado de cada uma dessas medidas. "
   ]
  },
  {
   "cell_type": "markdown",
   "metadata": {},
   "source": [
    "### 1.6 Configurações da célula\n",
    "\n",
    "\n",
    "**Toggle scrolling** \n",
    "\n",
    "Útil para outputs longos inconvenientes, clique com o botão direito do mouse na célula desejada e selecione: \n",
    "\n",
    "`Enable Scrolling for Outputs`\n",
    "\n",
    "Teste na célula abaixo:"
   ]
  },
  {
   "cell_type": "code",
   "execution_count": null,
   "metadata": {
    "tags": []
   },
   "outputs": [],
   "source": [
    "for i in range(50):\n",
    "    print(i)"
   ]
  },
  {
   "cell_type": "markdown",
   "metadata": {
    "tags": []
   },
   "source": [
    "**Numeração de linhas**\n",
    "\n",
    "Para exibir as linhas numeradas dentro das célular, clique no menu superior em: `View > Show Line Numbers` ou use o atalho: `Shift` + `L` no modo de comando. \n",
    "\n",
    "Teste na célula abaixo:"
   ]
  },
  {
   "cell_type": "code",
   "execution_count": null,
   "metadata": {},
   "outputs": [],
   "source": [
    "# linha 1\n",
    "# linha 2\n",
    "# linha 3\n",
    "# ..."
   ]
  },
  {
   "cell_type": "markdown",
   "metadata": {},
   "source": [
    "### 1.7 Export  \n",
    "\n",
    "Para exportar seu notebook com resultados para uma versão estática e leve que abre em qualquer navegador, basta clicar no menu em:\n",
    "\n",
    "`File > Export Notebook As > HTML`\n",
    "\n",
    "Antes de salvar o arquivo **.ipynb**, não se esqueça de limpar todos os outputs: \n",
    "\n",
    "`Edit > Clear All Outputs`"
   ]
  },
  {
   "cell_type": "markdown",
   "metadata": {},
   "source": [
    "<a class=\"anchor\" id=\"conda\"></a>\n",
    "## 2. Gerenciamento de bibliotecas "
   ]
  },
  {
   "cell_type": "markdown",
   "metadata": {},
   "source": [
    "A instalação padrão do LIneA JupyterHub é baseada na imagem [_datascience-notebook_](https://github.com/jupyter/docker-stacks) \n",
    "que já oferece os 3 kernels [Python](https://www.python.org), [Julia](https://julialang.org) e [R](https://www.r-project.org), e as principais bibliotecas de ciência de dados. O gerenciamento de pacotes e bibliotecas é feito com o sistema [conda](https://conda.io/projects/conda/en/latest/index.html).  \n",
    "\n"
   ]
  },
  {
   "cell_type": "markdown",
   "metadata": {},
   "source": [
    "### 2.1 Trabalhando no ambiente _base_ \n",
    "Ao acessar o JupyterHub você encontrará o ambiente _default_ do sistema conda chamado _base_. A lista de bibliotecas disponíveis no ambiente vigente (_base_) pode ser acessada com o comando:\n",
    "\n",
    "```shell\n",
    "conda list\n",
    "```"
   ]
  },
  {
   "cell_type": "code",
   "execution_count": null,
   "metadata": {
    "scrolled": true
   },
   "outputs": [],
   "source": [
    "! conda list"
   ]
  },
  {
   "cell_type": "markdown",
   "metadata": {
    "jp-MarkdownHeadingCollapsed": true,
    "tags": []
   },
   "source": [
    "Caso você não encontre nesta lista a(s) biblioteca(s) necessária(s) para a sua aplicação, você poderá instalá-las via **Terminal** usando os comandos `pip install` ou `conda install`. Por exemplo, vamos instalar a biblioteca [Astropy](https://docs.astropy.org/en/stable/):\n",
    "\n",
    "```shell\n",
    "pip install astropy\n",
    "``` "
   ]
  },
  {
   "cell_type": "code",
   "execution_count": null,
   "metadata": {
    "scrolled": true
   },
   "outputs": [],
   "source": [
    "! pip install astropy"
   ]
  },
  {
   "cell_type": "markdown",
   "metadata": {
    "jp-MarkdownHeadingCollapsed": true,
    "tags": []
   },
   "source": [
    "Se você já estava com um Jupyter Notebook aberto no momento da instalação, será necessário reiniciar o kernel do notebook para que ele possa importar a biblioteca recém-instalada. \n",
    "***\n",
    "Por _default_, o ambiente _base_ fica salvo no diretório `/opt/conda` que é criado temporariamente junto com a sua sessão no JupyterHub, e que é destruído quando a sessão termina. \n",
    "\n",
    "<font color='red'>ATENÇÃO: </font> As bibliotecas instaladas no ambiente _base_ ficarão disponíveis apenas durante a sessão atual. Quando você se desconectar e fizer \"_spawn_\" novamente, ou seja, reiniciar o servidor no painel de controle, encontrará apenas o ambiente _base_ \"limpo\" (apenas com as bibliotecas da imagem [_datascience-notebook_](https://github.com/jupyter/docker-stacks)). "
   ]
  },
  {
   "cell_type": "markdown",
   "metadata": {},
   "source": [
    "### 2.2 Criando um ambiente novo (avançado)\n",
    "\n",
    "Caso você participe de diferentes projetos que requerem diferentes versões de bibliotecas, recomendamos que crie um novo ambiente (ou mais de um) contendo as bibliotecas com as versões desejadas. Para saber mais sobre os ambientes no conda, acesse a documentação [neste link](https://conda.io/projects/conda/en/latest/user-guide/tasks/manage-environments.html). Um resumo dos comandos mais importantes do conda está disponível na tabela [CONDA CHEATSHEET](https://docs.conda.io/projects/conda/en/4.6.0/_downloads/52a95608c49671267e40c689e0bc00ca/conda-cheatsheet.pdf). \n",
    " \n",
    "Para que os ambientes criados continuem disponíveis em futuras sessões, ao invés de ficarem guardados no diretório `/opt/conda`, eles devem ser salvos em locais persistentes como, por exemplo, a _home_ do usuário. Se você é um usuário com perfil ouro, prata, ou membro de colaboração, poderá contar com este recurso. **Se você é um usuário do serviço aberto ao público (usuários com perfil bronze), o seu diretório home também é destruído a cada fim de sessão e recriado a cada início de sessão. Portanto, todas as instalações de pacotes e ambientes criados são válidos apenas para a sessão atual.** \n",
    "\n",
    "Na seção anterior usamos o \"!\" no início da célula como um atalho para rodar os comandos do Terminal a partir do notebook. Para os próximos passos, como vamos gerenciar ambientes no _conda_, será necessário trabalhar diretamente no Terminal. Abra um **Terminal** pelo _Launcher_ (botão \"+\" no canto superior esquerdo) ou pelo menu em:\n",
    "\n",
    "`File > New > Terminal`\n",
    "\n",
    "Os comandos abaixo a serem rodados no terminal estarão evidenciados com fundo preto.   \n",
    "\n",
    "Para listar os ambientes disponíveis e os respectivos locais onde estão salvos utilize o comando:\n",
    "\n",
    "<p style=\"background-color:black; color:white;\">\n",
    "    <font face=\"Courier New\">\n",
    "        $ conda env list\n",
    "    </font>\n",
    "</p>\n",
    "\n",
    "Se você estiver acessando pela primeira vez, vai encontrar apenas o ambiente \"_base_\".  "
   ]
  },
  {
   "cell_type": "markdown",
   "metadata": {},
   "source": [
    "Para criar um ambiente novo e deixá-lo disponível para ser usado como um kernel no notebook, esta é a sequência de comandos:\n",
    "\n",
    "```bash\n",
    "$ conda create -p [full_path/env_name] [libraries (optional)] \n",
    "$ conda activate [env_name]\n",
    "$ conda install -c anaconda ipykernel\n",
    "$ python -m ipykernel install --user --name=[env_name]\n",
    "```\n",
    "\n",
    "No exemplo abaixo vamos executá-los e comentar o que cada um deles significa. "
   ]
  },
  {
   "cell_type": "markdown",
   "metadata": {},
   "source": [
    "***\n",
    "\n",
    "**Exemplo**\n",
    "\n",
    "Neste exemplo, vamos criar um novo ambiente chamado \"tutorial\".  Para que este ambiente fique disponível mesmo após a reinicialização do servidor, vamos salvá-lo em um diretório na _home_ do usuário. Sugestão (opcional): utilizar o _path_ `$HOME/.conda/envs/`. Desse modo, os ambientes salvos ficam ocultos na sua _home_.  \n",
    "\n",
    "No Terminal, entre com os comandos: (e pressione Enter quando for solicitada confirmação: Proceed ([y]/n)? ) \n",
    "\n",
    "<p style=\"background-color:black; color:white;\">\n",
    "    <font face=\"Courier New\">\n",
    "        $ conda create -p \\$HOME/.conda/envs/tutorial \n",
    "    </font>\n",
    "</p>"
   ]
  },
  {
   "cell_type": "markdown",
   "metadata": {},
   "source": [
    "Repita o comando para listar os ambientes disponíveis e verifique a presença do ambiente recém-criado. \n",
    "\n",
    "<p style=\"background-color:black; color:white;\">\n",
    "    <font face=\"Courier New\">\n",
    "        $ conda env list\n",
    "    </font>\n",
    "</p>\n",
    "\n",
    "Note que o símbolo \"*\" indica que o ambiente _base_ continua ativo. \n"
   ]
  },
  {
   "cell_type": "markdown",
   "metadata": {},
   "source": [
    "<font color='red'>IMPORTANTE: </font> Para ativar um ambiente utilize o comando `conda activate [env_name]`, para o nosso exemplo:\n",
    "\n",
    "<p style=\"background-color:black; color:white;\">\n",
    "    <font face=\"Courier New\">\n",
    "        $ conda activate tutorial\n",
    "    </font>\n",
    "</p>\n",
    "\n",
    "Com o ambiente **tutorial** ativo, você pode instalar as demais bibliotecas necessárias nas versões desejadas. Por exemplo, vamos instalar a biblioteca [Numpy](https://numpy.org/doc/stable/) e as suas respectivas dependências.\n",
    "\n",
    "<p style=\"background-color:black; color:white;\">\n",
    "    <font face=\"Courier New\">\n",
    "        $ conda install numpy\n",
    "    </font>\n",
    "</p>\n",
    "\n",
    "\n",
    "Use o comando `conda list` para consultar as bibliotecas disponíveis no ambiente.\n",
    "\n",
    "<p style=\"background-color:black; color:white;\">\n",
    "    <font face=\"Courier New\">\n",
    "        $ conda list\n",
    "    </font>\n",
    "</p>\n",
    "\n",
    "\n",
    "*** "
   ]
  },
  {
   "cell_type": "markdown",
   "metadata": {},
   "source": [
    "Para poder acessar o ambiente criado a partir do Jupyter Notebook, são necessários mais dois comandos: \n",
    "\n",
    "<p style=\"background-color:black; color:white;\">\n",
    "    <font face=\"Courier New\">\n",
    "        $ conda install -c anaconda ipykernel \n",
    "    </font>\n",
    "</p>\n",
    "\n",
    "<p style=\"background-color:black; color:white;\">\n",
    "    <font face=\"Courier New\">\n",
    "        $ python -m ipykernel install --user --name=tutorial\n",
    "    </font>\n",
    "</p>\n",
    "\n",
    "Estes comandos vão fazer com que o ambiente criado seja disponibilizado como um kernel para o Jupyter Notebook. Note que apareceu um novo botão na aba _Launcher_ com o nome do ambiente criado. Você também pode selecioná-lo no menu de kernels (canto superior direito). \n",
    "\n",
    "***"
   ]
  },
  {
   "cell_type": "markdown",
   "metadata": {},
   "source": [
    "No Terminal, caso queira desativar o ambiente \"tutorial\" e retornar ao ambiente anterior, basta entrar com o comando:\n",
    "\n",
    "<p style=\"background-color:black; color:white;\">\n",
    "    <font face=\"Courier New\">\n",
    "        $ conda deactivate\n",
    "    </font>\n",
    "</p>\n"
   ]
  },
  {
   "cell_type": "markdown",
   "metadata": {},
   "source": [
    "<a class=\"anchor\" id=\"data\"></a>\n",
    "## 3. Acesso a dados\n",
    "\n",
    "O LIneA JupyterHub oferece acesso a dados públicos disponíveis online e a dados privados de levantamentos fotométricos cuja participação de cientistas brasileiros com _data rights_ é apoiada pelo LIneA. Neste notebook vamos exemplificar o acesso aos dados públicos do levantamento _Dark Energy Survey_ (DES).    \n",
    "\n",
    "### 3.1 Sobre os dados"
   ]
  },
  {
   "cell_type": "markdown",
   "metadata": {},
   "source": [
    "<img align=\"left\" src=https://www.darkenergysurvey.org/wp-content/uploads/2016/01/des-logo-rev-lg.png width=400 style=\"background-color:black; padding: 20px\">"
   ]
  },
  {
   "cell_type": "markdown",
   "metadata": {},
   "source": [
    "\n",
    "<img align=\"left\" src=https://www.darkenergysurvey.org/wp-content/uploads/2016/05/12-0333-22D.jpg width=400 style=\"background-color:black; padding: 20px; margin-right: 2em\"> <br>\n",
    "\n",
    "\n"
   ]
  },
  {
   "cell_type": "markdown",
   "metadata": {},
   "source": [
    "O [Dark Energy Survey (DES)](https://www.darkenergysurvey.org/) é um levantamento fotométrico em 5 bandas do ótico ao infravermelho (_grizY_) que tem como principal objetivo a determinação da equação de estado da energia escura. O DES observou ~700 milhões de objetos detectados em ~5000 graus quadrados no hemisfério sul durante 6 anos. Os artigos com os principais resultados da análise dos dados dos três primeiros anos de observação estão disponíveis [nesta página](https://www.darkenergysurvey.org/des-year-3-cosmology-results-papers/).  \n",
    "<img align=\"center\" src=https://www.darkenergysurvey.org/wp-content/uploads/2021/06/dr2_footprint.png  width=500 style=\"padding: 20px\"> <br> \n",
    "Figura: Footprint Data Release 2 (fonte: [www.darkenergysurvey.org](https://www.darkenergysurvey.org/wp-content/uploads/2021/06/dr2_footprint.png)).  \n",
    "\n",
    "O [segundo _data release_ (DR2)](https://des.ncsa.illinois.edu/releases/dr2), já contendo os dados dos seis anos de observação, está disponível para público e pode ser acessado pelo [LIneA Science Server](https://desportal2.cosmology.illinois.edu/sky/) ou aqui pelo JupyterHub, como veremos a seguir."
   ]
  },
  {
   "cell_type": "markdown",
   "metadata": {},
   "source": [
    "### 3.2 Acesso ao banco de dados com a biblioteca dblinea"
   ]
  },
  {
   "cell_type": "markdown",
   "metadata": {},
   "source": [
    "Dentro da plataforma LIneA JupyterHub, o acesso ao banco de dados é feito através da biblioteca [dblinea](https://github.com/linea-it/dblinea). Confira [neste link](https://dblinea.readthedocs.io/en/latest/index.html) a documentação completa.\n",
    "\n",
    "Para instalar a biblioteca dblinea no ambiente _default_ (base): \n",
    "\n",
    "```shell\n",
    "    pip install dblinea\n",
    "```"
   ]
  },
  {
   "cell_type": "code",
   "execution_count": null,
   "metadata": {},
   "outputs": [],
   "source": [
    "! pip install dblinea"
   ]
  },
  {
   "cell_type": "markdown",
   "metadata": {},
   "source": [
    "Nos exemplos abaixo, além das bibliotecas [Pandas](https://pandas.pydata.org/) e [Matplotlib](https://matplotlib.org/) (que já fazem parte do ambiente _default_ \"_base_\", também vamos utilizar a biblioteca [Astropy](https://docs.astropy.org/en/stable/). Caso ainda não tenha feito a instalação na seção 2:"
   ]
  },
  {
   "cell_type": "code",
   "execution_count": null,
   "metadata": {},
   "outputs": [],
   "source": [
    "! pip install astropy "
   ]
  },
  {
   "cell_type": "markdown",
   "metadata": {},
   "source": [
    "Setup"
   ]
  },
  {
   "cell_type": "code",
   "execution_count": null,
   "metadata": {},
   "outputs": [],
   "source": [
    "import matplotlib.pyplot as plt\n",
    "import pandas as pd\n",
    "from astropy import units as u\n",
    "from astropy.coordinates import SkyCoord\n",
    "\n",
    "from dblinea import DBBase\n",
    "db = DBBase()\n",
    "\n",
    "%reload_ext autoreload\n",
    "%autoreload 2"
   ]
  },
  {
   "cell_type": "markdown",
   "metadata": {},
   "source": [
    "**Leitura dos dados**\n"
   ]
  },
  {
   "cell_type": "markdown",
   "metadata": {},
   "source": [
    "O objeto `db` faz a conexão com o banco de dados e oferece algumas funcionalidades como veremos a seguir. Nos exemplos abaixo, vamos acessar os dados da tabela `coadd_objects` do catálogo DES DR2.   "
   ]
  },
  {
   "cell_type": "code",
   "execution_count": null,
   "metadata": {},
   "outputs": [],
   "source": [
    "schema = \"des_dr2\"  \n",
    "tablename = \"coadd_objects\""
   ]
  },
  {
   "cell_type": "markdown",
   "metadata": {},
   "source": [
    "Para obter a lista de colunas disponíveis: "
   ]
  },
  {
   "cell_type": "code",
   "execution_count": null,
   "metadata": {
    "scrolled": true,
    "tags": []
   },
   "outputs": [],
   "source": [
    "db.get_table_columns(tablename, schema=schema)"
   ]
  },
  {
   "cell_type": "markdown",
   "metadata": {},
   "source": [
    "Para saber o tipo de dado em cada coluna: "
   ]
  },
  {
   "cell_type": "code",
   "execution_count": null,
   "metadata": {
    "scrolled": true,
    "tags": []
   },
   "outputs": [],
   "source": [
    "db.describe_table(tablename, schema=schema)"
   ]
  },
  {
   "cell_type": "markdown",
   "metadata": {
    "tags": []
   },
   "source": [
    "A função `fetchall(query)` faz a consulta no banco de dados e retorna uma lista de tuplas com os dados referentes à _query_ fornecida no argumento. Por exemplo, vamos consultar o identificador único e as coordenadas dos objetos nas 10 primeiras linhas da tabela.  "
   ]
  },
  {
   "cell_type": "code",
   "execution_count": null,
   "metadata": {},
   "outputs": [],
   "source": [
    "query = \"SELECT coadd_object_id, ra, dec FROM des_dr2.coadd_objects limit 10\"\n",
    "lista_10_objetos = db.fetchall(query)\n",
    "lista_10_objetos"
   ]
  },
  {
   "cell_type": "markdown",
   "metadata": {
    "tags": []
   },
   "source": [
    "A função `fetchall_dict(query)` faz a consulta no banco de dados e retorna uma lista de dicionários com os dados referentes à _query_ fornecida no argumento. Vamos repetir a consulta do exemplo anterior, ou seja, vamos utilizar o mesmo _SQL statement_ atribuído à variável **query**.   "
   ]
  },
  {
   "cell_type": "code",
   "execution_count": null,
   "metadata": {},
   "outputs": [],
   "source": [
    "dict_10_objetos = db.fetchall_dict(query)\n",
    "dict_10_objetos"
   ]
  },
  {
   "cell_type": "markdown",
   "metadata": {
    "tags": []
   },
   "source": [
    "A função `fetchall_df(query)` faz a consulta no banco de dados e retorna um objeto do tipo [pandas.DataFrame](https://pandas.pydata.org/docs/reference/api/pandas.DataFrame.html) com os dados referentes à _query_ fornecida no argumento. Vamos repetir a consulta dos exemplo anteriores:"
   ]
  },
  {
   "cell_type": "code",
   "execution_count": null,
   "metadata": {},
   "outputs": [],
   "source": [
    "dataframe_10_objetos = db.fetchall_df(query)\n",
    "dataframe_10_objetos"
   ]
  },
  {
   "cell_type": "markdown",
   "metadata": {
    "tags": []
   },
   "source": [
    "**Exemplos**"
   ]
  },
  {
   "cell_type": "markdown",
   "metadata": {},
   "source": [
    "Para ilustrar a visualização de uma pequena amostra de dados, vamos construir o diagrama cor-magnitude com as estrelas da [galáxia anã de Sculptor](https://en.wikipedia.org/wiki/Sculptor_Dwarf_Galaxy). \n",
    "\n",
    "|Equatorial Coordinates | |\n",
    "|:-- |--- | \n",
    "|Right ascension | 01h 00m 09.3s |\n",
    "|Declination | −33° 42' 33\" |\n"
   ]
  },
  {
   "cell_type": "markdown",
   "metadata": {},
   "source": [
    "\n",
    "\n",
    "A tabela abaixo traz os significados das colunas que vamos utilizar para fazer a consulta no banco de dados. A lista completa de colunas disponíveis na tabela DES DR2 está disponível [nesta página](https://des.ncsa.illinois.edu/releases/dr2/dr2-products/dr2-schema). \n",
    "\n",
    "\n",
    "|Coluna | Significado |\n",
    "|---|---|\n",
    "|COADD_OBJECT_ID | Unique identifier for the coadded objects|\n",
    "|RA | Right ascension, with quantized precision for indexing (ALPHAWIN_J2000 has full precision but not indexed) [degrees]|\n",
    "|DEC | Declination, with quantized precision for indexing (DELTAWIN_J2000 has full precision but not indexed) [degrees] |\n",
    "|EXTENDED_CLASS_COADD |0: high confidence stars; 1: candidate stars; 2: mostly galaxies; 3: high confidence galaxies; -9: No data; Using Sextractor photometry |\n",
    "|FLAGS_{G,R,I,Z,Y}| Additive flag describing cautionary advice about source extraction process. Use less than 4 for well behaved objects |\n",
    "|MAG_AUTO_{G,R,I,Z,Y} | Magnitude estimation, for an elliptical model based on the Kron radius [mag] |\n",
    "|MAG_AUTO_{G,R,I,Z,Y}_DERED | Dereddened magnitude estimation (using SFD98), for an elliptical model based on the Kron radius [mag]|\n",
    "\n",
    "\n"
   ]
  },
  {
   "cell_type": "markdown",
   "metadata": {},
   "source": [
    "Para fazer uma busca pelas coordenadas no banco, precisamos converter as unidades para graus:"
   ]
  },
  {
   "cell_type": "code",
   "execution_count": null,
   "metadata": {},
   "outputs": [],
   "source": [
    "c = SkyCoord('01h00m09.3s', '−33d42m33s', frame='icrs')\n",
    "c  "
   ]
  },
  {
   "cell_type": "code",
   "execution_count": null,
   "metadata": {},
   "outputs": [],
   "source": [
    "print(f\"R.A.: {c.ra.deg:.1f} degrees\")\n",
    "print(f\"Dec.: {c.dec.deg:.1f} degrees\")"
   ]
  },
  {
   "cell_type": "markdown",
   "metadata": {},
   "source": [
    "Os dois exemplos abaixos mostram a consulta das magnitudes nas bandas _g, r, i_ corrigidas do avermelhamento (sufixo _dered_) e seus respectivos erros, para uma seleção de objetos classificados como estrelas (`extended_class_coadd < 2`)."
   ]
  },
  {
   "cell_type": "markdown",
   "metadata": {},
   "source": [
    "**Exemplo 1: seleção de uma região \"retangular\"**\n",
    "\n",
    "Para selecionar qualquer amostra com base nas coordenadas de posição, recomenda-se utilizar as funções da biblioteca [Q3C](https://github.com/segasai/q3c) ([Koposov, S., & Bartunov, O. 2006](http://adsabs.harvard.edu/abs/2006ASPC..351..735K)) para tirar vantagem da indexação das colunas. Uma busca por uma região no céu definida por faixas de coordenadas resultaria em uma varredura em todos os ~700 milhões de objetos, o que pode levar um tempo considerável.   \n",
    "\n",
    "\n",
    "Para consultar objetos dentro de uma região contida em um polígono, basta informar os vértices do polígono pra a função `q3c_poly_query()`. A documentação das funções está disponível no [repositório do Q3C](https://github.com/segasai/q3c).  "
   ]
  },
  {
   "cell_type": "markdown",
   "metadata": {},
   "source": [
    "Vamos selecionar as magnitudes de uma amostra de estrelas em uma região \"quadrada\" (na esfera celeste) de lado igual a 1 grau, ou seja, com uma margem de 0.5 graus em torno da posição do nosso alvo. \n",
    "\n",
    "**Vértices (ra, dec)**: (14.5, -34.2), (15.5, -34.2), (15.5, -33.2), (14.5, -33.2)\n",
    "\n",
    "A query ficaria assim (o uso de letras maiúsculas é opcional):  \n",
    "\n",
    "```sql \n",
    "SELECT coadd_object_id, ra ,dec, flags_g, mag_auto_g_dered, mag_auto_r_dered, \n",
    "        mag_auto_i_dered, magerr_auto_g, magerr_auto_r, magerr_auto_i \n",
    "FROM des_dr2.coadd_objects \n",
    "WHERE q3c_poly_query(ra, dec, ARRAY[14.5, -34.2, 15.5, -34.2, 15.5, -33.2, 14.5, -33.2])\n",
    "AND extended_class_coadd < 2 \n",
    "````"
   ]
  },
  {
   "cell_type": "code",
   "execution_count": null,
   "metadata": {},
   "outputs": [],
   "source": [
    "query_1 = \"SELECT coadd_object_id, ra ,dec, flags_g, mag_auto_g_dered, mag_auto_r_dered, mag_auto_i_dered, magerr_auto_g, magerr_auto_r, magerr_auto_i FROM des_dr2.coadd_objects WHERE q3c_poly_query(ra, dec, ARRAY[14.5, -34.2, 15.5, -34.2, 15.5, -33.2, 14.5, -33.2]) AND extended_class_coadd < 2 \"        \n",
    "query_1 "
   ]
  },
  {
   "cell_type": "code",
   "execution_count": null,
   "metadata": {},
   "outputs": [],
   "source": [
    "%%time\n",
    "dados_exemplo_1 = db.fetchall_df(query_1)"
   ]
  },
  {
   "cell_type": "code",
   "execution_count": null,
   "metadata": {},
   "outputs": [],
   "source": [
    "dados_exemplo_1.head()"
   ]
  },
  {
   "cell_type": "markdown",
   "metadata": {},
   "source": [
    "**Exemplo 2: seleção de uma região  circular com Q3C**  \n",
    "\n",
    "Para selecionar uma região circular, basta informar as coordenadas do centro da seleção e um raio (em graus) nos argumentos da função `q3c_radial_query()`. Para um diâmetro de 1 grau, a query ficaria assim:\n",
    "    \n",
    "```sql\n",
    "SELECT coadd_object_id, ra ,dec, flags_g, mag_auto_g_dered, mag_auto_r_dered, \n",
    "        mag_auto_i_dered, magerr_auto_g, magerr_auto_r, magerr_auto_i, \n",
    "FROM des_dr2.coadd_objects \n",
    "WHERE q3c_radial_query(ra, dec, 15.0, -33.7, 0.5)\n",
    "AND extended_class_coadd < 2 \n",
    "````"
   ]
  },
  {
   "cell_type": "code",
   "execution_count": null,
   "metadata": {},
   "outputs": [],
   "source": [
    "query_2 = \"SELECT coadd_object_id, ra ,dec, flags_g, mag_auto_g_dered, mag_auto_r_dered, mag_auto_i_dered, magerr_auto_g, magerr_auto_r, magerr_auto_i FROM des_dr2.coadd_objects WHERE q3c_radial_query(ra, dec, 15.0, -33.7, 0.5) AND extended_class_coadd < 2 \"\n",
    "query_2    "
   ]
  },
  {
   "cell_type": "code",
   "execution_count": null,
   "metadata": {},
   "outputs": [],
   "source": [
    "%%time\n",
    "dados_exemplo_2 = db.fetchall_df(query_2)"
   ]
  },
  {
   "cell_type": "code",
   "execution_count": null,
   "metadata": {},
   "outputs": [],
   "source": [
    "dados_exemplo_2.head()"
   ]
  },
  {
   "cell_type": "markdown",
   "metadata": {},
   "source": [
    "**Exemplos de gráficos estáticos básicos com a biblioteca Matplotlib**\n",
    "\n",
    "Documentação da biblioteca: [matplotlib.org](https://matplotlib.org/)\n",
    "\n",
    "Dicas: [cheatsheets](https://github.com/matplotlib/cheatsheets#cheatsheets)"
   ]
  },
  {
   "cell_type": "markdown",
   "metadata": {},
   "source": [
    "Distribuição espacial:"
   ]
  },
  {
   "cell_type": "code",
   "execution_count": null,
   "metadata": {},
   "outputs": [],
   "source": [
    "%%time\n",
    "plt.figure(figsize=[10,5], dpi=300)\n",
    "plt.suptitle(\"Stars from DES DR2\", fontsize=14)\n",
    "plt.subplot(1,2,1)\n",
    "plt.plot(dados_exemplo_1.ra, dados_exemplo_1.dec, 'k.', alpha=0.1)\n",
    "plt.xlabel(\"R.A. (deg)\", fontsize=14)\n",
    "plt.ylabel(\"Dec. (deg)\", fontsize=14)\n",
    "plt.xticks(fontsize=12)\n",
    "plt.yticks(fontsize=12)\n",
    "plt.subplot(1,2,2)\n",
    "plt.plot(dados_exemplo_2.ra, dados_exemplo_2.dec, 'k.', alpha=0.1)\n",
    "plt.xlabel(\"R.A. (deg)\", fontsize=14)\n",
    "plt.ylabel(\"Dec. (deg)\", fontsize=14)\n",
    "plt.xticks(fontsize=12)\n",
    "plt.yticks(fontsize=12)\n",
    "plt.tight_layout()"
   ]
  },
  {
   "cell_type": "markdown",
   "metadata": {},
   "source": [
    "Mapa de densidade:"
   ]
  },
  {
   "cell_type": "code",
   "execution_count": null,
   "metadata": {},
   "outputs": [],
   "source": [
    "%%time\n",
    "plt.figure(figsize=[12,5], dpi=300)\n",
    "plt.suptitle(\"Stars from DES DR2\", fontsize=14)\n",
    "plt.subplot(1,2,1)\n",
    "plt.hist2d(dados_exemplo_1.ra, dados_exemplo_1.dec, bins=50)\n",
    "plt.xlabel(\"R.A. (deg)\", fontsize=14)\n",
    "plt.ylabel(\"Dec. (deg)\", fontsize=14)\n",
    "plt.colorbar(label=\"density of points\")\n",
    "plt.xticks(fontsize=12)\n",
    "plt.yticks(fontsize=12)\n",
    "plt.subplot(1,2,2)\n",
    "plt.hist2d(dados_exemplo_2.ra, dados_exemplo_2.dec, bins=50)\n",
    "plt.xlabel(\"R.A. (deg)\", fontsize=14)\n",
    "plt.ylabel(\"Dec. (deg)\", fontsize=14)\n",
    "plt.colorbar(label=\"density of points\")\n",
    "plt.xticks(fontsize=12)\n",
    "plt.yticks(fontsize=12)\n",
    "plt.tight_layout()"
   ]
  },
  {
   "cell_type": "markdown",
   "metadata": {},
   "source": [
    "*** "
   ]
  },
  {
   "cell_type": "markdown",
   "metadata": {},
   "source": [
    "Para o gráfico do CMD, vamos utilizar apenas o exemplo 2. "
   ]
  },
  {
   "cell_type": "code",
   "execution_count": null,
   "metadata": {},
   "outputs": [],
   "source": [
    "dados = dados_exemplo_2\n",
    "del dados_exemplo_1   # limpando da memória os dataframes\n",
    "del dados_exemplo_2   # que não vamos mais utilizar "
   ]
  },
  {
   "cell_type": "markdown",
   "metadata": {},
   "source": [
    "Por conveniência, podemos alterar os nomes de algumas colunas. "
   ]
  },
  {
   "cell_type": "code",
   "execution_count": null,
   "metadata": {},
   "outputs": [],
   "source": [
    "new_columns = {\"coadd_object_id\": \"object_id\",\n",
    "               \"mag_auto_g_dered\": \"mag_g\",\n",
    "               \"mag_auto_r_dered\": \"mag_r\",\n",
    "               \"mag_auto_i_dered\": \"mag_i\",\n",
    "               \"magerr_auto_g\": \"err_g\", \n",
    "               \"magerr_auto_r\": \"err_r\", \n",
    "               \"magerr_auto_i\": \"err_i\"}\n",
    "\n",
    "dados.rename(columns=new_columns, inplace=True)"
   ]
  },
  {
   "cell_type": "code",
   "execution_count": null,
   "metadata": {},
   "outputs": [],
   "source": [
    "dados.info()"
   ]
  },
  {
   "cell_type": "code",
   "execution_count": null,
   "metadata": {},
   "outputs": [],
   "source": [
    "dados.head()"
   ]
  },
  {
   "cell_type": "markdown",
   "metadata": {},
   "source": [
    "Cálculo da cor _g-r_ (nova coluna no _dataframe_ **dados**). "
   ]
  },
  {
   "cell_type": "code",
   "execution_count": null,
   "metadata": {},
   "outputs": [],
   "source": [
    "dados[\"gmr\"] = dados.mag_g - dados.mag_r"
   ]
  },
  {
   "cell_type": "code",
   "execution_count": null,
   "metadata": {},
   "outputs": [],
   "source": [
    "dados.head()"
   ]
  },
  {
   "cell_type": "markdown",
   "metadata": {},
   "source": [
    "Limpeza da amostra: vamos selecionar apenas estrelas com fotometria de boa qualidade na banda _g_ (`flags_g < 4`) e com medidas bem sucedidas nas magnitudes ($mag \\neq 99.$) . "
   ]
  },
  {
   "cell_type": "code",
   "execution_count": null,
   "metadata": {},
   "outputs": [],
   "source": [
    "dados.query(\"flags_g < 4  & mag_g != 99. & mag_r != 99. & mag_i != 99. \", inplace=True)"
   ]
  },
  {
   "cell_type": "code",
   "execution_count": null,
   "metadata": {},
   "outputs": [],
   "source": [
    "dados.count()"
   ]
  },
  {
   "cell_type": "code",
   "execution_count": null,
   "metadata": {},
   "outputs": [],
   "source": [
    "dados.describe()"
   ]
  },
  {
   "cell_type": "markdown",
   "metadata": {},
   "source": [
    "**CMD - Stars from DES DR2**"
   ]
  },
  {
   "cell_type": "code",
   "execution_count": null,
   "metadata": {},
   "outputs": [],
   "source": [
    "plt.figure(figsize=[7,5])\n",
    "plt.title(\"CMD - Stars from DES DR2\", fontsize=14)\n",
    "plt.hexbin(dados.gmr, dados.mag_r, gridsize=500, bins='log')\n",
    "plt.xlabel(\"$g - r$\", fontsize=14)\n",
    "plt.ylabel(\"$g$\", fontsize=14)\n",
    "plt.colorbar(label=\"density of points\")\n",
    "plt.xticks(fontsize=12)\n",
    "plt.yticks(fontsize=12)\n",
    "plt.xlim(-1.5,2.5)\n",
    "plt.ylim(24,16)\n",
    "plt.tight_layout()"
   ]
  },
  {
   "cell_type": "markdown",
   "metadata": {
    "tags": []
   },
   "source": [
    "### 3.3 Conexão com o Science Server via API "
   ]
  },
  {
   "cell_type": "markdown",
   "metadata": {},
   "source": [
    "<font color=\"red\" > Em breve! </font>"
   ]
  },
  {
   "cell_type": "code",
   "execution_count": null,
   "metadata": {},
   "outputs": [],
   "source": []
  }
 ],
 "metadata": {
  "kernelspec": {
   "display_name": "Python 3 (ipykernel)",
   "language": "python",
   "name": "python3"
  },
  "language_info": {
   "codemirror_mode": {
    "name": "ipython",
    "version": 3
   },
   "file_extension": ".py",
   "mimetype": "text/x-python",
   "name": "python",
   "nbconvert_exporter": "python",
   "pygments_lexer": "ipython3",
   "version": "3.9.12"
  }
 },
 "nbformat": 4,
 "nbformat_minor": 4
}
