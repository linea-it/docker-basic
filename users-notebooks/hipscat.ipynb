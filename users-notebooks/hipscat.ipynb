{
 "cells": [
  {
   "cell_type": "markdown",
   "id": "3f154a7e-9526-4465-8d50-47923bce6faf",
   "metadata": {},
   "source": [
    "<img align='left' src = https://linea.org.br/wp-content/themes/LIneA/imagens/logo-header.jpg width=150 style='padding: 20px'> \n",
    "\n",
    "## Tutorial: particionamento de dados com Hipscat  \n",
    "\n",
    "Passo-a-passo para conversão de catálogos astronômicos para o formato Hipscat. \n",
    "\n",
    "Contato: Julia Gschwend ([julia@linea.org.br](mailto:julia@linea.org.br))\n",
    "<br>\n",
    "Última verificação: 15/01/2024\n",
    "<br>\n"
   ]
  },
  {
   "cell_type": "markdown",
   "id": "190c2368-84f4-4154-b46c-1776a6117208",
   "metadata": {},
   "source": [
    "\n",
    "#### Acknowledgements\n",
    "\n",
    "<font color='red'> texto pedindo citação - ver modelo no jupyterhub do dirac/lincc </font>\n",
    "\n",
    "'_Esta pesquisa utilizou recursos computacionais da Associação Laboratório Interinstitucional de e-Astronomia (LIneA) com o apoio financeiro do INCT do e-Universo (Processo n.º 465376/2014-2)._' \n",
    "\n",
    "LIneA\n",
    "\n",
    "LINCC Frameworks \n"
   ]
  },
  {
   "cell_type": "markdown",
   "id": "65282a50-b754-4200-b2b9-5cb2a5af9ee8",
   "metadata": {},
   "source": [
    "### Introdução\n",
    "\n",
    "<font color='red'> conceito healpix </font>\n",
    "\n",
    "<font color='red'> conceito hipscat </font>\n",
    "\n",
    "<font color='red'> conceito x-match espacial </font>\n",
    "\n",
    "<font color='red'> desafios técnicos, escalabilidade, objetos nas bordas, etc </font>\n",
    "\n"
   ]
  },
  {
   "cell_type": "markdown",
   "id": "a91cf677-0c33-4063-a9e3-02115a447cf0",
   "metadata": {},
   "source": [
    "### Caracterização da amostra de exemplo "
   ]
  },
  {
   "cell_type": "markdown",
   "id": "dcf2f448-1094-499b-bbff-599fcf7b4f0e",
   "metadata": {},
   "source": [
    "Amostra pública de resdhifts espectroscópico\n",
    "\n",
    "82M     public_specz_compilation.pq \n",
    "\n",
    "\n"
   ]
  },
  {
   "cell_type": "code",
   "execution_count": null,
   "id": "a2ccab8e-9c79-4e79-b9e7-7283e7096eb7",
   "metadata": {
    "tags": []
   },
   "outputs": [],
   "source": [
    "from pzserver import PzServer \n",
    "import matplotlib.pyplot as plt\n",
    "%reload_ext autoreload \n",
    "%autoreload 2"
   ]
  },
  {
   "cell_type": "code",
   "execution_count": null,
   "id": "ce092f1f-b76b-49eb-a983-dbfaf56eda04",
   "metadata": {
    "tags": []
   },
   "outputs": [],
   "source": [
    "with open('/home/julia/hipscat_data/token.txt', 'r') as file:\n",
    "    token = file.read().rstrip()"
   ]
  },
  {
   "cell_type": "code",
   "execution_count": null,
   "id": "894d1f30-98ff-43d4-b5ee-f93ec04ea241",
   "metadata": {
    "tags": []
   },
   "outputs": [],
   "source": [
    "pz_server = PzServer(token=token, host=\"pz-dev\") "
   ]
  },
  {
   "cell_type": "code",
   "execution_count": null,
   "id": "9873d7be-a198-455b-a5ea-775f6a391936",
   "metadata": {
    "tags": []
   },
   "outputs": [],
   "source": [
    "specz = pz_server.get_product('26_public_specz_compilation')"
   ]
  },
  {
   "cell_type": "code",
   "execution_count": null,
   "id": "0efc64ac-4ce1-4120-8645-7e30d14fbb06",
   "metadata": {
    "tags": []
   },
   "outputs": [],
   "source": [
    "specz.display_metadata()"
   ]
  },
  {
   "cell_type": "code",
   "execution_count": null,
   "id": "a34f1a14-ef6a-43c0-9f42-879ee303fde1",
   "metadata": {
    "tags": []
   },
   "outputs": [],
   "source": [
    "specz.data.describe()"
   ]
  },
  {
   "cell_type": "code",
   "execution_count": null,
   "id": "4265d507-f902-43ad-b60e-e17cc8bdd702",
   "metadata": {
    "tags": []
   },
   "outputs": [],
   "source": [
    "specz.plot()"
   ]
  },
  {
   "cell_type": "code",
   "execution_count": null,
   "id": "a068a3a4-bd74-4d7f-bf3a-9430bee8bf94",
   "metadata": {},
   "outputs": [],
   "source": []
  },
  {
   "cell_type": "markdown",
   "id": "71b4bbfc-48aa-4bde-9236-0a5f1efa0e77",
   "metadata": {},
   "source": [
    "<font color='red'> TBD: mapa de densidade de objetos com bokeh/datashader <font/>"
   ]
  },
  {
   "cell_type": "markdown",
   "id": "957eb56c-2f76-42bc-92c2-f32ce2c54425",
   "metadata": {},
   "source": [
    "Reescrever o arquivo original, com ObjectID fictício (inteiro sequencial)"
   ]
  },
  {
   "cell_type": "code",
   "execution_count": null,
   "id": "7ad28838-f599-4056-86f3-5c0303e4c9fe",
   "metadata": {
    "tags": []
   },
   "outputs": [],
   "source": [
    "type(specz.data)"
   ]
  },
  {
   "cell_type": "code",
   "execution_count": null,
   "id": "0e99c124-9742-45f7-9e21-dc811f3e73fe",
   "metadata": {
    "tags": []
   },
   "outputs": [],
   "source": [
    "df_reset = specz.data.reset_index()\n",
    "df_reset"
   ]
  },
  {
   "cell_type": "code",
   "execution_count": null,
   "id": "a9a8f8f5-4adc-42b5-8a91-7ac03d3189b4",
   "metadata": {
    "tags": []
   },
   "outputs": [],
   "source": [
    "df_reset.to_parquet('/home/julia/hipscat_data/specz.pq', index=False)"
   ]
  },
  {
   "cell_type": "code",
   "execution_count": null,
   "id": "fd23d464-5483-4582-8362-2eca730e7ae8",
   "metadata": {
    "tags": []
   },
   "outputs": [],
   "source": [
    "df_reset.to_csv('/home/julia/hipscat_data/specz.csv', index=False)"
   ]
  },
  {
   "cell_type": "code",
   "execution_count": null,
   "id": "f122fcb0-3fdf-4296-a6b6-d901640fe93b",
   "metadata": {},
   "outputs": [],
   "source": []
  },
  {
   "cell_type": "code",
   "execution_count": null,
   "id": "bbd805ec-dd7b-44f4-9dda-5f6c33e35200",
   "metadata": {},
   "outputs": [],
   "source": []
  },
  {
   "cell_type": "code",
   "execution_count": null,
   "id": "4e8c3515-4f36-4d47-aa0f-ba0c61402190",
   "metadata": {},
   "outputs": [],
   "source": []
  },
  {
   "cell_type": "code",
   "execution_count": null,
   "id": "e9db7adf-e421-425d-a55d-87c440daafde",
   "metadata": {},
   "outputs": [],
   "source": []
  },
  {
   "cell_type": "code",
   "execution_count": null,
   "id": "f0c344f6-555d-410f-b663-49e535f5178f",
   "metadata": {},
   "outputs": [],
   "source": []
  },
  {
   "cell_type": "markdown",
   "id": "e47b17f2-096e-4ec1-bd7b-18b3a588e9bd",
   "metadata": {},
   "source": [
    "### Instalação do `hipscat_import` \n",
    "\n",
    "```shell\n",
    "pip install hipscat-import\n",
    "\n",
    "```\n",
    "\n",
    "\n"
   ]
  },
  {
   "cell_type": "code",
   "execution_count": null,
   "id": "ac883b74-d9c0-4263-bcf7-99be09d9fa37",
   "metadata": {},
   "outputs": [],
   "source": []
  },
  {
   "cell_type": "code",
   "execution_count": null,
   "id": "b3017709-0e86-4285-be5c-572806a8d60e",
   "metadata": {},
   "outputs": [],
   "source": []
  },
  {
   "cell_type": "markdown",
   "id": "42c6f0a2-c8ab-4a56-a76d-4aa12f1c58e7",
   "metadata": {
    "tags": []
   },
   "source": [
    "### Execução - conversão dos arquivos para formato Hipscat"
   ]
  },
  {
   "cell_type": "markdown",
   "id": "88b162c4-e77a-47b5-b0c6-8b64a9663141",
   "metadata": {},
   "source": [
    "https://hipscat-import.readthedocs.io/en/latest/catalogs/public/allwise.html\n",
    "\n",
    "\n",
    "``` \n",
    "wget -x http://irsa.ipac.caltech.edu/data/download/wise-allwise/README.txt\n",
    "wget -x http://irsa.ipac.caltech.edu/data/download/wise-allwise/wise-allwise-cat.bz2.sizes.txt\n",
    "wget -x http://irsa.ipac.caltech.edu/data/download/wise-allwise/wise-allwise-cat.bz2.md5.txt\n",
    "wget -x http://irsa.ipac.caltech.edu/data/download/wise-allwise/wise-allwise-cat-part01.bz2\n",
    "wget -x http://irsa.ipac.caltech.edu/data/download/wise-allwise/wise-allwise-cat-part02.bz2\n",
    "wget -x http://irsa.ipac.caltech.edu/data/download/wise-allwise/wise-allwise-cat-part03.bz2 \n",
    "``` "
   ]
  },
  {
   "cell_type": "code",
   "execution_count": null,
   "id": "486434d0-db46-4819-ae83-2c9de3bf76b3",
   "metadata": {
    "tags": []
   },
   "outputs": [],
   "source": [
    "import pandas as pd\n",
    "\n",
    "import hipscat_import.pipeline as runner\n",
    "from hipscat_import.catalog.arguments import ImportArguments\n",
    "from hipscat_import.catalog.file_readers import CsvReader"
   ]
  },
  {
   "cell_type": "code",
   "execution_count": null,
   "id": "64d637c3-9755-47df-8fdc-1ab8a2155f06",
   "metadata": {
    "tags": []
   },
   "outputs": [],
   "source": [
    "# Load the column names and types from a side file.\n",
    "type_frame = pd.read_csv(\"/home/julia/hipscat_data/pzserver/specz_types.csv\")\n",
    "type_map = dict(zip(type_frame[\"name\"], type_frame[\"type\"]))"
   ]
  },
  {
   "cell_type": "code",
   "execution_count": null,
   "id": "75a684e8-18bb-4f01-93d6-a08a578fa53d",
   "metadata": {
    "tags": []
   },
   "outputs": [],
   "source": [
    "type_map"
   ]
  },
  {
   "cell_type": "code",
   "execution_count": null,
   "id": "3b8ad2ee-8949-4012-8b97-8c7c32abc596",
   "metadata": {},
   "outputs": [],
   "source": []
  },
  {
   "cell_type": "code",
   "execution_count": null,
   "id": "c9b85947-6cf5-49e4-9e12-6974ede153ca",
   "metadata": {},
   "outputs": [],
   "source": []
  },
  {
   "cell_type": "code",
   "execution_count": null,
   "id": "1068816b-fd7c-4b16-875e-44bd3ee578a1",
   "metadata": {},
   "outputs": [],
   "source": []
  },
  {
   "cell_type": "markdown",
   "id": "195137a9-7e6d-49ee-a2a9-2b01ce47dc72",
   "metadata": {},
   "source": [
    "### Catalog Import Arguments"
   ]
  },
  {
   "cell_type": "code",
   "execution_count": null,
   "id": "85754b5c-5905-4a3a-a671-573238eeb4fe",
   "metadata": {},
   "outputs": [],
   "source": [
    "\n",
    "# args = ImportArguments(\n",
    "#     output_artifact_name=\"allwise\",\n",
    "#     input_path=\"/path/to/allwise/\",\n",
    "#     input_format=\"csv.bz2\",\n",
    "#     file_reader=CsvReader(\n",
    "#         header=None,\n",
    "#         separator=\"|\",\n",
    "#         column_names=type_frame[\"name\"].values.tolist(),\n",
    "#         type_map=type_map,\n",
    "#         chunksize=250_000,\n",
    "#     ),\n",
    "#     use_schema_file=\"allwise_schema.parquet\",\n",
    "#     ra_column=\"ra\",\n",
    "#     dec_column=\"dec\",\n",
    "#     sort_columns=\"source_id\",\n",
    "#     pixel_threshold=1_000_000,\n",
    "#     highest_healpix_order=7,\n",
    "#     output_path=\"/path/to/catalogs/\",\n",
    "# )\n",
    "# runner.pipeline(args)"
   ]
  },
  {
   "cell_type": "code",
   "execution_count": null,
   "id": "25b3c442-5ed0-4887-b509-716f8ff627f6",
   "metadata": {},
   "outputs": [],
   "source": [
    "args = ImportArguments(\n",
    "    sort_columns=\"index\",\n",
    "    ra_column=\"ra\",\n",
    "    dec_column=\"dec\",\n",
    "    input_path=\"/home/julia/hipscat_data/pzserver/input\",\n",
    "    input_format=\"csv\",\n",
    "    output_artifact_name=\"test_cat_specz\",\n",
    "    output_path=\"/home/julia/hipscat_data/pzserver/output\",\n",
    ")"
   ]
  },
  {
   "cell_type": "code",
   "execution_count": null,
   "id": "7c133896-13d7-4721-bc9f-756af9e2e3cb",
   "metadata": {
    "tags": []
   },
   "outputs": [],
   "source": [
    "runner.pipeline(args)"
   ]
  },
  {
   "cell_type": "markdown",
   "id": "d238ecc0-dd16-4076-b433-a412931f4b79",
   "metadata": {},
   "source": [
    "### Análise dos resultados \n",
    "\n",
    "visualização dos dados em formato hipscat (ex: mapa de densidade de pixels)"
   ]
  },
  {
   "cell_type": "code",
   "execution_count": null,
   "id": "212e7f4e-8591-4068-b270-751bcb666191",
   "metadata": {},
   "outputs": [],
   "source": []
  },
  {
   "cell_type": "markdown",
   "id": "32d9b7b6-be67-453e-a817-35828230172a",
   "metadata": {},
   "source": [
    "### Instação do LSDB\n"
   ]
  },
  {
   "cell_type": "code",
   "execution_count": null,
   "id": "f40c4080-dc75-4b0e-bdd8-f96eca55c7f0",
   "metadata": {},
   "outputs": [],
   "source": []
  },
  {
   "cell_type": "code",
   "execution_count": null,
   "id": "f85e0741-d78c-464a-b461-cf2c8e96202a",
   "metadata": {},
   "outputs": [],
   "source": []
  },
  {
   "cell_type": "code",
   "execution_count": null,
   "id": "a9d04d15-7910-481c-bb47-73cf9a11d957",
   "metadata": {},
   "outputs": [],
   "source": []
  },
  {
   "cell_type": "markdown",
   "id": "c8db5508-3e83-4289-95f1-94ea13ede27a",
   "metadata": {
    "tags": []
   },
   "source": [
    "### X-matching usando o LSDB"
   ]
  },
  {
   "cell_type": "code",
   "execution_count": null,
   "id": "750a2ea9-06cb-4d9d-81d1-e323089b0f9b",
   "metadata": {},
   "outputs": [],
   "source": []
  },
  {
   "cell_type": "code",
   "execution_count": null,
   "id": "1faa19f0-88de-47b6-90bd-8b567df5d09f",
   "metadata": {},
   "outputs": [],
   "source": []
  },
  {
   "cell_type": "markdown",
   "id": "06cd92ec-e3d3-4bdc-8b1f-865770361b03",
   "metadata": {},
   "source": [
    "### Análise dos resultados do X-matching"
   ]
  },
  {
   "cell_type": "code",
   "execution_count": null,
   "id": "085a0960-242f-48d2-a380-39acd2b43f7b",
   "metadata": {},
   "outputs": [],
   "source": []
  },
  {
   "cell_type": "code",
   "execution_count": null,
   "id": "caf76f37-172f-4b36-861f-73137837fe10",
   "metadata": {},
   "outputs": [],
   "source": []
  }
 ],
 "metadata": {
  "kernelspec": {
   "display_name": "hipscat",
   "language": "python",
   "name": "hipscat"
  },
  "language_info": {
   "codemirror_mode": {
    "name": "ipython",
    "version": 3
   },
   "file_extension": ".py",
   "mimetype": "text/x-python",
   "name": "python",
   "nbconvert_exporter": "python",
   "pygments_lexer": "ipython3",
   "version": "3.10.13"
  }
 },
 "nbformat": 4,
 "nbformat_minor": 5
}
