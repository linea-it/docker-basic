{
 "cells": [
  {
   "cell_type": "markdown",
   "id": "3f154a7e-9526-4465-8d50-47923bce6faf",
   "metadata": {},
   "source": [
    "<img align='left' src = https://linea.org.br/wp-content/themes/LIneA/imagens/logo-header.jpg width=150 style='padding: 20px'> \n",
    "\n",
    "# Tutorial: particionamento de dados com Hipscat  \n",
    "\n",
    "Passo-a-passo para conversão de catálogos astronômicos para o formato Hipscat. \n",
    "\n",
    "Contato 1: Julia Gschwend ([julia@linea.org.br](mailto:julia@linea.org.br))\n",
    "\n",
    "Contato 2: Luigi Silva ([luigi.silva@linea.org.br](mailto:luigi.silva@linea.org.br))\n",
    "<br>\n",
    "Última verificação: 09/05/2024\n",
    "<br>\n"
   ]
  },
  {
   "cell_type": "markdown",
   "id": "190c2368-84f4-4154-b46c-1776a6117208",
   "metadata": {},
   "source": [
    "\n",
    "#### Acknowledgements\n",
    "\n",
    "<font color='red'> texto pedindo citação - ver modelo no jupyterhub do dirac/lincc </font>\n",
    "\n",
    "'_Esta pesquisa utilizou recursos computacionais da Associação Laboratório Interinstitucional de e-Astronomia (LIneA) com o apoio financeiro do INCT do e-Universo (Processo n.º 465376/2014-2)._' \n",
    "\n",
    "LIneA\n",
    "\n",
    "LINCC Frameworks \n"
   ]
  },
  {
   "cell_type": "markdown",
   "id": "65282a50-b754-4200-b2b9-5cb2a5af9ee8",
   "metadata": {},
   "source": [
    "# Introdução\n",
    "\n",
    "<font color='red'> conceito healpix </font>\n",
    "\n",
    "<font color='red'> conceito hipscat </font>\n",
    "\n",
    "<font color='red'> conceito x-match espacial </font>\n",
    "\n",
    "<font color='red'> desafios técnicos, escalabilidade, objetos nas bordas, etc </font>\n",
    "\n"
   ]
  },
  {
   "cell_type": "markdown",
   "id": "8b0908f6-6218-4766-adf0-c100b6a9a5c8",
   "metadata": {
    "toc-hr-collapsed": true
   },
   "source": [
    "# Importação das bibliotecas e configurações"
   ]
  },
  {
   "cell_type": "markdown",
   "id": "6d42bc34-1373-4c25-bd2b-734b80f5f73c",
   "metadata": {},
   "source": [
    "Requisitos para este notebook:\n",
    "\n",
    "* **Bibliotecas essenciais**: hipscat, hipscat_import, lsdb.\n",
    "* **Bibliotecas gerais**: numpy, tables_io, astropy. \n",
    "* **Bibliotecas de visualização**: bokeh, holoviews, geoviews, datashader, matplotlib.\n",
    "* **Bibliotecas de manipulação de dados**: pandas, geopandas.\n",
    "* **Bibliotecas para a obtenção de dados**: pzserver, dblinea.\n",
    "* **Arquivo auxiliar**: [des-round19-poly.txt](https://github.com/kadrlica/skymap/blob/master/skymap/data/des-round19-poly.txt) (contorno da área coberta pelo levantamento do DES DR2, i.e., DES _footprint_, 2019 version).\n",
    "\n",
    "Faça o download do arquivo `des-round19-poly.txt` do repositório [kadrlica/skymap](https://github.com/kadrlica/skymap) no GitHub:"
   ]
  },
  {
   "cell_type": "code",
   "execution_count": null,
   "id": "b46ccca9-139f-47a1-84a9-c7caf910f5cb",
   "metadata": {
    "tags": []
   },
   "outputs": [],
   "source": [
    "#! wget https://raw.githubusercontent.com/kadrlica/skymap/master/skymap/data/des-round19-poly.txt -O des-round19-poly.txt "
   ]
  },
  {
   "cell_type": "markdown",
   "id": "540e9438-33b4-42a1-9b15-061bdef00b80",
   "metadata": {},
   "source": [
    "## Importações"
   ]
  },
  {
   "cell_type": "code",
   "execution_count": null,
   "id": "eb1fa300-e209-48ac-af19-471d0d736fe8",
   "metadata": {},
   "outputs": [],
   "source": [
    "### GERAL\n",
    "import os\n",
    "import numpy as np\n",
    "import pandas as pd\n",
    "import geopandas as gpd\n",
    "import time\n",
    "\n",
    "import matplotlib.pyplot as plt\n",
    "import tables_io\n",
    "import psutil\n",
    "import sys\n",
    "import math\n",
    "\n",
    "from shapely.geometry import Polygon\n",
    "\n",
    "### ASTROPY\n",
    "from astropy.coordinates import SkyCoord\n",
    "from astropy import units as u\n",
    "\n",
    "# BOKEH\n",
    "import bokeh\n",
    "from bokeh.io import output_notebook, show, output_file, reset_output\n",
    "from bokeh.models import ColumnDataSource, Range1d, HoverTool, CustomJSHover\n",
    "from bokeh.models import CDSView, GroupFilter\n",
    "from bokeh.plotting import figure, gridplot\n",
    "from bokeh.transform import factor_cmap\n",
    "\n",
    "# HOLOVIEWS\n",
    "import holoviews as hv\n",
    "from holoviews import streams, opts\n",
    "from holoviews.operation import histogram\n",
    "from holoviews.operation.datashader import datashade, rasterize, shade, dynspread, spread\n",
    "from holoviews.plotting.util import process_cmap\n",
    "\n",
    "# GEOVIEWS\n",
    "import geoviews as gv\n",
    "import geoviews.feature as gf\n",
    "from cartopy import crs\n",
    "\n",
    "### HIPSCAT\n",
    "import hipscat_import.pipeline as runner\n",
    "from hipscat_import.catalog.arguments import ImportArguments\n",
    "from hipscat_import.catalog.file_readers import CsvReader\n",
    "\n",
    "### PZ SERVER\n",
    "from pzserver import PzServer \n",
    "\n",
    "# DATASHADER\n",
    "import datashader as dsh\n",
    "\n",
    "# DB LIneA\n",
    "from dblinea import DBBase"
   ]
  },
  {
   "cell_type": "markdown",
   "id": "2ea42d57-bf5b-4020-99dd-731e8a283720",
   "metadata": {},
   "source": [
    "Imprimindo as versões do Python, Numpy, Bokeh e Holoviews:"
   ]
  },
  {
   "cell_type": "code",
   "execution_count": null,
   "id": "a54659e8-f465-4b22-bbcd-56f681ddaa74",
   "metadata": {},
   "outputs": [],
   "source": [
    "print('Python version: ' + sys.version)\n",
    "print('Bokeh version: ' + bokeh.__version__)\n",
    "print('HoloViews version: ' + hv.__version__)\n",
    "print(\"Datashader version: \" + dsh.__version__)"
   ]
  },
  {
   "cell_type": "markdown",
   "id": "8317adad-9d3d-4a8a-a04b-09f6bb55de42",
   "metadata": {},
   "source": [
    "## Configurações"
   ]
  },
  {
   "cell_type": "markdown",
   "id": "e962c49a-af88-4ba1-8050-6935b3197bcd",
   "metadata": {},
   "source": [
    "### Configurações das bibliotecas"
   ]
  },
  {
   "cell_type": "markdown",
   "id": "77dc5f1b-7c6b-4065-bcbf-3485c32be9d6",
   "metadata": {},
   "source": [
    "Definindo o número de linhas que o pandas irá exibir."
   ]
  },
  {
   "cell_type": "code",
   "execution_count": null,
   "id": "39aa6492-7e2b-4200-a1cd-7274099dfc9b",
   "metadata": {},
   "outputs": [],
   "source": [
    "pd.set_option('display.max_rows', 10)"
   ]
  },
  {
   "cell_type": "markdown",
   "id": "454b35cb-741e-460f-9dc4-9e54f9a230e0",
   "metadata": {},
   "source": [
    "Configurando o holoviews e o geoviews para trabalhar com o bokeh:"
   ]
  },
  {
   "cell_type": "code",
   "execution_count": null,
   "id": "99ab2838-c085-4438-9da2-37d952facb8f",
   "metadata": {},
   "outputs": [],
   "source": [
    "hv.extension('bokeh')"
   ]
  },
  {
   "cell_type": "code",
   "execution_count": null,
   "id": "86e62d71-7c94-440f-85c8-0e9f094e86c6",
   "metadata": {},
   "outputs": [],
   "source": [
    "gv.extension('bokeh')"
   ]
  },
  {
   "cell_type": "markdown",
   "id": "1bf21dfd-cee2-4c21-b682-d082f1cc74b7",
   "metadata": {},
   "source": [
    "Configurando os plots do bokeh para serem em linha:"
   ]
  },
  {
   "cell_type": "code",
   "execution_count": null,
   "id": "62ff0bcf-209c-42a1-8fae-73bb1369d95e",
   "metadata": {},
   "outputs": [],
   "source": [
    "output_notebook()"
   ]
  },
  {
   "cell_type": "markdown",
   "id": "7686657b-f1b4-43b4-9d42-6d747a494cfc",
   "metadata": {},
   "source": [
    "Configurando os plots do matplotlib para serem em linha:"
   ]
  },
  {
   "cell_type": "code",
   "execution_count": null,
   "id": "ee39c7b1-b44c-455a-ac7d-dcf6bbc43a37",
   "metadata": {},
   "outputs": [],
   "source": [
    "%matplotlib inline"
   ]
  },
  {
   "cell_type": "markdown",
   "id": "983f68e3-e45c-464d-83fc-a87399f49b3d",
   "metadata": {},
   "source": [
    "Lendo o token e definindo a classe PzServer."
   ]
  },
  {
   "cell_type": "code",
   "execution_count": null,
   "id": "e20a6a3b-944c-4d7b-a57e-3f031f80e4f7",
   "metadata": {},
   "outputs": [],
   "source": [
    "with open('/home/luigi.silva/token.txt', 'r') as file:\n",
    "    token = file.read().rstrip()\n",
    "pz_server = PzServer(token=token, host=\"pz-dev\") "
   ]
  },
  {
   "cell_type": "markdown",
   "id": "05af22f2-9c63-4673-80df-5affce899ee5",
   "metadata": {},
   "source": [
    "### Configurações dos plots de distribuição de objetos"
   ]
  },
  {
   "cell_type": "markdown",
   "id": "01f28a04-fb5d-4ac3-b9dd-90f5b37ea33d",
   "metadata": {},
   "source": [
    "Definindo os parâmetros gerais para os plots de distribuição de objetos utilizando geoviews e datashader."
   ]
  },
  {
   "cell_type": "code",
   "execution_count": null,
   "id": "f758588c-3403-49c2-99dd-cb40b7bb6cb0",
   "metadata": {},
   "outputs": [],
   "source": [
    "height = 500    ### Altura do plot.\n",
    "width = 1000    ### Largura do plot.\n",
    "padding = 0.05  ### Padding do plot.\n",
    "xlabel = 'R.A.' ### Label para o eixo x.\n",
    "ylabel = 'Dec.' ### Label para o eixo y."
   ]
  },
  {
   "cell_type": "markdown",
   "id": "298914e2-cbbc-4358-956f-84cba41856c5",
   "metadata": {},
   "source": [
    "Definindo os labels de R.A. e DEC. a serem exibidos nos plots de distribuição de objetos utilizando geoviews e datashader."
   ]
  },
  {
   "cell_type": "code",
   "execution_count": null,
   "id": "0c4d10f7-cfbd-466f-bbfc-e634b8887d09",
   "metadata": {},
   "outputs": [],
   "source": [
    "longitudes = np.arange(30, 360, 30)\n",
    "latitudes = np.arange(-75, 76, 15)\n",
    "\n",
    "lon_labels = [f\"{lon}°\" for lon in longitudes]\n",
    "lat_labels = [f\"{lat}°\" for lat in latitudes]\n",
    "\n",
    "labels_data = {\n",
    "    \"lon\": list(np.flip(longitudes)) + [-180] * len(latitudes),\n",
    "    \"lat\": [0] * len(longitudes) + list(latitudes),\n",
    "    \"label\": lon_labels + lat_labels,\n",
    "}\n",
    "\n",
    "df_labels = pd.DataFrame(labels_data)\n",
    "\n",
    "labels_plot = gv.Labels(df_labels, kdims=[\"lon\", \"lat\"], vdims=[\"label\"]).opts(\n",
    "    text_font_size=\"12pt\",\n",
    "    text_color=\"black\",\n",
    "    text_align='right',\n",
    "    text_baseline='bottom',\n",
    "    projection=crs.Mollweide()\n",
    ")"
   ]
  },
  {
   "cell_type": "markdown",
   "id": "491751f7-0e03-4fa2-87a0-a966b6d0ccf1",
   "metadata": {},
   "source": [
    "Definindo o grid dos gráficos."
   ]
  },
  {
   "cell_type": "code",
   "execution_count": null,
   "id": "77c5c194-4071-407b-b31f-5519cd6edd36",
   "metadata": {},
   "outputs": [],
   "source": [
    "grid = gf.grid()"
   ]
  },
  {
   "cell_type": "markdown",
   "id": "a91cf677-0c33-4063-a9e3-02115a447cf0",
   "metadata": {},
   "source": [
    "# Caracterização da amostra de exemplo"
   ]
  },
  {
   "cell_type": "markdown",
   "id": "c622568d-c784-4fa3-8557-03c5f17f4e46",
   "metadata": {},
   "source": [
    "## Lendo o footprint do DES"
   ]
  },
  {
   "cell_type": "markdown",
   "id": "f5e8ccdf-04ff-44b3-8ddc-275ce32f42c8",
   "metadata": {},
   "source": [
    "A seguir, vamos ler o footprint do DES DR2 e já aplicar uma conversão de coordenadas em R.A. e DEC."
   ]
  },
  {
   "cell_type": "code",
   "execution_count": null,
   "id": "89b991b8-571f-4420-b217-4125463cdfab",
   "metadata": {
    "tags": []
   },
   "outputs": [],
   "source": [
    "foot_ra, foot_dec = np.loadtxt('des-round19-poly.txt', unpack=True)\n",
    "foot_coords = SkyCoord(ra=-foot_ra*u.degree, dec=foot_dec*u.degree, frame='icrs')\n",
    "foot_df = pd.DataFrame({'foot_ra': np.array(foot_coords.ra.wrap_at(180*u.degree)), \n",
    "                        'foot_dec': np.array(foot_coords.dec)})"
   ]
  },
  {
   "cell_type": "markdown",
   "id": "1b6c7dd0-7871-4b6f-8171-4eea54dcfd39",
   "metadata": {},
   "source": [
    "Já vamos definir também a curva do footprint do DES, para os plots de distribuição de objetos."
   ]
  },
  {
   "cell_type": "code",
   "execution_count": null,
   "id": "9e6c5e85-85ba-466b-a255-fd66cf353169",
   "metadata": {},
   "outputs": [],
   "source": [
    "ra_dec_foot = gv.Path((-foot_ra, foot_dec)).opts(line_width=3, color='orange')"
   ]
  },
  {
   "cell_type": "markdown",
   "id": "500070eb-1929-46d9-b74c-40090a5d238b",
   "metadata": {},
   "source": [
    "## Dados espectroscópicos"
   ]
  },
  {
   "cell_type": "markdown",
   "id": "6395c2de-e5c9-4b03-b1eb-48014fddd51c",
   "metadata": {},
   "source": [
    "### Amostra pública de *redshifts* espectroscópicos - Completa"
   ]
  },
  {
   "cell_type": "markdown",
   "id": "afecad99-574f-47ba-a95d-31aa73976f29",
   "metadata": {},
   "source": [
    "O produto [Public spec-z compilation](https://pz-server-dev.linea.org.br/product/26_public_specz_compilation) é um compilado de catálogos de diferentes levantamentos os quais foram coletados ao longo dos anos de operação do Dark Energy Survey (DES) e agrupados sistematicamente pela ferramenta DES Science Portal (pipeline Spectroscopic Sample) para formar a base de um conjunto de treinamento para algoritmos de cálculo de *redshifts* fotométricos baseados em machine learning. "
   ]
  },
  {
   "cell_type": "code",
   "execution_count": null,
   "id": "9873d7be-a198-455b-a5ea-775f6a391936",
   "metadata": {
    "tags": []
   },
   "outputs": [],
   "source": [
    "#specz = pz_server.get_product('26_public_specz_compilation')"
   ]
  },
  {
   "cell_type": "code",
   "execution_count": null,
   "id": "0efc64ac-4ce1-4120-8645-7e30d14fbb06",
   "metadata": {
    "tags": []
   },
   "outputs": [],
   "source": [
    "#specz.display_metadata()"
   ]
  },
  {
   "cell_type": "code",
   "execution_count": null,
   "id": "a34f1a14-ef6a-43c0-9f42-879ee303fde1",
   "metadata": {
    "tags": []
   },
   "outputs": [],
   "source": [
    "#specz.data.describe()"
   ]
  },
  {
   "cell_type": "code",
   "execution_count": null,
   "id": "4265d507-f902-43ad-b60e-e17cc8bdd702",
   "metadata": {
    "tags": []
   },
   "outputs": [],
   "source": [
    "#specz.plot()"
   ]
  },
  {
   "cell_type": "markdown",
   "id": "5f519e6b-d981-41de-a07e-0f94bdcf56a2",
   "metadata": {},
   "source": [
    "### Amostra utilizada nos testes - Seleção do 2dflens"
   ]
  },
  {
   "cell_type": "markdown",
   "id": "60575da1-3fc0-4eaa-bcdc-8f126b6a87fc",
   "metadata": {},
   "source": [
    "Como dito anteriormente, o produto [Public spec-z compilation](https://pz-server-dev.linea.org.br/product/26_public_specz_compilation) é um compilado de *redshifts* espectroscópicos de vários levantamentos astronômicos. Muitos desses levantamentos observaram regiões comuns do céu. Ao agrupar todas as medidas em um catálogo único, geralmente há medidas múltiplas de *redshift* espectroscópico para um mesmo objeto. Para identificar esses casos, o *pipeline* Spectroscopic Sample faz uma combinação espacial entre as coordenadas equatoriais de \"todos contra todos\" com um raio de busca de 1.0 *arcsec* de cada objeto. Então, ele aplica uma seleção para manter apenas uma medida para cada objeto extragaláctico presente na amostra, seguindo o critério abaixo para escolha e desempate:\n",
    "\n",
    "1. medida com a maior _flag_ de qualidade (`flag_des`)\n",
    "2. medida com o menor erro no *redshift* (`err_z`)\n",
    "3. medida obtida pelo levantamento mais recente\n",
    "\n",
    "Portanto, os objetos do levantamento 2dflens apresentados aqui são aqueles que permaneceram após a seleção considerando todos os catálogos presentes no produto [Public spec-z compilation](https://pz-server-dev.linea.org.br/product/26_public_specz_compilation). Um corte de qualidade também foi aplicado onde apenas objetos com flag_des ⩾ 3 foram incluídos na amostra."
   ]
  },
  {
   "cell_type": "markdown",
   "id": "40e807e6-571c-4522-92ea-356586349119",
   "metadata": {},
   "source": [
    "#### Todos os objetos do 2dflens, contidos no produto Public spec-z compilation"
   ]
  },
  {
   "cell_type": "markdown",
   "id": "dc21eafb-86e6-496c-9f13-709418232fb2",
   "metadata": {},
   "source": [
    "Pegando o produto referente ao 2dflens no pzserver:"
   ]
  },
  {
   "cell_type": "code",
   "execution_count": null,
   "id": "436ae0c1-e5b7-44d2-9e8f-0ee4f9b35c85",
   "metadata": {
    "tags": []
   },
   "outputs": [],
   "source": [
    "specz = pz_server.get_product('52_2dflens_public_specz')"
   ]
  },
  {
   "cell_type": "markdown",
   "id": "ee3b3d4a-fff0-42d6-8358-6b03d063e0a3",
   "metadata": {},
   "source": [
    "Mostrando os metadados do produto:"
   ]
  },
  {
   "cell_type": "code",
   "execution_count": null,
   "id": "4970d3e5-bb17-455c-ae3c-1fb71a07673e",
   "metadata": {
    "tags": []
   },
   "outputs": [],
   "source": [
    "#specz.display_metadata()"
   ]
  },
  {
   "cell_type": "markdown",
   "id": "96b6fdfc-5e12-4fee-824f-9d55d70907bd",
   "metadata": {},
   "source": [
    "Mostrando as estatísticas básicas dos dados:"
   ]
  },
  {
   "cell_type": "code",
   "execution_count": null,
   "id": "6535d109-ac55-41e1-bbe3-540bc93fa917",
   "metadata": {
    "tags": []
   },
   "outputs": [],
   "source": [
    "specz.data.describe()"
   ]
  },
  {
   "cell_type": "markdown",
   "id": "3c39323e-7f5f-4ca8-a2ff-8ca886346c80",
   "metadata": {},
   "source": [
    "Fazendo uma cópia do dataframe para fazer os plots."
   ]
  },
  {
   "cell_type": "code",
   "execution_count": null,
   "id": "0b4501c2-b82a-45d8-ad83-fec8271979d6",
   "metadata": {
    "tags": []
   },
   "outputs": [],
   "source": [
    "df_2dflens_all = specz.data.copy()"
   ]
  },
  {
   "cell_type": "markdown",
   "id": "60afebf5-5bed-4497-bfb3-fe2203be4c9e",
   "metadata": {},
   "source": [
    "**Plot**"
   ]
  },
  {
   "cell_type": "markdown",
   "id": "7e99326a-009a-406f-9f46-766538396e42",
   "metadata": {},
   "source": [
    "Definindo os pontos a serem utilizados no plot:"
   ]
  },
  {
   "cell_type": "code",
   "execution_count": null,
   "id": "cab8eb06-7e72-4e91-b52b-46618cb95e4f",
   "metadata": {},
   "outputs": [],
   "source": [
    "df_input = df_2dflens_all\n",
    "\n",
    "## Usando apenas uma fração dos dados:\n",
    "frac = 0.05  \n",
    "input_sample_for_plots = df_input.sample(frac=frac, axis='index')\n",
    "assert len(input_sample_for_plots) == round(frac * len(df_input))\n",
    "\n",
    "## Using all data:\n",
    "input_sample_for_plots = df_input  ## Comment this line to use a fraction of the data.\n",
    "\n",
    "print(\"Total number of objects in the sample: \"+str(len(df_input)))\n",
    "print(\"Number of objects used in the plots: \"+str(len(input_sample_for_plots)))"
   ]
  },
  {
   "cell_type": "markdown",
   "id": "fc727bba-18f9-4899-affd-f3fcb5a1f12e",
   "metadata": {},
   "source": [
    "Redefinindo as coordenadas R.A. e DEC. para os plots:"
   ]
  },
  {
   "cell_type": "code",
   "execution_count": null,
   "id": "b08cb612-f7de-4c22-ad5e-0ceb338fa14a",
   "metadata": {
    "tags": []
   },
   "outputs": [],
   "source": [
    "coords = SkyCoord(ra=-np.array(input_sample_for_plots.ra)*u.degree, \n",
    "                  dec=np.array(input_sample_for_plots.dec)*u.degree, frame='icrs')\n",
    "input_sample_for_plots.ra = np.array(coords.ra.wrap_at(180*u.degree))\n",
    "input_sample_for_plots.dec = np.array(coords.dec)"
   ]
  },
  {
   "cell_type": "markdown",
   "id": "fa1fe7aa-fa47-4eb3-a285-435c0692df71",
   "metadata": {},
   "source": [
    "Fazendo o plot com o geoviews e datashader:"
   ]
  },
  {
   "cell_type": "code",
   "execution_count": null,
   "id": "b8e3542c-f2f6-4982-85cf-4f2f2a1e6e2f",
   "metadata": {
    "tags": []
   },
   "outputs": [],
   "source": [
    "%%time\n",
    "title = 'Distribuição Espacial - Todos os dados do 2dflens' ### Título do plot.\n",
    "\n",
    "### Defining the points in geoviews.\n",
    "ra_dec_points = gv.Points((input_sample_for_plots['ra'],input_sample_for_plots['dec']), kdims=['ra', 'dec'])\n",
    "\n",
    "### Defining the projected points using cartopy Mollweide().\n",
    "projected = gv.operation.project(ra_dec_points, projection=crs.Mollweide())\n",
    "\n",
    "### Using datashader.\n",
    "dsh_points = dynspread(rasterize(projected).opts(cmap=\"Viridis\", cnorm='log'))\n",
    "dsh_points = dsh_points.opts(width=width, height=height, padding=padding, title=title, toolbar='above', colorbar=True, tools=['box_select'])\n",
    "\n",
    "### Plotting.\n",
    "dsh_points * ra_dec_foot * grid * labels_plot"
   ]
  },
  {
   "cell_type": "markdown",
   "id": "eb578764-9666-4014-a16a-d9a63ef22011",
   "metadata": {},
   "source": [
    "#### Objetos do 2dflens filtrados para pertencerem ao footprint do DES"
   ]
  },
  {
   "cell_type": "markdown",
   "id": "b595641f-726e-4ad8-a12f-56328d8b6a9d",
   "metadata": {},
   "source": [
    "A seguir, faremos um filtro para pegar dados dentro do footprint do DES."
   ]
  },
  {
   "cell_type": "markdown",
   "id": "8ff43299-5231-4c59-b4fa-1c1c5e0d456e",
   "metadata": {},
   "source": [
    "**Filtro simples utilizando o pandas**"
   ]
  },
  {
   "cell_type": "markdown",
   "id": "79176722-aeb1-459f-a118-085df7e32f5d",
   "metadata": {},
   "source": [
    "O filtro a seguir pega objetos com $ra<90$ ou $ra>359$, e $dec < -15$."
   ]
  },
  {
   "cell_type": "code",
   "execution_count": null,
   "id": "52d75b6e-cc5b-4417-8c89-933b846f0f18",
   "metadata": {
    "tags": []
   },
   "outputs": [],
   "source": [
    "df_2dflens_filt = specz.data.query(\"ra > 359 | ra < 90. & dec < -15.\").copy()"
   ]
  },
  {
   "cell_type": "markdown",
   "id": "c9210193-9bcd-44c4-9504-59b77e2953b0",
   "metadata": {},
   "source": [
    "Estatística básica desses dados filtrados:"
   ]
  },
  {
   "cell_type": "code",
   "execution_count": null,
   "id": "45c18664-7fbf-4626-8ca5-2af2ee0272ed",
   "metadata": {
    "tags": []
   },
   "outputs": [],
   "source": [
    "df_2dflens_filt.describe()"
   ]
  },
  {
   "cell_type": "markdown",
   "id": "ec9211fb-680c-4865-9e8a-2769ad3c99e1",
   "metadata": {},
   "source": [
    "**Filtro utilizando o geopandas**"
   ]
  },
  {
   "cell_type": "markdown",
   "id": "ab7e1ba8-5c87-41a5-b2df-1708ee161c64",
   "metadata": {},
   "source": [
    "Fazendo um polígono com geopandas, que conterá a geometria do footprint do DES."
   ]
  },
  {
   "cell_type": "code",
   "execution_count": null,
   "id": "9d319edf-ad00-41e4-9905-f1e294269702",
   "metadata": {
    "tags": []
   },
   "outputs": [],
   "source": [
    "! mkdir -p geopandas-des-footprint"
   ]
  },
  {
   "cell_type": "code",
   "execution_count": null,
   "id": "4887e6e9-bfd3-4887-ae21-de3e7cba3c28",
   "metadata": {},
   "outputs": [],
   "source": [
    "#lat_point_list = foot_df['foot_dec']\n",
    "#lon_point_list = foot_df['foot_ra']\n",
    "\n",
    "#polygon_geom = Polygon(zip(lon_point_list, lat_point_list))\n",
    "#polygon = gpd.GeoDataFrame(index=[0], crs='epsg:4326', geometry=[polygon_geom])       \n",
    "\n",
    "#polygon.to_file(filename='./geopandas-des-footprint/polygon.geojson', driver='GeoJSON')\n",
    "#polygon.to_file(filename='./geopandas-des-footprint/polygon.gpkg', driver=\"GPKG\")\n",
    "#polygon.to_file(filename='./geopandas-des-footprint/polygon.shp', driver=\"ESRI Shapefile\")"
   ]
  },
  {
   "cell_type": "markdown",
   "id": "6973e36e-cd8c-4968-af16-6cc27d669284",
   "metadata": {},
   "source": [
    "Lendo essa geometria."
   ]
  },
  {
   "cell_type": "code",
   "execution_count": null,
   "id": "47e302bc-6ab8-4825-85ab-8c5cccebd2b3",
   "metadata": {
    "tags": []
   },
   "outputs": [],
   "source": [
    "#world = gpd.read_file('./geopandas-des-footprint/polygon.shp')"
   ]
  },
  {
   "cell_type": "markdown",
   "id": "41586a77-f9bc-4508-9851-0798bfed4527",
   "metadata": {},
   "source": [
    "Transformando o pandas datframe em um geopandas dataframe."
   ]
  },
  {
   "cell_type": "code",
   "execution_count": null,
   "id": "66866867-5c59-4138-bbbe-f9ae689346dc",
   "metadata": {
    "tags": []
   },
   "outputs": [],
   "source": [
    "#gdf = gpd.GeoDataFrame(df_2dflens_all,\n",
    "#                       geometry=gpd.points_from_xy(df_2dflens_all.ra, \n",
    "#                                                   df_2dflens_all.dec)) "
   ]
  },
  {
   "cell_type": "markdown",
   "id": "4fab247b-900e-4920-a1f4-62c515768208",
   "metadata": {},
   "source": [
    "Aplicando o filtro para guardar apenas objetos que estejam dentro do footprint do DES."
   ]
  },
  {
   "cell_type": "code",
   "execution_count": null,
   "id": "b46e1b98-9732-4a2f-b79e-aeca2d8fb6e8",
   "metadata": {
    "tags": []
   },
   "outputs": [],
   "source": [
    "#pip = gdf.within(world.loc[0, 'geometry'])\n",
    "#df_2dflens_filt = gdf.loc[pip].copy()"
   ]
  },
  {
   "cell_type": "markdown",
   "id": "2cdcc60e-496c-4721-a4ff-1442a48b9bb8",
   "metadata": {},
   "source": [
    "**Plot**"
   ]
  },
  {
   "cell_type": "markdown",
   "id": "e9b094a8-988a-4782-830c-86e3867a38f1",
   "metadata": {},
   "source": [
    "Definindo os pontos a serem utilizados no plot:"
   ]
  },
  {
   "cell_type": "code",
   "execution_count": null,
   "id": "d57764a0-d682-43c7-b884-fb3370a23afd",
   "metadata": {},
   "outputs": [],
   "source": [
    "df_input = df_2dflens_filt\n",
    "\n",
    "## Usando apenas uma fração dos dados:\n",
    "frac = 0.05  \n",
    "input_sample_for_plots = df_input.sample(frac=frac, axis='index')\n",
    "assert len(input_sample_for_plots) == round(frac * len(df_input))\n",
    "\n",
    "## Using all data:\n",
    "input_sample_for_plots = df_input   ## Comment this line to use a fraction of the data.\n",
    "\n",
    "print(\"Total number of objects in the sample: \"+str(len(df_input)))\n",
    "print(\"Number of objects used in the plots: \"+str(len(input_sample_for_plots)))"
   ]
  },
  {
   "cell_type": "markdown",
   "id": "e8e1d296-b64e-4d26-a1a4-cfe52feac56c",
   "metadata": {},
   "source": [
    "Redefinindo as coordenadas R.A. e DEC. para os plots:"
   ]
  },
  {
   "cell_type": "code",
   "execution_count": null,
   "id": "598fd883-b678-462e-aa30-ca2ff6c80420",
   "metadata": {
    "tags": []
   },
   "outputs": [],
   "source": [
    "coords = SkyCoord(ra=-np.array(input_sample_for_plots.ra)*u.degree, \n",
    "                  dec=np.array(input_sample_for_plots.dec)*u.degree, frame='icrs')\n",
    "input_sample_for_plots.ra = np.array(coords.ra.wrap_at(180*u.degree))\n",
    "input_sample_for_plots.dec = np.array(coords.dec)"
   ]
  },
  {
   "cell_type": "markdown",
   "id": "ab0c8fbf-a575-49df-bd46-e09d55262b03",
   "metadata": {},
   "source": [
    "Fazendo o plot dos dados filtrados com o geoviews e datashader:"
   ]
  },
  {
   "cell_type": "code",
   "execution_count": null,
   "id": "123253ca-e991-4bd4-91dd-b7e58fd88c5b",
   "metadata": {
    "tags": []
   },
   "outputs": [],
   "source": [
    "%%time\n",
    "title = 'Distribuição Espacial - Dados do 2dflens filtrados' ### Título do plot.\n",
    "\n",
    "### Defining the points in geoviews.\n",
    "ra_dec_points = gv.Points((input_sample_for_plots['ra'],input_sample_for_plots['dec']), kdims=['ra', 'dec'])\n",
    "\n",
    "### Defining the projected points using cartopy Mollweide().\n",
    "projected = gv.operation.project(ra_dec_points, projection=crs.Mollweide())\n",
    "\n",
    "### Using datashader.\n",
    "dsh_points = dynspread(rasterize(projected).opts(cmap=\"Viridis\", cnorm='log'))\n",
    "dsh_points = dsh_points.opts(width=width, height=height, padding=padding, title=title, toolbar='above', colorbar=True, tools=['box_select'])\n",
    "\n",
    "### Plotting.\n",
    "dsh_points * ra_dec_foot * grid * labels_plot"
   ]
  },
  {
   "cell_type": "markdown",
   "id": "7c5f7cee-60ae-4053-8818-c87ef720fa5c",
   "metadata": {
    "tags": []
   },
   "source": [
    "## Dados fotométricos"
   ]
  },
  {
   "cell_type": "markdown",
   "id": "6dc0b8d2-21ff-4825-a370-706a04e63162",
   "metadata": {},
   "source": [
    "### Lendo os dados do DES DR2, contidos na região do 2dflens, com a biblioteca dblinea"
   ]
  },
  {
   "cell_type": "markdown",
   "id": "8bf98f93-1bbc-4bcc-9cb8-af6132e0779d",
   "metadata": {},
   "source": [
    "Definindo a classe DBBase, que faz a conexão com o banco de dados."
   ]
  },
  {
   "cell_type": "code",
   "execution_count": null,
   "id": "b1393b6e-f92b-4ec8-98e5-a865652b304d",
   "metadata": {
    "tags": []
   },
   "outputs": [],
   "source": [
    "#db = DBBase()"
   ]
  },
  {
   "cell_type": "markdown",
   "id": "a172251b-1eb1-4a7a-b0fc-d3ab192ae897",
   "metadata": {},
   "source": [
    "Definindo quais dados nós queremos acessar. Aqui, nós vamos acessar os dados da tabela **coadd_objects** do catálogo **DES DR2**."
   ]
  },
  {
   "cell_type": "code",
   "execution_count": null,
   "id": "1e348ed5-a034-4469-9c17-854e4ab30f72",
   "metadata": {
    "tags": []
   },
   "outputs": [],
   "source": [
    "#schema = \"des_dr2\"  \n",
    "#tablename = \"coadd_objects\""
   ]
  },
  {
   "cell_type": "markdown",
   "id": "5f2483ac-41bb-4483-8e9f-d2c00922bedf",
   "metadata": {},
   "source": [
    "Obtendo o número de colunas da tabela original (o nome e significado de cada coluna pode ser encontrado [aqui](https://des.ncsa.illinois.edu/releases/dr2/dr2-products/dr2-schema))."
   ]
  },
  {
   "cell_type": "code",
   "execution_count": null,
   "id": "b42b1f6a-7477-4b9f-984c-06c7e440563e",
   "metadata": {},
   "outputs": [],
   "source": [
    "#tot_columns_list = db.get_table_columns(tablename, schema=schema)\n",
    "#print(\"Number of columns in the original table: \"+str(len(tot_columns_list)))"
   ]
  },
  {
   "cell_type": "markdown",
   "id": "ffb0a4bc-7249-4818-a375-604730a4c90c",
   "metadata": {},
   "source": [
    "Fazendo a busca."
   ]
  },
  {
   "cell_type": "code",
   "execution_count": null,
   "id": "5061a628-fdf6-40d1-b5d7-afc5118c3b7d",
   "metadata": {},
   "outputs": [],
   "source": [
    "#extended_class_coadd_lim = 3\n",
    "#mag_lim_i = 23\n",
    "#flags_lim_i = 4 \n",
    "\n",
    "#limit = 300000"
   ]
  },
  {
   "cell_type": "code",
   "execution_count": null,
   "id": "4d3c057c-a13c-44a4-a541-e347bdeada37",
   "metadata": {},
   "outputs": [],
   "source": [
    "#query = (f\"SELECT coadd_object_id, ra, dec, mag_auto_g_dered, mag_auto_r_dered, mag_auto_i_dered, mag_auto_z_dered, mag_auto_y_dered, magerr_auto_g, \"+\n",
    "#         f\"magerr_auto_r, magerr_auto_i, magerr_auto_z, magerr_auto_y, flags_g, flags_r, flags_i, flags_z, flags_y, extended_class_coadd \"+ \n",
    "#         f\"FROM des_dr2.coadd_objects \"+\n",
    "#         f\"WHERE (dec <= -26.25 AND dec >= -35.73 AND (ra <= 52.75 OR ra>=399) \"+\n",
    "#         f\"AND extended_class_coadd >= {extended_class_coadd_lim} \"+\n",
    "#         f\"AND mag_auto_i_dered <= {mag_lim_i} \"+\n",
    "#         f\"AND flags_i <= {flags_lim_i}) \"+\n",
    "#         f\"ORDER BY random() \"+\n",
    "#         f\"limit {limit} \"   \n",
    "#        )"
   ]
  },
  {
   "cell_type": "code",
   "execution_count": null,
   "id": "a02be453-83b9-4827-ac40-db6211e4307d",
   "metadata": {},
   "outputs": [],
   "source": [
    "#%%time\n",
    "#df_phot = db.fetchall_df(query)"
   ]
  },
  {
   "cell_type": "markdown",
   "id": "61694e71-8312-4104-8cb0-6d0fd322cdc3",
   "metadata": {},
   "source": [
    "### Lendo os dados do DES DR2, contidos na região do 2dflens, salvos localmente"
   ]
  },
  {
   "cell_type": "code",
   "execution_count": null,
   "id": "d6340106-38a8-4f71-8352-968c3703ca88",
   "metadata": {
    "tags": []
   },
   "outputs": [],
   "source": [
    "df_phot = pd.read_csv('des_dr2_RANDOM_limit_300000_ext_class_coadd_3_mag_auto_i_dered_less_eq_23_flags_lim_i_less_eq_4.csv')\n",
    "df_phot = df_phot.set_index('Unnamed: 0')\n",
    "df_phot.index.name = None"
   ]
  },
  {
   "cell_type": "markdown",
   "id": "aa4f7c5b-b310-4c5d-9669-b3285bd9586f",
   "metadata": {},
   "source": [
    "### Prévia dos dados e estatística básica"
   ]
  },
  {
   "cell_type": "markdown",
   "id": "5a8c683b-66e6-46ef-bc44-7a953ba7a097",
   "metadata": {},
   "source": [
    "Prévia dos dados:"
   ]
  },
  {
   "cell_type": "code",
   "execution_count": null,
   "id": "616b8fd1-ce7a-4c44-a975-b5a75b6044de",
   "metadata": {
    "tags": []
   },
   "outputs": [],
   "source": [
    "df_phot.head()"
   ]
  },
  {
   "cell_type": "markdown",
   "id": "9bb5d635-94e7-4272-8fd9-9b39c0bd019b",
   "metadata": {},
   "source": [
    "Estatísticas básicas:"
   ]
  },
  {
   "cell_type": "code",
   "execution_count": null,
   "id": "44436669-1a3f-4141-b7a8-a7e2e415b59a",
   "metadata": {
    "tags": []
   },
   "outputs": [],
   "source": [
    "df_phot.describe()"
   ]
  },
  {
   "cell_type": "markdown",
   "id": "04734209-bd76-46d1-a1b0-2ef15e9ba2e5",
   "metadata": {},
   "source": [
    "### Plot"
   ]
  },
  {
   "cell_type": "markdown",
   "id": "9169f014-086a-4f25-b631-641935794e7c",
   "metadata": {},
   "source": [
    "Definindo os pontos a serem utilizados no plot:"
   ]
  },
  {
   "cell_type": "code",
   "execution_count": null,
   "id": "ed8e3ed1-b62a-4cc5-a9b4-50603df142da",
   "metadata": {
    "tags": []
   },
   "outputs": [],
   "source": [
    "df_input = df_phot\n",
    "\n",
    "## Usando apenas uma fração dos dados:\n",
    "frac = 0.05  \n",
    "input_sample_for_plots = df_input.sample(frac=frac, axis='index')\n",
    "assert len(input_sample_for_plots) == round(frac * len(df_input))\n",
    "\n",
    "## Using all data:\n",
    "input_sample_for_plots = df_input   ## Comment this line to use a fraction of the data.\n",
    "\n",
    "print(\"Total number of objects in the sample: \"+str(len(df_input)))\n",
    "print(\"Number of objects used in the plots: \"+str(len(input_sample_for_plots)))"
   ]
  },
  {
   "cell_type": "markdown",
   "id": "412e6e97-2d3f-4f82-85a3-26bc8906818e",
   "metadata": {},
   "source": [
    "Redefinindo as coordendas R.A. e DEC. para os plots:"
   ]
  },
  {
   "cell_type": "code",
   "execution_count": null,
   "id": "4fc42927-db59-4eca-9ac9-399a8d2887cd",
   "metadata": {},
   "outputs": [],
   "source": [
    "coords = SkyCoord(ra=-np.array(input_sample_for_plots.ra)*u.degree, \n",
    "                  dec=np.array(input_sample_for_plots.dec)*u.degree, frame='icrs')\n",
    "input_sample_for_plots.ra = np.array(coords.ra.wrap_at(180*u.degree))\n",
    "input_sample_for_plots.dec = np.array(coords.dec)"
   ]
  },
  {
   "cell_type": "markdown",
   "id": "e7d93b84-1d38-4cdf-8dd4-57137aee1a2a",
   "metadata": {},
   "source": [
    "Fazendo o plot dos dados filtrados com o geoviews e datashader:"
   ]
  },
  {
   "cell_type": "code",
   "execution_count": null,
   "id": "3aa06fe8-8d96-4563-9125-0ef44d1df359",
   "metadata": {},
   "outputs": [],
   "source": [
    "%%time\n",
    "title = 'Distribuição Espacial - Dados do DES DR2 filtrados' ### Título do plot.\n",
    "\n",
    "### Defining the points in geoviews.\n",
    "ra_dec_points = gv.Points((-input_sample_for_plots['ra'],input_sample_for_plots['dec']), kdims=['ra', 'dec'])\n",
    "\n",
    "### Defining the projected points using cartopy Mollweide().\n",
    "projected = gv.operation.project(ra_dec_points, projection=crs.Mollweide())\n",
    "\n",
    "### Using datashader.\n",
    "dsh_points = dynspread(rasterize(projected).opts(cmap=\"Viridis\", cnorm='log'))\n",
    "dsh_points = dsh_points.opts(width=width, height=height, padding=padding, title=title, toolbar='above', colorbar=True, tools=['box_select'])\n",
    "\n",
    "### Plotting.\n",
    "dsh_points * ra_dec_foot * grid * labels_plot"
   ]
  },
  {
   "cell_type": "markdown",
   "id": "de3c2bd9-bd39-4d5f-a9f9-48b8eb38a019",
   "metadata": {},
   "source": [
    "# Utilizando o hipscat_import"
   ]
  },
  {
   "cell_type": "markdown",
   "id": "e8e4d7ce-60a8-4cb2-a0ab-69f2aef39bb8",
   "metadata": {},
   "source": [
    "## Reescrevendo o arquivo original, com ObjectID fictício (inteiro sequencial)"
   ]
  },
  {
   "cell_type": "code",
   "execution_count": null,
   "id": "a53b2d3f-5d8d-42b4-9f29-7804c805f4c4",
   "metadata": {
    "tags": []
   },
   "outputs": [],
   "source": [
    "### Selecionando as linhas da tabela original utilizando o filtro anterior como máscara.\n",
    "df_reset = specz.data[specz.data.index.isin(df_2dflens_filt.index)].copy() "
   ]
  },
  {
   "cell_type": "code",
   "execution_count": null,
   "id": "0e99c124-9742-45f7-9e21-dc811f3e73fe",
   "metadata": {
    "tags": []
   },
   "outputs": [],
   "source": [
    "### Resetando os índices.\n",
    "df_reset = df_reset.reset_index()\n",
    "df_reset"
   ]
  },
  {
   "cell_type": "code",
   "execution_count": null,
   "id": "a9a8f8f5-4adc-42b5-8a91-7ac03d3189b4",
   "metadata": {
    "tags": []
   },
   "outputs": [],
   "source": [
    "### Salvando o arquivo.\n",
    "#df_reset.to_parquet('/home/luigi.silva/hipscat_data/specz.pq', index=False)\n",
    "\n",
    "#df_reset.to_csv('/home/luigi.silva/hipscat_data/specz.csv', index=False)"
   ]
  },
  {
   "cell_type": "code",
   "execution_count": null,
   "id": "f122fcb0-3fdf-4296-a6b6-d901640fe93b",
   "metadata": {},
   "outputs": [],
   "source": []
  },
  {
   "cell_type": "code",
   "execution_count": null,
   "id": "bbd805ec-dd7b-44f4-9dda-5f6c33e35200",
   "metadata": {},
   "outputs": [],
   "source": []
  },
  {
   "cell_type": "code",
   "execution_count": null,
   "id": "4e8c3515-4f36-4d47-aa0f-ba0c61402190",
   "metadata": {},
   "outputs": [],
   "source": []
  },
  {
   "cell_type": "code",
   "execution_count": null,
   "id": "e9db7adf-e421-425d-a55d-87c440daafde",
   "metadata": {},
   "outputs": [],
   "source": []
  },
  {
   "cell_type": "code",
   "execution_count": null,
   "id": "f0c344f6-555d-410f-b663-49e535f5178f",
   "metadata": {},
   "outputs": [],
   "source": []
  },
  {
   "cell_type": "markdown",
   "id": "e47b17f2-096e-4ec1-bd7b-18b3a588e9bd",
   "metadata": {},
   "source": [
    "## Instalação do `hipscat_import` \n",
    "\n",
    "```shell\n",
    "pip install hipscat-import\n",
    "\n",
    "```\n",
    "\n",
    "\n"
   ]
  },
  {
   "cell_type": "code",
   "execution_count": null,
   "id": "ac883b74-d9c0-4263-bcf7-99be09d9fa37",
   "metadata": {},
   "outputs": [],
   "source": []
  },
  {
   "cell_type": "code",
   "execution_count": null,
   "id": "b3017709-0e86-4285-be5c-572806a8d60e",
   "metadata": {},
   "outputs": [],
   "source": []
  },
  {
   "cell_type": "markdown",
   "id": "42c6f0a2-c8ab-4a56-a76d-4aa12f1c58e7",
   "metadata": {
    "tags": []
   },
   "source": [
    "## Execução - conversão dos arquivos para formato Hipscat"
   ]
  },
  {
   "cell_type": "markdown",
   "id": "88b162c4-e77a-47b5-b0c6-8b64a9663141",
   "metadata": {},
   "source": [
    "https://hipscat-import.readthedocs.io/en/latest/catalogs/public/allwise.html\n",
    "\n",
    "\n",
    "``` \n",
    "wget -x http://irsa.ipac.caltech.edu/data/download/wise-allwise/README.txt\n",
    "wget -x http://irsa.ipac.caltech.edu/data/download/wise-allwise/wise-allwise-cat.bz2.sizes.txt\n",
    "wget -x http://irsa.ipac.caltech.edu/data/download/wise-allwise/wise-allwise-cat.bz2.md5.txt\n",
    "wget -x http://irsa.ipac.caltech.edu/data/download/wise-allwise/wise-allwise-cat-part01.bz2\n",
    "wget -x http://irsa.ipac.caltech.edu/data/download/wise-allwise/wise-allwise-cat-part02.bz2\n",
    "wget -x http://irsa.ipac.caltech.edu/data/download/wise-allwise/wise-allwise-cat-part03.bz2 \n",
    "``` "
   ]
  },
  {
   "cell_type": "code",
   "execution_count": null,
   "id": "64d637c3-9755-47df-8fdc-1ab8a2155f06",
   "metadata": {
    "tags": []
   },
   "outputs": [],
   "source": [
    "# Load the column names and types from a side file.\n",
    "#type_frame = pd.read_csv(\"/home/julia/hipscat_data/pzserver/specz_types.csv\")\n",
    "#type_map = dict(zip(type_frame[\"name\"], type_frame[\"type\"]))"
   ]
  },
  {
   "cell_type": "code",
   "execution_count": null,
   "id": "75a684e8-18bb-4f01-93d6-a08a578fa53d",
   "metadata": {
    "tags": []
   },
   "outputs": [],
   "source": [
    "#type_map"
   ]
  },
  {
   "cell_type": "code",
   "execution_count": null,
   "id": "3b8ad2ee-8949-4012-8b97-8c7c32abc596",
   "metadata": {},
   "outputs": [],
   "source": []
  },
  {
   "cell_type": "code",
   "execution_count": null,
   "id": "c9b85947-6cf5-49e4-9e12-6974ede153ca",
   "metadata": {},
   "outputs": [],
   "source": []
  },
  {
   "cell_type": "code",
   "execution_count": null,
   "id": "1068816b-fd7c-4b16-875e-44bd3ee578a1",
   "metadata": {},
   "outputs": [],
   "source": []
  },
  {
   "cell_type": "markdown",
   "id": "195137a9-7e6d-49ee-a2a9-2b01ce47dc72",
   "metadata": {},
   "source": [
    "### Catalog Import Arguments"
   ]
  },
  {
   "cell_type": "code",
   "execution_count": null,
   "id": "85754b5c-5905-4a3a-a671-573238eeb4fe",
   "metadata": {},
   "outputs": [],
   "source": [
    "\n",
    "# args = ImportArguments(\n",
    "#     output_artifact_name=\"allwise\",\n",
    "#     input_path=\"/path/to/allwise/\",\n",
    "#     input_format=\"csv.bz2\",\n",
    "#     file_reader=CsvReader(\n",
    "#         header=None,\n",
    "#         separator=\"|\",\n",
    "#         column_names=type_frame[\"name\"].values.tolist(),\n",
    "#         type_map=type_map,\n",
    "#         chunksize=250_000,\n",
    "#     ),\n",
    "#     use_schema_file=\"allwise_schema.parquet\",\n",
    "#     ra_column=\"ra\",\n",
    "#     dec_column=\"dec\",\n",
    "#     sort_columns=\"source_id\",\n",
    "#     pixel_threshold=1_000_000,\n",
    "#     highest_healpix_order=7,\n",
    "#     output_path=\"/path/to/catalogs/\",\n",
    "# )\n",
    "# runner.pipeline(args)"
   ]
  },
  {
   "cell_type": "code",
   "execution_count": null,
   "id": "25b3c442-5ed0-4887-b509-716f8ff627f6",
   "metadata": {},
   "outputs": [],
   "source": [
    "### THIS WAS UNCOMMENTED\n",
    "\n",
    "#args = ImportArguments(\n",
    "#    sort_columns=\"index\",\n",
    "#    ra_column=\"ra\",\n",
    "#    dec_column=\"dec\",\n",
    "#    input_path=\"/home/julia/hipscat_data/pzserver/input\",\n",
    "#    input_format=\"csv\",\n",
    "#    output_artifact_name=\"test_cat_specz\",\n",
    "#    output_path=\"/home/julia/hipscat_data/pzserver/output\",\n",
    "#)"
   ]
  },
  {
   "cell_type": "code",
   "execution_count": null,
   "id": "7c133896-13d7-4721-bc9f-756af9e2e3cb",
   "metadata": {
    "tags": []
   },
   "outputs": [],
   "source": [
    "#runner.pipeline(args)"
   ]
  },
  {
   "cell_type": "markdown",
   "id": "d238ecc0-dd16-4076-b433-a412931f4b79",
   "metadata": {},
   "source": [
    "## Análise dos resultados \n",
    "\n",
    "visualização dos dados em formato hipscat (ex: mapa de densidade de pixels)"
   ]
  },
  {
   "cell_type": "code",
   "execution_count": null,
   "id": "212e7f4e-8591-4068-b270-751bcb666191",
   "metadata": {},
   "outputs": [],
   "source": []
  },
  {
   "cell_type": "markdown",
   "id": "67564fde-747c-4d57-a8c5-3706ab71eb0d",
   "metadata": {},
   "source": [
    "# Utilizando o LSDB"
   ]
  },
  {
   "cell_type": "markdown",
   "id": "32d9b7b6-be67-453e-a817-35828230172a",
   "metadata": {},
   "source": [
    "## Instalação do LSDB\n"
   ]
  },
  {
   "cell_type": "code",
   "execution_count": null,
   "id": "f40c4080-dc75-4b0e-bdd8-f96eca55c7f0",
   "metadata": {},
   "outputs": [],
   "source": []
  },
  {
   "cell_type": "code",
   "execution_count": null,
   "id": "f85e0741-d78c-464a-b461-cf2c8e96202a",
   "metadata": {},
   "outputs": [],
   "source": []
  },
  {
   "cell_type": "code",
   "execution_count": null,
   "id": "a9d04d15-7910-481c-bb47-73cf9a11d957",
   "metadata": {},
   "outputs": [],
   "source": []
  },
  {
   "cell_type": "markdown",
   "id": "c8db5508-3e83-4289-95f1-94ea13ede27a",
   "metadata": {
    "tags": []
   },
   "source": [
    "## X-matching usando o LSDB"
   ]
  },
  {
   "cell_type": "code",
   "execution_count": null,
   "id": "750a2ea9-06cb-4d9d-81d1-e323089b0f9b",
   "metadata": {},
   "outputs": [],
   "source": []
  },
  {
   "cell_type": "code",
   "execution_count": null,
   "id": "1faa19f0-88de-47b6-90bd-8b567df5d09f",
   "metadata": {},
   "outputs": [],
   "source": []
  },
  {
   "cell_type": "markdown",
   "id": "06cd92ec-e3d3-4bdc-8b1f-865770361b03",
   "metadata": {},
   "source": [
    "## Análise dos resultados do X-matching"
   ]
  },
  {
   "cell_type": "code",
   "execution_count": null,
   "id": "085a0960-242f-48d2-a380-39acd2b43f7b",
   "metadata": {},
   "outputs": [],
   "source": []
  },
  {
   "cell_type": "code",
   "execution_count": null,
   "id": "caf76f37-172f-4b36-861f-73137837fe10",
   "metadata": {},
   "outputs": [],
   "source": []
  },
  {
   "cell_type": "code",
   "execution_count": null,
   "id": "715e7ae8-aa76-42f4-83ba-034db48b69fe",
   "metadata": {},
   "outputs": [],
   "source": []
  }
 ],
 "metadata": {
  "kernelspec": {
   "display_name": "lsdb_env",
   "language": "python",
   "name": "lsdb_env"
  },
  "language_info": {
   "codemirror_mode": {
    "name": "ipython",
    "version": 3
   },
   "file_extension": ".py",
   "mimetype": "text/x-python",
   "name": "python",
   "nbconvert_exporter": "python",
   "pygments_lexer": "ipython3",
   "version": "3.10.14"
  }
 },
 "nbformat": 4,
 "nbformat_minor": 5
}
