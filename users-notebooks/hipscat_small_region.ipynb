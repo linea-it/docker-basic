{
 "cells": [
  {
   "cell_type": "markdown",
   "id": "3f154a7e-9526-4465-8d50-47923bce6faf",
   "metadata": {},
   "source": [
    "<img align='left' src = https://linea.org.br/wp-content/themes/LIneA/imagens/logo-header.jpg width=150 style='padding: 20px'> \n",
    "\n",
    "# Tutorial: particionamento de dados com Hipscat  \n",
    "\n",
    "Passo-a-passo para conversão de catálogos astronômicos para o formato Hipscat. \n",
    "\n",
    "Contato 1: Julia Gschwend ([julia@linea.org.br](mailto:julia@linea.org.br))\n",
    "\n",
    "Contato 2: Luigi Silva ([luigi.silva@linea.org.br](mailto:luigi.silva@linea.org.br))\n",
    "<br>\n",
    "Última verificação: 09/05/2024\n",
    "<br>\n"
   ]
  },
  {
   "cell_type": "markdown",
   "id": "190c2368-84f4-4154-b46c-1776a6117208",
   "metadata": {},
   "source": [
    "\n",
    "#### Acknowledgements\n",
    "\n",
    "<font color='red'> texto pedindo citação - ver modelo no jupyterhub do dirac/lincc </font>\n",
    "\n",
    "'_Esta pesquisa utilizou recursos computacionais da Associação Laboratório Interinstitucional de e-Astronomia (LIneA) com o apoio financeiro do INCT do e-Universo (Processo n.º 465376/2014-2)._' \n",
    "\n",
    "LIneA\n",
    "\n",
    "LINCC Frameworks \n"
   ]
  },
  {
   "cell_type": "markdown",
   "id": "65282a50-b754-4200-b2b9-5cb2a5af9ee8",
   "metadata": {},
   "source": [
    "# Introdução\n",
    "\n",
    "<font color='red'> conceito healpix </font>\n",
    "\n",
    "<font color='red'> conceito hipscat </font>\n",
    "\n",
    "<font color='red'> conceito x-match espacial </font>\n",
    "\n",
    "<font color='red'> desafios técnicos, escalabilidade, objetos nas bordas, etc </font>\n",
    "\n"
   ]
  },
  {
   "cell_type": "markdown",
   "id": "8b0908f6-6218-4766-adf0-c100b6a9a5c8",
   "metadata": {
    "toc-hr-collapsed": true
   },
   "source": [
    "# Importação das bibliotecas e configurações"
   ]
  },
  {
   "cell_type": "markdown",
   "id": "6d42bc34-1373-4c25-bd2b-734b80f5f73c",
   "metadata": {},
   "source": [
    "Requisitos para este notebook:\n",
    "\n",
    "* **Bibliotecas gerais**: os, sys, math, numpy, time, psutil, tables_io, pathlib.\n",
    "* **Bibliotecas astronômicas:** astropy.\n",
    "* **Bibliotecas de computação paralela**: dask.\n",
    "* **Bibliotecas de visualização**: bokeh, holoviews, geoviews, datashader, matplotlib.\n",
    "* **Bibliotecas de interesse principal:** hipscat, hipscat_import, lsdb.\n",
    "* **Bibliotecas de manipulação de dados**: pandas, geopandas.\n",
    "* **Bibliotecas para a obtenção de dados**: pzserver, dblinea.\n",
    "\n",
    "* **Arquivo auxiliar**: [des-round19-poly.txt](https://github.com/kadrlica/skymap/blob/master/skymap/data/des-round19-poly.txt) (contorno da área coberta pelo levantamento do DES DR2, i.e., DES _footprint_, 2019 version).\n",
    "\n",
    "Faça o download do arquivo `des-round19-poly.txt` do repositório [kadrlica/skymap](https://github.com/kadrlica/skymap) no GitHub:"
   ]
  },
  {
   "cell_type": "code",
   "execution_count": null,
   "id": "b46ccca9-139f-47a1-84a9-c7caf910f5cb",
   "metadata": {
    "tags": []
   },
   "outputs": [],
   "source": [
    "#! wget https://raw.githubusercontent.com/kadrlica/skymap/master/skymap/data/des-round19-poly.txt -O des-round19-poly.txt "
   ]
  },
  {
   "cell_type": "markdown",
   "id": "540e9438-33b4-42a1-9b15-061bdef00b80",
   "metadata": {},
   "source": [
    "## Importações"
   ]
  },
  {
   "cell_type": "code",
   "execution_count": null,
   "id": "eb1fa300-e209-48ac-af19-471d0d736fe8",
   "metadata": {},
   "outputs": [],
   "source": [
    "###################### GENERAL ######################\n",
    "import os\n",
    "import sys\n",
    "import math\n",
    "\n",
    "import numpy as np\n",
    "\n",
    "import time\n",
    "import psutil\n",
    "\n",
    "import tables_io\n",
    "from pathlib import Path\n",
    "\n",
    "###################### ASTRONOMY ######################\n",
    "### ASTROPY\n",
    "from astropy.coordinates import SkyCoord\n",
    "from astropy import units as u\n",
    "\n",
    "###################### PARALLEL COMPUTING ######################\n",
    "### DASK\n",
    "import dask.array\n",
    "from dask.distributed import Client\n",
    "\n",
    "###################### VISUALIZATION ######################\n",
    "### BOKEH\n",
    "import bokeh\n",
    "from bokeh.io import output_notebook, show, output_file, reset_output\n",
    "from bokeh.models import ColumnDataSource, Range1d, HoverTool, CustomJSHover\n",
    "from bokeh.models import CDSView, GroupFilter\n",
    "from bokeh.models import ColorBar, LinearColorMapper\n",
    "from bokeh.plotting import figure, gridplot\n",
    "from bokeh.transform import factor_cmap\n",
    "from bokeh.palettes import Viridis256\n",
    "\n",
    "### HOLOVIEWS\n",
    "import holoviews as hv\n",
    "from holoviews import streams, opts\n",
    "from holoviews.operation import histogram\n",
    "from holoviews.operation.datashader import datashade, rasterize, shade, dynspread, spread\n",
    "from holoviews.plotting.util import process_cmap\n",
    "\n",
    "### GEOVIEWS\n",
    "import geoviews as gv\n",
    "import geoviews.feature as gf\n",
    "from cartopy import crs\n",
    "# For filtering the data with a Polygon contour\n",
    "from shapely.geometry import Polygon\n",
    "\n",
    "### MATPLOTLIB\n",
    "import matplotlib.pyplot as plt\n",
    "from matplotlib.colors import LogNorm\n",
    "\n",
    "### DATASHADER\n",
    "import datashader as dsh\n",
    "\n",
    "###################### HIPSCAT AND LSDB ######################\n",
    "### HIPSCAT\n",
    "## Explore the HiPSCat catalogs and plot sky maps\n",
    "from hipscat.catalog import Catalog\n",
    "from hipscat.inspection import plot_pixels\n",
    "\n",
    "## For converting the data to HiPSCat format and generate margin caches\n",
    "from hipscat_import.catalog.file_readers import CsvReader\n",
    "from hipscat_import.margin_cache.margin_cache_arguments import MarginCacheArguments\n",
    "import hipscat_import.pipeline as runner\n",
    "from hipscat_import.catalog.arguments import ImportArguments\n",
    "# from hipscat_import.pipeline import ImportArguments, pipeline_with_client  \n",
    "\n",
    "### LDSB\n",
    "import lsdb\n",
    "\n",
    "###################### DATA MANAGEMENT ######################\n",
    "### PANDAS\n",
    "import pandas as pd\n",
    "\n",
    "### GEOPANDAS\n",
    "import geopandas as gpd\n",
    "\n",
    "###################### DATA ACCESS ######################\n",
    "### PZ SERVER\n",
    "from pzserver import PzServer \n",
    "\n",
    "### DB LIneA\n",
    "from dblinea import DBBase"
   ]
  },
  {
   "cell_type": "markdown",
   "id": "2ea42d57-bf5b-4020-99dd-731e8a283720",
   "metadata": {},
   "source": [
    "Imprimindo as versões do Python, Numpy, Bokeh e Holoviews:"
   ]
  },
  {
   "cell_type": "code",
   "execution_count": null,
   "id": "a54659e8-f465-4b22-bbcd-56f681ddaa74",
   "metadata": {},
   "outputs": [],
   "source": [
    "print('Python version: ' + sys.version)\n",
    "print('Bokeh version: ' + bokeh.__version__)\n",
    "print('HoloViews version: ' + hv.__version__)\n",
    "print(\"Datashader version: \" + dsh.__version__)"
   ]
  },
  {
   "cell_type": "markdown",
   "id": "8317adad-9d3d-4a8a-a04b-09f6bb55de42",
   "metadata": {},
   "source": [
    "## Configurações"
   ]
  },
  {
   "cell_type": "markdown",
   "id": "e962c49a-af88-4ba1-8050-6935b3197bcd",
   "metadata": {},
   "source": [
    "### Configurações das bibliotecas"
   ]
  },
  {
   "cell_type": "markdown",
   "id": "77dc5f1b-7c6b-4065-bcbf-3485c32be9d6",
   "metadata": {},
   "source": [
    "Definindo o número de linhas que o pandas irá exibir."
   ]
  },
  {
   "cell_type": "code",
   "execution_count": null,
   "id": "39aa6492-7e2b-4200-a1cd-7274099dfc9b",
   "metadata": {},
   "outputs": [],
   "source": [
    "pd.set_option('display.max_rows', 10)"
   ]
  },
  {
   "cell_type": "markdown",
   "id": "454b35cb-741e-460f-9dc4-9e54f9a230e0",
   "metadata": {},
   "source": [
    "Configurando o holoviews e o geoviews para trabalhar com o bokeh:"
   ]
  },
  {
   "cell_type": "code",
   "execution_count": null,
   "id": "99ab2838-c085-4438-9da2-37d952facb8f",
   "metadata": {},
   "outputs": [],
   "source": [
    "hv.extension('bokeh')"
   ]
  },
  {
   "cell_type": "code",
   "execution_count": null,
   "id": "86e62d71-7c94-440f-85c8-0e9f094e86c6",
   "metadata": {},
   "outputs": [],
   "source": [
    "gv.extension('bokeh')"
   ]
  },
  {
   "cell_type": "markdown",
   "id": "1bf21dfd-cee2-4c21-b682-d082f1cc74b7",
   "metadata": {},
   "source": [
    "Configurando os plots do bokeh para serem em linha:"
   ]
  },
  {
   "cell_type": "code",
   "execution_count": null,
   "id": "62ff0bcf-209c-42a1-8fae-73bb1369d95e",
   "metadata": {},
   "outputs": [],
   "source": [
    "output_notebook()"
   ]
  },
  {
   "cell_type": "markdown",
   "id": "7686657b-f1b4-43b4-9d42-6d747a494cfc",
   "metadata": {},
   "source": [
    "Configurando os plots do matplotlib para serem em linha:"
   ]
  },
  {
   "cell_type": "code",
   "execution_count": null,
   "id": "ee39c7b1-b44c-455a-ac7d-dcf6bbc43a37",
   "metadata": {},
   "outputs": [],
   "source": [
    "%matplotlib inline"
   ]
  },
  {
   "cell_type": "markdown",
   "id": "983f68e3-e45c-464d-83fc-a87399f49b3d",
   "metadata": {},
   "source": [
    "Lendo o token e definindo a classe PzServer. **ALTERE CONFORME O DIRETÓRIO DO SEU TOKEN.**"
   ]
  },
  {
   "cell_type": "code",
   "execution_count": null,
   "id": "371e1317-0535-48b5-bfd1-35040f86abef",
   "metadata": {
    "tags": []
   },
   "outputs": [],
   "source": [
    "token_dir = '/home/luigi.silva/token.txt'"
   ]
  },
  {
   "cell_type": "code",
   "execution_count": null,
   "id": "e20a6a3b-944c-4d7b-a57e-3f031f80e4f7",
   "metadata": {},
   "outputs": [],
   "source": [
    "with open(token_dir, 'r') as file:\n",
    "    token = file.read().rstrip()\n",
    "pz_server = PzServer(token=token, host=\"pz-dev\") "
   ]
  },
  {
   "cell_type": "markdown",
   "id": "05af22f2-9c63-4673-80df-5affce899ee5",
   "metadata": {},
   "source": [
    "### Configurações dos plots de distribuição de objetos"
   ]
  },
  {
   "cell_type": "markdown",
   "id": "01f28a04-fb5d-4ac3-b9dd-90f5b37ea33d",
   "metadata": {},
   "source": [
    "Definindo os parâmetros gerais para os plots de distribuição de objetos utilizando geoviews e datashader."
   ]
  },
  {
   "cell_type": "code",
   "execution_count": null,
   "id": "f758588c-3403-49c2-99dd-cb40b7bb6cb0",
   "metadata": {},
   "outputs": [],
   "source": [
    "height = 500    ### Altura do plot.\n",
    "width = 1000    ### Largura do plot.\n",
    "padding = 0.05  ### Padding do plot.\n",
    "xlabel = 'R.A.' ### Label para o eixo x.\n",
    "ylabel = 'Dec.' ### Label para o eixo y."
   ]
  },
  {
   "cell_type": "markdown",
   "id": "298914e2-cbbc-4358-956f-84cba41856c5",
   "metadata": {},
   "source": [
    "Definindo os labels de R.A. e DEC. a serem exibidos nos plots de distribuição de objetos utilizando geoviews e datashader."
   ]
  },
  {
   "cell_type": "code",
   "execution_count": null,
   "id": "0c4d10f7-cfbd-466f-bbfc-e634b8887d09",
   "metadata": {},
   "outputs": [],
   "source": [
    "longitudes = np.arange(30, 360, 30)\n",
    "latitudes = np.arange(-75, 76, 15)\n",
    "\n",
    "lon_labels = [f\"{lon}°\" for lon in longitudes]\n",
    "lat_labels = [f\"{lat}°\" for lat in latitudes]\n",
    "\n",
    "labels_data = {\n",
    "    \"lon\": list(np.flip(longitudes)) + [-180] * len(latitudes),\n",
    "    \"lat\": [0] * len(longitudes) + list(latitudes),\n",
    "    \"label\": lon_labels + lat_labels,\n",
    "}\n",
    "\n",
    "df_labels = pd.DataFrame(labels_data)\n",
    "\n",
    "labels_plot = gv.Labels(df_labels, kdims=[\"lon\", \"lat\"], vdims=[\"label\"]).opts(\n",
    "    text_font_size=\"12pt\",\n",
    "    text_color=\"black\",\n",
    "    text_align='right',\n",
    "    text_baseline='bottom',\n",
    "    projection=crs.Mollweide()\n",
    ")"
   ]
  },
  {
   "cell_type": "markdown",
   "id": "491751f7-0e03-4fa2-87a0-a966b6d0ccf1",
   "metadata": {},
   "source": [
    "Definindo o grid dos gráficos."
   ]
  },
  {
   "cell_type": "code",
   "execution_count": null,
   "id": "77c5c194-4071-407b-b31f-5519cd6edd36",
   "metadata": {},
   "outputs": [],
   "source": [
    "grid = gf.grid()"
   ]
  },
  {
   "cell_type": "markdown",
   "id": "a91cf677-0c33-4063-a9e3-02115a447cf0",
   "metadata": {},
   "source": [
    "# Caracterização da amostra de exemplo"
   ]
  },
  {
   "cell_type": "markdown",
   "id": "c622568d-c784-4fa3-8557-03c5f17f4e46",
   "metadata": {},
   "source": [
    "## Lendo o footprint do DES"
   ]
  },
  {
   "cell_type": "markdown",
   "id": "f5e8ccdf-04ff-44b3-8ddc-275ce32f42c8",
   "metadata": {},
   "source": [
    "A seguir, vamos ler o footprint do DES DR2 e já aplicar uma conversão de coordenadas em R.A. e DEC."
   ]
  },
  {
   "cell_type": "code",
   "execution_count": null,
   "id": "89b991b8-571f-4420-b217-4125463cdfab",
   "metadata": {
    "tags": []
   },
   "outputs": [],
   "source": [
    "foot_ra, foot_dec = np.loadtxt('des-round19-poly.txt', unpack=True)\n",
    "foot_coords = SkyCoord(ra=-foot_ra*u.degree, dec=foot_dec*u.degree, frame='icrs')\n",
    "foot_df = pd.DataFrame({'foot_ra': np.array(foot_coords.ra.wrap_at(180*u.degree)), \n",
    "                        'foot_dec': np.array(foot_coords.dec)})"
   ]
  },
  {
   "cell_type": "markdown",
   "id": "1b6c7dd0-7871-4b6f-8171-4eea54dcfd39",
   "metadata": {},
   "source": [
    "Já vamos definir também a curva do footprint do DES, para os plots de distribuição de objetos."
   ]
  },
  {
   "cell_type": "code",
   "execution_count": null,
   "id": "9e6c5e85-85ba-466b-a255-fd66cf353169",
   "metadata": {},
   "outputs": [],
   "source": [
    "ra_dec_foot = gv.Path((-foot_ra, foot_dec)).opts(line_width=3, color='orange')"
   ]
  },
  {
   "cell_type": "markdown",
   "id": "500070eb-1929-46d9-b74c-40090a5d238b",
   "metadata": {},
   "source": [
    "## Dados espectroscópicos"
   ]
  },
  {
   "cell_type": "markdown",
   "id": "6395c2de-e5c9-4b03-b1eb-48014fddd51c",
   "metadata": {},
   "source": [
    "### Amostra pública de *redshifts* espectroscópicos - Completa"
   ]
  },
  {
   "cell_type": "markdown",
   "id": "afecad99-574f-47ba-a95d-31aa73976f29",
   "metadata": {},
   "source": [
    "O produto [Public spec-z compilation](https://pz-server-dev.linea.org.br/product/26_public_specz_compilation) é um compilado de catálogos de diferentes levantamentos os quais foram coletados ao longo dos anos de operação do Dark Energy Survey (DES) e agrupados sistematicamente pela ferramenta DES Science Portal (pipeline Spectroscopic Sample) para formar a base de um conjunto de treinamento para algoritmos de cálculo de *redshifts* fotométricos baseados em machine learning. "
   ]
  },
  {
   "cell_type": "code",
   "execution_count": null,
   "id": "9873d7be-a198-455b-a5ea-775f6a391936",
   "metadata": {
    "tags": []
   },
   "outputs": [],
   "source": [
    "#specz = pz_server.get_product('26_public_specz_compilation')"
   ]
  },
  {
   "cell_type": "code",
   "execution_count": null,
   "id": "0efc64ac-4ce1-4120-8645-7e30d14fbb06",
   "metadata": {
    "tags": []
   },
   "outputs": [],
   "source": [
    "#specz.display_metadata()"
   ]
  },
  {
   "cell_type": "code",
   "execution_count": null,
   "id": "a34f1a14-ef6a-43c0-9f42-879ee303fde1",
   "metadata": {
    "tags": []
   },
   "outputs": [],
   "source": [
    "#specz.data.describe()"
   ]
  },
  {
   "cell_type": "code",
   "execution_count": null,
   "id": "4265d507-f902-43ad-b60e-e17cc8bdd702",
   "metadata": {
    "tags": []
   },
   "outputs": [],
   "source": [
    "#specz.plot()"
   ]
  },
  {
   "cell_type": "markdown",
   "id": "5f519e6b-d981-41de-a07e-0f94bdcf56a2",
   "metadata": {},
   "source": [
    "### Amostra utilizada nos testes - Seleção do 2dflens"
   ]
  },
  {
   "cell_type": "markdown",
   "id": "60575da1-3fc0-4eaa-bcdc-8f126b6a87fc",
   "metadata": {},
   "source": [
    "Como dito anteriormente, o produto [Public spec-z compilation](https://pz-server-dev.linea.org.br/product/26_public_specz_compilation) é um compilado de *redshifts* espectroscópicos de vários levantamentos astronômicos. Muitos desses levantamentos observaram regiões comuns do céu. Ao agrupar todas as medidas em um catálogo único, geralmente há medidas múltiplas de *redshift* espectroscópico para um mesmo objeto. Para identificar esses casos, o *pipeline* Spectroscopic Sample faz uma combinação espacial entre as coordenadas equatoriais de \"todos contra todos\" com um raio de busca de 1.0 *arcsec* de cada objeto. Então, ele aplica uma seleção para manter apenas uma medida para cada objeto extragaláctico presente na amostra, seguindo o critério abaixo para escolha e desempate:\n",
    "\n",
    "1. medida com a maior _flag_ de qualidade (`flag_des`)\n",
    "2. medida com o menor erro no *redshift* (`err_z`)\n",
    "3. medida obtida pelo levantamento mais recente\n",
    "\n",
    "Portanto, os objetos do levantamento 2dflens apresentados aqui são aqueles que permaneceram após a seleção considerando todos os catálogos presentes no produto [Public spec-z compilation](https://pz-server-dev.linea.org.br/product/26_public_specz_compilation). Um corte de qualidade também foi aplicado onde apenas objetos com flag_des ⩾ 3 foram incluídos na amostra."
   ]
  },
  {
   "cell_type": "markdown",
   "id": "40e807e6-571c-4522-92ea-356586349119",
   "metadata": {},
   "source": [
    "#### Todos os objetos do 2dflens, contidos no produto Public spec-z compilation"
   ]
  },
  {
   "cell_type": "markdown",
   "id": "dc21eafb-86e6-496c-9f13-709418232fb2",
   "metadata": {},
   "source": [
    "Pegando o produto referente ao 2dflens no pzserver:"
   ]
  },
  {
   "cell_type": "code",
   "execution_count": null,
   "id": "436ae0c1-e5b7-44d2-9e8f-0ee4f9b35c85",
   "metadata": {
    "tags": []
   },
   "outputs": [],
   "source": [
    "specz = pz_server.get_product('52_2dflens_public_specz')"
   ]
  },
  {
   "cell_type": "markdown",
   "id": "ee3b3d4a-fff0-42d6-8358-6b03d063e0a3",
   "metadata": {},
   "source": [
    "Mostrando os metadados do produto:"
   ]
  },
  {
   "cell_type": "code",
   "execution_count": null,
   "id": "4970d3e5-bb17-455c-ae3c-1fb71a07673e",
   "metadata": {
    "tags": []
   },
   "outputs": [],
   "source": [
    "#specz.display_metadata()"
   ]
  },
  {
   "cell_type": "markdown",
   "id": "96b6fdfc-5e12-4fee-824f-9d55d70907bd",
   "metadata": {},
   "source": [
    "Mostrando as estatísticas básicas dos dados:"
   ]
  },
  {
   "cell_type": "code",
   "execution_count": null,
   "id": "6535d109-ac55-41e1-bbe3-540bc93fa917",
   "metadata": {
    "tags": []
   },
   "outputs": [],
   "source": [
    "specz.data.describe()"
   ]
  },
  {
   "cell_type": "markdown",
   "id": "3c39323e-7f5f-4ca8-a2ff-8ca886346c80",
   "metadata": {},
   "source": [
    "Fazendo uma cópia do dataframe para fazer os plots."
   ]
  },
  {
   "cell_type": "code",
   "execution_count": null,
   "id": "0b4501c2-b82a-45d8-ad83-fec8271979d6",
   "metadata": {
    "tags": []
   },
   "outputs": [],
   "source": [
    "df_2dflens_all = specz.data.copy()"
   ]
  },
  {
   "cell_type": "markdown",
   "id": "60afebf5-5bed-4497-bfb3-fe2203be4c9e",
   "metadata": {},
   "source": [
    "**Plot**"
   ]
  },
  {
   "cell_type": "markdown",
   "id": "7e99326a-009a-406f-9f46-766538396e42",
   "metadata": {},
   "source": [
    "Definindo os pontos a serem utilizados no plot:"
   ]
  },
  {
   "cell_type": "code",
   "execution_count": null,
   "id": "cab8eb06-7e72-4e91-b52b-46618cb95e4f",
   "metadata": {},
   "outputs": [],
   "source": [
    "df_input = df_2dflens_all\n",
    "\n",
    "## Usando apenas uma fração dos dados:\n",
    "frac = 0.05  \n",
    "input_sample_for_plots = df_input.sample(frac=frac, axis='index')\n",
    "assert len(input_sample_for_plots) == round(frac * len(df_input))\n",
    "\n",
    "## Using all data:\n",
    "input_sample_for_plots = df_input  ## Comment this line to use a fraction of the data.\n",
    "\n",
    "print(\"Total number of objects in the sample: \"+str(len(df_input)))\n",
    "print(\"Number of objects used in the plots: \"+str(len(input_sample_for_plots)))"
   ]
  },
  {
   "cell_type": "markdown",
   "id": "fc727bba-18f9-4899-affd-f3fcb5a1f12e",
   "metadata": {},
   "source": [
    "Redefinindo as coordenadas R.A. e DEC. para os plots:"
   ]
  },
  {
   "cell_type": "code",
   "execution_count": null,
   "id": "b08cb612-f7de-4c22-ad5e-0ceb338fa14a",
   "metadata": {
    "tags": []
   },
   "outputs": [],
   "source": [
    "coords = SkyCoord(ra=-np.array(input_sample_for_plots.ra)*u.degree, \n",
    "                  dec=np.array(input_sample_for_plots.dec)*u.degree, frame='icrs')\n",
    "input_sample_for_plots.ra = np.array(coords.ra.wrap_at(180*u.degree))\n",
    "input_sample_for_plots.dec = np.array(coords.dec)"
   ]
  },
  {
   "cell_type": "markdown",
   "id": "fa1fe7aa-fa47-4eb3-a285-435c0692df71",
   "metadata": {},
   "source": [
    "Fazendo o plot com o geoviews e datashader:"
   ]
  },
  {
   "cell_type": "code",
   "execution_count": null,
   "id": "b8e3542c-f2f6-4982-85cf-4f2f2a1e6e2f",
   "metadata": {
    "tags": []
   },
   "outputs": [],
   "source": [
    "%%time\n",
    "title = 'Distribuição Espacial - Todos os dados do 2dflens' ### Título do plot.\n",
    "\n",
    "### Defining the points in geoviews.\n",
    "ra_dec_points = gv.Points((input_sample_for_plots['ra'],input_sample_for_plots['dec']), kdims=['ra', 'dec'])\n",
    "\n",
    "### Defining the projected points using cartopy Mollweide().\n",
    "projected = gv.operation.project(ra_dec_points, projection=crs.Mollweide())\n",
    "\n",
    "### Using datashader.\n",
    "dsh_points = dynspread(rasterize(projected).opts(cmap=\"Viridis\", cnorm='log'))\n",
    "dsh_points = dsh_points.opts(width=width, height=height, padding=padding, title=title, toolbar='above', colorbar=True, tools=['box_select'])\n",
    "\n",
    "### Plotting.\n",
    "dsh_points * ra_dec_foot * grid * labels_plot"
   ]
  },
  {
   "cell_type": "markdown",
   "id": "eb578764-9666-4014-a16a-d9a63ef22011",
   "metadata": {},
   "source": [
    "#### Objetos do 2dflens filtrados para pertencerem ao footprint do DES"
   ]
  },
  {
   "cell_type": "markdown",
   "id": "b595641f-726e-4ad8-a12f-56328d8b6a9d",
   "metadata": {},
   "source": [
    "A seguir, faremos um filtro para pegar dados dentro do footprint do DES."
   ]
  },
  {
   "cell_type": "markdown",
   "id": "8ff43299-5231-4c59-b4fa-1c1c5e0d456e",
   "metadata": {},
   "source": [
    "**Filtro simples utilizando o pandas**"
   ]
  },
  {
   "cell_type": "markdown",
   "id": "79176722-aeb1-459f-a118-085df7e32f5d",
   "metadata": {},
   "source": [
    "O filtro a seguir pega objetos com $ra<90$ ou $ra>359$, e $dec < -15$."
   ]
  },
  {
   "cell_type": "code",
   "execution_count": null,
   "id": "52d75b6e-cc5b-4417-8c89-933b846f0f18",
   "metadata": {
    "tags": []
   },
   "outputs": [],
   "source": [
    "df_2dflens_filt = specz.data.query(\"ra > 359 | ra < 90. & dec < -15.\").copy()"
   ]
  },
  {
   "cell_type": "markdown",
   "id": "c9210193-9bcd-44c4-9504-59b77e2953b0",
   "metadata": {},
   "source": [
    "Estatística básica desses dados filtrados:"
   ]
  },
  {
   "cell_type": "code",
   "execution_count": null,
   "id": "45c18664-7fbf-4626-8ca5-2af2ee0272ed",
   "metadata": {
    "tags": []
   },
   "outputs": [],
   "source": [
    "df_2dflens_filt.describe()"
   ]
  },
  {
   "cell_type": "markdown",
   "id": "ec9211fb-680c-4865-9e8a-2769ad3c99e1",
   "metadata": {},
   "source": [
    "**Filtro utilizando o geopandas**"
   ]
  },
  {
   "cell_type": "markdown",
   "id": "ab7e1ba8-5c87-41a5-b2df-1708ee161c64",
   "metadata": {},
   "source": [
    "Fazendo um polígono com geopandas, que conterá a geometria do footprint do DES."
   ]
  },
  {
   "cell_type": "code",
   "execution_count": null,
   "id": "9d319edf-ad00-41e4-9905-f1e294269702",
   "metadata": {
    "tags": []
   },
   "outputs": [],
   "source": [
    "#! mkdir -p geopandas-des-footprint"
   ]
  },
  {
   "cell_type": "code",
   "execution_count": null,
   "id": "4887e6e9-bfd3-4887-ae21-de3e7cba3c28",
   "metadata": {},
   "outputs": [],
   "source": [
    "#lat_point_list = foot_df['foot_dec']\n",
    "#lon_point_list = foot_df['foot_ra']\n",
    "\n",
    "#polygon_geom = Polygon(zip(lon_point_list, lat_point_list))\n",
    "#polygon = gpd.GeoDataFrame(index=[0], crs='epsg:4326', geometry=[polygon_geom])       \n",
    "\n",
    "#polygon.to_file(filename='./geopandas-des-footprint/polygon.geojson', driver='GeoJSON')\n",
    "#polygon.to_file(filename='./geopandas-des-footprint/polygon.gpkg', driver=\"GPKG\")\n",
    "#polygon.to_file(filename='./geopandas-des-footprint/polygon.shp', driver=\"ESRI Shapefile\")"
   ]
  },
  {
   "cell_type": "markdown",
   "id": "6973e36e-cd8c-4968-af16-6cc27d669284",
   "metadata": {},
   "source": [
    "Lendo essa geometria."
   ]
  },
  {
   "cell_type": "code",
   "execution_count": null,
   "id": "47e302bc-6ab8-4825-85ab-8c5cccebd2b3",
   "metadata": {
    "tags": []
   },
   "outputs": [],
   "source": [
    "#world = gpd.read_file('./geopandas-des-footprint/polygon.shp')"
   ]
  },
  {
   "cell_type": "markdown",
   "id": "41586a77-f9bc-4508-9851-0798bfed4527",
   "metadata": {},
   "source": [
    "Transformando o pandas datframe em um geopandas dataframe."
   ]
  },
  {
   "cell_type": "code",
   "execution_count": null,
   "id": "66866867-5c59-4138-bbbe-f9ae689346dc",
   "metadata": {
    "tags": []
   },
   "outputs": [],
   "source": [
    "#gdf = gpd.GeoDataFrame(df_2dflens_all,\n",
    "#                       geometry=gpd.points_from_xy(df_2dflens_all.ra, \n",
    "#                                                   df_2dflens_all.dec)) "
   ]
  },
  {
   "cell_type": "markdown",
   "id": "4fab247b-900e-4920-a1f4-62c515768208",
   "metadata": {},
   "source": [
    "Aplicando o filtro para guardar apenas objetos que estejam dentro do footprint do DES."
   ]
  },
  {
   "cell_type": "code",
   "execution_count": null,
   "id": "b46e1b98-9732-4a2f-b79e-aeca2d8fb6e8",
   "metadata": {
    "tags": []
   },
   "outputs": [],
   "source": [
    "#pip = gdf.within(world.loc[0, 'geometry'])\n",
    "#df_2dflens_filt = gdf.loc[pip].copy()"
   ]
  },
  {
   "cell_type": "markdown",
   "id": "2cdcc60e-496c-4721-a4ff-1442a48b9bb8",
   "metadata": {},
   "source": [
    "**Plot**"
   ]
  },
  {
   "cell_type": "markdown",
   "id": "e9b094a8-988a-4782-830c-86e3867a38f1",
   "metadata": {},
   "source": [
    "Definindo os pontos a serem utilizados no plot:"
   ]
  },
  {
   "cell_type": "code",
   "execution_count": null,
   "id": "d57764a0-d682-43c7-b884-fb3370a23afd",
   "metadata": {},
   "outputs": [],
   "source": [
    "df_input = df_2dflens_filt\n",
    "\n",
    "## Usando apenas uma fração dos dados:\n",
    "frac = 0.05  \n",
    "input_sample_for_plots = df_input.sample(frac=frac, axis='index')\n",
    "assert len(input_sample_for_plots) == round(frac * len(df_input))\n",
    "\n",
    "## Using all data:\n",
    "input_sample_for_plots = df_input   ## Comment this line to use a fraction of the data.\n",
    "\n",
    "print(\"Total number of objects in the sample: \"+str(len(df_input)))\n",
    "print(\"Number of objects used in the plots: \"+str(len(input_sample_for_plots)))"
   ]
  },
  {
   "cell_type": "markdown",
   "id": "e8e1d296-b64e-4d26-a1a4-cfe52feac56c",
   "metadata": {},
   "source": [
    "Redefinindo as coordenadas R.A. e DEC. para os plots:"
   ]
  },
  {
   "cell_type": "code",
   "execution_count": null,
   "id": "598fd883-b678-462e-aa30-ca2ff6c80420",
   "metadata": {
    "tags": []
   },
   "outputs": [],
   "source": [
    "coords = SkyCoord(ra=-np.array(input_sample_for_plots.ra)*u.degree, \n",
    "                  dec=np.array(input_sample_for_plots.dec)*u.degree, frame='icrs')\n",
    "input_sample_for_plots.ra = np.array(coords.ra.wrap_at(180*u.degree))\n",
    "input_sample_for_plots.dec = np.array(coords.dec)"
   ]
  },
  {
   "cell_type": "markdown",
   "id": "ab0c8fbf-a575-49df-bd46-e09d55262b03",
   "metadata": {},
   "source": [
    "Fazendo o plot dos dados filtrados com o geoviews e datashader:"
   ]
  },
  {
   "cell_type": "code",
   "execution_count": null,
   "id": "123253ca-e991-4bd4-91dd-b7e58fd88c5b",
   "metadata": {
    "tags": []
   },
   "outputs": [],
   "source": [
    "%%time\n",
    "title = 'Distribuição Espacial - Dados do 2dflens filtrados' ### Título do plot.\n",
    "\n",
    "### Defining the points in geoviews.\n",
    "ra_dec_points = gv.Points((input_sample_for_plots['ra'],input_sample_for_plots['dec']), kdims=['ra', 'dec'])\n",
    "\n",
    "### Defining the projected points using cartopy Mollweide().\n",
    "projected = gv.operation.project(ra_dec_points, projection=crs.Mollweide())\n",
    "\n",
    "### Using datashader.\n",
    "dsh_points = dynspread(rasterize(projected).opts(cmap=\"Viridis\", cnorm='log'))\n",
    "dsh_points = dsh_points.opts(width=width, height=height, padding=padding, title=title, toolbar='above', colorbar=True, tools=['box_select'])\n",
    "\n",
    "### Plotting.\n",
    "dsh_points * ra_dec_foot * grid * labels_plot"
   ]
  },
  {
   "cell_type": "markdown",
   "id": "7c5f7cee-60ae-4053-8818-c87ef720fa5c",
   "metadata": {
    "tags": []
   },
   "source": [
    "## Dados fotométricos"
   ]
  },
  {
   "cell_type": "markdown",
   "id": "6dc0b8d2-21ff-4825-a370-706a04e63162",
   "metadata": {},
   "source": [
    "### Lendo os dados do DES DR2, contidos na região do 2dflens, com a biblioteca dblinea"
   ]
  },
  {
   "cell_type": "markdown",
   "id": "8bf98f93-1bbc-4bcc-9cb8-af6132e0779d",
   "metadata": {},
   "source": [
    "Definindo a classe DBBase, que faz a conexão com o banco de dados."
   ]
  },
  {
   "cell_type": "code",
   "execution_count": null,
   "id": "b1393b6e-f92b-4ec8-98e5-a865652b304d",
   "metadata": {
    "tags": []
   },
   "outputs": [],
   "source": [
    "db = DBBase()"
   ]
  },
  {
   "cell_type": "markdown",
   "id": "a172251b-1eb1-4a7a-b0fc-d3ab192ae897",
   "metadata": {},
   "source": [
    "Definindo quais dados nós queremos acessar. Aqui, nós vamos acessar os dados da tabela **coadd_objects** do catálogo **DES DR2**."
   ]
  },
  {
   "cell_type": "code",
   "execution_count": null,
   "id": "1e348ed5-a034-4469-9c17-854e4ab30f72",
   "metadata": {
    "tags": []
   },
   "outputs": [],
   "source": [
    "schema = \"des_dr2\"  \n",
    "tablename = \"coadd_objects\""
   ]
  },
  {
   "cell_type": "markdown",
   "id": "5f2483ac-41bb-4483-8e9f-d2c00922bedf",
   "metadata": {},
   "source": [
    "Obtendo o número de colunas da tabela original (o nome e significado de cada coluna pode ser encontrado [aqui](https://des.ncsa.illinois.edu/releases/dr2/dr2-products/dr2-schema))."
   ]
  },
  {
   "cell_type": "code",
   "execution_count": null,
   "id": "b42b1f6a-7477-4b9f-984c-06c7e440563e",
   "metadata": {},
   "outputs": [],
   "source": [
    "tot_columns_list = db.get_table_columns(tablename, schema=schema)\n",
    "print(\"Number of columns in the original table: \"+str(len(tot_columns_list)))"
   ]
  },
  {
   "cell_type": "markdown",
   "id": "ffb0a4bc-7249-4818-a375-604730a4c90c",
   "metadata": {},
   "source": [
    "Fazendo a busca em uma região com ra entre 7 e 10, e dec entre -32.7 e -32.2."
   ]
  },
  {
   "cell_type": "code",
   "execution_count": null,
   "id": "4d3c057c-a13c-44a4-a541-e347bdeada37",
   "metadata": {},
   "outputs": [],
   "source": [
    "query = (f\"SELECT coadd_object_id, ra, dec, mag_auto_g_dered, mag_auto_r_dered, mag_auto_i_dered, mag_auto_z_dered, mag_auto_y_dered, magerr_auto_g, \"+\n",
    "         f\"magerr_auto_r, magerr_auto_i, magerr_auto_z, magerr_auto_y, flags_g, flags_r, flags_i, flags_z, flags_y, extended_class_coadd \"+ \n",
    "         f\"FROM des_dr2.coadd_objects \"+\n",
    "         f\"WHERE (dec <= -32.2 AND dec >= -32.7 AND ra <= 10. AND ra>=7.) \"\n",
    "        )"
   ]
  },
  {
   "cell_type": "code",
   "execution_count": null,
   "id": "a02be453-83b9-4827-ac40-db6211e4307d",
   "metadata": {},
   "outputs": [],
   "source": [
    "#%%time\n",
    "df_phot = db.fetchall_df(query)"
   ]
  },
  {
   "cell_type": "markdown",
   "id": "61694e71-8312-4104-8cb0-6d0fd322cdc3",
   "metadata": {},
   "source": [
    "### Lendo os dados do DES DR2, contidos na região do 2dflens, salvos localmente"
   ]
  },
  {
   "cell_type": "markdown",
   "id": "ce0d6231-040d-4ae9-9276-8b9458955043",
   "metadata": {},
   "source": [
    "A seguir, eu leio os dados do DES DR2 a partir de um arquivo salvo localmente. Se você também quiser ler a partir de um arquivo local, **ALTERE CONFORME O DIRETÓRIO DOS SEUS DADOS**."
   ]
  },
  {
   "cell_type": "code",
   "execution_count": null,
   "id": "d6340106-38a8-4f71-8352-968c3703ca88",
   "metadata": {
    "tags": []
   },
   "outputs": [],
   "source": [
    "#df_phot = pd.read_csv('/home/luigi.silva/hipscat_data_des_small_region/input/ALGUMA_COISA.csv')\n",
    "#df_phot = df_phot.set_index('Unnamed: 0')\n",
    "#df_phot.index.name = None"
   ]
  },
  {
   "cell_type": "markdown",
   "id": "aa4f7c5b-b310-4c5d-9669-b3285bd9586f",
   "metadata": {},
   "source": [
    "### Prévia dos dados e estatística básica"
   ]
  },
  {
   "cell_type": "markdown",
   "id": "5a8c683b-66e6-46ef-bc44-7a953ba7a097",
   "metadata": {},
   "source": [
    "Prévia dos dados:"
   ]
  },
  {
   "cell_type": "code",
   "execution_count": null,
   "id": "616b8fd1-ce7a-4c44-a975-b5a75b6044de",
   "metadata": {
    "tags": []
   },
   "outputs": [],
   "source": [
    "df_phot.head()"
   ]
  },
  {
   "cell_type": "markdown",
   "id": "9bb5d635-94e7-4272-8fd9-9b39c0bd019b",
   "metadata": {},
   "source": [
    "Estatísticas básicas:"
   ]
  },
  {
   "cell_type": "code",
   "execution_count": null,
   "id": "44436669-1a3f-4141-b7a8-a7e2e415b59a",
   "metadata": {
    "tags": []
   },
   "outputs": [],
   "source": [
    "df_phot.describe()"
   ]
  },
  {
   "cell_type": "markdown",
   "id": "bef8b791-0044-435e-9fff-4ec0708ecdd7",
   "metadata": {},
   "source": [
    "Salvando os dados em um arquivo. **ALTERE CONFORME O SEU DIRETÓRIO LOCAL.**"
   ]
  },
  {
   "cell_type": "code",
   "execution_count": null,
   "id": "0b67bf8c-ba2c-4afe-b2d5-437d00c155b2",
   "metadata": {
    "tags": []
   },
   "outputs": [],
   "source": [
    "### Salvando o arquivo.\n",
    "#df_phot.to_parquet('/home/luigi.silva/hipscat_data_des_small_region/input/photoz/photoz-des-dr2-sample.pq', index=False)\n",
    "\n",
    "#df_phot.to_csv('/home/luigi.silva/hipscat_data_des_small_region/input/photoz/photoz-des-dr2-sample.csv', index=False)"
   ]
  },
  {
   "cell_type": "markdown",
   "id": "04734209-bd76-46d1-a1b0-2ef15e9ba2e5",
   "metadata": {},
   "source": [
    "### Plot"
   ]
  },
  {
   "cell_type": "markdown",
   "id": "9169f014-086a-4f25-b631-641935794e7c",
   "metadata": {},
   "source": [
    "Definindo os pontos a serem utilizados no plot:"
   ]
  },
  {
   "cell_type": "code",
   "execution_count": null,
   "id": "ed8e3ed1-b62a-4cc5-a9b4-50603df142da",
   "metadata": {
    "tags": []
   },
   "outputs": [],
   "source": [
    "df_input = df_phot\n",
    "\n",
    "## Usando apenas uma fração dos dados:\n",
    "frac = 0.05  \n",
    "input_sample_for_plots = df_input.sample(frac=frac, axis='index')\n",
    "assert len(input_sample_for_plots) == round(frac * len(df_input))\n",
    "\n",
    "## Using all data:\n",
    "input_sample_for_plots = df_input   ## Comment this line to use a fraction of the data.\n",
    "\n",
    "print(\"Total number of objects in the sample: \"+str(len(df_input)))\n",
    "print(\"Number of objects used in the plots: \"+str(len(input_sample_for_plots)))"
   ]
  },
  {
   "cell_type": "markdown",
   "id": "412e6e97-2d3f-4f82-85a3-26bc8906818e",
   "metadata": {},
   "source": [
    "Redefinindo as coordendas R.A. e DEC. para os plots:"
   ]
  },
  {
   "cell_type": "code",
   "execution_count": null,
   "id": "4fc42927-db59-4eca-9ac9-399a8d2887cd",
   "metadata": {},
   "outputs": [],
   "source": [
    "coords = SkyCoord(ra=-np.array(input_sample_for_plots.ra)*u.degree, \n",
    "                  dec=np.array(input_sample_for_plots.dec)*u.degree, frame='icrs')\n",
    "input_sample_for_plots.ra = np.array(coords.ra.wrap_at(180*u.degree))\n",
    "input_sample_for_plots.dec = np.array(coords.dec)"
   ]
  },
  {
   "cell_type": "markdown",
   "id": "e7d93b84-1d38-4cdf-8dd4-57137aee1a2a",
   "metadata": {},
   "source": [
    "Fazendo o plot dos dados filtrados com o geoviews e datashader:"
   ]
  },
  {
   "cell_type": "code",
   "execution_count": null,
   "id": "3aa06fe8-8d96-4563-9125-0ef44d1df359",
   "metadata": {},
   "outputs": [],
   "source": [
    "%%time\n",
    "title = 'Distribuição Espacial - Dados do DES DR2 filtrados' ### Título do plot.\n",
    "\n",
    "### Defining the points in geoviews.\n",
    "ra_dec_points = gv.Points((input_sample_for_plots['ra'],input_sample_for_plots['dec']), kdims=['ra', 'dec'])\n",
    "\n",
    "### Defining the projected points using cartopy Mollweide().\n",
    "projected = gv.operation.project(ra_dec_points, projection=crs.Mollweide())\n",
    "\n",
    "### Using datashader.\n",
    "dsh_points = dynspread(rasterize(projected).opts(cmap=\"Viridis\", cnorm='log'))\n",
    "dsh_points = dsh_points.opts(width=width, height=height, padding=padding, title=title, toolbar='above', colorbar=True, tools=['box_select'])\n",
    "\n",
    "### Plotting.\n",
    "dsh_points * ra_dec_foot * grid * labels_plot"
   ]
  },
  {
   "cell_type": "markdown",
   "id": "de3c2bd9-bd39-4d5f-a9f9-48b8eb38a019",
   "metadata": {},
   "source": [
    "# Utilizando o `hipscat_import`"
   ]
  },
  {
   "cell_type": "markdown",
   "id": "12cbd175-d508-4beb-a1cb-8f00d266f42e",
   "metadata": {},
   "source": [
    "## Instalação do `hipscat_import` \n",
    "\n",
    "```shell\n",
    "pip install hipscat-import\n",
    "\n",
    "```"
   ]
  },
  {
   "cell_type": "markdown",
   "id": "d928e14c-32e9-4769-9edf-2ce74bf384f7",
   "metadata": {},
   "source": [
    "## Conversão para o formato hipscat dos dados espectroscópicos"
   ]
  },
  {
   "cell_type": "markdown",
   "id": "e8e4d7ce-60a8-4cb2-a0ab-69f2aef39bb8",
   "metadata": {},
   "source": [
    "### Reescrevendo o arquivo original, com ObjectID fictício (inteiro sequencial)"
   ]
  },
  {
   "cell_type": "code",
   "execution_count": null,
   "id": "a53b2d3f-5d8d-42b4-9f29-7804c805f4c4",
   "metadata": {
    "tags": []
   },
   "outputs": [],
   "source": [
    "### Selecionando as linhas da tabela original utilizando o filtro anterior como máscara.\n",
    "df_2dflens_reset = specz.data[specz.data.index.isin(df_2dflens_filt.index)].copy() "
   ]
  },
  {
   "cell_type": "code",
   "execution_count": null,
   "id": "0e99c124-9742-45f7-9e21-dc811f3e73fe",
   "metadata": {
    "tags": []
   },
   "outputs": [],
   "source": [
    "### Resetando os índices.\n",
    "df_2dflens_reset = df_2dflens_reset.reset_index()"
   ]
  },
  {
   "cell_type": "markdown",
   "id": "3cc1826a-7bb8-4f00-8ca0-22c57e70cf3e",
   "metadata": {},
   "source": [
    "Prévia dos dados:"
   ]
  },
  {
   "cell_type": "code",
   "execution_count": null,
   "id": "fff47a46-ff47-4f53-a567-64fd62b8810f",
   "metadata": {
    "tags": []
   },
   "outputs": [],
   "source": [
    "df_2dflens_reset.head()"
   ]
  },
  {
   "cell_type": "markdown",
   "id": "86eda5b3-eb72-4875-ba4f-3ceff9cfa10b",
   "metadata": {},
   "source": [
    "Estatística básica:"
   ]
  },
  {
   "cell_type": "code",
   "execution_count": null,
   "id": "258fd2b6-fbb6-4ca7-9054-ec6152a6caf0",
   "metadata": {
    "tags": []
   },
   "outputs": [],
   "source": [
    "df_2dflens_reset.describe()"
   ]
  },
  {
   "cell_type": "markdown",
   "id": "ba1d6f89-da16-446c-ac50-bf353d25fbf1",
   "metadata": {},
   "source": [
    "Salvando em arquivo. **ALTERE CONFORME O SEU DIRETÓRIO LOCAL.**"
   ]
  },
  {
   "cell_type": "code",
   "execution_count": null,
   "id": "a9a8f8f5-4adc-42b5-8a91-7ac03d3189b4",
   "metadata": {
    "tags": []
   },
   "outputs": [],
   "source": [
    "### Salvando o arquivo.\n",
    "#df_2dflens_reset.to_parquet('/home/luigi.silva/hipscat_data_des_small_region/input/specz/specz-2dflens.pq', index=False)\n",
    "\n",
    "#df_2dflens_reset.to_csv('/home/luigi.silva/hipscat_data/input/specz/specz-2dflens.csv', index=False)"
   ]
  },
  {
   "cell_type": "markdown",
   "id": "c8874c2f-aeec-4f38-b718-c03884c04c35",
   "metadata": {},
   "source": [
    "### Convertendo para o formato hipscat"
   ]
  },
  {
   "cell_type": "markdown",
   "id": "b03a697b-a5ee-409c-8dc9-0534db7e351a",
   "metadata": {},
   "source": [
    "Exemplos de referência: <br>\n",
    "https://lsdb.readthedocs.io/en/stable/tutorials/pre_executed/des-gaia.html <br>\n",
    "https://hipscat-import.readthedocs.io/en/stable/catalogs/public/sdss.html <br>"
   ]
  },
  {
   "cell_type": "markdown",
   "id": "35043f72-49b5-47ce-9df0-2055aa4e08cb",
   "metadata": {},
   "source": [
    "Definindo os diretórios para os dados:"
   ]
  },
  {
   "cell_type": "code",
   "execution_count": null,
   "id": "29c5c768-5ffd-4158-b8a0-03ca496d3bc6",
   "metadata": {
    "tags": []
   },
   "outputs": [],
   "source": [
    "# Change to the directories where the data will be stored\n",
    "_2DFLENS_DIR = Path(\"/home/luigi.silva/hipscat_data_des_small_region/input/specz/\")\n",
    "\n",
    "_2DFLENS_HIPSCAT_NAME = \"_2dflens\"\n",
    "_2DFLENS_MARGIN_CACHE_NAME = \"_2dflens_1arcsec\"\n",
    "\n",
    "HIPSCAT_DIR = Path(\"/home/luigi.silva/hipscat_data_des_small_region/hipscat/\")\n",
    "_2DFLENS_HIPSCAT_DIR = HIPSCAT_DIR / _2DFLENS_HIPSCAT_NAME\n",
    "\n",
    "_2DFLENS_MARGIN_CACHE_DIR = HIPSCAT_DIR / _2DFLENS_MARGIN_CACHE_NAME"
   ]
  },
  {
   "cell_type": "markdown",
   "id": "05a399ef-9797-414d-a703-a5bc03b24486",
   "metadata": {},
   "source": [
    "Convertendo os dados para o formato hipscat (**DESCOMENTE A ÚLTIMA LINHA PARA RODAR O PIPELINE**):"
   ]
  },
  {
   "cell_type": "code",
   "execution_count": null,
   "id": "3c7376a1-62f4-44c3-a1e5-06aca2414457",
   "metadata": {
    "tags": []
   },
   "outputs": [],
   "source": [
    "_2dflens_args = ImportArguments(\n",
    "    sort_columns=\"index\",\n",
    "    ra_column=\"ra\",\n",
    "    dec_column=\"dec\",\n",
    "    input_path=_2DFLENS_DIR,\n",
    "    file_reader=\"parquet\",\n",
    "    output_artifact_name=_2DFLENS_HIPSCAT_NAME,\n",
    "    output_path=HIPSCAT_DIR,\n",
    "    pixel_threshold=1_000,\n",
    "    # Uncomment to overwrite existing catalog\n",
    "    # overwrite=True\n",
    ")\n",
    "\n",
    "### UNCOMMENT TO RUN THE PIPELINE\n",
    "#runner.pipeline(_2dflens_args)"
   ]
  },
  {
   "cell_type": "markdown",
   "id": "19063d4d-0480-4054-b49c-2f2e96dc8e90",
   "metadata": {},
   "source": [
    "Fazendo o plot dos pixels:"
   ]
  },
  {
   "cell_type": "code",
   "execution_count": null,
   "id": "56e7008e-555b-4442-a17f-60f4f468f76b",
   "metadata": {
    "tags": []
   },
   "outputs": [],
   "source": [
    "# Read the HiPSCat catalog metadata, it does not load any data, just healpix pixels and other metadata\n",
    "_2dflens_hipscat_catalog = Catalog.read_from_hipscat(_2DFLENS_HIPSCAT_DIR)\n",
    "plot_pixels(_2dflens_hipscat_catalog)"
   ]
  },
  {
   "cell_type": "markdown",
   "id": "77cd5ecd-410c-4266-b8d8-f702ae26cc96",
   "metadata": {},
   "source": [
    "\"LSDB requires right-catalog margin cache to generate the complete cross-match result. Without the margin cache, the objects located near the edges of Healpix tiles may be missed in the cross-match.\" - https://lsdb.readthedocs.io/en/stable/tutorials/pre_executed/des-gaia.html"
   ]
  },
  {
   "cell_type": "markdown",
   "id": "9c7e81a2-1df5-4c02-b65d-8c03b63fc2a1",
   "metadata": {},
   "source": [
    "(**DESCOMENTE A ÚLTIMA LINHA PARA RODAR O PIPELINE**)"
   ]
  },
  {
   "cell_type": "code",
   "execution_count": null,
   "id": "589823f6-8dc6-49c4-8e20-dd710fa4b606",
   "metadata": {
    "tags": []
   },
   "outputs": [],
   "source": [
    "margin_cache_args = MarginCacheArguments(\n",
    "    input_catalog_path=_2DFLENS_HIPSCAT_DIR,\n",
    "    output_path=HIPSCAT_DIR,\n",
    "    margin_threshold=1.0,  # arcsec\n",
    "    output_artifact_name=_2DFLENS_MARGIN_CACHE_NAME,\n",
    "    # Uncomment to overwrite existing margin cache\n",
    "    # overwrite=True,\n",
    ")\n",
    "\n",
    "### UNCOMMENT TO RUN THE PIPELINE\n",
    "#runner.pipeline(margin_cache_args)"
   ]
  },
  {
   "cell_type": "markdown",
   "id": "42c6f0a2-c8ab-4a56-a76d-4aa12f1c58e7",
   "metadata": {
    "tags": []
   },
   "source": [
    "## Conversão para o formato hipscat dos dados fotométricos"
   ]
  },
  {
   "cell_type": "markdown",
   "id": "88b162c4-e77a-47b5-b0c6-8b64a9663141",
   "metadata": {},
   "source": [
    "Exemplos de referência: <br>\n",
    "https://lsdb.readthedocs.io/en/stable/tutorials/pre_executed/des-gaia.html <br>\n",
    "https://hipscat-import.readthedocs.io/en/stable/catalogs/public/sdss.html <br>"
   ]
  },
  {
   "cell_type": "markdown",
   "id": "a1f196d7-3c73-4c72-9a49-5fc2f69b18da",
   "metadata": {},
   "source": [
    "Definindo os diretórios para os dados:"
   ]
  },
  {
   "cell_type": "code",
   "execution_count": null,
   "id": "35cb28f4-795a-4fcb-83f0-74368a6015a7",
   "metadata": {
    "tags": []
   },
   "outputs": [],
   "source": [
    "# Change to the directories where the data will be stored\n",
    "DES_DIR = Path(\"/home/luigi.silva/hipscat_data_des_small_region/input/photoz/\")\n",
    "\n",
    "DES_HIPSCAT_NAME = \"des_dr2\"\n",
    "\n",
    "HIPSCAT_DIR = Path(\"/home/luigi.silva/hipscat_data_des_small_region/hipscat/\")\n",
    "DES_HIPSCAT_DIR = HIPSCAT_DIR / DES_HIPSCAT_NAME"
   ]
  },
  {
   "cell_type": "markdown",
   "id": "935746ed-d40a-40fc-b2ac-b085a42dadde",
   "metadata": {},
   "source": [
    "Convertendo os dados para o formato hipscat (**DESCOMENTE A ÚLTIMA LINHA PARA RODAR O PIPELINE**):"
   ]
  },
  {
   "cell_type": "code",
   "execution_count": null,
   "id": "3b8ad2ee-8949-4012-8b97-8c7c32abc596",
   "metadata": {},
   "outputs": [],
   "source": [
    "des_args = ImportArguments(\n",
    "    sort_columns=\"coadd_object_id\",\n",
    "    ra_column=\"ra\",\n",
    "    dec_column=\"dec\",\n",
    "    input_path=DES_DIR,\n",
    "    file_reader=\"parquet\",\n",
    "    output_artifact_name=DES_HIPSCAT_NAME,\n",
    "    output_path=HIPSCAT_DIR,\n",
    "    pixel_threshold=30_000,\n",
    "    # Uncomment to overwrite existing catalog\n",
    "    # overwrite=True\n",
    ")\n",
    "\n",
    "### UNCOMMENT TO RUN THE PIPELINE\n",
    "#runner.pipeline(des_args)"
   ]
  },
  {
   "cell_type": "markdown",
   "id": "a7f8cbcf-feb2-4760-a836-7561754fa2fe",
   "metadata": {},
   "source": [
    "Fazendo o plot dos pixels:"
   ]
  },
  {
   "cell_type": "code",
   "execution_count": null,
   "id": "829aa20a-7c4e-4507-adac-4a15b53eaa1c",
   "metadata": {
    "tags": []
   },
   "outputs": [],
   "source": [
    "# Read the HiPSCat catalog metadata, it does not load any data, just healpix pixels and other metadata\n",
    "des_hipscat_catalog = Catalog.read_from_hipscat(DES_HIPSCAT_DIR)\n",
    "plot_pixels(des_hipscat_catalog)"
   ]
  },
  {
   "cell_type": "code",
   "execution_count": null,
   "id": "918fb387-0864-48a3-af59-bb9eb22861c0",
   "metadata": {
    "tags": []
   },
   "outputs": [],
   "source": [
    "### Como ler os dados em formato hipscat\n",
    "# data_test = lsdb.read_hipscat(DES_HIPSCAT_DIR)\n",
    "# data_test.compute()"
   ]
  },
  {
   "cell_type": "markdown",
   "id": "67564fde-747c-4d57-a8c5-3706ab71eb0d",
   "metadata": {},
   "source": [
    "# Utilizando o LSDB"
   ]
  },
  {
   "cell_type": "markdown",
   "id": "32d9b7b6-be67-453e-a817-35828230172a",
   "metadata": {},
   "source": [
    "## Instalação do LSDB\n"
   ]
  },
  {
   "cell_type": "code",
   "execution_count": null,
   "id": "32dc31de-6c54-4e0c-8c48-dce93265f594",
   "metadata": {},
   "outputs": [],
   "source": []
  },
  {
   "cell_type": "code",
   "execution_count": null,
   "id": "e18db422-a1ac-4f2d-bf03-64005534c638",
   "metadata": {},
   "outputs": [],
   "source": []
  },
  {
   "cell_type": "code",
   "execution_count": null,
   "id": "0fb2ddef-89e8-4105-bd49-7043f16d5a9b",
   "metadata": {},
   "outputs": [],
   "source": []
  },
  {
   "cell_type": "markdown",
   "id": "24f979f2-ab77-4684-beb3-ea6dfa180eb2",
   "metadata": {},
   "source": [
    "## X-matching usando o LSDB"
   ]
  },
  {
   "cell_type": "markdown",
   "id": "c4cf9624-dfef-4e54-adbd-c975af189d4e",
   "metadata": {},
   "source": [
    "Definindo o nome do crossmatch e o nome do diretório de saída."
   ]
  },
  {
   "cell_type": "code",
   "execution_count": null,
   "id": "7192e94b-7b62-4ad2-adc9-4b1dfd153b8f",
   "metadata": {
    "tags": []
   },
   "outputs": [],
   "source": [
    "XMATCH_NAME = \"des_dr2_x_2dflens\"\n",
    "\n",
    "OUTPUT_HIPSCAT_DIR = HIPSCAT_DIR / XMATCH_NAME"
   ]
  },
  {
   "cell_type": "markdown",
   "id": "fc5a5a56-dabe-45f4-82b5-955acc961aeb",
   "metadata": {},
   "source": [
    "Lendo os dados espectroscópicos e fotométricos no formato hipscat, e planejando o cross-match."
   ]
  },
  {
   "cell_type": "code",
   "execution_count": null,
   "id": "f40c4080-dc75-4b0e-bdd8-f96eca55c7f0",
   "metadata": {},
   "outputs": [],
   "source": [
    "des_catalog = lsdb.read_hipscat(DES_HIPSCAT_DIR)\n",
    "\n",
    "_2dflens_margin_cache_catalog = lsdb.read_hipscat(_2DFLENS_MARGIN_CACHE_DIR)\n",
    "_2dflens_catalog = lsdb.read_hipscat(_2DFLENS_HIPSCAT_DIR, margin_cache=_2dflens_margin_cache_catalog)\n",
    "\n",
    "xmatched = des_catalog.crossmatch(\n",
    "    _2dflens_catalog,\n",
    "    # Up to 1 arcsec distance, it is the default\n",
    "    radius_arcsec=1.0,\n",
    "    # Single closest object, it is the default\n",
    "    n_neighbors=1,\n",
    "    # Default would be to use names of the HiPSCat catalogs\n",
    "    suffixes=(\"_des\", \"_2dflens\"),\n",
    ")\n",
    "\n",
    "display(des_catalog)\n",
    "display(_2dflens_catalog)\n",
    "display(xmatched)"
   ]
  },
  {
   "cell_type": "markdown",
   "id": "2240fe4e-e5b2-43ae-bc1b-5d7b1629b68c",
   "metadata": {},
   "source": [
    "Executando o cross-match e exibindo uma prévia dos dados."
   ]
  },
  {
   "cell_type": "markdown",
   "id": "e12dcc83-86c8-427f-8f85-17efeda24f3a",
   "metadata": {},
   "source": [
    "(DESCOMENTE PARA RODAR O PIPELINE)"
   ]
  },
  {
   "cell_type": "code",
   "execution_count": null,
   "id": "f85e0741-d78c-464a-b461-cf2c8e96202a",
   "metadata": {},
   "outputs": [],
   "source": [
    "# Run the pipeline with Dask client, it will take a while\n",
    "#xmatched.to_hipscat(OUTPUT_HIPSCAT_DIR)"
   ]
  },
  {
   "cell_type": "code",
   "execution_count": null,
   "id": "a9d04d15-7910-481c-bb47-73cf9a11d957",
   "metadata": {},
   "outputs": [],
   "source": [
    "# Look into the data\n",
    "xmatched_from_disk = lsdb.read_hipscat(OUTPUT_HIPSCAT_DIR)\n",
    "xmatched_from_disk.head()"
   ]
  },
  {
   "cell_type": "code",
   "execution_count": null,
   "id": "e415b06e-86dc-4754-be70-46843255e206",
   "metadata": {
    "tags": []
   },
   "outputs": [],
   "source": [
    "df = xmatched_from_disk.compute()"
   ]
  },
  {
   "cell_type": "code",
   "execution_count": null,
   "id": "b80b495e-1273-404d-975e-fe430e4282a4",
   "metadata": {
    "tags": []
   },
   "outputs": [],
   "source": [
    "df.describe()"
   ]
  },
  {
   "cell_type": "markdown",
   "id": "06cd92ec-e3d3-4bdc-8b1f-865770361b03",
   "metadata": {},
   "source": [
    "## Análise dos resultados do X-matching"
   ]
  },
  {
   "cell_type": "code",
   "execution_count": null,
   "id": "c4db408e-d0f8-4652-b79f-ed6df4a07c36",
   "metadata": {
    "tags": []
   },
   "outputs": [],
   "source": [
    "polygon_coords = [[7., -32.2], [10, -32.2], [10, -32.7], [7., -32.7]]\n",
    "\n",
    "des_box = des_catalog.polygon_search(polygon_coords).compute()\n",
    "_2dflens_box = _2dflens_catalog.polygon_search(polygon_coords).compute()\n",
    "xmatch_box = xmatched.polygon_search(polygon_coords).compute()\n",
    "\n",
    "ra_des = np.where(des_box[\"ra\"] > 180, des_box[\"ra\"] - 360, des_box[\"ra\"])\n",
    "ra_2dflens = np.where(_2dflens_box[\"ra\"] > 180, _2dflens_box[\"ra\"] - 360, _2dflens_box[\"ra\"])\n",
    "ra_x_2dflens = np.where(xmatch_box[\"ra_2dflens\"] > 180, xmatch_box[\"ra_2dflens\"] - 360, xmatch_box[\"ra_2dflens\"])\n",
    "\n",
    "plt.figure(figsize=(5, 5))\n",
    "plt.scatter(ra_2dflens, _2dflens_box[\"dec\"], s=50, alpha=1.0, color=\"green\", label=\"2dflens\")\n",
    "plt.scatter(ra_x_2dflens, xmatch_box[\"dec_2dflens\"], s=10, alpha=1.0, color=\"red\", label=\"x-matched\")\n",
    "plt.scatter(ra_des, des_box[\"dec\"], s=3, alpha=0.05, marker=\"+\", color=\"blue\", label=\"DES\")\n",
    "plt.xlabel(\"RA\")\n",
    "plt.ylabel(\"Dec\")\n",
    "plt.legend()"
   ]
  },
  {
   "cell_type": "code",
   "execution_count": null,
   "id": "fdae5e2d-7355-447e-ac6e-38c70be9373e",
   "metadata": {
    "tags": []
   },
   "outputs": [],
   "source": [
    "# Criar o gráfico 2D\n",
    "points = hv.Points(df, kdims=['ra_des', 'dec_des'], vdims=['_dist_arcsec'])\n",
    "\n",
    "# Configurar a coloração e ajustar o tamanho dos labels dos eixos\n",
    "points.opts(\n",
    "    width=500, height=400, \n",
    "    color='_dist_arcsec', cmap='Viridis', colorbar=False, tools=['hover'], \n",
    "    size=8, \n",
    "    xlabel='RA (deg) - DES DR2', ylabel='Dec (deg) - DES DR2',\n",
    "    fontsize={'xticks': 12, 'yticks': 12, 'xlabel': 14, 'ylabel': 14}\n",
    ")\n",
    "\n",
    "# Renderizar o gráfico\n",
    "plot = hv.render(points)\n",
    "\n",
    "# Personalizar o ColorBar\n",
    "color_mapper = LinearColorMapper(palette=Viridis256, low=df['_dist_arcsec'].min(), high=df['_dist_arcsec'].max())\n",
    "color_bar = ColorBar(color_mapper=color_mapper, label_standoff=12, location=(0,0), title='Dist. (Arcsec)')\n",
    "color_bar.title_text_font_size = '14pt'\n",
    "color_bar.major_label_text_font_size = '12pt'\n",
    "\n",
    "# Adicionar o color bar ao layout do plot\n",
    "plot.add_layout(color_bar, 'right')\n",
    "\n",
    "# Mostrar o gráfico\n",
    "show(plot)"
   ]
  },
  {
   "cell_type": "code",
   "execution_count": null,
   "id": "fe0db872-9408-4a53-a99d-748b709da210",
   "metadata": {
    "tags": []
   },
   "outputs": [],
   "source": [
    "### There aren't duplicates\n",
    "df[df.duplicated(subset=['ra_des'])]\n",
    "df[df.duplicated(subset=['ra_2dflens'])]"
   ]
  },
  {
   "cell_type": "code",
   "execution_count": null,
   "id": "7a027645-d905-4137-b93e-17f547f665c3",
   "metadata": {
    "tags": []
   },
   "outputs": [],
   "source": [
    "# Criar um Dataset a partir do DataFrame\n",
    "dataset = hv.Dataset(df, kdims='_dist_arcsec')\n",
    "\n",
    "# Aplicar a operação de histograma\n",
    "hist = hv.operation.histogram(dataset, dimension='_dist_arcsec', normed=False, bins=20)\n",
    "\n",
    "# Personalizar o histograma\n",
    "hist.opts(\n",
    "    xlabel='Distance (arcsec)',\n",
    "    ylabel='Frequency',\n",
    "    title='Histogram of separation distances',\n",
    "    color='blue',\n",
    "    tools=['hover'],\n",
    "    width=600,\n",
    "    height=400\n",
    ")\n",
    "\n",
    "# Mostrar o histograma\n",
    "hist"
   ]
  }
 ],
 "metadata": {
  "kernelspec": {
   "display_name": "lsdb_env",
   "language": "python",
   "name": "lsdb_env"
  },
  "language_info": {
   "codemirror_mode": {
    "name": "ipython",
    "version": 3
   },
   "file_extension": ".py",
   "mimetype": "text/x-python",
   "name": "python",
   "nbconvert_exporter": "python",
   "pygments_lexer": "ipython3",
   "version": "3.10.14"
  }
 },
 "nbformat": 4,
 "nbformat_minor": 5
}
