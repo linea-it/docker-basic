{
 "cells": [
  {
   "cell_type": "markdown",
   "id": "9d42adbb-55a5-4edd-aaae-2a5c2279e279",
   "metadata": {},
   "source": [
    "<img align=\"left\" src = https://linea.org.br/wp-content/themes/LIneA/imagens/logo-header.jpg width=150 style=\"padding: 20px\"> \n",
    "\n",
    "## Spectroscopic Redshifts Compilation\n",
    "\n",
    "Acervo público de medidas de _redshift_ disponibilizadas por <br>levantamentos espectroscópicos anteriores ao DES DR2. \n",
    "\n",
    "Contato: Julia Gschwend ([julia@linea.org.br](mailto:julia@linea.org.br))\n",
    "<br>\n",
    "Última verificação: 01/09/2023\n",
    "<br>\n"
   ]
  },
  {
   "cell_type": "markdown",
   "id": "6c6d0276-13b5-4a2e-974d-0b3c664914f7",
   "metadata": {},
   "source": [
    "#### Acknowledgements\n",
    "Caso você utilize estes dados para gerar resultados científicos, pedimos que faça referência ao artigo [Gschwend et al., 2018](https://ui.adsabs.harvard.edu/abs/2018A%26C....25...58G/abstract) e reconheça o LIneA na seção de agradecimentos em suas publicações, por exemplo:\n",
    "\n",
    "\"_Esta pesquisa utilizou recursos computacionais da Associação Laboratório Interinstitucional de e-Astronomia (LIneA) com o apoio financeiro do INCT do e-Universo (Processo n.º 465376/2014-2)._\" "
   ]
  },
  {
   "cell_type": "markdown",
   "id": "c6efcd74-f7d2-40b3-adae-42208fcc2b4a",
   "metadata": {},
   "source": [
    "## Sobre o acervo\n",
    "\n",
    "\n",
    "O LIneA disponibiliza para os usuários do **LIneA JupyterHub** um acervo de catálogos de _redshifts_ espectroscópicos (spec-z) que foram publicamente distribuídos e detalhadamente descritos em literatura científica pelos seus projetos de origem. Estes catálogos foram coletados ao longo dos anos de operação do levantamento Dark Energy Survey (DES) e agrupados sistematicamente por uma ferramenta do DES Science Portal (_pipeline_ Spectroscopic Sample) para compor a base de um conjunto de treinamento para algoritmos de cálculo de _redshifts_ fotométricos baseados em aprendizado de máquina. A versão original do catálogo compilado utilizada no contexto do DES inclui dados proprietários do levantamento [OzDES](https://www.mso.anu.edu.au/ozdes/index.html) ([Yuan et al. 2015](https://ui.adsabs.harvard.edu/abs/2015MNRAS.452.3047Y/abstract)) e outros dados de pequenos levantamentos, também proprietários. \n",
    "\n",
    "Uma outra versão incluindo apenas dados públicos de 32 levantamentos espectroscópicos foi preparada e está sendo disponibilizada para o grande público através da plataforma **LIneA JupyterHub**. Este notebook oferece um passo-a-passo de como acessar os dados e uma breve caracterização deste conjunto."
   ]
  },
  {
   "cell_type": "markdown",
   "id": "7748de65-846c-43f4-8343-c80beda8fed6",
   "metadata": {},
   "source": [
    "### Levantamentos espectroscópicos \n",
    "\n",
    "A tabela abaixo contém a lista de levantamentos e as respectivas referências bibliográficas de cada um dos catálogos de _redshifts_ que compõem o acervo. \n",
    "\n",
    "\n",
    "|seq.|Nome do levantamento <br> (link para o _site_)| Redshifts na <br>amostra original | Referência <br> (link para o artigo) |\n",
    "|---|---|:-:|---|\n",
    "1| [2dF](http://www.2dfgrs.net/) |245,591 | [Colless et al. 2001](https://academic.oup.com/mnras/article/328/4/1039/1082731)|\n",
    "2|[2dFLenS](http://2dflens.swin.edu.au/) |70,079| [Blake et al. 2016](https://ui.adsabs.harvard.edu/abs/2016MNRAS.462.4240B/abstract)|\n",
    "3|[3DHST](http://3dhst.research.yale.edu/Data.php)|207,967|[Momcheva et al. 2016](https://ui.adsabs.harvard.edu/abs/2016ApJS..225...27M/abstract)|\n",
    "4|[6dF (DR3)](http://www.6dfgs.net/)|109,831|[Jones et al. 2009](https://ui.adsabs.harvard.edu/abs/2009MNRAS.399..683J/abstract)|\n",
    "5|[ACES](http://mur.ps.uci.edu/cooper/ACES/zcatalog.html)|13,963|[Cooper et al. 2012](https://ui.adsabs.harvard.edu/abs/2012MNRAS.425.2116C/abstract)|\n",
    "6|[ATLAS (DR2)](http://astro.dur.ac.uk/Cosmology/vstatlas/index.php?go=dr2)|1,074 |[Mao et al. 2012](https://ui.adsabs.harvard.edu/abs/2012MNRAS.426.3334M/abstract)|\n",
    "7|[C3R2 (DR2)](https://sites.google.com/view/c3r2-survey/) |4,525 |[Masters et al. 2019](https://ui.adsabs.harvard.edu/abs/2019ApJ...877...81M/abstract) |\n",
    "8|[CDB](http://vizier.u-strasbg.fr/viz-bin/VizieR?-source=J/MNRAS/406/782)        |541   |[Sullivan et al. 2011](https://ui.adsabs.harvard.edu/abs/2011yCat..74060782S/abstract)|\n",
    "9|[CLASH-VLT](https://sites.google.com/site/vltclashpublic/data-release)  |10,183|[Biviano et al. 2013](https://ui.adsabs.harvard.edu/abs/2013A%26A...558A...1B/abstract)<br> [Annunziatella et al. 2016](https://ui.adsabs.harvard.edu/abs/2016A%26A...585A.160A/abstract)<br> [Balestra et al. 2016](https://ui.adsabs.harvard.edu/abs/2016yCat..22240033B/abstract)<br> [Grillo et al. 2016](https://ui.adsabs.harvard.edu/abs/2016ApJ...822...78G/abstract)<br> [Caminha et al. 2017](https://ui.adsabs.harvard.edu/abs/2017yCat..36000090C/abstract)<br> [Karman et al. 2017](https://ui.adsabs.harvard.edu/abs/2017A%26A...599A..28K/abstract)<br> [Monna et al. 2017](https://ui.adsabs.harvard.edu/abs/2017MNRAS.466.4094M/abstract)|\n",
    "|10|[DEEP2 (DR4)](http://deep.ps.uci.edu/DR4/home.html)|50,319|[Newman et al. 2013](https://ui.adsabs.harvard.edu/abs/2013ApJS..208....5N/abstract)|\n",
    "|11|[DEIMOS 10K](http://cosmos.astro.caltech.edu/)|10,770|[Hasinger et al. 2018](https://ui.adsabs.harvard.edu/abs/2018ApJ...858...77H/abstract)| \n",
    "12|[FMOS-COSMOS](http://member.ipmu.jp/fmos-cosmos/FC%5C_catalogs.html) |1,153|[Silverman et al. 2015](https://ui.adsabs.harvard.edu/abs/2015yCat..22200012S/abstract)|\n",
    "13|[GAMA (DR3) ](http://www.gama-survey.org/dr3/schema/table.php?id=24) |166,332 |[Baldry et al. 2018](https://ui.adsabs.harvard.edu/abs/2018MNRAS.474.3875B/abstract)  |\n",
    "14|[GLASS (DR2)](https://archive.stsci.edu/prepds/glass/#dataformat) |3,289   |[Abramson et al. 2020](https://ui.adsabs.harvard.edu/abs/2020MNRAS.tmp..279A/abstract)|\n",
    "15|[MOSFIRE    ](http://mosdef.astro.berkeley.edu) |267     |[McLean et al. 2012](https://ui.adsabs.harvard.edu/abs/2012SPIE.8446E..0JM/abstract)  |\n",
    "16|[MUSE       ](https://musewide.aip.de/query/) |1,602   |[Urrutia et al. 2019](https://ui.adsabs.harvard.edu/abs/2019A%26A...624A.141U/abstract) |\n",
    "17|[PANSTARRS  ](http://vizier.u-strasbg.fr/viz-bin/VizieR?-source=J/ApJ/795/44) |2,550   |[Kaiser et al. 2010](https://ui.adsabs.harvard.edu/abs/2010SPIE.7733E..0EK/abstract) <br> [Rest et al. 2014](https://ui.adsabs.harvard.edu/abs/2014ApJ...795...44R/abstract) <br> [Scolnic et a;. 2014](https://ui.adsabs.harvard.edu/abs/2014ApJ...795...45S/abstract)|\n",
    "18|[PRIMUS     ](https://primus.ucsd.edu/)|213,696 |[Coil et al. 2011       ](https://ui.adsabs.harvard.edu/abs/2011ApJ...741....8C/abstract) <br> [Cool et al. 2013](https://ui.adsabs.harvard.edu/abs/2013ApJ...767..118C/abstract)|\n",
    "19|[SAGA       ](http://sagasurvey.org/)|68,644 |[Geha et al. 2017       ](https://ui.adsabs.harvard.edu/abs/2017ApJ...847....4G/abstract)|\n",
    "20|[SDSS (DR16)](http://www.sdss.org/dr16/)|4,613,773| [Ahumada et al. 2020    ](https://ui.adsabs.harvard.edu/abs/2020ApJS..249....3A/abstract)|  \n",
    "21|[SpARCS     ](http://simbad.u-strasbg.fr/simbad/sim-ref?querymethod=bib&simbo=on&submit=submit+bibcode&bibcode=2012ApJ...746..188M)|410 |[Muzzin et al. 2012     ](https://ui.adsabs.harvard.edu/abs/2012ApJ...746..188M/abstract)|\n",
    "22|[SPT-GMOS   ](https://dataverse.harvard.edu/dataset.xhtml?persistentId=doi:10.7910/DVN/OR13NN/)|2,243  |[Bayliss et al. 2016    ](https://ui.adsabs.harvard.edu/abs/2016yCat..22270003B/abstract)|\n",
    "23|[UDS        ](http://www.nottingham.ac.uk/astronomy/UDS/UDSz/)|1,511  |[Galametz wt al. 2013   ](https://ui.adsabs.harvard.edu/abs/2013ApJS..206...10G/abstract)|\n",
    "24|[VANDELS    ](https://eso.org/rm/api/v1/public/releaseDescriptions/120)|1,362        |[Pentericci et al. 2018 ](https://ui.adsabs.harvard.edu/abs/2018A%26A...616A.174P/abstract)|\n",
    "25|[VIPERS     ](http://vipers.inaf.it/rel-pdr1.html)|91,507    |[Garilli et al. 2014    ](https://ui.adsabs.harvard.edu/abs/2014A%26A...562A..23G/abstract)|\n",
    "26|[VUDS       ](http://cesam.lam.fr/vuds/DR1/) |698             |[Tasca et al. 2017      ](https://ui.adsabs.harvard.edu/abs/2017A%26A...600A.110T/abstract)|\n",
    "27|[VVDS       ](https://cesam.lam.fr/cesamdata/project_desc/vvds_index.html) |40,927    |[Le Fèvre et al. 2004   ](https://ui.adsabs.harvard.edu/abs/2004A%26A...428.1043L/abstract) <br> [Garilli et al. 2008](https://ui.adsabs.harvard.edu/abs/2008A%26A...486..683G/abstract)| \n",
    "28|[WiggleZ    ](http://wigglez.swin.edu.au/site/) |81,362     |[Parkinson et al. 2012  ](https://ui.adsabs.harvard.edu/abs/2012PhRvD..86j3518P/abstract)|\n",
    "29|[XMM_LSS    ](http://vizier.u-strasbg.fr/viz-bin/VizieR?-source=J/MNRAS/401/294)|383|[Stalin et al. 2010     ](https://ui.adsabs.harvard.edu/abs/2010MNRAS.401..294S/abstract)|\n",
    "30|[XXL_AAOMEGA](http://cosmosdb.iasf-milano.inaf.it/XXL/) |3,660    |[Lidman et al. 2016     ](https://ui.adsabs.harvard.edu/abs/2016PASA...33....1L/abstract)|\n",
    "31|[zCOSMOS    ](https://cesam.lam.fr/zCosmos/)|20,689    |[Lilly et al. 2009      ](https://ui.adsabs.harvard.edu/abs/2009ApJS..184..218L/abstract) <br> [Knobel et al. 2012](https://ui.adsabs.harvard.edu/abs/2012ApJ...753..121K/abstract) <br> [Lilly 2026 (DR description)](https://www.eso.org/sci/observing/phase3/data_releases/zcosmos_dr3_b2.pdf)|\n",
    "32|[ZFIRE      ](http://zfire.swinburne.edu.au/data.html)|216|[Nanayakkara et al. 2016](https://ui.adsabs.harvard.edu/abs/2012ApJ...753..121K/abstract)|"
   ]
  },
  {
   "cell_type": "markdown",
   "id": "466d351b-be2d-44e4-a722-336589d6276d",
   "metadata": {},
   "source": [
    "<div style=\"text-align: right\" id=\"flags\"></div>\n",
    "\n",
    "### Sistema único de _flags_ \n",
    "\n",
    "Além de combinar todos os catálogos em uma única tabela, o _pipeline_ Spectroscopic Sample também homogeniza os diversos marcadores de qualidade originais dos catálogos (\"flags\") em um sistema único (\"flag_des\") com base nos parâmetros utilizados no levantamento OzDES ([Yuan et al., 2015](https://ui.adsabs.harvard.edu/abs/2015MNRAS.452.3047Y/abstract)). Em resumo, as flags significam: \n",
    "\n",
    "|flag_des| Significado | \n",
    "|--- |---|\n",
    "|1   | redshift desconhecido | \n",
    "|2   | palpite não confiável | \n",
    "|3   | 95% de confiança      | \n",
    "|4   | 99% de confiança      | "
   ]
  },
  {
   "cell_type": "markdown",
   "id": "74a577b8-abc2-41fd-9ed8-736f7f187d79",
   "metadata": {},
   "source": [
    "A correspondência entre as _flags_ originais e o sistema unificado é a seguinte: \n",
    "    \n",
    "Levantamento |  flag_des = 1 | flag_des = 2 | flag_des = 3 | flag_des = 4 \n",
    "|:--|:--|:--|:--|:--|\n",
    "2DF        | 1                | 2                 | 3           | 4,5 \n",
    "2dFLenS    | 1                | 2                 | 3           | 4,5\n",
    "3DHST      | -1,1             | 2                 | 0           | -\n",
    "6DF        | 1                | 2                 | 3           | 4,6\n",
    "ACES       | -2,0,1           | 2                 | 3           | 4,-1\n",
    "ATLAS      | -                | 4                 | -           | -\n",
    "C3R2       | -                | -                 | 3,3.5       | 4\n",
    "CDB        | -                | 4                 | -           | -\n",
    "CLASH-VLT  | -                | 2                 | 4,5,6,9     | 3\n",
    "DEEP2      | -2,0,1           | 2                 | 3           | 4,-1\n",
    "DEIMOS_10K | 0.0              | 1.0               | 1.5         | 2.0\n",
    "FMOS_COSMOS| 0,1              | 2                 | 3           | 4\n",
    "GAMA       | <0.0,0.68>       | <0.68,0.95>       | <0.95,0.99> | <0.99,1.0>\n",
    "GLASS      | 0,0.5,1,1.5      | 2,2.5             | 3 = 3,3.5   | 4\n",
    "MOSFIRE    | 1                | -                 | 3           | -\n",
    "MUSE       | -                | 1                 | 2           | 3\n",
    "PANSTARRS  | -                | -                 | 3           | 4,6\n",
    "PRIMUS     | -                | 2                 | 3           | 4\n",
    "SAGA       | -                | -                 | 3           | 4\n",
    "SDSS_DR14  | -                | -                 | -           | 0\n",
    "SPARCS     | 4                | 3                 | 2           | 1\n",
    "SPT_GMOS   | 0,1              | 2                 | 3           | 4\n",
    "UDS        | -                | -                 | 3,B,B*      | 4,A\n",
    "VANDELS    | 1                | 2,9               | 3           | 4\n",
    "VIPERS     | 0,1,11,211       | 2,9,12,19,212,213 | 3 = 3,13    | 4,14,24\n",
    "VUDS       | -                | -                 | 3,B,B*      | 4,A\n",
    "VVDS       | 0,1              | 2,9               | 3           | 4\n",
    "WIGGLEZ    | 1                | 2                 | 3           | 4,5\n",
    "XMM_LSS    | -                | 3                 | 2           | 1\n",
    "XXL_AAOMEGA| 0,1              | 2                 | 3           | 4,6\n",
    "ZCOSMOS    | 0,1,11,20,21,211 | 2,12,22           | 9,19,29,18  | 3,4,13,14,23,24\n",
    "ZFIRE      | 0,1              | 2                 | 3           | 4\n"
   ]
  },
  {
   "cell_type": "markdown",
   "id": "bd62e9e6-3808-4f79-a69c-e02568606dfe",
   "metadata": {},
   "source": [
    "### Escolha em caso de múltiplas medidas \n",
    "\n",
    "Muitos dos levantamento listados acima observaram regiões do céu em comum. Ao agrupar todas as medidas em um catálogo único, com frequência existem múltiplas medidas de specz disponíveis para uma mesma galáxia. Para identificar esses casos, o _pipeline_ Spectroscopic Sample faz uma correspondência espacial entre as coordenadas equatoriais de \"todos contra todos\" com raio de busca de 1.0 _arcsec_ a partir de cada objeto. Em seguida, aplica uma seleção para manter apenas uma medida para cada objeto extragalático presente na amostra, seguindo os critérios abaixo para escolha e desempate:\n",
    "\n",
    "1. medida com maior `flag_des`\n",
    "2. medida com menor `err_z`\n",
    "3. medida feita pelo levantamento mais recente\n"
   ]
  },
  {
   "cell_type": "markdown",
   "id": "9b966a96-f2a1-40f5-8200-a28f3bcb3db6",
   "metadata": {},
   "source": [
    "## Como acessar\n",
    "\n",
    "Para os usuários do **LIneA JupyterHub**, o acesso ao banco de dados é feito de forma segura através da biblioteca `dblinea`. Veja mais detalhes de como utilizar a biblioteca `dblinea` no notebook de tutorial **2-acesso-a-dados.ipynb** disponível neste repositório. Caso você esteja lendo apenas uma cópia deste notebook exportada como um arquivo estático (ex.: em formato PDF ou HTML), os tutoriais do **LIneA JupyterHub** estão disponíveis no github, basta clonar o repositório: \n",
    "\n",
    "```\n",
    "$ git clone https://github.com/linea-it/jupyterhub-tutorial.git\n",
    "\n",
    "``` "
   ]
  },
  {
   "cell_type": "markdown",
   "id": "c83e7d88-6a0b-4c5e-a383-79731ac41303",
   "metadata": {},
   "source": [
    "Importação e configuração de bibliotecas: "
   ]
  },
  {
   "cell_type": "code",
   "execution_count": null,
   "id": "167409ba-e18a-4c0d-a68b-c28333d13c41",
   "metadata": {
    "tags": []
   },
   "outputs": [],
   "source": [
    "# General\n",
    "import numpy as np\n",
    "import pandas as pd\n",
    "import matplotlib.pyplot as plt\n",
    "import seaborn as sns\n",
    "\n",
    "# Astropy\n",
    "from astropy import units as u\n",
    "from astropy.coordinates import SkyCoord\n",
    "from astropy.units.quantity import Quantity\n",
    "\n",
    "#LIneA\n",
    "from dblinea import DBBase\n",
    "\n",
    "# Config \n",
    "%reload_ext autoreload \n",
    "%autoreload 2 \n",
    "%matplotlib inline \n",
    "sns.set(color_codes=True, font_scale=1.5)\n",
    "pd.set_option('display.max_rows', 5)\n",
    "plt.rcParams.update({'figure.max_open_warning': 0})"
   ]
  },
  {
   "cell_type": "markdown",
   "id": "6d566b58-59d1-4d2c-b38d-7c5026d4d4d7",
   "metadata": {},
   "source": [
    "Leitura dos dados: \n",
    "\n",
    "O objeto `db` (instância da classo `DBBase`) faz a conexão com o banco de dados. O catálogo compilado de spec-z corresponde à tabela `des_dr2.public_specz_compilation` no banco de dados. "
   ]
  },
  {
   "cell_type": "code",
   "execution_count": null,
   "id": "2670d760-249f-4678-ab34-e4871f48dbc8",
   "metadata": {
    "tags": []
   },
   "outputs": [],
   "source": [
    "db = DBBase()\n",
    "schema = \"des_dr2\"  \n",
    "tablename = \"public_specz_compilation\""
   ]
  },
  {
   "cell_type": "markdown",
   "id": "ae6971b9-fca4-4543-b841-18fef6d64f9d",
   "metadata": {},
   "source": [
    "Consulta colunas presentes na tabela: "
   ]
  },
  {
   "cell_type": "code",
   "execution_count": null,
   "id": "7ea2bd49-ab86-4271-ac46-832c5018a594",
   "metadata": {
    "tags": []
   },
   "outputs": [],
   "source": [
    "db.get_table_columns(tablename, schema=schema)"
   ]
  },
  {
   "cell_type": "code",
   "execution_count": null,
   "id": "faab85a3-4aca-431c-be7d-ca32a9cefb4c",
   "metadata": {
    "tags": []
   },
   "outputs": [],
   "source": [
    "db.describe_table(tablename, schema=schema)"
   ]
  },
  {
   "cell_type": "markdown",
   "id": "7d82915b-7c98-49f9-aca7-c054f3a64034",
   "metadata": {
    "tags": []
   },
   "source": [
    "_Query_ simples (retorna uma lista de tuplas):  "
   ]
  },
  {
   "cell_type": "code",
   "execution_count": null,
   "id": "01d33a83-6757-4408-8243-aeb376b7e17e",
   "metadata": {
    "scrolled": true,
    "tags": []
   },
   "outputs": [],
   "source": [
    "query = f\"SELECT * FROM {schema}.{tablename} limit 10\"\n",
    "lista = db.fetchall(query)\n",
    "lista"
   ]
  },
  {
   "cell_type": "markdown",
   "id": "d803c4d9-0c64-47d5-8ed5-1e7121f1781c",
   "metadata": {
    "tags": []
   },
   "source": [
    "_Query_ simples retornando um objeto do tipo `Pandas.DataFrame`:   "
   ]
  },
  {
   "cell_type": "code",
   "execution_count": null,
   "id": "358da8b1-5b53-49b3-97f4-e473404e1391",
   "metadata": {
    "tags": []
   },
   "outputs": [],
   "source": [
    "query = f\"SELECT * FROM {schema}.{tablename} limit 10\"\n",
    "df = db.fetchall_df(query)\n",
    "df"
   ]
  },
  {
   "cell_type": "markdown",
   "id": "4e7ba2d5-4d08-460e-a1fd-c94cab0b1c50",
   "metadata": {},
   "source": [
    "\n",
    "--- \n",
    "\n",
    "## Sobre os dados \n",
    "\n",
    "Confira abaixo uma breve caracterização dos dados contidos no acervo compilado de catálogos espectroscópicos (tabela `des_dr2.public_specz_compilation`) e do resultado da correspondência espacial entre este catálogo e os dados fotométricos do DES DR2, i.e., o conjunto de treinamento para algoritmos de photo-z (tabela `des_dr2.public_pz_training_set`).  "
   ]
  },
  {
   "cell_type": "markdown",
   "id": "f7eeca28-7bfc-4449-9afd-b88b648d0418",
   "metadata": {},
   "source": [
    "Requisitos deste notebook: \n",
    "\n",
    "* **Arquivo auxiliar**: [des-round19-poly.txt](https://github.com/kadrlica/skymap/blob/master/skymap/data/des-round19-poly.txt) (contornos da área coberta pelo levantamento, i.e., DES _footprint_, versão de 2019). \n",
    "* **Bibliotecas de visualização**: bokeh, holoviews, datashader \n",
    "\n",
    "_Download_ do arquivo `des-round19-poly.txt` a partir do repositório [kadrlica/skymap](https://github.com/kadrlica/skymap) no GitHub: "
   ]
  },
  {
   "cell_type": "code",
   "execution_count": null,
   "id": "b8c1f12b-4212-42cd-8271-fcbe881c9d7a",
   "metadata": {
    "tags": []
   },
   "outputs": [],
   "source": [
    "! wget https://raw.githubusercontent.com/kadrlica/skymap/master/skymap/data/des-round19-poly.txt  "
   ]
  },
  {
   "cell_type": "markdown",
   "id": "0892c2c9-a4a3-431e-a531-3e02e4f4f5f8",
   "metadata": {},
   "source": [
    "Caso esteja utilizando as bibliotecas pela primeira vez neste ambiente, será necessário instalá-las . Execute os comandos a seguir no terminal, com o ambiente conda utilizado neste notebook ativado: \n",
    "\n",
    "```shell\n",
    "conda activate <your env>  \n",
    "pip install xarray\n",
    "pip install bokeh \n",
    "pip install holoviews\n",
    "pip install datashader\n",
    "``` \n",
    "\n",
    "Em seguida, clique em `Kernel --> Restart Kernel` na barra de menu. "
   ]
  },
  {
   "cell_type": "markdown",
   "id": "5608ae7e-ca24-48dd-9bd3-3aa4b7d14089",
   "metadata": {},
   "source": [
    "Importação e configuração das bibliotecas: "
   ]
  },
  {
   "cell_type": "code",
   "execution_count": null,
   "id": "16cf1c89-b929-4070-8a3e-e6966fd9589d",
   "metadata": {
    "tags": []
   },
   "outputs": [],
   "source": [
    "# General\n",
    "import numpy as np\n",
    "import pandas as pd\n",
    "import matplotlib.pyplot as plt\n",
    "import seaborn as sns\n",
    "\n",
    "# Astropy\n",
    "from astropy import units as u\n",
    "from astropy.coordinates import SkyCoord\n",
    "from astropy.units.quantity import Quantity\n",
    "\n",
    "#LIneA\n",
    "from dblinea import DBBase\n",
    "\n",
    "# Bokeh\n",
    "import bokeh\n",
    "from bokeh.io import output_notebook, show, output_file, reset_output\n",
    "from bokeh.models import ColumnDataSource, Range1d, HoverTool\n",
    "from bokeh.models import CDSView, GroupFilter\n",
    "from bokeh.plotting import figure, gridplot\n",
    "from bokeh.transform import factor_cmap\n",
    "\n",
    "# HoloViews\n",
    "import holoviews as hv\n",
    "from holoviews import streams, opts\n",
    "from holoviews.operation.datashader import datashade, dynspread\n",
    "from holoviews.plotting.util import process_cmap\n",
    "\n",
    "# Datashader\n",
    "import datashader as dsh\n",
    "\n",
    "# Config\n",
    "%reload_ext autoreload \n",
    "%autoreload 2 \n",
    "%matplotlib inline \n",
    "sns.set(color_codes=True, font_scale=1.5)\n",
    "plt.rcParams.update({'figure.max_open_warning': 0})\n",
    "hv.extension('bokeh')\n",
    "output_notebook()"
   ]
  },
  {
   "cell_type": "markdown",
   "id": "cc778e08-57f9-4cff-966b-f2717c66ad6e",
   "metadata": {},
   "source": [
    "Leitura do DES foorptint no arquivo `des-round19-poly.txt`:"
   ]
  },
  {
   "cell_type": "code",
   "execution_count": null,
   "id": "2c9c00a2-2b6c-4dd9-b021-df831bb20bd7",
   "metadata": {
    "tags": []
   },
   "outputs": [],
   "source": [
    "foot_ra, foot_dec = np.loadtxt('des-round19-poly.txt', unpack=True)"
   ]
  },
  {
   "cell_type": "code",
   "execution_count": null,
   "id": "7246100d-ecb5-4907-b84b-37c7776ff532",
   "metadata": {},
   "outputs": [],
   "source": []
  },
  {
   "cell_type": "code",
   "execution_count": null,
   "id": "70073b46-d252-4d6d-bf56-bd1bba254a74",
   "metadata": {},
   "outputs": [],
   "source": []
  },
  {
   "cell_type": "code",
   "execution_count": null,
   "id": "8a8947c1-c5fe-4a03-9a05-b28d9dad2029",
   "metadata": {},
   "outputs": [],
   "source": []
  },
  {
   "cell_type": "code",
   "execution_count": null,
   "id": "11decad7-b4d0-47e2-9676-f9cbbfeacbe2",
   "metadata": {},
   "outputs": [],
   "source": []
  },
  {
   "cell_type": "markdown",
   "id": "aadef5c4-a0d0-4cd8-8a53-12aba1a33678",
   "metadata": {},
   "source": [
    "Funções pré-definidas: "
   ]
  },
  {
   "cell_type": "code",
   "execution_count": null,
   "id": "24b25dc6-1b44-4b92-9139-e264dacfc213",
   "metadata": {
    "tags": []
   },
   "outputs": [],
   "source": [
    "def show_bokeh_inline(p):\n",
    "    try:\n",
    "        reset_output()\n",
    "        output_notebook()\n",
    "        show(p)\n",
    "    except:\n",
    "        output_notebook()\n",
    "        show(p)\n",
    "        \n",
    "        "
   ]
  },
  {
   "cell_type": "markdown",
   "id": "ea17a8e0-884d-41d9-ba77-0fc437acc51a",
   "metadata": {
    "tags": []
   },
   "source": [
    "Função para exibir a distribuição de objetos da amostra no céu: "
   ]
  },
  {
   "cell_type": "code",
   "execution_count": null,
   "id": "328f5fef-5a76-449c-84d4-c47d25053f39",
   "metadata": {
    "tags": []
   },
   "outputs": [],
   "source": [
    "def sky_dist(ra, dec, foot_ra, foot_dec, radec_density=None): \n",
    "    fig = plt.figure(figsize=[14,6], dpi=300)\n",
    "    ax = fig.add_subplot(111, projection='mollweide')   \n",
    "    if radec_density is None:\n",
    "        plt.plot(ra_rad, dec_rad, '.', alpha=0.1)\n",
    "    else: \n",
    "        plt.scatter(ra_rad, dec_rad, s=5, c=radec_density, cmap='viridis')\n",
    "        cbar = plt.colorbar()\n",
    "        cbar.ax.tick_params(labelsize=16)\n",
    "        cbar.set_label('log(#spec-$z$/deg$^{2}$)', size=16)\n",
    "        #plt.clim(0,3.8)\n",
    "    plt.plot(foot_ra, foot_dec, 'w-')\n",
    "    org=0.0\n",
    "    tick_labels = np.array([150, 120, 90, 60, 30, 0, 330, 300, 270, 240, 210])\n",
    "    tick_labels = np.remainder(tick_labels+360+org,360)\n",
    "    ax.set_xticklabels(tick_labels)    \n",
    "    ax.set_xlabel(\"R.A.\")\n",
    "    ax.xaxis.label.set_fontsize(14)\n",
    "    ax.set_ylabel(\"Dec.\")\n",
    "    ax.yaxis.label.set_fontsize(14)\n",
    "    ax.grid(True)\n",
    "    plt.tight_layout()"
   ]
  },
  {
   "cell_type": "code",
   "execution_count": null,
   "id": "7916c068-b89d-4a02-87ac-d207eed8f70d",
   "metadata": {},
   "outputs": [],
   "source": []
  },
  {
   "cell_type": "markdown",
   "id": "a409a88e-f7cd-4b17-8d6b-65c92eafe512",
   "metadata": {},
   "source": [
    "--- \n",
    "### 1. Catálogo de _redshifts_ espectroscópicos"
   ]
  },
  {
   "cell_type": "code",
   "execution_count": null,
   "id": "8e558df1-5f61-4add-b3b6-38136083f70d",
   "metadata": {
    "tags": []
   },
   "outputs": [],
   "source": [
    "db = DBBase()\n",
    "schema = \"des_dr2\"  \n",
    "tablename = \"public_specz_compilation\""
   ]
  },
  {
   "cell_type": "code",
   "execution_count": null,
   "id": "03366cbf-9ec0-4b43-a324-676f434864a3",
   "metadata": {
    "tags": []
   },
   "outputs": [],
   "source": [
    "query = f\"SELECT * FROM {schema}.{tablename} ORDER BY id ASC\"\n",
    "specz_catalog = db.fetchall_df(query)"
   ]
  },
  {
   "cell_type": "code",
   "execution_count": null,
   "id": "7b89c02c-c0eb-4bff-b7f4-169a8d669240",
   "metadata": {
    "tags": []
   },
   "outputs": [],
   "source": [
    "specz_catalog.head()"
   ]
  },
  {
   "cell_type": "markdown",
   "id": "82768bdf-2ccc-4dea-984b-c2715f07f4c5",
   "metadata": {},
   "source": [
    "Significado das colunas: \n",
    "\n",
    "| Nome da coluna | Sigificado | \n",
    "|--:|:--|\n",
    "| **idspec** | Identificador único original dado pelo levantamento. Quando indisponível, substituído por 9999. |\n",
    "| **ra**  | Ascensão reta (graus)  |\n",
    "| **dec** | Declinação (graus) |\n",
    "| **z** | redshift |\n",
    "| **err_z** | Erro no redshift. Quando indisponível, substituído por 99.0 |\n",
    "| **flag** | Marcador de qualidade original dado pelo levantamento de origem. |\n",
    "| **source** | Nome do projeto ou levantamento de origem. |\n",
    "| **flag_des**| Marcador de qualidade padronizado (detalhes [acima](#flags))| \n",
    "| **id**| Identificador único dado pelo _pipeline_ Spectroscopic Sample no DES Science Portal. | "
   ]
  },
  {
   "cell_type": "markdown",
   "id": "8319a10c-07e2-4b7d-bde5-5bc72a29948c",
   "metadata": {
    "tags": []
   },
   "source": [
    "Estatísticas básicas: "
   ]
  },
  {
   "cell_type": "code",
   "execution_count": null,
   "id": "870c6e04-7014-4749-8535-a3a4ed4036b3",
   "metadata": {
    "tags": []
   },
   "outputs": [],
   "source": [
    "specz_catalog.describe()"
   ]
  },
  {
   "cell_type": "markdown",
   "id": "1b7af5a5-219f-4177-94ed-68f51013905c",
   "metadata": {},
   "source": [
    "Note pelos valores mínimo e máximo da coluna **flag_des** que foi aplicado um corte de qualidade onde apenas objetos com **flag_des** $\\geqslant$ 3 foram incluídos na amostra. "
   ]
  },
  {
   "cell_type": "markdown",
   "id": "6f7edf41-c446-4467-9dbc-6f197d1cd9e0",
   "metadata": {},
   "source": [
    "#### Caracterização geral da amostra "
   ]
  },
  {
   "cell_type": "code",
   "execution_count": null,
   "id": "9b574bf8-ceb4-42ca-b4bb-2c4dc6b3ae5d",
   "metadata": {},
   "outputs": [],
   "source": []
  },
  {
   "cell_type": "code",
   "execution_count": null,
   "id": "6323cc4c-e4e4-4e98-b323-e6b722ac0e3a",
   "metadata": {},
   "outputs": [],
   "source": []
  },
  {
   "cell_type": "code",
   "execution_count": null,
   "id": "02cea0ff-4336-4c24-90c2-c1d58f235e5b",
   "metadata": {},
   "outputs": [],
   "source": []
  },
  {
   "cell_type": "code",
   "execution_count": null,
   "id": "30b1b32c-d4ec-4547-9bd5-082eab1e0b7a",
   "metadata": {},
   "outputs": [],
   "source": []
  },
  {
   "cell_type": "code",
   "execution_count": null,
   "id": "39429d0d-87fc-4b80-bcb8-41c38509d7cf",
   "metadata": {},
   "outputs": [],
   "source": []
  },
  {
   "cell_type": "code",
   "execution_count": null,
   "id": "dbe75829-b0ac-44fd-867b-67717fb974a7",
   "metadata": {
    "tags": []
   },
   "outputs": [],
   "source": [
    "frac = 0.02\n",
    "data30K = specz_catalog.sample(frac=frac, axis='index')\n",
    "assert len(data30K) == round(frac * len(specz_catalog))\n",
    "#data30K"
   ]
  },
  {
   "cell_type": "code",
   "execution_count": null,
   "id": "a2cba8b9-6451-4aca-9123-b69f10fe5369",
   "metadata": {
    "tags": []
   },
   "outputs": [],
   "source": [
    "redshift = hv.Dimension('z', label='spec-z', range=(0.0, 2.0))"
   ]
  },
  {
   "cell_type": "code",
   "execution_count": null,
   "id": "8fdf7c8a-d38b-43e2-b5a6-99cdfff1277a",
   "metadata": {
    "tags": []
   },
   "outputs": [],
   "source": [
    "#def spatial_and_redshift(dataframe): \n",
    "(z_bin, count) = np.histogram(specz_catalog['z'], bins='fd')\n",
    "z_distribution = hv.Histogram((z_bin, count), kdims=redshift).opts(\n",
    "    title=\"Redshift\", #color='darkgreen',\n",
    "    xlabel='spec-z', #fontscale=1.2,\n",
    "    height=400, width=400)\n",
    "skyplot = hv.Scatter(specz_catalog[['ra', 'dec']]).opts(\n",
    "    title='Distribuição espacial', toolbar='above', tools=['hover'],\n",
    "    height=350, width=350, alpha=0.4, size=2)\n",
    "two_plots = skyplot.options(height=350, width=450) + z_distribution.options(height=350, width=450)\n",
    "#    return two_plots"
   ]
  },
  {
   "cell_type": "code",
   "execution_count": null,
   "id": "85275586-8aa8-4d3f-8b9f-a60971e21813",
   "metadata": {
    "tags": []
   },
   "outputs": [],
   "source": [
    "#two_plots = spatial_and_redshift(data30K)\n",
    "two_plots"
   ]
  },
  {
   "cell_type": "code",
   "execution_count": null,
   "id": "9a7e4a64-2275-43d8-9e2f-cbd3c3778456",
   "metadata": {
    "tags": []
   },
   "outputs": [],
   "source": [
    "counts = pd.DataFrame(data={'flag_des': [len(specz_catalog.query('flag_des ==3')), len(specz_catalog.query('flag_des ==4'))]}, \n",
    "                     index= [3, 4])\n",
    "#counts.set_index('flag_des')\n",
    "counts.plot.pie(y='flag_des') \n",
    "counts"
   ]
  },
  {
   "cell_type": "code",
   "execution_count": null,
   "id": "055b8ed5-d391-442a-8d7a-d23a7a85ec4f",
   "metadata": {
    "tags": []
   },
   "outputs": [],
   "source": [
    "(z_bin3, count3) = np.histogram(data30K.query('flag_des == 3').z, bins='fd')\n",
    "(z_bin4, count4) = np.histogram(data30K.query('flag_des == 4').z, bins='fd')\n",
    "z_distribution3 = hv.Histogram((z_bin3, count3), kdims=redshift).opts(\n",
    "    title=\"flag_des = 3\", # color='darkmagenta',\n",
    "    xlabel='spec-z', #fontscale=1.2,\n",
    "    height=400, width=400)\n",
    "z_distribution4 = hv.Histogram((z_bin4, count4), kdims=redshift).opts(\n",
    "    title=\"flag_des = 4\", #color='gold',\n",
    "    xlabel='spec-z', #fontscale=1.2,\n",
    "    height=400, width=400)\n",
    "z_dist_by_flag = z_distribution4.options(height=350, width=450)  +  z_distribution3.options(height=350, width=450)             "
   ]
  },
  {
   "cell_type": "code",
   "execution_count": null,
   "id": "c3d28b91-7b5b-4391-b46d-d6d5b7396401",
   "metadata": {
    "tags": []
   },
   "outputs": [],
   "source": [
    "z_dist_by_flag"
   ]
  },
  {
   "cell_type": "markdown",
   "id": "392c909c-8523-4a47-bb3e-bd3db457780a",
   "metadata": {},
   "source": [
    "#### Caracterização das subamostras (por levantamento) "
   ]
  },
  {
   "cell_type": "code",
   "execution_count": null,
   "id": "4711c379-ec80-47b9-b0c6-8659554b0f6d",
   "metadata": {},
   "outputs": [],
   "source": []
  },
  {
   "cell_type": "code",
   "execution_count": null,
   "id": "16124211-4a02-4f49-9785-28e2cc6906d6",
   "metadata": {},
   "outputs": [],
   "source": []
  },
  {
   "cell_type": "code",
   "execution_count": null,
   "id": "2dce27b8-bc56-464a-abbc-bb9c03350655",
   "metadata": {},
   "outputs": [],
   "source": []
  },
  {
   "cell_type": "code",
   "execution_count": null,
   "id": "b21ca4b1-67d6-40c0-aaa2-8a0e2e594399",
   "metadata": {
    "tags": []
   },
   "outputs": [],
   "source": [
    "# %%time \n",
    "# ra_deg = np.array(specz_catalog.ra)\n",
    "# dec_deg = np.array(specz_catalog.dec)\n",
    "# c = SkyCoord(ra=-ra_deg*u.degree, dec=dec_deg*u.degree, frame='icrs')\n",
    "# ra_rad = c.ra.wrap_at(180 * u.deg).radian\n",
    "# dec_rad = c.dec.radian\n",
    "# radec = np.vstack([ra_rad, dec_rad])\n",
    "# radec_density = gaussian_kde(radec)(radec)"
   ]
  },
  {
   "cell_type": "code",
   "execution_count": null,
   "id": "9bdbf4ee-e0cd-4ccd-912e-2f829b06ae51",
   "metadata": {
    "tags": []
   },
   "outputs": [],
   "source": [
    "# %%time\n",
    "# ra_deg = np.array(specz_catalog.ra)\n",
    "# dec_deg = np.array(specz_catalog.dec)\n",
    "# c = SkyCoord(ra=-ra_deg*u.degree, dec=dec_deg*u.degree, frame='icrs')\n",
    "# ra_rad = c.ra.wrap_at(180 * u.deg).radian\n",
    "# dec_rad = c.dec.radian\n",
    "# sky_dist(ra_rad, dec_rad, -np.radians(foot_ra), np.radians(foot_dec) )"
   ]
  },
  {
   "cell_type": "markdown",
   "id": "6cb4d550-3345-4b70-9734-f8379bc1eb5a",
   "metadata": {},
   "source": [
    "Contagem de _redshifts_ por levantamento efetivamente incluídos na amostra (após cortes de qualidade e seleção em caso de múltiplas medidas): "
   ]
  },
  {
   "cell_type": "code",
   "execution_count": null,
   "id": "202f57f2-9514-40b4-b54d-1e1448de845f",
   "metadata": {
    "tags": []
   },
   "outputs": [],
   "source": [
    "counts_table = specz_catalog.source.value_counts().sort_values(ascending=False).reset_index(name='count')\n",
    "counts_table.to_string()"
   ]
  },
  {
   "cell_type": "markdown",
   "id": "9e4b3162-fe2b-4a8a-9d99-1e81735d514b",
   "metadata": {},
   "source": [
    "#### Distribuição de _redshifts_ "
   ]
  },
  {
   "cell_type": "code",
   "execution_count": null,
   "id": "90d5631d-e034-40d4-a1b6-fffee9ff04e5",
   "metadata": {
    "tags": []
   },
   "outputs": [],
   "source": [
    "plt.figure()#figsize=[8,4], dpi=150)\n",
    "z_range = \"z > 0 & z < 1.6\"\n",
    "sns.histplot(specz_catalog.query(z_range).z, bins=50, stat='count', label='all')\n",
    "sns.histplot(specz_catalog.query(z_range+\" & flag_des == 3\").z, bins=50, stat='count', label='flag=3')\n",
    "sns.histplot(specz_catalog.query(z_range+\" & flag_des == 4\").z, bins=50, stat='count', alpha=0.5, label='flag=4')\n",
    "plt.legend()\n",
    "plt.xlabel(\"spec-$z$\", fontsize=15)\n",
    "plt.ylabel(\"count\", fontsize=15)\n",
    "plt.tight_layout()"
   ]
  },
  {
   "cell_type": "code",
   "execution_count": null,
   "id": "3c2e8fee-4995-49fb-ae43-9d2748bc4e9e",
   "metadata": {
    "scrolled": true,
    "tags": []
   },
   "outputs": [],
   "source": [
    "for index, row in counts_table.iterrows():\n",
    "    survey = row['source']\n",
    "    query = f'source == \"{survey}\" '\n",
    "    data = specz_catalog.query(query)\n",
    "    two_plots = spatial_and_redshift(data)\n",
    "    \n",
    "    # #if row['count'] > 10000:\n",
    "    # plt.figure(figsize=[12,4])#, dpi=150)\n",
    "    # plt.subplot(121)\n",
    "    # survey = row['source']\n",
    "    # query = f'source == \"{survey}\" '\n",
    "    # sns.histplot(specz_catalog.query(query).z, bins=50, stat='count', label=f\"{row['source']}: {row['count']} objects\")\n",
    "    # #sns.kdeplot(specz_catalog.query(query).z, fill=True, label=f\"{row['source']}: {row['count']} objects\")\n",
    "    # plt.xlabel(\"spec-$z$\", fontsize=13)\n",
    "    # #plt.ylabel(\"normalized counts\", fontsize=14)\n",
    "    # plt.xlim(0,2.5)\n",
    "    # plt.legend()\n",
    "    # plt.subplot(122)\n",
    "    # org = 0.0\n",
    "    # ra2 = np.remainder(np.array(specz_catalog.query(query).ra) + 360. - org, 360.) # shift RA values\n",
    "    # ra2[ra2>180.] -= 360.    # scale conversion to [-180, 180]\n",
    "    # ra2 = -ra2    # reverse the scale: East to the left\n",
    "    # plt.plot(ra2, specz_catalog.query(query).dec, '.')\n",
    "    # plt.plot(foot_ra, foot_dec, 'k-')\n",
    "    # plt.xlabel('R.A. (deg)')\n",
    "    # plt.ylabel('Dec. (deg)')\n",
    "    # plt.xlim(180,-180)\n",
    "    # plt.tight_layout()"
   ]
  },
  {
   "cell_type": "markdown",
   "id": "9b56418e-a602-40ea-8eb9-a753e2594d7f",
   "metadata": {},
   "source": [
    "Liberação de memória: "
   ]
  },
  {
   "cell_type": "code",
   "execution_count": null,
   "id": "377e1ff2-3ca9-4bab-b18e-33d8361e348a",
   "metadata": {},
   "outputs": [],
   "source": [
    "del specz_catalog"
   ]
  },
  {
   "cell_type": "markdown",
   "id": "32f706ec-c5e2-4e0c-9ebc-0bc339011cf8",
   "metadata": {},
   "source": [
    "--- \n",
    "\n",
    "### 2. Conjunto de treinamento para photo-z (inclui dados fotométricos do DES) \n",
    "\n",
    "O conjunto de treinamento foi criado a partir da correspondência espacial entre os objetos presentes no catálogo de reshifts descrito acima e a tabela de objetos (_coadd_objects_) do DES DR2, com raio de busca de 1.0 _arcsec_, com o objetivo de incluir as colunas do conjunto fotométrico que são úteis para o cálculo de photo-z (magnituides aparentes e seus respectivos erros). O conjunto de treinamento  corresponde à tabela `des_dr2.public_pz_training_set` no banco de dados.  "
   ]
  },
  {
   "cell_type": "code",
   "execution_count": null,
   "id": "f205b8a5-6519-4c0f-84b4-4e9e52f7fdd8",
   "metadata": {
    "tags": []
   },
   "outputs": [],
   "source": [
    "db = DBBase()\n",
    "schema = \"des_dr2\"  \n",
    "tablename = \"public_pz_training_set\""
   ]
  },
  {
   "cell_type": "code",
   "execution_count": null,
   "id": "c06e81eb-8348-4b48-890a-b7a68b4eb058",
   "metadata": {
    "tags": []
   },
   "outputs": [],
   "source": [
    "query = f\"SELECT * FROM {schema}.{tablename}\"# ORDER BY id ASC\"\n",
    "training_set = db.fetchall_df(query)"
   ]
  },
  {
   "cell_type": "code",
   "execution_count": null,
   "id": "e2b58a35-3f36-4d6a-8b37-8cdbd57fb208",
   "metadata": {
    "tags": []
   },
   "outputs": [],
   "source": [
    "training_set.head()"
   ]
  },
  {
   "cell_type": "markdown",
   "id": "13763228-ad08-4f3c-8dda-3f1ab77ee20d",
   "metadata": {},
   "source": [
    "Significado das colunas: \n",
    "\n",
    "| Nome da coluna | Sigificado | \n",
    "|--:|:--|\n",
    "| **spec_id** | Identificador único dado pelo _pipeline_ Spectroscopic Sample no DES Science Portal. |\n",
    "| **z** | _redshift_ |\n",
    "| **err_z** | Erro no redshift. Quando indisponível, substituído por 99.0 |\n",
    "| **flag** | Marcador de qualidade original dado pelo levantamento de origem. |\n",
    "| **source** | Nome do projeto ou levantamento de origem. |\n",
    "| **flag_des**| Marcador de qualidade padronizado (detalhes [acima](#flags))| \n",
    "| **coadd_object_id**| Identificador único do objeto no catálogo fotométrico do DES DR2 (tabela _coadd_objects_). | \n",
    "| **ra**  | Ascensão reta (graus)  |\n",
    "| **dec** | Declinação (graus) |\n",
    "| **mag\\_auto\\_[g,r,i,z,y]\\_dered** | Magnitude aparente nas bandas [g, r, i, z, y], corrigidas de avermelhamento  |\n",
    "| **magerr\\_auto\\_[g,r,i,z,y]** | Erro na magnitude aparente nas bandas [g, r, i, z, y] |"
   ]
  },
  {
   "cell_type": "markdown",
   "id": "d96fd0c3-fc12-4577-be0b-f7f9a11019ad",
   "metadata": {
    "tags": []
   },
   "source": [
    "Estatísticas básicas: "
   ]
  },
  {
   "cell_type": "code",
   "execution_count": null,
   "id": "e95af7c3-3724-4460-aa24-cf069ba567b3",
   "metadata": {
    "tags": []
   },
   "outputs": [],
   "source": [
    "training_set.describe()"
   ]
  },
  {
   "cell_type": "markdown",
   "id": "f5e19761-a38b-4c84-aa86-5e80fb696c2e",
   "metadata": {},
   "source": [
    "#### Distribuição espacial"
   ]
  },
  {
   "cell_type": "code",
   "execution_count": null,
   "id": "2e0ac006-015e-411e-920b-be3f78c84dd9",
   "metadata": {
    "tags": []
   },
   "outputs": [],
   "source": [
    "sky_(training_set.ra, training_set.dec, foot_ra, foot_dec)"
   ]
  },
  {
   "cell_type": "markdown",
   "id": "be3b6f32-c5a9-4746-ab05-10675f2ff12e",
   "metadata": {},
   "source": [
    "Contagem de _redshifts_ por levantamento efetivamente incluídos na amostra (após cortes de qualidade e seleção em caso de múltiplas medidas): "
   ]
  },
  {
   "cell_type": "code",
   "execution_count": null,
   "id": "ccbb4495-6bd8-43a0-8822-9c8aec8fe525",
   "metadata": {
    "tags": []
   },
   "outputs": [],
   "source": [
    "counts_table = training_set.source.value_counts().sort_values(ascending=False).reset_index(name='count')\n",
    "counts_table"
   ]
  },
  {
   "cell_type": "markdown",
   "id": "626abf29-5718-4abf-b6d2-7bf9102cb85e",
   "metadata": {},
   "source": [
    "#### Distribuição de _redshifts_ "
   ]
  },
  {
   "cell_type": "code",
   "execution_count": null,
   "id": "a56e5ae0-5a3c-42ec-a82c-7282b43b4944",
   "metadata": {
    "tags": []
   },
   "outputs": [],
   "source": [
    "plt.figure(figsize=[8,4])#, dpi=200)\n",
    "z_range = \"z > 0 & z < 1.6\"\n",
    "sns.histplot(training_set.query(z_range).z, bins=50, stat='count', label='all')\n",
    "sns.histplot(training_set.query(z_range+\" & flag_des == 3\").z, bins=50, stat='count', label='flag=3')\n",
    "sns.histplot(training_set.query(z_range+\" & flag_des == 4\").z, bins=50, stat='count', alpha=0.5, label='flag=4')\n",
    "plt.legend()\n",
    "plt.xlabel(\"spec-$z$\", fontsize=15)\n",
    "plt.ylabel(\"count\", fontsize=15)\n",
    "plt.tight_layout()"
   ]
  },
  {
   "cell_type": "code",
   "execution_count": null,
   "id": "3cc7b67a-87af-4e0c-b000-e9d93a80444b",
   "metadata": {},
   "outputs": [],
   "source": []
  },
  {
   "cell_type": "code",
   "execution_count": null,
   "id": "76af8d2d-7018-4daa-b13e-ce8140b1b031",
   "metadata": {},
   "outputs": [],
   "source": []
  },
  {
   "cell_type": "code",
   "execution_count": null,
   "id": "a14a4d7b-29f5-498d-bf7b-7b0995ecf849",
   "metadata": {},
   "outputs": [],
   "source": []
  },
  {
   "cell_type": "code",
   "execution_count": null,
   "id": "eb382869-79ed-455c-988a-d86afc52a557",
   "metadata": {},
   "outputs": [],
   "source": []
  },
  {
   "cell_type": "code",
   "execution_count": null,
   "id": "baec0f83-eec2-46b6-ae45-de8636fd7877",
   "metadata": {},
   "outputs": [],
   "source": []
  },
  {
   "cell_type": "code",
   "execution_count": null,
   "id": "95cf3f62-911e-4519-ba3b-2ba206caa3fa",
   "metadata": {},
   "outputs": [],
   "source": [
    "pl.figure(figsize=[6,6])\n",
    "xy = np.vstack([specz, photoz[matching]])\n",
    "z = gaussian_kde(xy)(xy)\n",
    "pl.scatter(specz, photoz[matching], s=5, c=z, cmap='viridis')\n",
    "pl.plot([-1,5], [-1,5], 'r--')\n",
    "pl.xlabel('spec-$z$')\n",
    "pl.ylabel('photo-$z$')\n",
    "#pl.legend()\n",
    "pl.xlim(0.0,1.5)\n",
    "pl.ylim(0.0,1.5)\n",
    "pl.xticks(np.arange(0,1.5,0.2))\n",
    "pl.yticks(np.arange(0,1.5,0.2))\n",
    "pl.tight_layout()"
   ]
  },
  {
   "cell_type": "code",
   "execution_count": null,
   "id": "1de4aae6-ce7c-47e6-9fe6-436a51877ea0",
   "metadata": {},
   "outputs": [],
   "source": [
    "%%time\n",
    "pl.figure(figsize=[14,10])\n",
    "mask = (ra >= 33.6)*(ra <= 37.9)*(dec >= -6.8)*(dec <= -3.9)\n",
    "plot = pl.hexbin(ra[mask], dec[mask], None,\n",
    "        norm=None, gridsize = 500, bins=\"log\", cmap=None)#'CMRmap')\n",
    "pl.colorbar()\n",
    "pl.xlabel('R.A.')\n",
    "pl.ylabel('Dec.')\n",
    "pl.xlim(33.6,37.9)\n",
    "pl.ylim(-6.8,-3.9)\n",
    "#pl.savefig('spatial_density_raw_y3_gold_small.png')"
   ]
  },
  {
   "cell_type": "code",
   "execution_count": null,
   "id": "801e7135-6cfb-465e-a452-827f78616a33",
   "metadata": {},
   "outputs": [],
   "source": []
  },
  {
   "cell_type": "code",
   "execution_count": null,
   "id": "7e0aae73-f3e2-4370-a5e7-079e71d7b663",
   "metadata": {},
   "outputs": [],
   "source": []
  },
  {
   "cell_type": "code",
   "execution_count": null,
   "id": "a2c050f1-568c-4f0e-ba23-e042d2b22e51",
   "metadata": {},
   "outputs": [],
   "source": [
    "def color_legend_texts(leg):\n",
    "    \"\"\"Color legend texts based on color of corresponding lines\"\"\"\n",
    "    for line, txt in zip(leg.get_lines(), leg.get_texts()):\n",
    "        txt.set_color(line.get_color())"
   ]
  },
  {
   "cell_type": "code",
   "execution_count": null,
   "id": "16ed9614-ed3b-4b38-8be2-61dd41abc906",
   "metadata": {},
   "outputs": [],
   "source": [
    "colors = [\"#9900ff\", \"#1a53ff\",\"#00cc00\", \"#ffcc00\", \"#FF8C00\", \"#ff0000\"]"
   ]
  },
  {
   "cell_type": "code",
   "execution_count": null,
   "id": "4cf5252e-da24-455e-92cc-da16fa87552a",
   "metadata": {},
   "outputs": [],
   "source": [
    "plt.figure(figsize=(14,6), dpi=300)\n",
    "ax = plt.subplot(111, projection=\"mollweide\")\n",
    "plt.grid(True)\n",
    "for index, row in counts_table.iterrows():\n",
    "    survey = row['source']\n",
    "    query = f'source == \"{survey}\" '\n",
    "    if len(training_set.query(query)) > 20000:\n",
    "        print(survey, len(training_set.ra), len(training_set.query(query).ra))\n",
    "        plt.scatter(-np.radians(training_set.query(query).ra), np.radians(training_set.query(query).dec), \n",
    "                 marker='.', label=str(survey).strip())\n",
    "plt.plot(-np.radians(foot_ra), np.radians(foot_dec), 'k-')\n",
    "plt.legend(loc='lower right', markerscale=10, fontsize=14)\n",
    "leg = ax.legend(numpoints=1, ncol=1, markerscale=5,\n",
    "               bbox_to_anchor=(1.02, 1), loc=2, borderaxespad=0.)\n",
    "color_legend_texts(leg)\n",
    "org=0.0\n",
    "tick_labels = np.array([150, 120, 90, 60, 30, 0, 330, 300, 270, 240, 210])\n",
    "tick_labels = np.remainder(tick_labels+360+org,360)\n",
    "ax.set_xticklabels(tick_labels)     # we add the scale on the x axis\n",
    "plt.xlabel('R.A.', fontsize=16)\n",
    "plt.ylabel('Dec.', fontsize=16)\n",
    "plt.tight_layout()"
   ]
  },
  {
   "cell_type": "code",
   "execution_count": null,
   "id": "a5318fd6-55a7-4db2-8d16-4ed16ae4be33",
   "metadata": {},
   "outputs": [],
   "source": [
    "pl.figure(figsize=[7,4], dpi=300)\n",
    "zbins = np.arange(0,2,0.05)\n",
    "zrange = (z_all>0)*(z_all<1.6)\n",
    "survey_6dF = (z_all>0)*(z_all<0.4) * (source == '6DF')\n",
    "survey_2dF = zrange * (source == '2DF')\n",
    "survey_DEEP2 = zrange * (source == 'DEEP2')\n",
    "survey_SDSS_DR14 = zrange * (source == 'SDSS_DR14')\n",
    "survey_3DHST = zrange * (source == '3DHST')\n",
    "survey_GAMA = zrange * (source == 'GAMA')\n",
    "survey_VIPERS = zrange * (source == 'VIPERS')\n",
    "survey_DES_AAOMEGA = zrange * (source == 'DES_AAOMEGA')\n",
    "pl.hist(z_all[zrange], zbins, histtype='step', label='all', lw=1.5, ec='k')\n",
    "pl.hist(z_all[survey_SDSS_DR14], zbins, histtype='stepfilled', label='SDSS', alpha=0.6, fc='b')\n",
    "pl.hist(z_all[survey_VIPERS], zbins, histtype='stepfilled', label='VIPERS', alpha=0.6, fc='g')\n",
    "pl.hist(z_all[survey_2dF], zbins, histtype='stepfilled', label='2dF', alpha=0.8, fc='r')\n",
    "pl.hist(z_all[survey_GAMA], zbins, histtype='stepfilled', label='GAMA', alpha=0.7, fc='#633974')\n",
    "pl.hist(z_all[survey_DES_AAOMEGA], zbins, histtype='stepfilled', label='OzDES', fc='y')#, alpha=0.7)\n",
    "#pl.hist(z_all[survey_DEEP2], zbins, histtype='stepfilled', label='DEEP2', alpha=0.7)\n",
    "pl.legend()\n",
    "pl.xlim(0,1.5)\n",
    "pl.xlabel(\"spec-$z$\", fontsize=14)\n",
    "pl.ylabel(\"counts\", fontsize=15)\n",
    "pl.tight_layout()"
   ]
  },
  {
   "cell_type": "code",
   "execution_count": null,
   "id": "dbeb3085-f6a7-4b82-aab5-f9798e38274a",
   "metadata": {},
   "outputs": [],
   "source": [
    "mag_g = des_data['MAG_AUTO_G']\n",
    "mag_r = des_data['MAG_AUTO_R']\n",
    "mag_i = des_data['MAG_AUTO_I']"
   ]
  },
  {
   "cell_type": "markdown",
   "id": "a514e184-2fc6-480f-83cf-134f7b785f4b",
   "metadata": {},
   "source": [
    "### N(mag) "
   ]
  },
  {
   "cell_type": "code",
   "execution_count": null,
   "id": "b722606d-5289-4e72-aae2-22051ace3980",
   "metadata": {},
   "outputs": [],
   "source": [
    "pl.figure(dpi=300)\n",
    "mask = (mag_i > 12)*(mag_i < 28)\n",
    "sns.kdeplot(mag_i[mask], shade=True)#, label='all spec-zs')\n",
    "#pl.xlim(0,1.5)\n",
    "pl.xlabel('i-band MAG AUTO')\n",
    "pl.ylabel(\"counts\", fontsize=14)\n",
    "pl.tight_layout()\n",
    "pl.savefig(path+'specz/plots/specz_GOOD_%s_hist_mag_i.png'%version)"
   ]
  },
  {
   "cell_type": "markdown",
   "id": "6761017c-146c-4f2f-aece-7635f13260c7",
   "metadata": {},
   "source": [
    "### Magnitude X redshift"
   ]
  },
  {
   "cell_type": "code",
   "execution_count": null,
   "id": "33f71ac4-c1d6-4803-be2b-d91e3d7a2c7a",
   "metadata": {
    "tags": []
   },
   "outputs": [],
   "source": [
    "pl.figure(figsize=[8,4])#, dpi=300)\n",
    "xy = np.vstack([z_all, mag_i])\n",
    "z = gaussian_kde(xy)(xy)\n",
    "pl.scatter(z_all, mag_i, \n",
    "           s=5, c=z, cmap='viridis')\n",
    "cbar = pl.colorbar()\n",
    "cbar.ax.tick_params(labelsize=12)\n",
    "#cbar.set_label('log(#gal)', size=12)\n",
    "pl.xlabel('redshift', fontsize=16)\n",
    "pl.ylabel('mag i (AUTO)', fontsize=16)\n",
    "pl.xticks(fontsize=14)\n",
    "pl.yticks(fontsize=14)\n",
    "pl.xlim(0,1.5)\n",
    "pl.ylim(15,25)\n",
    "pl.tight_layout()"
   ]
  },
  {
   "cell_type": "code",
   "execution_count": null,
   "id": "d8c68994-ee96-4998-a1a2-d5c02bb0fd8c",
   "metadata": {},
   "outputs": [],
   "source": []
  },
  {
   "cell_type": "code",
   "execution_count": null,
   "id": "875cd5eb-cfba-4047-84ea-53200f7d9480",
   "metadata": {},
   "outputs": [],
   "source": []
  },
  {
   "cell_type": "code",
   "execution_count": null,
   "id": "284c51ed-a53a-4578-ba8d-76ef4bee56d8",
   "metadata": {},
   "outputs": [],
   "source": []
  },
  {
   "cell_type": "code",
   "execution_count": null,
   "id": "4bad2a30-0036-4de9-9acc-34352bfb0fe7",
   "metadata": {},
   "outputs": [],
   "source": []
  },
  {
   "cell_type": "code",
   "execution_count": null,
   "id": "13da9f6c-2654-49e3-99d6-95c021ea4bad",
   "metadata": {},
   "outputs": [],
   "source": []
  },
  {
   "cell_type": "code",
   "execution_count": null,
   "id": "84c08d93-2535-4767-b786-795f3310187a",
   "metadata": {
    "tags": []
   },
   "outputs": [],
   "source": [
    "training_set.columns"
   ]
  },
  {
   "cell_type": "code",
   "execution_count": null,
   "id": "b8a8e566-e3a7-4685-af68-7cb53db29378",
   "metadata": {
    "tags": []
   },
   "outputs": [],
   "source": [
    "training_set['gmi'] = training_set['mag_auto_g_dered'] - training_set['mag_auto_i_dered']\n",
    "training_set['rmi'] = training_set['mag_auto_r_dered'] - training_set['mag_auto_i_dered']\n",
    "training_set['gmr'] = training_set['mag_auto_g_dered'] - training_set['mag_auto_r_dered']"
   ]
  },
  {
   "cell_type": "code",
   "execution_count": null,
   "id": "a09af127-e6b8-413a-b939-fcde4032434b",
   "metadata": {},
   "outputs": [],
   "source": [
    "Create a 2% random subsample of this dataset with which to demonstrate some basic HoloViews functionality."
   ]
  },
  {
   "cell_type": "code",
   "execution_count": null,
   "id": "e3780eb2-a1b6-4659-8d9f-e82a0f60c823",
   "metadata": {
    "tags": []
   },
   "outputs": [],
   "source": [
    "frac = 0.02\n",
    "data10K = training_set.sample(frac=frac, axis='index')\n",
    "assert len(data10K) == round(frac * len(training_set))"
   ]
  },
  {
   "cell_type": "code",
   "execution_count": null,
   "id": "f1d5920f-31bb-40b7-913e-4d447de314bc",
   "metadata": {
    "tags": []
   },
   "outputs": [],
   "source": [
    "print(len(data10K))"
   ]
  },
  {
   "cell_type": "code",
   "execution_count": null,
   "id": "f188c6e5-6a0b-443e-92ec-bf8cc6e40f24",
   "metadata": {
    "tags": []
   },
   "outputs": [],
   "source": [
    "hv.Scatter(data10K[[\"ra\", \"dec\"]]).options(toolbar=None)"
   ]
  },
  {
   "cell_type": "code",
   "execution_count": null,
   "id": "921c021d-63ce-4523-b9fb-0567a08b0e3f",
   "metadata": {
    "tags": []
   },
   "outputs": [],
   "source": [
    "(z_bin, count) = np.histogram(data10K['z'], bins='fd')\n",
    "z_distribution = hv.Histogram((z_bin, count)).opts(\n",
    "    title=\"redshift distribution\", color='darkmagenta',\n",
    "    xlabel='spec-z', fontscale=1.2,\n",
    "    height=400, width=400)"
   ]
  },
  {
   "cell_type": "code",
   "execution_count": null,
   "id": "5d730dfd-3dba-4d29-a27c-85452151eb96",
   "metadata": {
    "tags": []
   },
   "outputs": [],
   "source": [
    "z_distribution"
   ]
  },
  {
   "cell_type": "code",
   "execution_count": null,
   "id": "61299af5-24ef-4184-b36d-173910d83b22",
   "metadata": {
    "tags": []
   },
   "outputs": [],
   "source": [
    "skyplot = hv.Scatter(data10K[[\"ra\", \"dec\"]]).opts(\n",
    "    title=\"Skyplot\", toolbar='above', tools=['hover'],\n",
    "    height=350, width=350, alpha=0.2, size=2)\n",
    "\n",
    "skyplots = skyplot + z_distribution.options(height=350, width=350)"
   ]
  },
  {
   "cell_type": "code",
   "execution_count": null,
   "id": "0557d052-2a0d-4cb3-9aa6-f6c32bdec3ef",
   "metadata": {
    "tags": []
   },
   "outputs": [],
   "source": [
    "skyplots"
   ]
  },
  {
   "cell_type": "code",
   "execution_count": null,
   "id": "a5bd37c0-1487-471e-804a-13ff33d1da2b",
   "metadata": {
    "tags": []
   },
   "outputs": [],
   "source": [
    "plot_style_bkh = dict(alpha=0.5, color='darkmagenta',\n",
    "                      marker='triangle', size=3,\n",
    "                      xticks=5, yticks=5,\n",
    "                      height=400, width=400,\n",
    "                      toolbar='above')"
   ]
  },
  {
   "cell_type": "code",
   "execution_count": null,
   "id": "c103516b-81c8-42e4-bcb7-ca5da7fdaba7",
   "metadata": {
    "tags": []
   },
   "outputs": [],
   "source": [
    "plot_style_mpl = dict(alpha=0.2, color='c', marker='s',\n",
    "                      fig_size=200, s=2,\n",
    "                      fontsize=14, xticks=8, yticks=8)"
   ]
  },
  {
   "cell_type": "markdown",
   "id": "94c975da-abce-428c-9bd1-b9cc5add582c",
   "metadata": {},
   "source": [
    "Instead of subsetting a dataset to choose which columns to plot, HoloViews allows us to specify the dimensionality directly. \n",
    "`kdims` are the key dimensions or the independent variable(s) and `vdims` are the value dimensions or the dependenent variable(s). \n",
    "\n",
    "Choose to use the Bokeh plot style."
   ]
  },
  {
   "cell_type": "code",
   "execution_count": null,
   "id": "fc719021-c486-4de3-a09a-3e53b7649ebc",
   "metadata": {
    "tags": []
   },
   "outputs": [],
   "source": [
    "plot_style = plot_style_bkh"
   ]
  },
  {
   "cell_type": "code",
   "execution_count": null,
   "id": "500adcce-2762-489a-9fb7-3c66d42a0aee",
   "metadata": {
    "tags": []
   },
   "outputs": [],
   "source": [
    "hv.Scatter(data10K,\n",
    "           kdims=['gmi'], vdims=['mag_auto_g_dered']\n",
    "           ).opts(invert_yaxis=True,\n",
    "                  xlabel=\" (g-i)\", ylabel=\"g\",\n",
    "                  **plot_style)"
   ]
  },
  {
   "cell_type": "code",
   "execution_count": null,
   "id": "d63c1dda-63bd-488b-8d06-a40979df6ece",
   "metadata": {
    "tags": []
   },
   "outputs": [],
   "source": [
    "rmi = hv.Dimension('rmi', label='(r-i)', range=(-0.8, 3.0))\n",
    "gmr = hv.Dimension('gmr', label='(g-r)', range=(-0.8, 3.0))"
   ]
  },
  {
   "cell_type": "code",
   "execution_count": null,
   "id": "bd67eb86-f128-4062-b1eb-bf8f1129ef2f",
   "metadata": {
    "tags": []
   },
   "outputs": [],
   "source": [
    "points = data10K\n",
    "col_col = hv.Scatter(points, kdims=gmr,\n",
    "                     vdims=rmi).opts(**plot_style)"
   ]
  },
  {
   "cell_type": "code",
   "execution_count": null,
   "id": "6e9d9542-2cce-4180-a750-f0fc23d06ddc",
   "metadata": {
    "tags": []
   },
   "outputs": [],
   "source": [
    "col_col = col_col.hist(dimension=[gmr, rmi],\n",
    "                       num_bins=100, adjoin=True)"
   ]
  },
  {
   "cell_type": "code",
   "execution_count": null,
   "id": "4a313015-134a-4d2f-9a53-db34d4046447",
   "metadata": {
    "tags": []
   },
   "outputs": [],
   "source": [
    "col_col"
   ]
  },
  {
   "cell_type": "code",
   "execution_count": null,
   "id": "f16eee2b-c8fc-4aa1-bbb9-0ab3fce67b96",
   "metadata": {
    "tags": []
   },
   "outputs": [],
   "source": [
    "%%opts Scatter [tools=['hover'], toolbar='above',height=400, width=400](color='grey')\n",
    "hv.Scatter(data10K[['ra', 'dec']]).opts(alpha=0.3, size=3)"
   ]
  },
  {
   "cell_type": "code",
   "execution_count": null,
   "id": "59eae4b0-61a2-4877-bc4f-da90c2964d33",
   "metadata": {
    "tags": []
   },
   "outputs": [],
   "source": [
    "raDecHover = HoverTool(\n",
    "    tooltips=[\n",
    "        ('ra,dec', '@ra / @dec'),\n",
    "        ('rmag', '@mag_auto_r_dered'),\n",
    "        ('z', '@z'),\n",
    "    ],\n",
    "    formatters={\n",
    "        'ra/dec': 'printf',\n",
    "        'rmag': 'numeral',\n",
    "        'z': 'numeral',\n",
    "    },\n",
    "    point_policy=\"follow_mouse\"\n",
    ")"
   ]
  },
  {
   "cell_type": "code",
   "execution_count": null,
   "id": "46781080-bd67-45f7-83a5-d8163842e900",
   "metadata": {
    "tags": []
   },
   "outputs": [],
   "source": [
    "data10K.columns"
   ]
  },
  {
   "cell_type": "code",
   "execution_count": null,
   "id": "dd3c0297-d459-4bbc-a61e-1c58fb68c607",
   "metadata": {
    "tags": []
   },
   "outputs": [],
   "source": [
    "hv.Scatter(data10K[['ra', 'dec', 'z', 'mag_auto_r_dered']]).opts(tools=[raDecHover], **plot_style_bkh)"
   ]
  },
  {
   "cell_type": "code",
   "execution_count": null,
   "id": "d09ef946-40d1-4c36-a19e-595f2df4eb10",
   "metadata": {},
   "outputs": [],
   "source": []
  },
  {
   "cell_type": "code",
   "execution_count": null,
   "id": "973344b5-93c3-42dc-a880-67c4d99c2f8f",
   "metadata": {},
   "outputs": [],
   "source": []
  },
  {
   "cell_type": "code",
   "execution_count": null,
   "id": "fbceafca-e3ed-44aa-ad40-6ea36dde1e75",
   "metadata": {},
   "outputs": [],
   "source": []
  },
  {
   "cell_type": "code",
   "execution_count": null,
   "id": "2aa76ee3-cc01-4d1d-9478-f66be5ea229f",
   "metadata": {},
   "outputs": [],
   "source": []
  },
  {
   "cell_type": "code",
   "execution_count": null,
   "id": "c870227b-075e-4184-b367-d296b2e7179c",
   "metadata": {},
   "outputs": [],
   "source": []
  },
  {
   "cell_type": "code",
   "execution_count": null,
   "id": "de96eca3-cd1f-4c4e-b286-99aec1cec507",
   "metadata": {},
   "outputs": [],
   "source": []
  },
  {
   "cell_type": "code",
   "execution_count": null,
   "id": "bff3f660-2cd2-45a9-8ca4-94f9deab321b",
   "metadata": {},
   "outputs": [],
   "source": []
  },
  {
   "cell_type": "markdown",
   "id": "f8c3b7d3-4722-49c4-99d0-44cfe4a8f26b",
   "metadata": {},
   "source": [
    "---"
   ]
  }
 ],
 "metadata": {
  "kernelspec": {
   "display_name": "pz",
   "language": "python",
   "name": "pz"
  },
  "language_info": {
   "codemirror_mode": {
    "name": "ipython",
    "version": 3
   },
   "file_extension": ".py",
   "mimetype": "text/x-python",
   "name": "python",
   "nbconvert_exporter": "python",
   "pygments_lexer": "ipython3",
   "version": "3.10.11"
  }
 },
 "nbformat": 4,
 "nbformat_minor": 5
}
