{
 "cells": [
  {
   "cell_type": "markdown",
   "id": "9d42adbb-55a5-4edd-aaae-2a5c2279e279",
   "metadata": {},
   "source": [
    "<img align=\"left\" src = https://linea.org.br/wp-content/themes/LIneA/imagens/logo-header.jpg width=150 style=\"padding: 20px\"> \n",
    "\n",
    "## Spectroscopic Redshifts Compilation\n",
    "\n",
    "Acervo público de medidas de _redshift_ disponibilizadas por <br>levantamentos espectroscópicos anteriores ao DES DR2. \n",
    "\n",
    "Contato: Julia Gschwend ([julia@linea.org.br](mailto:julia@linea.org.br))\n",
    "<br>\n",
    "Última verificação: 30/08/2023\n",
    "<br>\n"
   ]
  },
  {
   "cell_type": "markdown",
   "id": "6c6d0276-13b5-4a2e-974d-0b3c664914f7",
   "metadata": {},
   "source": [
    "#### Acknowledgements\n",
    "Caso você utilize estes dados para gerar resultados científicos, pedimos que faça referência ao artigo [Gschwend et al., 2018](https://ui.adsabs.harvard.edu/abs/2018A%26C....25...58G/abstract) e reconheça o LIneA na seção de agradecimentos em suas publicações, por exemplo:\n",
    "\n",
    "\"_Esta pesquisa utilizou recursos computacionais da Associação Laboratório Interinstitucional de e-Astronomia (LIneA) com o apoio financeiro do INCT do e-Universo (Processo n.º 465376/2014-2)._\" "
   ]
  },
  {
   "cell_type": "markdown",
   "id": "c6efcd74-f7d2-40b3-adae-42208fcc2b4a",
   "metadata": {},
   "source": [
    "## Sobre o acervo\n",
    "\n",
    "\n",
    "O LIneA disponibiliza para os usuários do **LIneA JupyterHub** um acervo de catálogos de _redshifts_ espectroscópicos (spec-z) que foram publicamente distribuídos e detalhadamente descritos em literatura científica pelos seus projetos de origem. Estes catálogos foram coletados ao longo dos anos de operação do levantamento Dark Energy Survey (DES) e agrupados sistematicamente por uma ferramenta do DES Science Portal (_pipeline_ Spectroscopic Sample) para compor a base de um conjunto de treinamento para algoritmos de cálculo de _redshifts_ fotométricos baseados em aprendizado de máquina. A versão original do catálogo compilado utilizada no contexto do DES inclui dados proprietários do levantamento [OzDES](https://www.mso.anu.edu.au/ozdes/index.html) ([Yuan et al. 2015](https://ui.adsabs.harvard.edu/abs/2015MNRAS.452.3047Y/abstract)) e outros dados de pequenos levantamentos, também proprietários. \n",
    "\n",
    "Uma outra versão incluindo apenas dados públicos de 32 levantamentos espectroscópicos foi preparada e está sendo disponibilizada para o grande público através da plataforma **LIneA JupyterHub**. Este notebook oferece um passo-a-passo de como acessar os dados e uma breve caracterização deste conjunto."
   ]
  },
  {
   "cell_type": "markdown",
   "id": "7748de65-846c-43f4-8343-c80beda8fed6",
   "metadata": {},
   "source": [
    "### Levantamentos espectroscópicos \n",
    "\n",
    "A tabela abaixo contém a lista de levantamentos e as respectivas referências bibliográficas de cada um dos catálogos de _redshifts_ que compõem o acervo. \n",
    "\n",
    "\n",
    "|seq.|Nome do levantamento <br> (link para o _site_)| Redshifts na <br>amostra original | Referência <br> (link para o artigo) |\n",
    "|---|---|:-:|---|\n",
    "1| [2dF](http://www.2dfgrs.net/) |245,591 | [Colless et al. 2001](https://academic.oup.com/mnras/article/328/4/1039/1082731)|\n",
    "2|[2dFLenS](http://2dflens.swin.edu.au/) |70,079| [Blake et al. 2016](https://ui.adsabs.harvard.edu/abs/2016MNRAS.462.4240B/abstract)|\n",
    "3|[3DHST](http://3dhst.research.yale.edu/Data.php)|207,967|[Momcheva et al. 2016](https://ui.adsabs.harvard.edu/abs/2016ApJS..225...27M/abstract)|\n",
    "4|[6dF (DR3)](http://www.6dfgs.net/)|109,831|[Jones et al. 2009](https://ui.adsabs.harvard.edu/abs/2009MNRAS.399..683J/abstract)|\n",
    "5|[ACES](http://mur.ps.uci.edu/cooper/ACES/zcatalog.html)|13,963|[Cooper et al. 2012](https://ui.adsabs.harvard.edu/abs/2012MNRAS.425.2116C/abstract)|\n",
    "6|[ATLAS (DR2)](http://astro.dur.ac.uk/Cosmology/vstatlas/index.php?go=dr2)|1,074 |[Mao et al. 2012](https://ui.adsabs.harvard.edu/abs/2012MNRAS.426.3334M/abstract)|\n",
    "7|[C3R2 (DR2)](https://sites.google.com/view/c3r2-survey/) |4,525 |[Masters et al. 2019](https://ui.adsabs.harvard.edu/abs/2019ApJ...877...81M/abstract) |\n",
    "8|[CDB](http://vizier.u-strasbg.fr/viz-bin/VizieR?-source=J/MNRAS/406/782)        |541   |[Sullivan et al. 2011](https://ui.adsabs.harvard.edu/abs/2011yCat..74060782S/abstract)|\n",
    "9|[CLASH-VLT](https://sites.google.com/site/vltclashpublic/data-release)  |10,183|[Biviano et al. 2013](https://ui.adsabs.harvard.edu/abs/2013A%26A...558A...1B/abstract)<br> [Annunziatella et al. 2016](https://ui.adsabs.harvard.edu/abs/2016A%26A...585A.160A/abstract)<br> [Balestra et al. 2016](https://ui.adsabs.harvard.edu/abs/2016yCat..22240033B/abstract)<br> [Grillo et al. 2016](https://ui.adsabs.harvard.edu/abs/2016ApJ...822...78G/abstract)<br> [Caminha et al. 2017](https://ui.adsabs.harvard.edu/abs/2017yCat..36000090C/abstract)<br> [Karman et al. 2017](https://ui.adsabs.harvard.edu/abs/2017A%26A...599A..28K/abstract)<br> [Monna et al. 2017](https://ui.adsabs.harvard.edu/abs/2017MNRAS.466.4094M/abstract)|\n",
    "|10|[DEEP2 (DR4)](http://deep.ps.uci.edu/DR4/home.html)|50,319|[Newman et al. 2013](https://ui.adsabs.harvard.edu/abs/2013ApJS..208....5N/abstract)|\n",
    "|11|[DEIMOS 10K](http://cosmos.astro.caltech.edu/)|10,770|[Hasinger et al. 2018](https://ui.adsabs.harvard.edu/abs/2018ApJ...858...77H/abstract)| \n",
    "12|[FMOS-COSMOS](http://member.ipmu.jp/fmos-cosmos/FC%5C_catalogs.html) |1,153|[Silverman et al. 2015](https://ui.adsabs.harvard.edu/abs/2015yCat..22200012S/abstract)|\n",
    "13|[GAMA (DR3) ](http://www.gama-survey.org/dr3/schema/table.php?id=24) |166,332 |[Baldry et al. 2018](https://ui.adsabs.harvard.edu/abs/2018MNRAS.474.3875B/abstract)  |\n",
    "14|[GLASS (DR2)](https://archive.stsci.edu/prepds/glass/#dataformat) |3,289   |[Abramson et al. 2020](https://ui.adsabs.harvard.edu/abs/2020MNRAS.tmp..279A/abstract)|\n",
    "15|[MOSFIRE    ](http://mosdef.astro.berkeley.edu) |267     |[McLean et al. 2012](https://ui.adsabs.harvard.edu/abs/2012SPIE.8446E..0JM/abstract)  |\n",
    "16|[MUSE       ](https://musewide.aip.de/query/) |1,602   |[Urrutia et al. 2019](https://ui.adsabs.harvard.edu/abs/2019A%26A...624A.141U/abstract) |\n",
    "17|[PANSTARRS  ](http://vizier.u-strasbg.fr/viz-bin/VizieR?-source=J/ApJ/795/44) |2,550   |[Kaiser et al. 2010](https://ui.adsabs.harvard.edu/abs/2010SPIE.7733E..0EK/abstract) <br> [Rest et al. 2014](https://ui.adsabs.harvard.edu/abs/2014ApJ...795...44R/abstract) <br> [Scolnic et a;. 2014](https://ui.adsabs.harvard.edu/abs/2014ApJ...795...45S/abstract)|\n",
    "18|[PRIMUS     ](https://primus.ucsd.edu/)|213,696 |[Coil et al. 2011       ](https://ui.adsabs.harvard.edu/abs/2011ApJ...741....8C/abstract) <br> [Cool et al. 2013](https://ui.adsabs.harvard.edu/abs/2013ApJ...767..118C/abstract)|\n",
    "19|[SAGA       ](http://sagasurvey.org/)|68,644 |[Geha et al. 2017       ](https://ui.adsabs.harvard.edu/abs/2017ApJ...847....4G/abstract)|\n",
    "20|[SDSS (DR16)](http://www.sdss.org/dr16/)|4,613,773| [Ahumada et al. 2020    ](https://ui.adsabs.harvard.edu/abs/2020ApJS..249....3A/abstract)|  \n",
    "21|[SpARCS     ](http://simbad.u-strasbg.fr/simbad/sim-ref?querymethod=bib&simbo=on&submit=submit+bibcode&bibcode=2012ApJ...746..188M)|410 |[Muzzin et al. 2012     ](https://ui.adsabs.harvard.edu/abs/2012ApJ...746..188M/abstract)|\n",
    "22|[SPT-GMOS   ](https://dataverse.harvard.edu/dataset.xhtml?persistentId=doi:10.7910/DVN/OR13NN/)|2,243  |[Bayliss et al. 2016    ](https://ui.adsabs.harvard.edu/abs/2016yCat..22270003B/abstract)|\n",
    "23|[UDS        ](http://www.nottingham.ac.uk/astronomy/UDS/UDSz/)|1,511  |[Galametz wt al. 2013   ](https://ui.adsabs.harvard.edu/abs/2013ApJS..206...10G/abstract)|\n",
    "24|[VANDELS    ](https://eso.org/rm/api/v1/public/releaseDescriptions/120)|1,362        |[Pentericci et al. 2018 ](https://ui.adsabs.harvard.edu/abs/2018A%26A...616A.174P/abstract)|\n",
    "25|[VIPERS     ](http://vipers.inaf.it/rel-pdr1.html)|91,507    |[Garilli et al. 2014    ](https://ui.adsabs.harvard.edu/abs/2014A%26A...562A..23G/abstract)|\n",
    "26|[VUDS       ](http://cesam.lam.fr/vuds/DR1/) |698             |[Tasca et al. 2017      ](https://ui.adsabs.harvard.edu/abs/2017A%26A...600A.110T/abstract)|\n",
    "27|[VVDS       ](https://cesam.lam.fr/cesamdata/project_desc/vvds_index.html) |40,927    |[Le Fèvre et al. 2004   ](https://ui.adsabs.harvard.edu/abs/2004A%26A...428.1043L/abstract) <br> [Garilli et al. 2008](https://ui.adsabs.harvard.edu/abs/2008A%26A...486..683G/abstract)| \n",
    "28|[WiggleZ    ](http://wigglez.swin.edu.au/site/) |81,362     |[Parkinson et al. 2012  ](https://ui.adsabs.harvard.edu/abs/2012PhRvD..86j3518P/abstract)|\n",
    "29|[XMM_LSS    ](http://vizier.u-strasbg.fr/viz-bin/VizieR?-source=J/MNRAS/401/294)|383|[Stalin et al. 2010     ](https://ui.adsabs.harvard.edu/abs/2010MNRAS.401..294S/abstract)|\n",
    "30|[XXL_AAOMEGA](http://cosmosdb.iasf-milano.inaf.it/XXL/) |3,660    |[Lidman et al. 2016     ](https://ui.adsabs.harvard.edu/abs/2016PASA...33....1L/abstract)|\n",
    "31|[zCOSMOS    ](https://cesam.lam.fr/zCosmos/)|20,689    |[Lilly et al. 2009      ](https://ui.adsabs.harvard.edu/abs/2009ApJS..184..218L/abstract) <br> [Knobel et al. 2012](https://ui.adsabs.harvard.edu/abs/2012ApJ...753..121K/abstract) <br> [Lilly 2026 (DR description)](https://www.eso.org/sci/observing/phase3/data_releases/zcosmos_dr3_b2.pdf)|\n",
    "32|[ZFIRE      ](http://zfire.swinburne.edu.au/data.html)|216|[Nanayakkara et al. 2016](https://ui.adsabs.harvard.edu/abs/2012ApJ...753..121K/abstract)|"
   ]
  },
  {
   "cell_type": "markdown",
   "id": "466d351b-be2d-44e4-a722-336589d6276d",
   "metadata": {},
   "source": [
    "<div style=\"text-align: right\" id=\"flags\"></div>\n",
    "\n",
    "### Sistema único de _flags_ \n",
    "\n",
    "Além de combinar todos os catálogos em uma única tabela, o _pipeline_ Spectroscopic Sample também homogeniza os diversos marcadores de qualidade originais dos catálogos (\"flag\") em um sistema único (\"flag_des\") com base nos parâmetros utilizados no levantamento OzDES ([Yuan et al., 2015](https://ui.adsabs.harvard.edu/abs/2015MNRAS.452.3047Y/abstract)). Em resumo, as flags significam: \n",
    "\n",
    "|Flag| Significado | \n",
    "|--- |---|\n",
    "|1   | redshift desconhecido | \n",
    "|2   | palpite não confiável | \n",
    "|3   | 95% de confiança      | \n",
    "|4   | 99% de confiança      | "
   ]
  },
  {
   "cell_type": "markdown",
   "id": "74a577b8-abc2-41fd-9ed8-736f7f187d79",
   "metadata": {},
   "source": [
    "A correspondência entre as _flags_ originais e o sistema unificado é a seguinte: \n",
    "\n",
    "Levantamento |  flag_des = 1 | flag_des = 2 | flag_des = 3 | flag_des = 4 \n",
    "|:--|:--|:--|:--|:--|\n",
    "2DF        | 1                | 2                 | 3           | 4,5 \n",
    "2dFLenS    | 1                | 2                 | 3           | 4,5\n",
    "3DHST      | -1,1             | 2                 | 0           | -\n",
    "6DF        | 1                | 2                 | 3           | 4,6\n",
    "ACES       | -2,0,1           | 2                 | 3           | 4,-1\n",
    "ATLAS      | -                | 4                 | -           | -\n",
    "C3R2       | -                | -                 | 3,3.5       | 4\n",
    "CDB        | -                | 4                 | -           | -\n",
    "CLASH-VLT  | -                | 2                 | 4,5,6,9     | 3\n",
    "DEEP2      | -2,0,1           | 2                 | 3           | 4,-1\n",
    "DEIMOS_10K | 0.0              | 1.0               | 1.5         | 2.0\n",
    "FMOS_COSMOS| 0,1              | 2                 | 3           | 4\n",
    "GAMA       | <0.0,0.68>       | <0.68,0.95>       | <0.95,0.99> | <0.99,1.0>\n",
    "GLASS      | 0,0.5,1,1.5      | 2,2.5             | 3 = 3,3.5   | 4\n",
    "MOSFIRE    | 1                | -                 | 3           | -\n",
    "MUSE       | -                | 1                 | 2           | 3\n",
    "PANSTARRS  | -                | -                 | 3           | 4,6\n",
    "PRIMUS     | -                | 2                 | 3           | 4\n",
    "SAGA       | -                | -                 | 3           | 4\n",
    "SDSS_DR14  | -                | -                 | -           | 0\n",
    "SPARCS     | 4                | 3                 | 2           | 1\n",
    "SPT_GMOS   | 0,1              | 2                 | 3           | 4\n",
    "UDS        | -                | -                 | 3,B,B*      | 4,A\n",
    "VANDELS    | 1                | 2,9               | 3           | 4\n",
    "VIPERS     | 0,1,11,211       | 2,9,12,19,212,213 | 3 = 3,13    | 4,14,24\n",
    "VUDS       | -                | -                 | 3,B,B*      | 4,A\n",
    "VVDS       | 0,1              | 2,9               | 3           | 4\n",
    "WIGGLEZ    | 1                | 2                 | 3           | 4,5\n",
    "XMM_LSS    | -                | 3                 | 2           | 1\n",
    "XXL_AAOMEGA| 0,1              | 2                 | 3           | 4,6\n",
    "ZCOSMOS    | 0,1,11,20,21,211 | 2,12,22           | 9,19,29,18  | 3,4,13,14,23,24\n",
    "ZFIRE      | 0,1              | 2                 | 3           | 4\n"
   ]
  },
  {
   "cell_type": "markdown",
   "id": "bd62e9e6-3808-4f79-a69c-e02568606dfe",
   "metadata": {},
   "source": [
    "### Escolha em caso de múltiplas medidas \n",
    "\n",
    "Muitos dos levantamento listados acima observaram regiões do céu em comum. Ao agrupar todas as medidas em um catálogo único, com frequência existem múltiplas medidas de specz disponíveis para uma mesma galáxia. Para identificar esses casos, o _pipeline_ Spectroscopic Sample faz uma correspondência espacial entre as coordenadas equatoriais de \"todos contra todos\" com raio de busca de 1.0 _arcsec_ a partir de cada objeto. Em seguida, aplica uma seleção para manter apenas uma medida para cada objeto extragalático presente na amostra, seguindo os critérios abaixo para escolha e desempate:\n",
    "\n",
    "1. medida com maior `flag_des`\n",
    "2. medida com menor `err_z`\n",
    "3. medida feita pelo levantamento mais recente\n"
   ]
  },
  {
   "cell_type": "markdown",
   "id": "9b966a96-f2a1-40f5-8200-a28f3bcb3db6",
   "metadata": {},
   "source": [
    "## Como acessar\n",
    "\n",
    "Para os usuários do **LIneA JupyterHub**, o acesso ao banco de dados é feito de forma segura através da biblioteca `dblinea`. Veja mais detalhes de como utilizar a biblioteca `dblinea` no notebook de tutorial **2-acesso-a-dados.ipynb** disponível neste repositório. Caso você esteja lendo apenas uma cópia deste notebook exportada como um arquivo estático (ex.: em formato PDF ou HTML), os tutoriais do **LIneA JupyterHub** estão disponíveis no github, basta clonar o repositório: \n",
    "\n",
    "```\n",
    "$ git clone https://github.com/linea-it/jupyterhub-tutorial.git\n",
    "\n",
    "``` "
   ]
  },
  {
   "cell_type": "markdown",
   "id": "c83e7d88-6a0b-4c5e-a383-79731ac41303",
   "metadata": {},
   "source": [
    "Importação e configuração de bibliotecas: "
   ]
  },
  {
   "cell_type": "code",
   "execution_count": null,
   "id": "167409ba-e18a-4c0d-a68b-c28333d13c41",
   "metadata": {
    "tags": []
   },
   "outputs": [],
   "source": [
    "import numpy as np\n",
    "import pandas as pd\n",
    "from astropy import units as u\n",
    "from astropy.coordinates import SkyCoord\n",
    "import matplotlib.pyplot as plt\n",
    "import seaborn as sns\n",
    "\n",
    "from dblinea import DBBase\n",
    "\n",
    "%reload_ext autoreload \n",
    "%autoreload 2 \n",
    "%matplotlib inline \n",
    "sns.set(color_codes=True, font_scale=1.5)\n",
    "plt.rcParams.update({'figure.max_open_warning': 0})"
   ]
  },
  {
   "cell_type": "markdown",
   "id": "6d566b58-59d1-4d2c-b38d-7c5026d4d4d7",
   "metadata": {},
   "source": [
    "Leitura dos dados: \n",
    "\n",
    "O objeto `db` (instância da classo `DBBase`) faz a conexão com o banco de dados. "
   ]
  },
  {
   "cell_type": "code",
   "execution_count": null,
   "id": "9a3b90a4-daea-4bd6-bbcc-126f19cc15bb",
   "metadata": {
    "tags": []
   },
   "outputs": [],
   "source": [
    "db = DBBase()"
   ]
  },
  {
   "cell_type": "markdown",
   "id": "86853117-cab2-4ab8-82e5-40fc954cc98f",
   "metadata": {},
   "source": [
    "O catálogo compilado de spec-z corresponde à tabela `des_dr2. public_specz_compilation` no banco. "
   ]
  },
  {
   "cell_type": "code",
   "execution_count": null,
   "id": "2670d760-249f-4678-ab34-e4871f48dbc8",
   "metadata": {
    "tags": []
   },
   "outputs": [],
   "source": [
    "schema = \"des_dr2\"  \n",
    "tablename = \"public_specz_compilation\""
   ]
  },
  {
   "cell_type": "markdown",
   "id": "ae6971b9-fca4-4543-b841-18fef6d64f9d",
   "metadata": {},
   "source": [
    "Consulta às colunas presentes na tabela: "
   ]
  },
  {
   "cell_type": "code",
   "execution_count": null,
   "id": "7ea2bd49-ab86-4271-ac46-832c5018a594",
   "metadata": {
    "tags": []
   },
   "outputs": [],
   "source": [
    "db.get_table_columns(tablename, schema=schema)"
   ]
  },
  {
   "cell_type": "code",
   "execution_count": null,
   "id": "faab85a3-4aca-431c-be7d-ca32a9cefb4c",
   "metadata": {
    "tags": []
   },
   "outputs": [],
   "source": [
    "db.describe_table(tablename, schema=schema)"
   ]
  },
  {
   "cell_type": "markdown",
   "id": "7d82915b-7c98-49f9-aca7-c054f3a64034",
   "metadata": {
    "tags": []
   },
   "source": [
    "_Query_ simples (retorna uma lista de tuplas):  "
   ]
  },
  {
   "cell_type": "code",
   "execution_count": null,
   "id": "01d33a83-6757-4408-8243-aeb376b7e17e",
   "metadata": {
    "scrolled": true,
    "tags": []
   },
   "outputs": [],
   "source": [
    "query = f\"SELECT * FROM {schema}.{tablename} limit 10\"\n",
    "lista = db.fetchall(query)\n",
    "lista"
   ]
  },
  {
   "cell_type": "markdown",
   "id": "d803c4d9-0c64-47d5-8ed5-1e7121f1781c",
   "metadata": {
    "tags": []
   },
   "source": [
    "_Query_ simples retornando um objeto do tipo `Pandas.DataFrame`:   "
   ]
  },
  {
   "cell_type": "code",
   "execution_count": null,
   "id": "358da8b1-5b53-49b3-97f4-e473404e1391",
   "metadata": {
    "tags": []
   },
   "outputs": [],
   "source": [
    "query = f\"SELECT * FROM {schema}.{tablename} limit 10\"\n",
    "df = db.fetchall_df(query)\n",
    "df"
   ]
  },
  {
   "cell_type": "markdown",
   "id": "4e7ba2d5-4d08-460e-a1fd-c94cab0b1c50",
   "metadata": {},
   "source": [
    "## Sobre os dados \n",
    "\n",
    "Confira abaixo uma breve caracterização dos dados contidos no acervo compilado de catálogos espectroscópicos (tabela `des_dr2. public_specz_compilation`) e do resultado da correspondência espacial entre este catálogo e os dados fotométricos do DES DR2, i.e., o conjunto de treinamento para algoritmos de photo-z (tabela `des_dr2. public_pz_training_set`).  "
   ]
  },
  {
   "cell_type": "markdown",
   "id": "a409a88e-f7cd-4b17-8d6b-65c92eafe512",
   "metadata": {},
   "source": [
    "### 1. Catálogo de _redshifts_ espectroscópicos"
   ]
  },
  {
   "cell_type": "code",
   "execution_count": null,
   "id": "8e558df1-5f61-4add-b3b6-38136083f70d",
   "metadata": {
    "tags": []
   },
   "outputs": [],
   "source": [
    "db = DBBase()\n",
    "schema = \"des_dr2\"  \n",
    "tablename = \"public_specz_compilation\""
   ]
  },
  {
   "cell_type": "code",
   "execution_count": null,
   "id": "03366cbf-9ec0-4b43-a324-676f434864a3",
   "metadata": {
    "tags": []
   },
   "outputs": [],
   "source": [
    "query = f\"SELECT * FROM {schema}.{tablename} ORDER BY id ASC\"\n",
    "specz_catalog = db.fetchall_df(query)"
   ]
  },
  {
   "cell_type": "code",
   "execution_count": null,
   "id": "7b89c02c-c0eb-4bff-b7f4-169a8d669240",
   "metadata": {
    "tags": []
   },
   "outputs": [],
   "source": [
    "specz_catalog.head()"
   ]
  },
  {
   "cell_type": "markdown",
   "id": "82768bdf-2ccc-4dea-984b-c2715f07f4c5",
   "metadata": {},
   "source": [
    "Significado das colunas: \n",
    "\n",
    "| Nome da coluna | Sigificado | \n",
    "|--:|:--|\n",
    "| **idspec** | Identificador único original dado pelo levantamento. Quando indisponível, substituído por 9999. |\n",
    "| **ra**  | Ascensão reta (graus)  |\n",
    "| **dec** | Declinação (graus) |\n",
    "| **z** | redshift |\n",
    "| **err_z** | Erro no redshift. Quando indisponível, substituído por 99.0 |\n",
    "| **flag** | Marcador de qualidade original dado pelo levantamento de origem. |\n",
    "| **source** | Nome do projeto ou levantamento de origem. |\n",
    "| **flag_des**| Marcador de qualidade padronizado (detalhes [acima](#flags))| \n",
    "| **id**| Identificador único dado pelo _pipeline_ Spectroscopic Sample no DES Science Portal. | "
   ]
  },
  {
   "cell_type": "markdown",
   "id": "8319a10c-07e2-4b7d-bde5-5bc72a29948c",
   "metadata": {
    "tags": []
   },
   "source": [
    "Estatísticas básicas: "
   ]
  },
  {
   "cell_type": "code",
   "execution_count": null,
   "id": "870c6e04-7014-4749-8535-a3a4ed4036b3",
   "metadata": {
    "tags": []
   },
   "outputs": [],
   "source": [
    "specz_catalog.describe()"
   ]
  },
  {
   "cell_type": "markdown",
   "id": "1b7af5a5-219f-4177-94ed-68f51013905c",
   "metadata": {},
   "source": [
    "Note pelos valores mínimo e máximo da coluna **flag_des** que foi aplicado um corte de qualidade onde apenas objetos com **flag_des** $\\geqslant$ 3 foram incluídos na amostra. "
   ]
  },
  {
   "cell_type": "markdown",
   "id": "6f7edf41-c446-4467-9dbc-6f197d1cd9e0",
   "metadata": {},
   "source": [
    "#### Distribuição espacial"
   ]
  },
  {
   "cell_type": "markdown",
   "id": "49ca95b2-51e1-4a6c-84dc-eaaf6c0cac3f",
   "metadata": {},
   "source": [
    "Arquivo auxiliar: contornos da área coberta pelo levantamento (DES _footprint_, versão de 2019). _Download_ do arquivo [des-round19-poly.txt](https://github.com/kadrlica/skymap/blob/master/skymap/data/des-round19-poly.txt) a partir do repositório [kadrlica/skymap](https://github.com/kadrlica/skymap) no GitHub."
   ]
  },
  {
   "cell_type": "code",
   "execution_count": null,
   "id": "b8c1f12b-4212-42cd-8271-fcbe881c9d7a",
   "metadata": {
    "tags": []
   },
   "outputs": [],
   "source": [
    "! wget https://raw.githubusercontent.com/kadrlica/skymap/master/skymap/data/des-round19-poly.txt  "
   ]
  },
  {
   "cell_type": "code",
   "execution_count": null,
   "id": "2c9c00a2-2b6c-4dd9-b021-df831bb20bd7",
   "metadata": {
    "tags": []
   },
   "outputs": [],
   "source": [
    "foot_ra, foot_dec = np.loadtxt('des-round19-poly.txt', unpack=True)"
   ]
  },
  {
   "cell_type": "code",
   "execution_count": null,
   "id": "328f5fef-5a76-449c-84d4-c47d25053f39",
   "metadata": {
    "tags": []
   },
   "outputs": [],
   "source": [
    "def skymap(ra, dec, foot_ra, foot_dec): \n",
    "    ra_deg = np.array(ra)\n",
    "    dec_deg = np.array(dec)\n",
    "    c = SkyCoord(ra=ra_deg*u.degree, dec=dec_deg*u.degree, frame='icrs')\n",
    "    ra_rad = c.ra.wrap_at(180 * u.deg).radian\n",
    "    dec_rad = c.dec.radian\n",
    "    fig = plt.figure(figsize=[14,6], dpi=300)\n",
    "    ax = fig.add_subplot(111, projection='mollweide')   \n",
    "    plt.hexbin(ra_rad, dec_rad, None,  mincnt=1, gridsize=[180,90], bins='log', cmap='viridis')\n",
    "    cbar = plt.colorbar()\n",
    "    cbar.ax.tick_params(labelsize=16)\n",
    "    cbar.set_label('log(#spec-$z$/deg$^{2}$)', size=16)\n",
    "    #pl.clim(0,3.8)\n",
    "    plt.plot(-np.radians(foot_ra), np.radians(foot_dec), 'w-')\n",
    "    org=0.0\n",
    "    tick_labels = np.array([150, 120, 90, 60, 30, 0, 330, 300, 270, 240, 210])\n",
    "    tick_labels = np.remainder(tick_labels+360+org,360)\n",
    "    ax.set_xticklabels(tick_labels)     # we add the scale on the x axis\n",
    "    ax.set_xlabel(\"R.A.\")\n",
    "    ax.xaxis.label.set_fontsize(14)\n",
    "    ax.set_ylabel(\"Dec.\")\n",
    "    ax.yaxis.label.set_fontsize(14)\n",
    "    ax.grid(True)\n",
    "    plt.tight_layout()"
   ]
  },
  {
   "cell_type": "code",
   "execution_count": null,
   "id": "9bdbf4ee-e0cd-4ccd-912e-2f829b06ae51",
   "metadata": {
    "tags": []
   },
   "outputs": [],
   "source": [
    "skymap(specz_catalog.ra, specz_catalog.dec, foot_ra, foot_dec)"
   ]
  },
  {
   "cell_type": "markdown",
   "id": "6cb4d550-3345-4b70-9734-f8379bc1eb5a",
   "metadata": {},
   "source": [
    "Contagem de _redshifts_ por levantamento efetivamente incluídos na amostra (após cortes de qualidade e seleção em caso de múltiplas medidas): "
   ]
  },
  {
   "cell_type": "code",
   "execution_count": null,
   "id": "202f57f2-9514-40b4-b54d-1e1448de845f",
   "metadata": {
    "tags": []
   },
   "outputs": [],
   "source": [
    "counts_table = specz_catalog.source.value_counts().sort_values(ascending=False).reset_index(name='count')\n",
    "counts_table"
   ]
  },
  {
   "cell_type": "markdown",
   "id": "9e4b3162-fe2b-4a8a-9d99-1e81735d514b",
   "metadata": {},
   "source": [
    "#### Distribuição de _redshifts_ "
   ]
  },
  {
   "cell_type": "code",
   "execution_count": null,
   "id": "90d5631d-e034-40d4-a1b6-fffee9ff04e5",
   "metadata": {
    "tags": []
   },
   "outputs": [],
   "source": [
    "plt.figure(figsize=[8,4], dpi=200)\n",
    "z_range = \"z > 0 & z < 1.6\"\n",
    "sns.histplot(specz_catalog.query(z_range).z, bins=50, stat='count', label='all')\n",
    "sns.histplot(specz_catalog.query(z_range+\" & flag_des == 3\").z, bins=50, stat='count', label='flag=3')\n",
    "sns.histplot(specz_catalog.query(z_range+\" & flag_des == 4\").z, bins=50, stat='count', alpha=0.5, label='flag=4')\n",
    "plt.legend()\n",
    "plt.xlabel(\"spec-$z$\", fontsize=15)\n",
    "plt.ylabel(\"count\", fontsize=15)\n",
    "plt.tight_layout()"
   ]
  },
  {
   "cell_type": "code",
   "execution_count": null,
   "id": "e3063409-a684-4ea8-afb4-3994ed6a5a3d",
   "metadata": {},
   "outputs": [],
   "source": []
  },
  {
   "cell_type": "code",
   "execution_count": null,
   "id": "3c2e8fee-4995-49fb-ae43-9d2748bc4e9e",
   "metadata": {
    "tags": []
   },
   "outputs": [],
   "source": [
    "for index, row in counts_table.iterrows():\n",
    "    #if row['count'] > 10000:\n",
    "    plt.figure(figsize=[12,4])#, dpi=150)\n",
    "    plt.subplot(121)\n",
    "    survey = row['source']\n",
    "    query = f'source == \"{survey}\" '\n",
    "    sns.histplot(specz_catalog.query(query).z, bins=50, stat='count', label=f\"{row['source']}: {row['count']} objects\")\n",
    "    #sns.kdeplot(specz_catalog.query(query).z, fill=True, label=f\"{row['source']}: {row['count']} objects\")\n",
    "    plt.xlabel(\"spec-$z$\", fontsize=13)\n",
    "    #plt.ylabel(\"normalized counts\", fontsize=14)\n",
    "    plt.xlim(0,2.5)\n",
    "    plt.subplot(122)\n",
    "    org = 0.0\n",
    "    ra2 = np.remainder(np.array(specz_catalog.query(query).ra) + 360. - org, 360.) # shift RA values\n",
    "    ra2[ra2>180.] -= 360.    # scale conversion to [-180, 180]\n",
    "    ra2 = -ra2    # reverse the scale: East to the left\n",
    "    plt.plot(ra2, specz_catalog.query(query).dec, '.')\n",
    "    plt.plot(foot_ra, foot_dec, 'k-')\n",
    "    plt.xlabel('R.A. (deg)')\n",
    "    plt.ylabel('Dec. (deg)')\n",
    "    plt.xlim(180,-180)\n",
    "    plt.tight_layout()"
   ]
  },
  {
   "cell_type": "markdown",
   "id": "9b56418e-a602-40ea-8eb9-a753e2594d7f",
   "metadata": {},
   "source": [
    "Liberação de memória: "
   ]
  },
  {
   "cell_type": "code",
   "execution_count": null,
   "id": "377e1ff2-3ca9-4bab-b18e-33d8361e348a",
   "metadata": {},
   "outputs": [],
   "source": [
    "del specz_catalog"
   ]
  },
  {
   "cell_type": "markdown",
   "id": "32f706ec-c5e2-4e0c-9ebc-0bc339011cf8",
   "metadata": {},
   "source": [
    "### 2. Conjunto de treinamento para photo-z (inclui dados fotométricos do DES) "
   ]
  },
  {
   "cell_type": "code",
   "execution_count": null,
   "id": "f205b8a5-6519-4c0f-84b4-4e9e52f7fdd8",
   "metadata": {
    "tags": []
   },
   "outputs": [],
   "source": [
    "schema = \"des_dr2\"  \n",
    "tablename = \"public_pz_training_set\""
   ]
  },
  {
   "cell_type": "code",
   "execution_count": null,
   "id": "3cc7b67a-87af-4e0c-b000-e9d93a80444b",
   "metadata": {},
   "outputs": [],
   "source": []
  }
 ],
 "metadata": {
  "kernelspec": {
   "display_name": "pz",
   "language": "python",
   "name": "pz"
  },
  "language_info": {
   "codemirror_mode": {
    "name": "ipython",
    "version": 3
   },
   "file_extension": ".py",
   "mimetype": "text/x-python",
   "name": "python",
   "nbconvert_exporter": "python",
   "pygments_lexer": "ipython3",
   "version": "3.10.11"
  }
 },
 "nbformat": 4,
 "nbformat_minor": 5
}
