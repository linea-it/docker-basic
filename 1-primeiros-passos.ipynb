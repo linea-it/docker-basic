{
 "cells": [
  {
   "cell_type": "markdown",
   "metadata": {},
   "source": [
    "\n",
    "<img align=\"left\" src = https://www.linea.org.br/wp-content/themes/LIneA/imagens/logo-header.png width=120 style=\"padding: 20px\"> <br> \n",
    "<img align=\"left\" src = https://jupyter.org/assets/homepage/hublogo.svg width=200 style=\"padding: 20px\"> <br> \n",
    "<br>\n",
    "<br>\n",
    "<br>\n",
    "<br>\n",
    "\n",
    "# JupyterHub Tutorial\n",
    "# Notebook 1 - Primeiros Passos \n",
    "\n",
    "Última verificação: 17/11/2022\n",
    "\n",
    "\n",
    "***\n"
   ]
  },
  {
   "cell_type": "markdown",
   "metadata": {
    "tags": [],
    "toc-nb-collapsed": true
   },
   "source": [
    "Bem vindo(a) ao LIneA JupyterHub! \n",
    "\n",
    "Neste notebook você encontrará dicas de como utilizar o Jupyter Notebook na interface JupyterLab. Caso precise de ajuda, entre em contato pelo e-mail: [helpdesk@linea.org.br](mailto:helpdesk@linea.org.br)\n"
   ]
  },
  {
   "cell_type": "markdown",
   "metadata": {
    "tags": []
   },
   "source": [
    "## 1. O que é o Jupyter Notebook? \n",
    "\n",
    "Um Jupyter Notebook é um arquivo com extensão _.ipynb_ composto por uma sequência de células executáveis que podem conter trechos de código, o resultado da execução desse código, texto formatado, equações e mídia. A documentação oficial do Jupyter Notebook está disponível em: https://jupyter-notebook.readthedocs.io \n",
    "\n",
    "Para criar, editar e executar um notebook, usamos a interface JupyterLab, que oferece recursos adicionais e possibilita a integração dos notebooks com outras ferramentas interativas. A interface clássica, que tem caído em desuso, ainda pode ser acessada pelos usuários do LIneA JupyterHub. Para alternar entre as duas versões, basta substituir na URL: \n",
    "\n",
    "`jupyter.linea.org.br/user/<seu username>/tree` -> para a versão cássica \n",
    "\n",
    "`jupyter.linea.org.br/user/<seu username>/lab`  -> para o JupyterLab\n"
   ]
  },
  {
   "cell_type": "markdown",
   "metadata": {
    "slideshow": {
     "slide_type": "slide"
    },
    "tags": []
   },
   "source": [
    "## 2. Comandos básicos \n",
    "\n",
    "Existem dois modos no Jupyter Notebook (e no Jupyter Lab): **Edição** e **Comando**. No Jupyter Notebook (clássico), quando a célula está azul, você está no modo de comando. No modo de edição a cor é verde. No Jupyter Lab a cor é sempre azul.\n",
    "\n",
    "Para acessar os modos:\n",
    "+ Edição: **Enter**\n",
    "+ Comando: **Esc**\n",
    "\n",
    "Teste com a célula vazia abaixo:"
   ]
  },
  {
   "cell_type": "code",
   "execution_count": null,
   "metadata": {},
   "outputs": [],
   "source": []
  },
  {
   "cell_type": "markdown",
   "metadata": {
    "slideshow": {
     "slide_type": "subslide"
    },
    "tags": []
   },
   "source": [
    "**Executando uma célula**\n",
    "\n",
    "A linguagem de programação considerada na execução depende do _Kernel_ selecionado na criação do notebook. Neste notebook o kernel é Python 3.\n",
    "\n",
    "Para executar uma célula você pode clicar no botão \"play\" (&#9658;) ou usar o seguintes comandos:\n",
    "\n",
    "+ **Ctrl + Enter**: Somente executa a célula selecionada\n",
    "+ **Shift + Enter**: Executa a célula selecionada e pula para a próxima\n",
    "+ **Alt + Enter** (ou **option + return** no Mac): Executa a célula selecionada e cria uma abaixo\n",
    "\n",
    "Agora navegue para a célula abaixo com as setas do teclado e teste os comandos."
   ]
  },
  {
   "cell_type": "code",
   "execution_count": null,
   "metadata": {
    "slideshow": {
     "slide_type": "fragment"
    }
   },
   "outputs": [],
   "source": [
    "print(\"Hello, World!\")"
   ]
  },
  {
   "cell_type": "markdown",
   "metadata": {
    "slideshow": {
     "slide_type": "slide"
    }
   },
   "source": [
    "Note que ao lado da célula está escrito **In [1]:**. O número que aparecenentre colchetes indica a ordem de execução das células. **In [*]:** indica que a execução ainda está em andamento. Por exemplo, vamos importar a biblioteca `time` e utilizar a função `sleep`, que apenas nos faz esperar o tempo (em segundos) fornecido como argumento entre parênteses. "
   ]
  },
  {
   "cell_type": "code",
   "execution_count": null,
   "metadata": {},
   "outputs": [],
   "source": [
    "import time"
   ]
  },
  {
   "cell_type": "code",
   "execution_count": null,
   "metadata": {},
   "outputs": [],
   "source": [
    "print(\"wait 5 seconds with [*]...\")\n",
    "time.sleep(5)\n",
    "print(\"done!\")"
   ]
  },
  {
   "cell_type": "markdown",
   "metadata": {},
   "source": [
    "<font color=\"red\"><b>!!! CUIDADO !!!</b></font><br>\n",
    "Nada garante que as células sejam executadas na ordem em que aparecem. Se você fizer alterações no notebook e rodar as células fora de ordem, coisas inesperadas podem acontecer. Fique atento(a) à numeração In[x] ao interpretar seus resultados. "
   ]
  },
  {
   "cell_type": "markdown",
   "metadata": {},
   "source": [
    "**Parada de emergência**\n",
    "\n",
    "Se precisar interromper a execução de um notebook, use o botão de \"stop\" (&#9632;) ou vá pelo menu _Kernel_: \n",
    "\n",
    "`Kernel > Interrupt Kernel` \n",
    "\n",
    "Depois de muitas alterações, é conveniente \"dar um _Restart_\" e rodar todas as células de uma vez, para garantir a ordem de execução. \n",
    "\n",
    "`Kernel > Restart Kernel and Run All Cells`   \n",
    "\n",
    "**Boas práticas: guarde seus notebooks limpos**\n",
    "\n",
    "Antes de salvar seu notebook, apague todos os outputs, especialmente se ele estiver em um repositório GIT.    \n",
    "\n",
    "`Edit > Clear All Outputs` \n",
    "\n",
    "ou então \n",
    "\n",
    "`Kernel > Restart Kernel and Clear All Outputs` \n"
   ]
  },
  {
   "cell_type": "markdown",
   "metadata": {},
   "source": [
    "**Acessando a documentação**\n",
    "\n",
    "Pela forma tradicional do Python, usando a função `help`:"
   ]
  },
  {
   "cell_type": "code",
   "execution_count": null,
   "metadata": {},
   "outputs": [],
   "source": [
    "help(time.sleep)"
   ]
  },
  {
   "cell_type": "markdown",
   "metadata": {},
   "source": [
    "Ou pelo atalho (\"?\"):"
   ]
  },
  {
   "cell_type": "code",
   "execution_count": null,
   "metadata": {},
   "outputs": [],
   "source": [
    "time.sleep?"
   ]
  },
  {
   "cell_type": "markdown",
   "metadata": {},
   "source": [
    "**Atalhos úteis no modo de comando**\n",
    "\n",
    "+ **a**: cria antes\n",
    "+ **b**: cria depois\n",
    "+ **x**: cortar\n",
    "+ **c**: copiar\n",
    "+ **v**: colar\n",
    "+ **d, d**: apagar (apertar duas vezes o \"d\")\n",
    "+ **z**: desfazer o último \"apagar\""
   ]
  },
  {
   "cell_type": "markdown",
   "metadata": {},
   "source": [
    "**Atalhos úteis no modo de edição**\n",
    "+ copiar/cortar ou colar sem seleção: copia/corta ou cola a linha completa\n",
    "+ multicursor: `Ctrl` (pc) ou `command` (mac) + mouse click\n"
   ]
  },
  {
   "cell_type": "markdown",
   "metadata": {
    "tags": []
   },
   "source": [
    "## 3. Tipos de Células\n",
    "\n",
    "Além das células de código, todo o texto entre elas também é adicionado em células, porém do tipo **Markdown**. O tipo de célula pode ser alterado no menu da aba no Jupyter ou no modo de comando com os seguintes atalhos:\n",
    "\n",
    "+ **y** : Code \n",
    "+ **m** : Markdown\n",
    "+ **r** : Raw (texto puro)\n",
    "\n"
   ]
  },
  {
   "cell_type": "markdown",
   "metadata": {},
   "source": [
    "Por exemplo, varie o tipo da célula abaixo e veja o resultado. "
   ]
  },
  {
   "cell_type": "raw",
   "metadata": {},
   "source": [
    "time.time()"
   ]
  },
  {
   "cell_type": "markdown",
   "metadata": {},
   "source": [
    "**Markdown**\n",
    "\n",
    "Markdown é uma linguagem que converte texto simples em texto estruturado HTML que foi pensada para ser de fácil leitura e escrita. Entre no modo de edição das células abaixo para ver como cada item foi feito.\n"
   ]
  },
  {
   "cell_type": "markdown",
   "metadata": {
    "tags": []
   },
   "source": [
    "**Títulos e Subtítulos**\n",
    "\n",
    "Títulos e Subtítulos são identificados com \"#\". O número de #s indica o nível de hierarquia. Os títulos demarcam as seções no menu lateral que é atualizado automaticamente.   \n",
    "\n",
    "Divisão com linha horizontal: \n",
    "\n",
    "********"
   ]
  },
  {
   "cell_type": "markdown",
   "metadata": {},
   "source": [
    "**Links**\n",
    "\n",
    "[Site do LIneA](https://www.linea.org.br)\n",
    "\n",
    "[Contato](mailto:helpdesk@linea.org.br)"
   ]
  },
  {
   "cell_type": "markdown",
   "metadata": {},
   "source": [
    "**Font style**\n",
    "\n",
    "\n",
    "**bold**, __bold__, _italic_, *italic*, ~~Strikethrough~~, ***Bold and italic***, \n",
    "\n",
    "> blockquote\n",
    "\n",
    "Inline `print(\"Hello World\")`\n",
    "\n",
    "```\n",
    "def quote_code_markdown()\n",
    "    return\n",
    "```\n",
    "\n",
    "Código em uma linguagem\n",
    "```python\n",
    "def python_func()\n",
    "    return\n",
    "```\n",
    "\n",
    "Mais detalhes sobre blocos de código no [link](https://help.github.com/en/articles/creating-and-highlighting-code-blocks)"
   ]
  },
  {
   "cell_type": "markdown",
   "metadata": {
    "tags": []
   },
   "source": [
    "**Listas**\n",
    "\n",
    "- item 1\n",
    "- item 2\n",
    "- item 3\n",
    "\n",
    "\n",
    "1. item 1\n",
    "2. item 2\n",
    "3. item 3\n",
    "\n",
    "\n",
    "- item 1\n",
    "  - item 2\n",
    "    - item 3\n",
    "\n",
    "\n",
    "1. item 1\n",
    "   1. item 2\n",
    "      1. item 3\n",
    "\n",
    "Mais informações sobre markdown no [link](https://help.github.com/en/articles/basic-writing-and-formatting-syntax)"
   ]
  },
  {
   "cell_type": "markdown",
   "metadata": {},
   "source": [
    "**Tabelas**\n",
    "\n",
    "|  x  |  y  |  z  |\n",
    "|-----|-----|-----|\n",
    "| x1  | y1  | z1  |\n",
    "| x2  | y2  | z2  |\n",
    "| x3  | y3  | z3  |\n",
    "| x4  | y4  | z4  |\n",
    "| x5  | y5  | z5  |\n"
   ]
  },
  {
   "cell_type": "markdown",
   "metadata": {},
   "source": [
    "**HTML**\n",
    "\n",
    "Código HTML também funcionam nas células do tipo Markdown.\n",
    "\n",
    "<font color='red'>Change font color</font>\n",
    "\n",
    "<p style=\"background-color:green; color:white\">Lorem ipsum dolor sit amet, consectetur adipiscing elit. Etiam eget ligula eu lectus lobortis condimentum. Aliquam nonummy auctor massa. Pellentesque habitant morbi tristique senectus et netus et malesuada fames ac turpis egestas. Nulla at risus. Quisque purus magna, auctor et, sagittis ac, posuere eu, lectus. Nam mattis, felis ut adipiscing.</p>"
   ]
  },
  {
   "cell_type": "markdown",
   "metadata": {},
   "source": [
    "**$\\LaTeX\\$**\n",
    "\n",
    "É possível adicionar equações e expressões matemáticas em geral diretamente na célula do tipo **Markdown**, na mesma linha: $e^{i\\pi} + 1 = 0$,\n",
    "\n",
    "ou em uma linha separada, centralizado:\n",
    "$$e^x=\\sum_{i=0}^\\infty \\frac{1}{i!}x^i$$"
   ]
  },
  {
   "cell_type": "markdown",
   "metadata": {},
   "source": [
    "## 4. Comandos do terminal \n",
    "\n",
    "Para executar comandos do terminal diretamente na célula, basta iniciar a linha com o **`!`** "
   ]
  },
  {
   "cell_type": "code",
   "execution_count": null,
   "metadata": {},
   "outputs": [],
   "source": [
    "! ls"
   ]
  },
  {
   "cell_type": "code",
   "execution_count": null,
   "metadata": {},
   "outputs": [],
   "source": [
    "! cp README.md copy_README.md"
   ]
  },
  {
   "cell_type": "code",
   "execution_count": null,
   "metadata": {},
   "outputs": [],
   "source": [
    "! ls"
   ]
  },
  {
   "cell_type": "code",
   "execution_count": null,
   "metadata": {},
   "outputs": [],
   "source": [
    "! rm copy_README.md"
   ]
  },
  {
   "cell_type": "code",
   "execution_count": null,
   "metadata": {},
   "outputs": [],
   "source": [
    "! ls"
   ]
  },
  {
   "cell_type": "markdown",
   "metadata": {},
   "source": [
    "## 5. Comandos mágicos\n",
    "\n",
    "São executados com \"%\" (válido para a linha) ou \"%%\" (válido para a célula).  Note que alguns comandos mágicos são nomes de outras linguagens (ex.: `%%javascript`, `%%pearl`, `%%ruby`), o que possibilita trocar de kernel ou ambiente em uma célula em particular. Também é possível adicionar outras linguagens através da instalação de extensões.  "
   ]
  },
  {
   "cell_type": "markdown",
   "metadata": {},
   "source": [
    "Para testar a célula abaixo, remova o indicador de comentário na linguagem javascript (`//`) e execute a célula para gerar uma _pop-up window_. Enquanto a janela _pop-up_ estiver aberta, a célula ainda está em execução (note o sinal de [*]). Para liberar, pressione o botão \"OK\".      "
   ]
  },
  {
   "cell_type": "code",
   "execution_count": null,
   "metadata": {},
   "outputs": [],
   "source": [
    "%%javascript\n",
    "\n",
    "//alert(\"Hello, World!\")"
   ]
  },
  {
   "cell_type": "markdown",
   "metadata": {},
   "source": [
    "Um exemplos bastante útil é o comando mágico `%time`, para uma linha:"
   ]
  },
  {
   "cell_type": "code",
   "execution_count": null,
   "metadata": {},
   "outputs": [],
   "source": [
    "%time print(\"Quanto tempo leva para imprimir esta frase?\")"
   ]
  },
  {
   "cell_type": "markdown",
   "metadata": {},
   "source": [
    "Ou `%%time`, para uma célula:"
   ]
  },
  {
   "cell_type": "code",
   "execution_count": null,
   "metadata": {},
   "outputs": [],
   "source": [
    "%%time\n",
    "print()\n",
    "print(\"Quanto tempo leva \")\n",
    "print(\"para imprimir \")\n",
    "print(\"estas linhas?\")\n",
    "print()"
   ]
  },
  {
   "cell_type": "markdown",
   "metadata": {},
   "source": [
    "que retorna as medidas de `CPU times` e `Wall time`. Veja [neste post](https://stackoverflow.com/questions/556405/what-do-real-user-and-sys-mean-in-the-output-of-time1) um resumo do significado de cada uma dessas medidas. "
   ]
  },
  {
   "cell_type": "markdown",
   "metadata": {},
   "source": [
    "## 6. Configurações da célula\n",
    "\n",
    "\n",
    "**Toggle scrolling** \n",
    "\n",
    "Útil para outputs longos inconvenientes, clique com o botão direito do mouse na célula desejada e selecione: \n",
    "\n",
    "`Enable Scrolling for Outputs`\n",
    "\n",
    "Teste na célula abaixo:"
   ]
  },
  {
   "cell_type": "code",
   "execution_count": null,
   "metadata": {
    "tags": []
   },
   "outputs": [],
   "source": [
    "for i in range(50):\n",
    "    print(i)"
   ]
  },
  {
   "cell_type": "markdown",
   "metadata": {
    "tags": []
   },
   "source": [
    "**Numeração de linhas**\n",
    "\n",
    "Para exibir as linhas numeradas dentro das célular, clique no menu superior em: `View > Show Line Numbers` ou use o atalho: `Shift` + `L` no modo de comando. \n",
    "\n",
    "Teste na célula abaixo:"
   ]
  },
  {
   "cell_type": "code",
   "execution_count": null,
   "metadata": {},
   "outputs": [],
   "source": [
    "# linha 1\n",
    "# linha 2\n",
    "# linha 3\n",
    "# ..."
   ]
  },
  {
   "cell_type": "markdown",
   "metadata": {},
   "source": [
    "## 7. Export  \n",
    "\n",
    "Para exportar seu notebook com resultados para uma versão estática e leve que abre em qualquer navegador, basta clicar no menu em:\n",
    "\n",
    "`File > Save and Export Notebook As > HTML`\n",
    "\n",
    "Antes de salvar o arquivo **.ipynb**, não se esqueça de limpar todos os outputs: \n",
    "\n",
    "`Edit > Clear All Outputs`"
   ]
  },
  {
   "cell_type": "markdown",
   "metadata": {},
   "source": [
    "--- \n",
    "\n",
    "Gostaria de sugerir alguma correção ou melhoria neste _notebook_? \n",
    "\n",
    "Fique à vontade para abrir um _issue_ no repositório [jupyterhub-tutorial](https://github.com/linea-it/jupyterhub-tutorial/issues) da organização [LIneA IT](https://github.com/linea-it/) no GitHub.  \n"
   ]
  },
  {
   "cell_type": "code",
   "execution_count": null,
   "metadata": {},
   "outputs": [],
   "source": []
  }
 ],
 "metadata": {
  "kernelspec": {
   "display_name": "Python 3 (ipykernel)",
   "language": "python",
   "name": "python3"
  },
  "language_info": {
   "codemirror_mode": {
    "name": "ipython",
    "version": 3
   },
   "file_extension": ".py",
   "mimetype": "text/x-python",
   "name": "python",
   "nbconvert_exporter": "python",
   "pygments_lexer": "ipython3",
   "version": "3.10.6"
  }
 },
 "nbformat": 4,
 "nbformat_minor": 4
}
