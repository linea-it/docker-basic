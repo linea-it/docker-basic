{
 "cells": [
  {
   "cell_type": "markdown",
   "metadata": {},
   "source": [
    "\n",
    "<img align=\"left\" src = images/linea.png width=150 style=\"padding: 20px\"> <br> \n",
    "<img align=\"left\" src = https://jupyter.org/assets/homepage/hublogo.svg width=200 style=\"padding: 20px\"> <br> \n",
    "\n",
    "# JupyterHub Tutorial\n",
    "\n",
    "<br>\n",
    "<br>\n",
    "\n",
    "\n",
    "## Notebook 2 - Acesso a dados\n",
    "\n",
    "\n",
    "\n",
    "Contato: Julia Gschwend (julia@linea.org.br)\n",
    "\n",
    "Última verificação: 06/08/2024\n",
    "***\n"
   ]
  },
  {
   "cell_type": "markdown",
   "metadata": {},
   "source": [
    "Bem vindo(a) ao LIneA JupyterHub! \n",
    "\n",
    "O LIneA JupyterHub oferece acesso a dados públicos disponíveis online e a dados privados de levantamentos fotométricos cuja participação de cientistas brasileiros com _data rights_ é apoiada pelo LIneA. Neste notebook vamos exemplificar o acesso aos dados públicos do levantamento _Dark Energy Survey_ (DES). Caso precise de ajuda, entre em contato pelo e-mail: [helpdesk@linea.org.br](mailto:helpdesk@linea.org.br)\n",
    "\n",
    "\n",
    "## 1. Sobre os dados"
   ]
  },
  {
   "cell_type": "markdown",
   "metadata": {},
   "source": [
    "<img align=\"left\" src=https://www.darkenergysurvey.org/wp-content/uploads/2016/01/des-logo-rev-lg.png width=400 style=\"background-color:black; padding: 20px\">"
   ]
  },
  {
   "cell_type": "markdown",
   "metadata": {},
   "source": [
    "\n",
    "<img align=\"left\" src=https://www.darkenergysurvey.org/wp-content/uploads/2016/05/12-0333-22D.jpg width=400 style=\"background-color:black; padding: 20px; margin-right: 2em\"> <br>\n",
    "\n",
    "\n"
   ]
  },
  {
   "cell_type": "markdown",
   "metadata": {},
   "source": [
    "O [Dark Energy Survey (DES)](https://www.darkenergysurvey.org/) é um levantamento fotométrico em 5 bandas do ótico ao infravermelho (_grizY_) que tem como principal objetivo a determinação da equação de estado da energia escura. O DES observou ~700 milhões de objetos detectados em ~5000 graus quadrados no hemisfério sul durante 6 anos. Os artigos com os principais resultados da análise dos dados dos três primeiros anos de observação estão disponíveis [nesta página](https://www.darkenergysurvey.org/des-year-3-cosmology-results-papers/).  \n",
    "<img align=\"center\" src=https://www.darkenergysurvey.org/wp-content/uploads/2021/06/dr2_footprint.png  width=500 style=\"padding: 20px\"> <br> \n",
    "Figura: Footprint Data Release 2 (fonte: [www.darkenergysurvey.org](https://www.darkenergysurvey.org/wp-content/uploads/2021/06/dr2_footprint.png)).  \n",
    "\n",
    "O [segundo _data release_ (DR2)](https://des.ncsa.illinois.edu/releases/dr2), já contendo os dados dos seis anos de observação, está disponível para público e pode ser acessado pelo [LIneA Science Server](https://desportal2.cosmology.illinois.edu/sky/) ou aqui pelo JupyterHub, como veremos a seguir."
   ]
  },
  {
   "cell_type": "markdown",
   "metadata": {},
   "source": [
    "## 2. Acesso ao banco de dados "
   ]
  },
  {
   "cell_type": "markdown",
   "metadata": {},
   "source": [
    "Dentro da plataforma LIneA JupyterHub, o acesso ao banco de dados é feito através da biblioteca [`dblinea`](https://github.com/linea-it/dblinea). Confira a documentação completa da biblioteca `dblinea` [neste link](https://dblinea.readthedocs.io/en/latest/index.html).\n",
    "\n",
    "\n",
    "Instalação da biblioteca `dblinea`: "
   ]
  },
  {
   "cell_type": "code",
   "execution_count": 2,
   "metadata": {
    "tags": []
   },
   "outputs": [
    {
     "name": "stdout",
     "output_type": "stream",
     "text": [
      "Collecting dblinea\n",
      "  Using cached dblinea-1.0.0-py3-none-any.whl (11 kB)\n",
      "Requirement already satisfied: sqlalchemy>=2.0.0 in /opt/conda/lib/python3.10/site-packages (from dblinea) (2.0.12)\n",
      "Collecting psycopg2-binary>=2.9.1 (from dblinea)\n",
      "  Using cached psycopg2_binary-2.9.9-cp310-cp310-manylinux_2_17_x86_64.manylinux2014_x86_64.whl (3.0 MB)\n",
      "Requirement already satisfied: numpy>=1.19.4 in /opt/conda/lib/python3.10/site-packages (from dblinea) (1.23.5)\n",
      "Requirement already satisfied: pandas>=2.0.0 in /opt/conda/lib/python3.10/site-packages (from dblinea) (2.0.1)\n",
      "Requirement already satisfied: requests>=2.23.0 in /opt/conda/lib/python3.10/site-packages (from dblinea) (2.29.0)\n",
      "Requirement already satisfied: astropy>=5.0.0 in /opt/conda/lib/python3.10/site-packages (from dblinea) (6.1.1)\n",
      "Requirement already satisfied: pyerfa>=2.0.1.1 in /opt/conda/lib/python3.10/site-packages (from astropy>=5.0.0->dblinea) (2.0.1.4)\n",
      "Requirement already satisfied: astropy-iers-data>=0.2024.5.27.0.30.8 in /opt/conda/lib/python3.10/site-packages (from astropy>=5.0.0->dblinea) (0.2024.7.22.0.34.13)\n",
      "Requirement already satisfied: PyYAML>=3.13 in /opt/conda/lib/python3.10/site-packages (from astropy>=5.0.0->dblinea) (6.0)\n",
      "Requirement already satisfied: packaging>=19.0 in /opt/conda/lib/python3.10/site-packages (from astropy>=5.0.0->dblinea) (23.1)\n",
      "Requirement already satisfied: python-dateutil>=2.8.2 in /opt/conda/lib/python3.10/site-packages (from pandas>=2.0.0->dblinea) (2.8.2)\n",
      "Requirement already satisfied: pytz>=2020.1 in /opt/conda/lib/python3.10/site-packages (from pandas>=2.0.0->dblinea) (2023.3)\n",
      "Requirement already satisfied: tzdata>=2022.1 in /opt/conda/lib/python3.10/site-packages (from pandas>=2.0.0->dblinea) (2023.3)\n",
      "Requirement already satisfied: charset-normalizer<4,>=2 in /opt/conda/lib/python3.10/site-packages (from requests>=2.23.0->dblinea) (3.1.0)\n",
      "Requirement already satisfied: idna<4,>=2.5 in /opt/conda/lib/python3.10/site-packages (from requests>=2.23.0->dblinea) (3.4)\n",
      "Requirement already satisfied: urllib3<1.27,>=1.21.1 in /opt/conda/lib/python3.10/site-packages (from requests>=2.23.0->dblinea) (1.26.15)\n",
      "Requirement already satisfied: certifi>=2017.4.17 in /opt/conda/lib/python3.10/site-packages (from requests>=2.23.0->dblinea) (2023.5.7)\n",
      "Requirement already satisfied: typing-extensions>=4.2.0 in /opt/conda/lib/python3.10/site-packages (from sqlalchemy>=2.0.0->dblinea) (4.12.2)\n",
      "Requirement already satisfied: greenlet!=0.4.17 in /opt/conda/lib/python3.10/site-packages (from sqlalchemy>=2.0.0->dblinea) (2.0.2)\n",
      "Requirement already satisfied: six>=1.5 in /opt/conda/lib/python3.10/site-packages (from python-dateutil>=2.8.2->pandas>=2.0.0->dblinea) (1.16.0)\n",
      "Installing collected packages: psycopg2-binary, dblinea\n",
      "Successfully installed dblinea-1.0.0 psycopg2-binary-2.9.9\n"
     ]
    }
   ],
   "source": [
    "! pip install dblinea"
   ]
  },
  {
   "cell_type": "markdown",
   "metadata": {},
   "source": [
    "Nos exemplos abaixo, também vamos usar a biblioteca `astropy`. As demais bibliotecas utilizadas já estão disponíveis na instalação original do JupyterHub. \n",
    "\n",
    "Instalação da biblioteca `dblinea`: "
   ]
  },
  {
   "cell_type": "code",
   "execution_count": 4,
   "metadata": {
    "tags": []
   },
   "outputs": [
    {
     "name": "stdout",
     "output_type": "stream",
     "text": [
      "Requirement already satisfied: astropy in /opt/conda/lib/python3.10/site-packages (6.1.1)\n",
      "Requirement already satisfied: numpy>=1.23 in /opt/conda/lib/python3.10/site-packages (from astropy) (1.23.5)\n",
      "Requirement already satisfied: pyerfa>=2.0.1.1 in /opt/conda/lib/python3.10/site-packages (from astropy) (2.0.1.4)\n",
      "Requirement already satisfied: astropy-iers-data>=0.2024.5.27.0.30.8 in /opt/conda/lib/python3.10/site-packages (from astropy) (0.2024.7.22.0.34.13)\n",
      "Requirement already satisfied: PyYAML>=3.13 in /opt/conda/lib/python3.10/site-packages (from astropy) (6.0)\n",
      "Requirement already satisfied: packaging>=19.0 in /opt/conda/lib/python3.10/site-packages (from astropy) (23.1)\n"
     ]
    }
   ],
   "source": [
    "! pip install astropy"
   ]
  },
  {
   "cell_type": "code",
   "execution_count": 5,
   "metadata": {},
   "outputs": [],
   "source": [
    "import matplotlib.pyplot as plt\n",
    "import pandas as pd\n",
    "from astropy import units as u\n",
    "from astropy.coordinates import SkyCoord\n",
    "\n",
    "from dblinea import DBBase\n",
    "\n",
    "%reload_ext autoreload\n",
    "%autoreload 2"
   ]
  },
  {
   "cell_type": "markdown",
   "metadata": {},
   "source": [
    "**Leitura dos dados**\n"
   ]
  },
  {
   "cell_type": "markdown",
   "metadata": {},
   "source": [
    "A classe `DBBase` faz a conexão com o banco de dados e oferece algumas funcionalidades como veremos a seguir. Nos exemplos abaixo, vamos utilizar o objeto `db` para acessar os dados e metadados da tabela \"**main**\" do segundo _release_ (**DR2**) do levantamento **DES**. "
   ]
  },
  {
   "cell_type": "code",
   "execution_count": 6,
   "metadata": {},
   "outputs": [],
   "source": [
    "db = DBBase()"
   ]
  },
  {
   "cell_type": "code",
   "execution_count": 7,
   "metadata": {},
   "outputs": [],
   "source": [
    "schema = \"des_dr2\"  \n",
    "tablename = \"main\""
   ]
  },
  {
   "cell_type": "markdown",
   "metadata": {},
   "source": [
    "O método `get_table_columns` retorna a lista de colunas disponíveis na tabela: "
   ]
  },
  {
   "cell_type": "code",
   "execution_count": 8,
   "metadata": {
    "scrolled": true,
    "tags": []
   },
   "outputs": [
    {
     "data": {
      "text/plain": [
       "['coadd_object_id',\n",
       " 'tilename',\n",
       " 'hpix_32',\n",
       " 'hpix_64',\n",
       " 'hpix_1024',\n",
       " 'hpix_4096',\n",
       " 'hpix_16384',\n",
       " 'ra',\n",
       " 'dec',\n",
       " 'alphawin_j2000',\n",
       " 'deltawin_j2000',\n",
       " 'galactic_l',\n",
       " 'galactic_b',\n",
       " 'xwin_image',\n",
       " 'ywin_image',\n",
       " 'a_image',\n",
       " 'erra_image',\n",
       " 'b_image',\n",
       " 'errb_image',\n",
       " 'theta_j2000',\n",
       " 'errtheta_image',\n",
       " 'kron_radius',\n",
       " 'ebv_sfd98',\n",
       " 'mag_auto_g_dered',\n",
       " 'mag_auto_r_dered',\n",
       " 'mag_auto_i_dered',\n",
       " 'mag_auto_z_dered',\n",
       " 'mag_auto_y_dered',\n",
       " 'wavg_mag_psf_g_dered',\n",
       " 'wavg_mag_psf_r_dered',\n",
       " 'wavg_mag_psf_i_dered',\n",
       " 'wavg_mag_psf_z_dered',\n",
       " 'wavg_mag_psf_y_dered',\n",
       " 'extended_class_coadd',\n",
       " 'extended_class_wavg',\n",
       " 'flags_g',\n",
       " 'imaflags_iso_g',\n",
       " 'nepochs_g',\n",
       " 'flags_r',\n",
       " 'imaflags_iso_r',\n",
       " 'nepochs_r',\n",
       " 'flags_i',\n",
       " 'imaflags_iso_i',\n",
       " 'nepochs_i',\n",
       " 'flags_z',\n",
       " 'imaflags_iso_z',\n",
       " 'nepochs_z',\n",
       " 'flags_y',\n",
       " 'imaflags_iso_y',\n",
       " 'nepochs_y',\n",
       " 'xwin_image_g',\n",
       " 'xwin_image_r',\n",
       " 'xwin_image_i',\n",
       " 'xwin_image_z',\n",
       " 'xwin_image_y',\n",
       " 'ywin_image_g',\n",
       " 'ywin_image_r',\n",
       " 'ywin_image_i',\n",
       " 'ywin_image_z',\n",
       " 'ywin_image_y',\n",
       " 'x2win_image_g',\n",
       " 'x2win_image_r',\n",
       " 'x2win_image_i',\n",
       " 'x2win_image_z',\n",
       " 'x2win_image_y',\n",
       " 'y2win_image_g',\n",
       " 'y2win_image_r',\n",
       " 'y2win_image_i',\n",
       " 'y2win_image_z',\n",
       " 'y2win_image_y',\n",
       " 'xywin_image_g',\n",
       " 'xywin_image_r',\n",
       " 'xywin_image_i',\n",
       " 'xywin_image_z',\n",
       " 'xywin_image_y',\n",
       " 'errx2win_image_g',\n",
       " 'errx2win_image_r',\n",
       " 'errx2win_image_i',\n",
       " 'errx2win_image_z',\n",
       " 'errx2win_image_y',\n",
       " 'erry2win_image_g',\n",
       " 'erry2win_image_r',\n",
       " 'erry2win_image_i',\n",
       " 'erry2win_image_z',\n",
       " 'erry2win_image_y',\n",
       " 'errxywin_image_g',\n",
       " 'errxywin_image_r',\n",
       " 'errxywin_image_i',\n",
       " 'errxywin_image_z',\n",
       " 'errxywin_image_y',\n",
       " 'awin_image_g',\n",
       " 'awin_image_r',\n",
       " 'awin_image_i',\n",
       " 'awin_image_z',\n",
       " 'awin_image_y',\n",
       " 'bwin_image_g',\n",
       " 'bwin_image_r',\n",
       " 'bwin_image_i',\n",
       " 'bwin_image_z',\n",
       " 'bwin_image_y',\n",
       " 'thetawin_image_g',\n",
       " 'thetawin_image_r',\n",
       " 'thetawin_image_i',\n",
       " 'thetawin_image_z',\n",
       " 'thetawin_image_y',\n",
       " 'errawin_image_g',\n",
       " 'errawin_image_r',\n",
       " 'errawin_image_i',\n",
       " 'errawin_image_z',\n",
       " 'errawin_image_y',\n",
       " 'errbwin_image_g',\n",
       " 'errbwin_image_r',\n",
       " 'errbwin_image_i',\n",
       " 'errbwin_image_z',\n",
       " 'errbwin_image_y',\n",
       " 'errthetawin_image_g',\n",
       " 'errthetawin_image_r',\n",
       " 'errthetawin_image_i',\n",
       " 'errthetawin_image_z',\n",
       " 'errthetawin_image_y',\n",
       " 'flux_radius_g',\n",
       " 'flux_radius_r',\n",
       " 'flux_radius_i',\n",
       " 'flux_radius_z',\n",
       " 'flux_radius_y',\n",
       " 'fwhm_image_g',\n",
       " 'fwhm_image_r',\n",
       " 'fwhm_image_i',\n",
       " 'fwhm_image_z',\n",
       " 'fwhm_image_y',\n",
       " 'isoarea_image_g',\n",
       " 'isoarea_image_r',\n",
       " 'isoarea_image_i',\n",
       " 'isoarea_image_z',\n",
       " 'isoarea_image_y',\n",
       " 'background_g',\n",
       " 'background_r',\n",
       " 'background_i',\n",
       " 'background_z',\n",
       " 'background_y',\n",
       " 'niter_model_g',\n",
       " 'niter_model_r',\n",
       " 'niter_model_i',\n",
       " 'niter_model_z',\n",
       " 'niter_model_y',\n",
       " 'kron_radius_g',\n",
       " 'kron_radius_r',\n",
       " 'kron_radius_i',\n",
       " 'kron_radius_z',\n",
       " 'kron_radius_y',\n",
       " 'mag_auto_g',\n",
       " 'mag_auto_r',\n",
       " 'mag_auto_i',\n",
       " 'mag_auto_z',\n",
       " 'mag_auto_y',\n",
       " 'magerr_auto_g',\n",
       " 'magerr_auto_r',\n",
       " 'magerr_auto_i',\n",
       " 'magerr_auto_z',\n",
       " 'magerr_auto_y',\n",
       " 'wavg_mag_psf_g',\n",
       " 'wavg_mag_psf_r',\n",
       " 'wavg_mag_psf_i',\n",
       " 'wavg_mag_psf_z',\n",
       " 'wavg_mag_psf_y',\n",
       " 'wavg_magerr_psf_g',\n",
       " 'wavg_magerr_psf_r',\n",
       " 'wavg_magerr_psf_i',\n",
       " 'wavg_magerr_psf_z',\n",
       " 'wavg_magerr_psf_y',\n",
       " 'flux_auto_g',\n",
       " 'flux_auto_r',\n",
       " 'flux_auto_i',\n",
       " 'flux_auto_z',\n",
       " 'flux_auto_y',\n",
       " 'fluxerr_auto_g',\n",
       " 'fluxerr_auto_r',\n",
       " 'fluxerr_auto_i',\n",
       " 'fluxerr_auto_z',\n",
       " 'fluxerr_auto_y',\n",
       " 'wavg_flux_psf_g',\n",
       " 'wavg_flux_psf_r',\n",
       " 'wavg_flux_psf_i',\n",
       " 'wavg_flux_psf_z',\n",
       " 'wavg_flux_psf_y',\n",
       " 'wavg_fluxerr_psf_g',\n",
       " 'wavg_fluxerr_psf_r',\n",
       " 'wavg_fluxerr_psf_i',\n",
       " 'wavg_fluxerr_psf_z',\n",
       " 'wavg_fluxerr_psf_y',\n",
       " 'class_star_g',\n",
       " 'class_star_r',\n",
       " 'class_star_i',\n",
       " 'class_star_z',\n",
       " 'class_star_y',\n",
       " 'spread_model_g',\n",
       " 'spread_model_r',\n",
       " 'spread_model_i',\n",
       " 'spread_model_z',\n",
       " 'spread_model_y',\n",
       " 'wavg_spread_model_g',\n",
       " 'wavg_spread_model_r',\n",
       " 'wavg_spread_model_i',\n",
       " 'wavg_spread_model_z',\n",
       " 'wavg_spread_model_y',\n",
       " 'spreaderr_model_g',\n",
       " 'spreaderr_model_r',\n",
       " 'spreaderr_model_i',\n",
       " 'spreaderr_model_z',\n",
       " 'spreaderr_model_y',\n",
       " 'wavg_spreaderr_model_g',\n",
       " 'wavg_spreaderr_model_r',\n",
       " 'wavg_spreaderr_model_i',\n",
       " 'wavg_spreaderr_model_z',\n",
       " 'wavg_spreaderr_model_y']"
      ]
     },
     "execution_count": 8,
     "metadata": {},
     "output_type": "execute_result"
    }
   ],
   "source": [
    "db.get_table_columns(tablename, schema=schema)"
   ]
  },
  {
   "cell_type": "markdown",
   "metadata": {},
   "source": [
    "O método `describe_table` retorna o tipo de dado em cada coluna: "
   ]
  },
  {
   "cell_type": "code",
   "execution_count": 9,
   "metadata": {
    "scrolled": true,
    "tags": []
   },
   "outputs": [
    {
     "data": {
      "text/plain": [
       "[{'name': 'coadd_object_id', 'type': BIGINT()},\n",
       " {'name': 'tilename', 'type': TEXT()},\n",
       " {'name': 'hpix_32', 'type': BIGINT()},\n",
       " {'name': 'hpix_64', 'type': BIGINT()},\n",
       " {'name': 'hpix_1024', 'type': BIGINT()},\n",
       " {'name': 'hpix_4096', 'type': BIGINT()},\n",
       " {'name': 'hpix_16384', 'type': BIGINT()},\n",
       " {'name': 'ra', 'type': DOUBLE_PRECISION(precision=53)},\n",
       " {'name': 'dec', 'type': DOUBLE_PRECISION(precision=53)},\n",
       " {'name': 'alphawin_j2000', 'type': DOUBLE_PRECISION(precision=53)},\n",
       " {'name': 'deltawin_j2000', 'type': DOUBLE_PRECISION(precision=53)},\n",
       " {'name': 'galactic_l', 'type': DOUBLE_PRECISION(precision=53)},\n",
       " {'name': 'galactic_b', 'type': DOUBLE_PRECISION(precision=53)},\n",
       " {'name': 'xwin_image', 'type': DOUBLE_PRECISION(precision=53)},\n",
       " {'name': 'ywin_image', 'type': DOUBLE_PRECISION(precision=53)},\n",
       " {'name': 'a_image', 'type': DOUBLE_PRECISION(precision=53)},\n",
       " {'name': 'erra_image', 'type': DOUBLE_PRECISION(precision=53)},\n",
       " {'name': 'b_image', 'type': DOUBLE_PRECISION(precision=53)},\n",
       " {'name': 'errb_image', 'type': DOUBLE_PRECISION(precision=53)},\n",
       " {'name': 'theta_j2000', 'type': DOUBLE_PRECISION(precision=53)},\n",
       " {'name': 'errtheta_image', 'type': DOUBLE_PRECISION(precision=53)},\n",
       " {'name': 'kron_radius', 'type': DOUBLE_PRECISION(precision=53)},\n",
       " {'name': 'ebv_sfd98', 'type': DOUBLE_PRECISION(precision=53)},\n",
       " {'name': 'mag_auto_g_dered', 'type': DOUBLE_PRECISION(precision=53)},\n",
       " {'name': 'mag_auto_r_dered', 'type': DOUBLE_PRECISION(precision=53)},\n",
       " {'name': 'mag_auto_i_dered', 'type': DOUBLE_PRECISION(precision=53)},\n",
       " {'name': 'mag_auto_z_dered', 'type': DOUBLE_PRECISION(precision=53)},\n",
       " {'name': 'mag_auto_y_dered', 'type': DOUBLE_PRECISION(precision=53)},\n",
       " {'name': 'wavg_mag_psf_g_dered', 'type': DOUBLE_PRECISION(precision=53)},\n",
       " {'name': 'wavg_mag_psf_r_dered', 'type': DOUBLE_PRECISION(precision=53)},\n",
       " {'name': 'wavg_mag_psf_i_dered', 'type': DOUBLE_PRECISION(precision=53)},\n",
       " {'name': 'wavg_mag_psf_z_dered', 'type': DOUBLE_PRECISION(precision=53)},\n",
       " {'name': 'wavg_mag_psf_y_dered', 'type': DOUBLE_PRECISION(precision=53)},\n",
       " {'name': 'extended_class_coadd', 'type': INTEGER()},\n",
       " {'name': 'extended_class_wavg', 'type': INTEGER()},\n",
       " {'name': 'flags_g', 'type': INTEGER()},\n",
       " {'name': 'imaflags_iso_g', 'type': INTEGER()},\n",
       " {'name': 'nepochs_g', 'type': INTEGER()},\n",
       " {'name': 'flags_r', 'type': INTEGER()},\n",
       " {'name': 'imaflags_iso_r', 'type': INTEGER()},\n",
       " {'name': 'nepochs_r', 'type': INTEGER()},\n",
       " {'name': 'flags_i', 'type': INTEGER()},\n",
       " {'name': 'imaflags_iso_i', 'type': INTEGER()},\n",
       " {'name': 'nepochs_i', 'type': INTEGER()},\n",
       " {'name': 'flags_z', 'type': INTEGER()},\n",
       " {'name': 'imaflags_iso_z', 'type': INTEGER()},\n",
       " {'name': 'nepochs_z', 'type': INTEGER()},\n",
       " {'name': 'flags_y', 'type': INTEGER()},\n",
       " {'name': 'imaflags_iso_y', 'type': INTEGER()},\n",
       " {'name': 'nepochs_y', 'type': INTEGER()},\n",
       " {'name': 'xwin_image_g', 'type': DOUBLE_PRECISION(precision=53)},\n",
       " {'name': 'xwin_image_r', 'type': DOUBLE_PRECISION(precision=53)},\n",
       " {'name': 'xwin_image_i', 'type': DOUBLE_PRECISION(precision=53)},\n",
       " {'name': 'xwin_image_z', 'type': DOUBLE_PRECISION(precision=53)},\n",
       " {'name': 'xwin_image_y', 'type': DOUBLE_PRECISION(precision=53)},\n",
       " {'name': 'ywin_image_g', 'type': DOUBLE_PRECISION(precision=53)},\n",
       " {'name': 'ywin_image_r', 'type': DOUBLE_PRECISION(precision=53)},\n",
       " {'name': 'ywin_image_i', 'type': DOUBLE_PRECISION(precision=53)},\n",
       " {'name': 'ywin_image_z', 'type': DOUBLE_PRECISION(precision=53)},\n",
       " {'name': 'ywin_image_y', 'type': DOUBLE_PRECISION(precision=53)},\n",
       " {'name': 'x2win_image_g', 'type': DOUBLE_PRECISION(precision=53)},\n",
       " {'name': 'x2win_image_r', 'type': DOUBLE_PRECISION(precision=53)},\n",
       " {'name': 'x2win_image_i', 'type': DOUBLE_PRECISION(precision=53)},\n",
       " {'name': 'x2win_image_z', 'type': DOUBLE_PRECISION(precision=53)},\n",
       " {'name': 'x2win_image_y', 'type': DOUBLE_PRECISION(precision=53)},\n",
       " {'name': 'y2win_image_g', 'type': DOUBLE_PRECISION(precision=53)},\n",
       " {'name': 'y2win_image_r', 'type': DOUBLE_PRECISION(precision=53)},\n",
       " {'name': 'y2win_image_i', 'type': DOUBLE_PRECISION(precision=53)},\n",
       " {'name': 'y2win_image_z', 'type': DOUBLE_PRECISION(precision=53)},\n",
       " {'name': 'y2win_image_y', 'type': DOUBLE_PRECISION(precision=53)},\n",
       " {'name': 'xywin_image_g', 'type': DOUBLE_PRECISION(precision=53)},\n",
       " {'name': 'xywin_image_r', 'type': DOUBLE_PRECISION(precision=53)},\n",
       " {'name': 'xywin_image_i', 'type': DOUBLE_PRECISION(precision=53)},\n",
       " {'name': 'xywin_image_z', 'type': DOUBLE_PRECISION(precision=53)},\n",
       " {'name': 'xywin_image_y', 'type': DOUBLE_PRECISION(precision=53)},\n",
       " {'name': 'errx2win_image_g', 'type': DOUBLE_PRECISION(precision=53)},\n",
       " {'name': 'errx2win_image_r', 'type': DOUBLE_PRECISION(precision=53)},\n",
       " {'name': 'errx2win_image_i', 'type': DOUBLE_PRECISION(precision=53)},\n",
       " {'name': 'errx2win_image_z', 'type': DOUBLE_PRECISION(precision=53)},\n",
       " {'name': 'errx2win_image_y', 'type': DOUBLE_PRECISION(precision=53)},\n",
       " {'name': 'erry2win_image_g', 'type': DOUBLE_PRECISION(precision=53)},\n",
       " {'name': 'erry2win_image_r', 'type': DOUBLE_PRECISION(precision=53)},\n",
       " {'name': 'erry2win_image_i', 'type': DOUBLE_PRECISION(precision=53)},\n",
       " {'name': 'erry2win_image_z', 'type': DOUBLE_PRECISION(precision=53)},\n",
       " {'name': 'erry2win_image_y', 'type': DOUBLE_PRECISION(precision=53)},\n",
       " {'name': 'errxywin_image_g', 'type': DOUBLE_PRECISION(precision=53)},\n",
       " {'name': 'errxywin_image_r', 'type': DOUBLE_PRECISION(precision=53)},\n",
       " {'name': 'errxywin_image_i', 'type': DOUBLE_PRECISION(precision=53)},\n",
       " {'name': 'errxywin_image_z', 'type': DOUBLE_PRECISION(precision=53)},\n",
       " {'name': 'errxywin_image_y', 'type': DOUBLE_PRECISION(precision=53)},\n",
       " {'name': 'awin_image_g', 'type': DOUBLE_PRECISION(precision=53)},\n",
       " {'name': 'awin_image_r', 'type': DOUBLE_PRECISION(precision=53)},\n",
       " {'name': 'awin_image_i', 'type': DOUBLE_PRECISION(precision=53)},\n",
       " {'name': 'awin_image_z', 'type': DOUBLE_PRECISION(precision=53)},\n",
       " {'name': 'awin_image_y', 'type': DOUBLE_PRECISION(precision=53)},\n",
       " {'name': 'bwin_image_g', 'type': DOUBLE_PRECISION(precision=53)},\n",
       " {'name': 'bwin_image_r', 'type': DOUBLE_PRECISION(precision=53)},\n",
       " {'name': 'bwin_image_i', 'type': DOUBLE_PRECISION(precision=53)},\n",
       " {'name': 'bwin_image_z', 'type': DOUBLE_PRECISION(precision=53)},\n",
       " {'name': 'bwin_image_y', 'type': DOUBLE_PRECISION(precision=53)},\n",
       " {'name': 'thetawin_image_g', 'type': DOUBLE_PRECISION(precision=53)},\n",
       " {'name': 'thetawin_image_r', 'type': DOUBLE_PRECISION(precision=53)},\n",
       " {'name': 'thetawin_image_i', 'type': DOUBLE_PRECISION(precision=53)},\n",
       " {'name': 'thetawin_image_z', 'type': DOUBLE_PRECISION(precision=53)},\n",
       " {'name': 'thetawin_image_y', 'type': DOUBLE_PRECISION(precision=53)},\n",
       " {'name': 'errawin_image_g', 'type': DOUBLE_PRECISION(precision=53)},\n",
       " {'name': 'errawin_image_r', 'type': DOUBLE_PRECISION(precision=53)},\n",
       " {'name': 'errawin_image_i', 'type': DOUBLE_PRECISION(precision=53)},\n",
       " {'name': 'errawin_image_z', 'type': DOUBLE_PRECISION(precision=53)},\n",
       " {'name': 'errawin_image_y', 'type': DOUBLE_PRECISION(precision=53)},\n",
       " {'name': 'errbwin_image_g', 'type': DOUBLE_PRECISION(precision=53)},\n",
       " {'name': 'errbwin_image_r', 'type': DOUBLE_PRECISION(precision=53)},\n",
       " {'name': 'errbwin_image_i', 'type': DOUBLE_PRECISION(precision=53)},\n",
       " {'name': 'errbwin_image_z', 'type': DOUBLE_PRECISION(precision=53)},\n",
       " {'name': 'errbwin_image_y', 'type': DOUBLE_PRECISION(precision=53)},\n",
       " {'name': 'errthetawin_image_g', 'type': DOUBLE_PRECISION(precision=53)},\n",
       " {'name': 'errthetawin_image_r', 'type': DOUBLE_PRECISION(precision=53)},\n",
       " {'name': 'errthetawin_image_i', 'type': DOUBLE_PRECISION(precision=53)},\n",
       " {'name': 'errthetawin_image_z', 'type': DOUBLE_PRECISION(precision=53)},\n",
       " {'name': 'errthetawin_image_y', 'type': DOUBLE_PRECISION(precision=53)},\n",
       " {'name': 'flux_radius_g', 'type': DOUBLE_PRECISION(precision=53)},\n",
       " {'name': 'flux_radius_r', 'type': DOUBLE_PRECISION(precision=53)},\n",
       " {'name': 'flux_radius_i', 'type': DOUBLE_PRECISION(precision=53)},\n",
       " {'name': 'flux_radius_z', 'type': DOUBLE_PRECISION(precision=53)},\n",
       " {'name': 'flux_radius_y', 'type': DOUBLE_PRECISION(precision=53)},\n",
       " {'name': 'fwhm_image_g', 'type': DOUBLE_PRECISION(precision=53)},\n",
       " {'name': 'fwhm_image_r', 'type': DOUBLE_PRECISION(precision=53)},\n",
       " {'name': 'fwhm_image_i', 'type': DOUBLE_PRECISION(precision=53)},\n",
       " {'name': 'fwhm_image_z', 'type': DOUBLE_PRECISION(precision=53)},\n",
       " {'name': 'fwhm_image_y', 'type': DOUBLE_PRECISION(precision=53)},\n",
       " {'name': 'isoarea_image_g', 'type': INTEGER()},\n",
       " {'name': 'isoarea_image_r', 'type': INTEGER()},\n",
       " {'name': 'isoarea_image_i', 'type': INTEGER()},\n",
       " {'name': 'isoarea_image_z', 'type': INTEGER()},\n",
       " {'name': 'isoarea_image_y', 'type': INTEGER()},\n",
       " {'name': 'background_g', 'type': DOUBLE_PRECISION(precision=53)},\n",
       " {'name': 'background_r', 'type': DOUBLE_PRECISION(precision=53)},\n",
       " {'name': 'background_i', 'type': DOUBLE_PRECISION(precision=53)},\n",
       " {'name': 'background_z', 'type': DOUBLE_PRECISION(precision=53)},\n",
       " {'name': 'background_y', 'type': DOUBLE_PRECISION(precision=53)},\n",
       " {'name': 'niter_model_g', 'type': INTEGER()},\n",
       " {'name': 'niter_model_r', 'type': INTEGER()},\n",
       " {'name': 'niter_model_i', 'type': INTEGER()},\n",
       " {'name': 'niter_model_z', 'type': INTEGER()},\n",
       " {'name': 'niter_model_y', 'type': INTEGER()},\n",
       " {'name': 'kron_radius_g', 'type': DOUBLE_PRECISION(precision=53)},\n",
       " {'name': 'kron_radius_r', 'type': DOUBLE_PRECISION(precision=53)},\n",
       " {'name': 'kron_radius_i', 'type': DOUBLE_PRECISION(precision=53)},\n",
       " {'name': 'kron_radius_z', 'type': DOUBLE_PRECISION(precision=53)},\n",
       " {'name': 'kron_radius_y', 'type': DOUBLE_PRECISION(precision=53)},\n",
       " {'name': 'mag_auto_g', 'type': DOUBLE_PRECISION(precision=53)},\n",
       " {'name': 'mag_auto_r', 'type': DOUBLE_PRECISION(precision=53)},\n",
       " {'name': 'mag_auto_i', 'type': DOUBLE_PRECISION(precision=53)},\n",
       " {'name': 'mag_auto_z', 'type': DOUBLE_PRECISION(precision=53)},\n",
       " {'name': 'mag_auto_y', 'type': DOUBLE_PRECISION(precision=53)},\n",
       " {'name': 'magerr_auto_g', 'type': DOUBLE_PRECISION(precision=53)},\n",
       " {'name': 'magerr_auto_r', 'type': DOUBLE_PRECISION(precision=53)},\n",
       " {'name': 'magerr_auto_i', 'type': DOUBLE_PRECISION(precision=53)},\n",
       " {'name': 'magerr_auto_z', 'type': DOUBLE_PRECISION(precision=53)},\n",
       " {'name': 'magerr_auto_y', 'type': DOUBLE_PRECISION(precision=53)},\n",
       " {'name': 'wavg_mag_psf_g', 'type': DOUBLE_PRECISION(precision=53)},\n",
       " {'name': 'wavg_mag_psf_r', 'type': DOUBLE_PRECISION(precision=53)},\n",
       " {'name': 'wavg_mag_psf_i', 'type': DOUBLE_PRECISION(precision=53)},\n",
       " {'name': 'wavg_mag_psf_z', 'type': DOUBLE_PRECISION(precision=53)},\n",
       " {'name': 'wavg_mag_psf_y', 'type': DOUBLE_PRECISION(precision=53)},\n",
       " {'name': 'wavg_magerr_psf_g', 'type': DOUBLE_PRECISION(precision=53)},\n",
       " {'name': 'wavg_magerr_psf_r', 'type': DOUBLE_PRECISION(precision=53)},\n",
       " {'name': 'wavg_magerr_psf_i', 'type': DOUBLE_PRECISION(precision=53)},\n",
       " {'name': 'wavg_magerr_psf_z', 'type': DOUBLE_PRECISION(precision=53)},\n",
       " {'name': 'wavg_magerr_psf_y', 'type': DOUBLE_PRECISION(precision=53)},\n",
       " {'name': 'flux_auto_g', 'type': DOUBLE_PRECISION(precision=53)},\n",
       " {'name': 'flux_auto_r', 'type': DOUBLE_PRECISION(precision=53)},\n",
       " {'name': 'flux_auto_i', 'type': DOUBLE_PRECISION(precision=53)},\n",
       " {'name': 'flux_auto_z', 'type': DOUBLE_PRECISION(precision=53)},\n",
       " {'name': 'flux_auto_y', 'type': DOUBLE_PRECISION(precision=53)},\n",
       " {'name': 'fluxerr_auto_g', 'type': DOUBLE_PRECISION(precision=53)},\n",
       " {'name': 'fluxerr_auto_r', 'type': DOUBLE_PRECISION(precision=53)},\n",
       " {'name': 'fluxerr_auto_i', 'type': DOUBLE_PRECISION(precision=53)},\n",
       " {'name': 'fluxerr_auto_z', 'type': DOUBLE_PRECISION(precision=53)},\n",
       " {'name': 'fluxerr_auto_y', 'type': DOUBLE_PRECISION(precision=53)},\n",
       " {'name': 'wavg_flux_psf_g', 'type': DOUBLE_PRECISION(precision=53)},\n",
       " {'name': 'wavg_flux_psf_r', 'type': DOUBLE_PRECISION(precision=53)},\n",
       " {'name': 'wavg_flux_psf_i', 'type': DOUBLE_PRECISION(precision=53)},\n",
       " {'name': 'wavg_flux_psf_z', 'type': DOUBLE_PRECISION(precision=53)},\n",
       " {'name': 'wavg_flux_psf_y', 'type': DOUBLE_PRECISION(precision=53)},\n",
       " {'name': 'wavg_fluxerr_psf_g', 'type': DOUBLE_PRECISION(precision=53)},\n",
       " {'name': 'wavg_fluxerr_psf_r', 'type': DOUBLE_PRECISION(precision=53)},\n",
       " {'name': 'wavg_fluxerr_psf_i', 'type': DOUBLE_PRECISION(precision=53)},\n",
       " {'name': 'wavg_fluxerr_psf_z', 'type': DOUBLE_PRECISION(precision=53)},\n",
       " {'name': 'wavg_fluxerr_psf_y', 'type': DOUBLE_PRECISION(precision=53)},\n",
       " {'name': 'class_star_g', 'type': DOUBLE_PRECISION(precision=53)},\n",
       " {'name': 'class_star_r', 'type': DOUBLE_PRECISION(precision=53)},\n",
       " {'name': 'class_star_i', 'type': DOUBLE_PRECISION(precision=53)},\n",
       " {'name': 'class_star_z', 'type': DOUBLE_PRECISION(precision=53)},\n",
       " {'name': 'class_star_y', 'type': DOUBLE_PRECISION(precision=53)},\n",
       " {'name': 'spread_model_g', 'type': DOUBLE_PRECISION(precision=53)},\n",
       " {'name': 'spread_model_r', 'type': DOUBLE_PRECISION(precision=53)},\n",
       " {'name': 'spread_model_i', 'type': DOUBLE_PRECISION(precision=53)},\n",
       " {'name': 'spread_model_z', 'type': DOUBLE_PRECISION(precision=53)},\n",
       " {'name': 'spread_model_y', 'type': DOUBLE_PRECISION(precision=53)},\n",
       " {'name': 'wavg_spread_model_g', 'type': DOUBLE_PRECISION(precision=53)},\n",
       " {'name': 'wavg_spread_model_r', 'type': DOUBLE_PRECISION(precision=53)},\n",
       " {'name': 'wavg_spread_model_i', 'type': DOUBLE_PRECISION(precision=53)},\n",
       " {'name': 'wavg_spread_model_z', 'type': DOUBLE_PRECISION(precision=53)},\n",
       " {'name': 'wavg_spread_model_y', 'type': DOUBLE_PRECISION(precision=53)},\n",
       " {'name': 'spreaderr_model_g', 'type': DOUBLE_PRECISION(precision=53)},\n",
       " {'name': 'spreaderr_model_r', 'type': DOUBLE_PRECISION(precision=53)},\n",
       " {'name': 'spreaderr_model_i', 'type': DOUBLE_PRECISION(precision=53)},\n",
       " {'name': 'spreaderr_model_z', 'type': DOUBLE_PRECISION(precision=53)},\n",
       " {'name': 'spreaderr_model_y', 'type': DOUBLE_PRECISION(precision=53)},\n",
       " {'name': 'wavg_spreaderr_model_g', 'type': DOUBLE_PRECISION(precision=53)},\n",
       " {'name': 'wavg_spreaderr_model_r', 'type': DOUBLE_PRECISION(precision=53)},\n",
       " {'name': 'wavg_spreaderr_model_i', 'type': DOUBLE_PRECISION(precision=53)},\n",
       " {'name': 'wavg_spreaderr_model_z', 'type': DOUBLE_PRECISION(precision=53)},\n",
       " {'name': 'wavg_spreaderr_model_y', 'type': DOUBLE_PRECISION(precision=53)}]"
      ]
     },
     "execution_count": 9,
     "metadata": {},
     "output_type": "execute_result"
    }
   ],
   "source": [
    "db.describe_table(tablename, schema=schema)"
   ]
  },
  {
   "cell_type": "markdown",
   "metadata": {
    "tags": []
   },
   "source": [
    "A função `fetchall(query)` faz a consulta no banco de dados e retorna uma **lista de tuplas** com os dados referentes à _query_ fornecida no argumento. Por exemplo, vamos consultar o identificador único (`coadd_object_id`) e as coordenadas equatoriais dos objetos nas 10 primeiras linhas da tabela.  "
   ]
  },
  {
   "cell_type": "code",
   "execution_count": 10,
   "metadata": {},
   "outputs": [
    {
     "data": {
      "text/plain": [
       "[(1159789886, 20.083073, -37.54822),\n",
       " (1159789995, 20.086364, -37.548756),\n",
       " (1159791195, 20.090476, -37.560664),\n",
       " (1159791012, 20.092216, -37.558914),\n",
       " (1159790947, 20.094758, -37.55837),\n",
       " (1159790788, 20.093979, -37.557009),\n",
       " (1159791024, 20.098984, -37.559018),\n",
       " (1159790721, 20.100395, -37.55757),\n",
       " (1159790803, 20.089544, -37.557075),\n",
       " (1159790281, 20.090699, -37.554968)]"
      ]
     },
     "execution_count": 10,
     "metadata": {},
     "output_type": "execute_result"
    }
   ],
   "source": [
    "query = f\"SELECT coadd_object_id, ra, dec FROM {schema}.{tablename} limit 10\"\n",
    "lista_10_objetos = db.fetchall(query)\n",
    "lista_10_objetos"
   ]
  },
  {
   "cell_type": "markdown",
   "metadata": {
    "tags": []
   },
   "source": [
    "A função `fetchall_dict(query)` faz a consulta no banco de dados e retorna uma **lista de dicionários** com os dados referentes à _query_ fornecida no argumento. Vamos repetir a consulta do exemplo anterior, ou seja, vamos utilizar o mesmo _SQL statement_ atribuído à variável `query`.    "
   ]
  },
  {
   "cell_type": "code",
   "execution_count": 12,
   "metadata": {},
   "outputs": [
    {
     "data": {
      "text/plain": [
       "[{'coadd_object_id': 1159789886, 'ra': 20.083073, 'dec': -37.54822},\n",
       " {'coadd_object_id': 1159789995, 'ra': 20.086364, 'dec': -37.548756},\n",
       " {'coadd_object_id': 1159791195, 'ra': 20.090476, 'dec': -37.560664},\n",
       " {'coadd_object_id': 1159791012, 'ra': 20.092216, 'dec': -37.558914},\n",
       " {'coadd_object_id': 1159790947, 'ra': 20.094758, 'dec': -37.55837},\n",
       " {'coadd_object_id': 1159790788, 'ra': 20.093979, 'dec': -37.557009},\n",
       " {'coadd_object_id': 1159791024, 'ra': 20.098984, 'dec': -37.559018},\n",
       " {'coadd_object_id': 1159790721, 'ra': 20.100395, 'dec': -37.55757},\n",
       " {'coadd_object_id': 1159790803, 'ra': 20.089544, 'dec': -37.557075},\n",
       " {'coadd_object_id': 1159790281, 'ra': 20.090699, 'dec': -37.554968}]"
      ]
     },
     "execution_count": 12,
     "metadata": {},
     "output_type": "execute_result"
    }
   ],
   "source": [
    "dict_10_objetos = db.fetchall_dict(query)\n",
    "dict_10_objetos"
   ]
  },
  {
   "cell_type": "markdown",
   "metadata": {
    "tags": []
   },
   "source": [
    "A função `fetchall_df(query)` faz a consulta no banco de dados e retorna um objeto do tipo [**pandas.DataFrame**](https://pandas.pydata.org/docs/reference/api/pandas.DataFrame.html) com os dados referentes à _query_ fornecida no argumento. Vamos repetir a consulta dos exemplo anteriores:"
   ]
  },
  {
   "cell_type": "code",
   "execution_count": 13,
   "metadata": {},
   "outputs": [
    {
     "data": {
      "text/html": [
       "<div>\n",
       "<style scoped>\n",
       "    .dataframe tbody tr th:only-of-type {\n",
       "        vertical-align: middle;\n",
       "    }\n",
       "\n",
       "    .dataframe tbody tr th {\n",
       "        vertical-align: top;\n",
       "    }\n",
       "\n",
       "    .dataframe thead th {\n",
       "        text-align: right;\n",
       "    }\n",
       "</style>\n",
       "<table border=\"1\" class=\"dataframe\">\n",
       "  <thead>\n",
       "    <tr style=\"text-align: right;\">\n",
       "      <th></th>\n",
       "      <th>coadd_object_id</th>\n",
       "      <th>ra</th>\n",
       "      <th>dec</th>\n",
       "    </tr>\n",
       "  </thead>\n",
       "  <tbody>\n",
       "    <tr>\n",
       "      <th>0</th>\n",
       "      <td>1159789886</td>\n",
       "      <td>20.083073</td>\n",
       "      <td>-37.548220</td>\n",
       "    </tr>\n",
       "    <tr>\n",
       "      <th>1</th>\n",
       "      <td>1159789995</td>\n",
       "      <td>20.086364</td>\n",
       "      <td>-37.548756</td>\n",
       "    </tr>\n",
       "    <tr>\n",
       "      <th>2</th>\n",
       "      <td>1159791195</td>\n",
       "      <td>20.090476</td>\n",
       "      <td>-37.560664</td>\n",
       "    </tr>\n",
       "    <tr>\n",
       "      <th>3</th>\n",
       "      <td>1159791012</td>\n",
       "      <td>20.092216</td>\n",
       "      <td>-37.558914</td>\n",
       "    </tr>\n",
       "    <tr>\n",
       "      <th>4</th>\n",
       "      <td>1159790947</td>\n",
       "      <td>20.094758</td>\n",
       "      <td>-37.558370</td>\n",
       "    </tr>\n",
       "    <tr>\n",
       "      <th>5</th>\n",
       "      <td>1159790788</td>\n",
       "      <td>20.093979</td>\n",
       "      <td>-37.557009</td>\n",
       "    </tr>\n",
       "    <tr>\n",
       "      <th>6</th>\n",
       "      <td>1159791024</td>\n",
       "      <td>20.098984</td>\n",
       "      <td>-37.559018</td>\n",
       "    </tr>\n",
       "    <tr>\n",
       "      <th>7</th>\n",
       "      <td>1159790721</td>\n",
       "      <td>20.100395</td>\n",
       "      <td>-37.557570</td>\n",
       "    </tr>\n",
       "    <tr>\n",
       "      <th>8</th>\n",
       "      <td>1159790803</td>\n",
       "      <td>20.089544</td>\n",
       "      <td>-37.557075</td>\n",
       "    </tr>\n",
       "    <tr>\n",
       "      <th>9</th>\n",
       "      <td>1159790281</td>\n",
       "      <td>20.090699</td>\n",
       "      <td>-37.554968</td>\n",
       "    </tr>\n",
       "  </tbody>\n",
       "</table>\n",
       "</div>"
      ],
      "text/plain": [
       "   coadd_object_id         ra        dec\n",
       "0       1159789886  20.083073 -37.548220\n",
       "1       1159789995  20.086364 -37.548756\n",
       "2       1159791195  20.090476 -37.560664\n",
       "3       1159791012  20.092216 -37.558914\n",
       "4       1159790947  20.094758 -37.558370\n",
       "5       1159790788  20.093979 -37.557009\n",
       "6       1159791024  20.098984 -37.559018\n",
       "7       1159790721  20.100395 -37.557570\n",
       "8       1159790803  20.089544 -37.557075\n",
       "9       1159790281  20.090699 -37.554968"
      ]
     },
     "execution_count": 13,
     "metadata": {},
     "output_type": "execute_result"
    }
   ],
   "source": [
    "dataframe_10_objetos = db.fetchall_df(query)\n",
    "dataframe_10_objetos"
   ]
  },
  {
   "cell_type": "markdown",
   "metadata": {
    "tags": []
   },
   "source": [
    "### Exemplos "
   ]
  },
  {
   "cell_type": "markdown",
   "metadata": {},
   "source": [
    "Para ilustrar a visualização de uma pequena amostra de dados, vamos construir o diagrama cor-magnitude com as estrelas da [galáxia anã de Sculptor](https://en.wikipedia.org/wiki/Sculptor_Dwarf_Galaxy). \n",
    "\n",
    "|Coordenadas Equatoriais| |\n",
    "|:-- |--- | \n",
    "|Ascensão Reta| 01h 00m 09.3s |\n",
    "|Declinação| −33° 42' 33\" |\n"
   ]
  },
  {
   "cell_type": "markdown",
   "metadata": {},
   "source": [
    "\n",
    "\n",
    "A tabela abaixo traz os significados das colunas que vamos utilizar para fazer a consulta no banco de dados. A lista completa de colunas disponíveis na tabela **DES DR2** está disponível [nesta página](https://des.ncsa.illinois.edu/releases/dr2/dr2-products/dr2-schema). \n",
    "\n",
    "\n",
    "|Coluna | Significado |\n",
    "|---|---|\n",
    "|COADD_OBJECT_ID | Unique identifier for the coadded objects|\n",
    "|RA | Right ascension, with quantized precision for indexing (ALPHAWIN_J2000 has full precision but not indexed) [degrees]|\n",
    "|DEC | Declination, with quantized precision for indexing (DELTAWIN_J2000 has full precision but not indexed) [degrees] |\n",
    "|EXTENDED_CLASS_COADD |0: high confidence stars; 1: candidate stars; 2: mostly galaxies; 3: high confidence galaxies; -9: No data; Using Sextractor photometry |\n",
    "|FLAGS_{G,R,I,Z,Y}| Additive flag describing cautionary advice about source extraction process. Use less than 4 for well behaved objects |\n",
    "|MAG_AUTO_{G,R,I,Z,Y} | Magnitude estimation, for an elliptical model based on the Kron radius [mag] |\n",
    "|MAG_AUTO_{G,R,I,Z,Y}_DERED | Dereddened magnitude estimation (using SFD98), for an elliptical model based on the Kron radius [mag]|\n",
    "\n",
    "\n"
   ]
  },
  {
   "cell_type": "markdown",
   "metadata": {},
   "source": [
    "Para fazer uma busca pelas coordenadas no banco, precisamos converter as unidades para graus. Para isto, vamos usar a classe `SkyCoord` do módulo `astropy.coordinates` (veja detalhes na [documentação do Astropy](https://docs.astropy.org/en/stable/api/astropy.coordinates.SkyCoord.html)):"
   ]
  },
  {
   "cell_type": "code",
   "execution_count": 14,
   "metadata": {},
   "outputs": [
    {
     "data": {
      "text/plain": [
       "<SkyCoord (ICRS): (ra, dec) in deg\n",
       "    (15.03875, -33.70916667)>"
      ]
     },
     "execution_count": 14,
     "metadata": {},
     "output_type": "execute_result"
    }
   ],
   "source": [
    "c = SkyCoord('01h00m09.3s', '−33d42m33s', frame='icrs')\n",
    "c  "
   ]
  },
  {
   "cell_type": "code",
   "execution_count": 15,
   "metadata": {},
   "outputs": [
    {
     "name": "stdout",
     "output_type": "stream",
     "text": [
      "R.A.: 15.0 degrees\n",
      "Dec.: -33.7 degrees\n"
     ]
    }
   ],
   "source": [
    "print(f\"R.A.: {c.ra.deg:.1f} degrees\")\n",
    "print(f\"Dec.: {c.dec.deg:.1f} degrees\")"
   ]
  },
  {
   "cell_type": "markdown",
   "metadata": {},
   "source": [
    "Os dois exemplos abaixos mostram a consulta das magnitudes nas bandas _g, r, i_ corrigidas do avermelhamento (sufixo _dered_) e seus respectivos erros, para uma seleção de objetos classificados como estrelas (`extended_class_coadd < 2`, vide tabela acima)."
   ]
  },
  {
   "cell_type": "markdown",
   "metadata": {},
   "source": [
    "#### **Exemplo 1: seleção de uma região \"retangular\"**\n",
    "\n",
    "Para selecionar qualquer amostra com base nas coordenadas de posição, recomenda-se utilizar as funções da biblioteca [Q3C](https://github.com/segasai/q3c) ([Koposov, S., & Bartunov, O. 2006](http://adsabs.harvard.edu/abs/2006ASPC..351..735K)) para tirar vantagem da indexação das colunas. Uma busca por uma região no céu definida por faixas de coordenadas resultaria em uma varredura em todos os ~700 milhões de objetos, o que pode levar um tempo considerável!   \n",
    "\n",
    "\n",
    "Para consultar objetos dentro de uma região contida em um polígono, basta informar os vértices do polígono pra a função `q3c_poly_query()`. A documentação das funções está disponível no [repositório do Q3C](https://github.com/segasai/q3c).  "
   ]
  },
  {
   "cell_type": "markdown",
   "metadata": {},
   "source": [
    "Vamos selecionar as magnitudes de uma amostra de estrelas em uma região \"quadrada\" (na esfera celeste) de lado igual a 1 grau, ou seja, com uma margem de 0.5 graus em torno da posição do nosso alvo. \n",
    "\n",
    "**Vértices (ra, dec)**: (14.5, -34.2), (15.5, -34.2), (15.5, -33.2), (14.5, -33.2)\n",
    "\n",
    "A query ficaria assim (o uso de letras maiúsculas é opcional):  \n",
    "\n",
    "```sql \n",
    "SELECT coadd_object_id, ra ,dec, flags_g, mag_auto_g_dered, mag_auto_r_dered, \n",
    "        mag_auto_i_dered, magerr_auto_g, magerr_auto_r, magerr_auto_i \n",
    "FROM DES_DR2.MAIN \n",
    "WHERE q3c_poly_query(ra, dec, ARRAY[14.5, -34.2, 15.5, -34.2, 15.5, -33.2, 14.5, -33.2])\n",
    "AND extended_class_coadd < 2 \n",
    "````"
   ]
  },
  {
   "cell_type": "code",
   "execution_count": null,
   "metadata": {},
   "outputs": [],
   "source": [
    "query_1 = f\"SELECT coadd_object_id, ra ,dec, flags_g, mag_auto_g_dered, mag_auto_r_dered, mag_auto_i_dered, magerr_auto_g, magerr_auto_r, magerr_auto_i FROM {schema}.{tablename} WHERE q3c_poly_query(ra, dec, ARRAY[14.5, -34.2, 15.5, -34.2, 15.5, -33.2, 14.5, -33.2]) AND extended_class_coadd < 2 \"        \n",
    "query_1 "
   ]
  },
  {
   "cell_type": "code",
   "execution_count": null,
   "metadata": {},
   "outputs": [],
   "source": [
    "%%time\n",
    "dados_exemplo_1 = db.fetchall_df(query_1)"
   ]
  },
  {
   "cell_type": "code",
   "execution_count": null,
   "metadata": {},
   "outputs": [],
   "source": [
    "dados_exemplo_1.head()"
   ]
  },
  {
   "cell_type": "markdown",
   "metadata": {},
   "source": [
    "#### **Exemplo 2: seleção de uma região  circular com Q3C**  \n",
    "\n",
    "Para selecionar uma região circular, basta informar as coordenadas do centro da seleção e um raio (em graus) nos argumentos da função `q3c_radial_query()`. Para um diâmetro de 1 grau, a query ficaria assim:\n",
    "    \n",
    "```sql\n",
    "SELECT coadd_object_id, ra ,dec, flags_g, mag_auto_g_dered, mag_auto_r_dered, \n",
    "        mag_auto_i_dered, magerr_auto_g, magerr_auto_r, magerr_auto_i, \n",
    "FROM DES_DR2.MAIN \n",
    "WHERE q3c_radial_query(ra, dec, 15.0, -33.7, 0.5)\n",
    "AND extended_class_coadd < 2 \n",
    "````"
   ]
  },
  {
   "cell_type": "code",
   "execution_count": null,
   "metadata": {},
   "outputs": [],
   "source": [
    "query_2 = f\"SELECT coadd_object_id, ra ,dec, flags_g, mag_auto_g_dered, mag_auto_r_dered, mag_auto_i_dered, magerr_auto_g, magerr_auto_r, magerr_auto_i FROM {schema}.{tablename} WHERE q3c_radial_query(ra, dec, 15.0, -33.7, 0.5) AND extended_class_coadd < 2 \"\n",
    "query_2    "
   ]
  },
  {
   "cell_type": "code",
   "execution_count": null,
   "metadata": {},
   "outputs": [],
   "source": [
    "%%time\n",
    "dados_exemplo_2 = db.fetchall_df(query_2)"
   ]
  },
  {
   "cell_type": "code",
   "execution_count": null,
   "metadata": {},
   "outputs": [],
   "source": [
    "dados_exemplo_2.head()"
   ]
  },
  {
   "cell_type": "markdown",
   "metadata": {},
   "source": [
    "### Gráficos \n",
    "\n",
    "A seguir, veremos exemplos de gráficos estáticos básicos com a biblioteca Matplotlib. \n",
    "\n",
    "Documentação da biblioteca: [matplotlib.org](https://matplotlib.org/)\n",
    "\n",
    "Dicas: [Cheatsheets for Matplotlib users](https://github.com/matplotlib/cheatsheets#cheatsheets)"
   ]
  },
  {
   "cell_type": "markdown",
   "metadata": {},
   "source": [
    "#### Distribuição espacial"
   ]
  },
  {
   "cell_type": "code",
   "execution_count": null,
   "metadata": {},
   "outputs": [],
   "source": [
    "%%time\n",
    "plt.figure(figsize=[10,5], dpi=300)\n",
    "plt.suptitle(\"Stars from DES DR2\", fontsize=14)\n",
    "plt.subplot(1,2,1)\n",
    "plt.plot(dados_exemplo_1.ra, dados_exemplo_1.dec, 'k.', alpha=0.1)\n",
    "plt.xlabel(\"R.A. (deg)\", fontsize=14)\n",
    "plt.ylabel(\"Dec. (deg)\", fontsize=14)\n",
    "plt.xticks(fontsize=12)\n",
    "plt.yticks(fontsize=12)\n",
    "plt.subplot(1,2,2)\n",
    "plt.plot(dados_exemplo_2.ra, dados_exemplo_2.dec, 'k.', alpha=0.1)\n",
    "plt.xlabel(\"R.A. (deg)\", fontsize=14)\n",
    "plt.ylabel(\"Dec. (deg)\", fontsize=14)\n",
    "plt.xticks(fontsize=12)\n",
    "plt.yticks(fontsize=12)\n",
    "plt.tight_layout()"
   ]
  },
  {
   "cell_type": "markdown",
   "metadata": {},
   "source": [
    "#### Mapa de densidade"
   ]
  },
  {
   "cell_type": "code",
   "execution_count": null,
   "metadata": {},
   "outputs": [],
   "source": [
    "%%time\n",
    "plt.figure(figsize=[12,5], dpi=300)\n",
    "plt.suptitle(\"Stars from DES DR2\", fontsize=14)\n",
    "plt.subplot(1,2,1)\n",
    "plt.hist2d(dados_exemplo_1.ra, dados_exemplo_1.dec, bins=50)\n",
    "plt.xlabel(\"R.A. (deg)\", fontsize=14)\n",
    "plt.ylabel(\"Dec. (deg)\", fontsize=14)\n",
    "plt.colorbar(label=\"density of points\")\n",
    "plt.xticks(fontsize=12)\n",
    "plt.yticks(fontsize=12)\n",
    "plt.subplot(1,2,2)\n",
    "plt.hist2d(dados_exemplo_2.ra, dados_exemplo_2.dec, bins=50)\n",
    "plt.xlabel(\"R.A. (deg)\", fontsize=14)\n",
    "plt.ylabel(\"Dec. (deg)\", fontsize=14)\n",
    "plt.colorbar(label=\"density of points\")\n",
    "plt.xticks(fontsize=12)\n",
    "plt.yticks(fontsize=12)\n",
    "plt.tight_layout()"
   ]
  },
  {
   "cell_type": "markdown",
   "metadata": {},
   "source": [
    "*** "
   ]
  },
  {
   "cell_type": "markdown",
   "metadata": {},
   "source": [
    "Para o gráfico do CMD, vamos utilizar apenas o exemplo 2. "
   ]
  },
  {
   "cell_type": "code",
   "execution_count": null,
   "metadata": {},
   "outputs": [],
   "source": [
    "dados = dados_exemplo_2\n",
    "del dados_exemplo_1   # limpando da memória os dataframes\n",
    "del dados_exemplo_2   # que não vamos mais utilizar "
   ]
  },
  {
   "cell_type": "markdown",
   "metadata": {},
   "source": [
    "Por conveniência, podemos alterar os nomes de algumas colunas. "
   ]
  },
  {
   "cell_type": "code",
   "execution_count": null,
   "metadata": {},
   "outputs": [],
   "source": [
    "new_columns = {\"coadd_object_id\": \"object_id\",\n",
    "               \"mag_auto_g_dered\": \"mag_g\",\n",
    "               \"mag_auto_r_dered\": \"mag_r\",\n",
    "               \"mag_auto_i_dered\": \"mag_i\",\n",
    "               \"magerr_auto_g\": \"err_g\", \n",
    "               \"magerr_auto_r\": \"err_r\", \n",
    "               \"magerr_auto_i\": \"err_i\"}\n",
    "\n",
    "dados.rename(columns=new_columns, inplace=True)"
   ]
  },
  {
   "cell_type": "code",
   "execution_count": null,
   "metadata": {},
   "outputs": [],
   "source": [
    "dados.info()"
   ]
  },
  {
   "cell_type": "code",
   "execution_count": null,
   "metadata": {},
   "outputs": [],
   "source": [
    "dados.head()"
   ]
  },
  {
   "cell_type": "markdown",
   "metadata": {},
   "source": [
    "Cálculo da cor _g-r_ (nova coluna no _dataframe_ **dados**). "
   ]
  },
  {
   "cell_type": "code",
   "execution_count": null,
   "metadata": {},
   "outputs": [],
   "source": [
    "dados[\"gmr\"] = dados.mag_g - dados.mag_r"
   ]
  },
  {
   "cell_type": "code",
   "execution_count": null,
   "metadata": {},
   "outputs": [],
   "source": [
    "dados.head()"
   ]
  },
  {
   "cell_type": "markdown",
   "metadata": {},
   "source": [
    "Limpeza da amostra: vamos selecionar apenas estrelas com fotometria de boa qualidade na banda _g_ (`flags_g < 4`) e com medidas bem sucedidas nas magnitudes ($mag \\neq 99.$) . "
   ]
  },
  {
   "cell_type": "code",
   "execution_count": null,
   "metadata": {},
   "outputs": [],
   "source": [
    "dados.query(\"flags_g < 4  & mag_g != 99. & mag_r != 99. & mag_i != 99. \", inplace=True)"
   ]
  },
  {
   "cell_type": "code",
   "execution_count": null,
   "metadata": {},
   "outputs": [],
   "source": [
    "dados.count()"
   ]
  },
  {
   "cell_type": "code",
   "execution_count": null,
   "metadata": {},
   "outputs": [],
   "source": [
    "dados.describe()"
   ]
  },
  {
   "cell_type": "markdown",
   "metadata": {},
   "source": [
    "#### CMD de Estrelas no DES DR2"
   ]
  },
  {
   "cell_type": "code",
   "execution_count": null,
   "metadata": {},
   "outputs": [],
   "source": [
    "plt.figure(figsize=[7,5])\n",
    "plt.title(\"CMD - Stars from DES DR2\", fontsize=14)\n",
    "plt.hexbin(dados.gmr, dados.mag_r, gridsize=500, bins='log')\n",
    "plt.xlabel(\"$g - r$\", fontsize=14)\n",
    "plt.ylabel(\"$g$\", fontsize=14)\n",
    "plt.colorbar(label=\"density of points\")\n",
    "plt.xticks(fontsize=12)\n",
    "plt.yticks(fontsize=12)\n",
    "plt.xlim(-1.5,2.5)\n",
    "plt.ylim(24,16)\n",
    "plt.tight_layout()"
   ]
  },
  {
   "cell_type": "markdown",
   "metadata": {
    "tags": []
   },
   "source": [
    "## 3. LIneA User Query"
   ]
  },
  {
   "cell_type": "markdown",
   "metadata": {},
   "source": [
    "<font color=\"red\" > Em breve! </font>"
   ]
  },
  {
   "cell_type": "markdown",
   "metadata": {},
   "source": [
    "--- \n",
    "\n",
    "Gostaria de sugerir alguma correção ou melhoria neste _notebook_? \n",
    "\n",
    "Fique à vontade para abrir um _issue_ no repositório [jupyterhub-tutorial](https://github.com/linea-it/jupyterhub-tutorial/issues) da organização [LIneA IT](https://github.com/linea-it/) no GitHub.  \n"
   ]
  }
 ],
 "metadata": {
  "kernelspec": {
   "display_name": "Python 3 (ipykernel)",
   "language": "python",
   "name": "python3"
  },
  "language_info": {
   "codemirror_mode": {
    "name": "ipython",
    "version": 3
   },
   "file_extension": ".py",
   "mimetype": "text/x-python",
   "name": "python",
   "nbconvert_exporter": "python",
   "pygments_lexer": "ipython3",
   "version": "3.10.10"
  }
 },
 "nbformat": 4,
 "nbformat_minor": 4
}
