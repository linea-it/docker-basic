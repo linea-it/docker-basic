{
 "cells": [
  {
   "cell_type": "markdown",
   "metadata": {},
   "source": [
    "\n",
    "<img align=\"left\" src = images/linea.png width=150 style=\"padding: 20px\"> <br> \n",
    "<img align=\"left\" src = https://jupyter.org/assets/homepage/hublogo.svg width=200 style=\"padding: 20px\"> <br> \n",
    "\n",
    "# JupyterHub Tutorial\n",
    "\n",
    "<br>\n",
    "<br>\n",
    "\n",
    "\n",
    "## Notebook 2 - Acesso a dados\n",
    "\n",
    "\n",
    "\n",
    "Contato: Julia Gschwend (julia@linea.org.br)\n",
    "\n",
    "Última verificação: 06/08/2024\n",
    "***\n"
   ]
  },
  {
   "cell_type": "markdown",
   "metadata": {},
   "source": [
    "Bem vindo(a) ao LIneA JupyterHub! \n",
    "\n",
    "O LIneA JupyterHub oferece acesso a dados públicos disponíveis online e a dados privados de levantamentos fotométricos cuja participação de cientistas brasileiros com _data rights_ é apoiada pelo LIneA. Neste notebook vamos exemplificar o acesso aos dados públicos do levantamento _Dark Energy Survey_ (DES). Caso precise de ajuda, entre em contato pelo e-mail: [helpdesk@linea.org.br](mailto:helpdesk@linea.org.br)\n",
    "\n",
    "\n",
    "## 1. Sobre os dados"
   ]
  },
  {
   "cell_type": "markdown",
   "metadata": {},
   "source": [
    "<img align=\"left\" src=https://www.darkenergysurvey.org/wp-content/uploads/2016/01/des-logo-rev-lg.png width=400 style=\"background-color:black; padding: 20px\">"
   ]
  },
  {
   "cell_type": "markdown",
   "metadata": {},
   "source": [
    "\n",
    "<img align=\"left\" src=https://www.darkenergysurvey.org/wp-content/uploads/2016/05/12-0333-22D.jpg width=400 style=\"background-color:black; padding: 20px; margin-right: 2em\"> <br>\n",
    "\n",
    "\n"
   ]
  },
  {
   "cell_type": "markdown",
   "metadata": {},
   "source": [
    "O [Dark Energy Survey (DES)](https://www.darkenergysurvey.org/) é um levantamento fotométrico em 5 bandas do ótico ao infravermelho (_grizY_) que tem como principal objetivo a determinação da equação de estado da energia escura. O DES observou ~700 milhões de objetos detectados em ~5000 graus quadrados no hemisfério sul durante 6 anos. Os artigos com os principais resultados da análise dos dados dos três primeiros anos de observação estão disponíveis [nesta página](https://www.darkenergysurvey.org/des-year-3-cosmology-results-papers/).  \n",
    "<img align=\"center\" src=https://www.darkenergysurvey.org/wp-content/uploads/2021/06/dr2_footprint.png  width=500 style=\"padding: 20px\"> <br> \n",
    "Figura: Footprint Data Release 2 (fonte: [www.darkenergysurvey.org](https://www.darkenergysurvey.org/wp-content/uploads/2021/06/dr2_footprint.png)).  \n",
    "\n",
    "O [segundo _data release_ (DR2)](https://des.ncsa.illinois.edu/releases/dr2), já contendo os dados dos seis anos de observação, está disponível para público e pode ser acessado pelo [LIneA Science Server](https://desportal2.cosmology.illinois.edu/sky/) ou aqui pelo JupyterHub, como veremos a seguir."
   ]
  },
  {
   "cell_type": "markdown",
   "metadata": {},
   "source": [
    "## 2. Acesso ao banco de dados "
   ]
  },
  {
   "cell_type": "markdown",
   "metadata": {},
   "source": [
    "Dentro da plataforma LIneA JupyterHub, o acesso ao banco de dados é feito através da biblioteca [dblinea](https://github.com/linea-it/dblinea). Confira a documentação completa da biblioteca [neste link](https://dblinea.readthedocs.io/en/latest/index.html).\n",
    "\n",
    "\n",
    "Instalação da biblioteca `dblinea`: "
   ]
  },
  {
   "cell_type": "code",
   "execution_count": null,
   "metadata": {
    "tags": []
   },
   "outputs": [],
   "source": [
    "! pip install dblinea"
   ]
  },
  {
   "cell_type": "markdown",
   "metadata": {},
   "source": [
    "Nos exemplos abaixo, também vamos usar a biblioteca [Astropy](https://docs.astropy.org/en/stable/). As demais bibliotecas utilizadas já estão disponíveis na instalação original do JupyterHub. \n",
    "\n",
    "Instalação da biblioteca `astropy`: "
   ]
  },
  {
   "cell_type": "code",
   "execution_count": null,
   "metadata": {
    "tags": []
   },
   "outputs": [],
   "source": [
    "! pip install astropy"
   ]
  },
  {
   "cell_type": "code",
   "execution_count": null,
   "metadata": {},
   "outputs": [],
   "source": [
    "import matplotlib.pyplot as plt\n",
    "import pandas as pd\n",
    "from astropy import units as u\n",
    "from astropy.coordinates import SkyCoord\n",
    "\n",
    "from dblinea import DBBase\n",
    "\n",
    "%reload_ext autoreload\n",
    "%autoreload 2"
   ]
  },
  {
   "cell_type": "markdown",
   "metadata": {},
   "source": [
    "**Leitura dos dados**\n"
   ]
  },
  {
   "cell_type": "markdown",
   "metadata": {},
   "source": [
    "A classe `DBBase` faz a conexão com o banco de dados e oferece algumas funcionalidades como veremos a seguir. Nos exemplos abaixo, vamos utilizar o objeto `db` para acessar os dados e metadados da tabela \"**main**\" do segundo _release_ (**DR2**) do levantamento **DES**. "
   ]
  },
  {
   "cell_type": "code",
   "execution_count": null,
   "metadata": {},
   "outputs": [],
   "source": [
    "db = DBBase()"
   ]
  },
  {
   "cell_type": "code",
   "execution_count": null,
   "metadata": {},
   "outputs": [],
   "source": [
    "schema = \"des_dr2\"  \n",
    "tablename = \"main\""
   ]
  },
  {
   "cell_type": "markdown",
   "metadata": {},
   "source": [
    "O método `get_table_columns` retorna a lista de colunas disponíveis na tabela: "
   ]
  },
  {
   "cell_type": "code",
   "execution_count": null,
   "metadata": {
    "scrolled": true,
    "tags": []
   },
   "outputs": [],
   "source": [
    "db.get_table_columns(tablename, schema=schema)"
   ]
  },
  {
   "cell_type": "markdown",
   "metadata": {},
   "source": [
    "O método `describe_table` retorna o tipo de dado em cada coluna: "
   ]
  },
  {
   "cell_type": "code",
   "execution_count": null,
   "metadata": {
    "scrolled": true,
    "tags": []
   },
   "outputs": [],
   "source": [
    "db.describe_table(tablename, schema=schema)"
   ]
  },
  {
   "cell_type": "markdown",
   "metadata": {
    "tags": []
   },
   "source": [
    "A função `fetchall(query)` faz a consulta no banco de dados e retorna uma **lista de tuplas** com os dados referentes à _query_ fornecida no argumento. Por exemplo, vamos consultar o identificador único (`coadd_object_id`) e as coordenadas equatoriais dos objetos nas 10 primeiras linhas da tabela.  "
   ]
  },
  {
   "cell_type": "code",
   "execution_count": null,
   "metadata": {},
   "outputs": [],
   "source": [
    "query = f\"SELECT coadd_object_id, ra, dec FROM {schema}.{tablename} limit 10\"\n",
    "lista_10_objetos = db.fetchall(query)\n",
    "lista_10_objetos"
   ]
  },
  {
   "cell_type": "markdown",
   "metadata": {
    "tags": []
   },
   "source": [
    "A função `fetchall_dict(query)` faz a consulta no banco de dados e retorna uma **lista de dicionários** com os dados referentes à _query_ fornecida no argumento. Vamos repetir a consulta do exemplo anterior, ou seja, vamos utilizar o mesmo _SQL statement_ atribuído à variável `query`.    "
   ]
  },
  {
   "cell_type": "code",
   "execution_count": null,
   "metadata": {},
   "outputs": [],
   "source": [
    "dict_10_objetos = db.fetchall_dict(query)\n",
    "dict_10_objetos"
   ]
  },
  {
   "cell_type": "markdown",
   "metadata": {
    "tags": []
   },
   "source": [
    "A função `fetchall_df(query)` faz a consulta no banco de dados e retorna um objeto do tipo [**pandas.DataFrame**](https://pandas.pydata.org/docs/reference/api/pandas.DataFrame.html) com os dados referentes à _query_ fornecida no argumento. Vamos repetir a consulta dos exemplo anteriores:"
   ]
  },
  {
   "cell_type": "code",
   "execution_count": null,
   "metadata": {},
   "outputs": [],
   "source": [
    "dataframe_10_objetos = db.fetchall_df(query)\n",
    "dataframe_10_objetos"
   ]
  },
  {
   "cell_type": "markdown",
   "metadata": {
    "tags": []
   },
   "source": [
    "### Exemplos "
   ]
  },
  {
   "cell_type": "markdown",
   "metadata": {},
   "source": [
    "Para ilustrar a visualização de uma pequena amostra de dados, vamos construir o diagrama cor-magnitude com as estrelas da [galáxia anã de Sculptor](https://en.wikipedia.org/wiki/Sculptor_Dwarf_Galaxy). \n",
    "\n",
    "|Coordenadas Equatoriais| |\n",
    "|:-- |--- | \n",
    "|Ascensão Reta| 01h 00m 09.3s |\n",
    "|Declinação| −33° 42' 33\" |\n"
   ]
  },
  {
   "cell_type": "markdown",
   "metadata": {},
   "source": [
    "\n",
    "\n",
    "A tabela abaixo traz os significados das colunas que vamos utilizar para fazer a consulta no banco de dados. A lista completa de colunas disponíveis na tabela **DES DR2** está disponível [nesta página](https://des.ncsa.illinois.edu/releases/dr2/dr2-products/dr2-schema). \n",
    "\n",
    "\n",
    "|Coluna | Significado |\n",
    "|---|---|\n",
    "|COADD_OBJECT_ID | Unique identifier for the coadded objects|\n",
    "|RA | Right ascension, with quantized precision for indexing (ALPHAWIN_J2000 has full precision but not indexed) [degrees]|\n",
    "|DEC | Declination, with quantized precision for indexing (DELTAWIN_J2000 has full precision but not indexed) [degrees] |\n",
    "|EXTENDED_CLASS_COADD |0: high confidence stars; 1: candidate stars; 2: mostly galaxies; 3: high confidence galaxies; -9: No data; Using Sextractor photometry |\n",
    "|FLAGS_{G,R,I,Z,Y}| Additive flag describing cautionary advice about source extraction process. Use less than 4 for well behaved objects |\n",
    "|MAG_AUTO_{G,R,I,Z,Y} | Magnitude estimation, for an elliptical model based on the Kron radius [mag] |\n",
    "|MAG_AUTO_{G,R,I,Z,Y}_DERED | Dereddened magnitude estimation (using SFD98), for an elliptical model based on the Kron radius [mag]|\n",
    "\n",
    "\n"
   ]
  },
  {
   "cell_type": "markdown",
   "metadata": {},
   "source": [
    "Para fazer uma busca pelas coordenadas no banco, precisamos converter as unidades para graus. Para isto, vamos usar a classe `SkyCoord` do módulo `astropy.coordinates` (veja detalhes na [documentação do Astropy](https://docs.astropy.org/en/stable/api/astropy.coordinates.SkyCoord.html)):"
   ]
  },
  {
   "cell_type": "code",
   "execution_count": null,
   "metadata": {},
   "outputs": [],
   "source": [
    "c = SkyCoord('01h00m09.3s', '−33d42m33s', frame='icrs')\n",
    "c  "
   ]
  },
  {
   "cell_type": "code",
   "execution_count": null,
   "metadata": {},
   "outputs": [],
   "source": [
    "print(f\"R.A.: {c.ra.deg:.1f} degrees\")\n",
    "print(f\"Dec.: {c.dec.deg:.1f} degrees\")"
   ]
  },
  {
   "cell_type": "markdown",
   "metadata": {},
   "source": [
    "Os dois exemplos abaixos mostram a consulta das magnitudes nas bandas _g, r, i_ corrigidas do avermelhamento (sufixo _dered_) e seus respectivos erros, para uma seleção de objetos classificados como estrelas (`extended_class_coadd < 2`, vide tabela acima)."
   ]
  },
  {
   "cell_type": "markdown",
   "metadata": {},
   "source": [
    "#### **Exemplo 1: seleção de uma região \"retangular\"**\n",
    "\n",
    "Para selecionar qualquer amostra com base nas coordenadas de posição, recomenda-se utilizar as funções da biblioteca [Q3C](https://github.com/segasai/q3c) ([Koposov, S., & Bartunov, O. 2006](http://adsabs.harvard.edu/abs/2006ASPC..351..735K)) para tirar vantagem da indexação das colunas. Uma busca por uma região no céu definida por faixas de coordenadas resultaria em uma varredura em todos os ~700 milhões de objetos, o que pode levar um tempo considerável!   \n",
    "\n",
    "\n",
    "Para consultar objetos dentro de uma região contida em um polígono, basta informar os vértices do polígono pra a função `q3c_poly_query()`. A documentação das funções está disponível no [repositório do Q3C](https://github.com/segasai/q3c).  "
   ]
  },
  {
   "cell_type": "markdown",
   "metadata": {},
   "source": [
    "Vamos selecionar as magnitudes de uma amostra de estrelas em uma região \"quadrada\" (na esfera celeste) de lado igual a 1 grau, ou seja, com uma margem de 0.5 graus em torno da posição do nosso alvo. \n",
    "\n",
    "**Vértices (ra, dec)**: (14.5, -34.2), (15.5, -34.2), (15.5, -33.2), (14.5, -33.2)\n",
    "\n",
    "A query ficaria assim (o uso de letras maiúsculas é opcional):  \n",
    "\n",
    "```sql \n",
    "SELECT coadd_object_id, ra ,dec, flags_g, mag_auto_g_dered, mag_auto_r_dered, \n",
    "        mag_auto_i_dered, magerr_auto_g, magerr_auto_r, magerr_auto_i \n",
    "FROM DES_DR2.MAIN \n",
    "WHERE q3c_poly_query(ra, dec, ARRAY[14.5, -34.2, 15.5, -34.2, 15.5, -33.2, 14.5, -33.2])\n",
    "AND extended_class_coadd < 2 \n",
    "````"
   ]
  },
  {
   "cell_type": "code",
   "execution_count": null,
   "metadata": {},
   "outputs": [],
   "source": [
    "query_1 = f\"SELECT coadd_object_id, ra ,dec, flags_g, mag_auto_g_dered, mag_auto_r_dered, mag_auto_i_dered, magerr_auto_g, magerr_auto_r, magerr_auto_i FROM {schema}.{tablename} WHERE q3c_poly_query(ra, dec, ARRAY[14.5, -34.2, 15.5, -34.2, 15.5, -33.2, 14.5, -33.2]) AND extended_class_coadd < 2 \"        \n",
    "query_1 "
   ]
  },
  {
   "cell_type": "code",
   "execution_count": null,
   "metadata": {},
   "outputs": [],
   "source": [
    "%%time\n",
    "dados_exemplo_1 = db.fetchall_df(query_1)"
   ]
  },
  {
   "cell_type": "code",
   "execution_count": null,
   "metadata": {},
   "outputs": [],
   "source": [
    "dados_exemplo_1.head()"
   ]
  },
  {
   "cell_type": "markdown",
   "metadata": {},
   "source": [
    "#### **Exemplo 2: seleção de uma região  circular com Q3C**  \n",
    "\n",
    "Para selecionar uma região circular, basta informar as coordenadas do centro da seleção e um raio (em graus) nos argumentos da função `q3c_radial_query()`. Para um diâmetro de 1 grau, a query ficaria assim:\n",
    "    \n",
    "```sql\n",
    "SELECT coadd_object_id, ra ,dec, flags_g, mag_auto_g_dered, mag_auto_r_dered, \n",
    "        mag_auto_i_dered, magerr_auto_g, magerr_auto_r, magerr_auto_i, \n",
    "FROM DES_DR2.MAIN \n",
    "WHERE q3c_radial_query(ra, dec, 15.0, -33.7, 0.5)\n",
    "AND extended_class_coadd < 2 \n",
    "````"
   ]
  },
  {
   "cell_type": "code",
   "execution_count": null,
   "metadata": {},
   "outputs": [],
   "source": [
    "query_2 = f\"SELECT coadd_object_id, ra ,dec, flags_g, mag_auto_g_dered, mag_auto_r_dered, mag_auto_i_dered, magerr_auto_g, magerr_auto_r, magerr_auto_i FROM {schema}.{tablename} WHERE q3c_radial_query(ra, dec, 15.0, -33.7, 0.5) AND extended_class_coadd < 2 \"\n",
    "query_2    "
   ]
  },
  {
   "cell_type": "code",
   "execution_count": null,
   "metadata": {},
   "outputs": [],
   "source": [
    "%%time\n",
    "dados_exemplo_2 = db.fetchall_df(query_2)"
   ]
  },
  {
   "cell_type": "code",
   "execution_count": null,
   "metadata": {},
   "outputs": [],
   "source": [
    "dados_exemplo_2.head()"
   ]
  },
  {
   "cell_type": "markdown",
   "metadata": {},
   "source": [
    "### Gráficos \n",
    "\n",
    "A seguir, veremos exemplos de gráficos estáticos básicos com a biblioteca Matplotlib. \n",
    "\n",
    "Documentação da biblioteca: [matplotlib.org](https://matplotlib.org/)\n",
    "\n",
    "Dicas: [Cheatsheets for Matplotlib users](https://github.com/matplotlib/cheatsheets#cheatsheets)"
   ]
  },
  {
   "cell_type": "markdown",
   "metadata": {},
   "source": [
    "#### Distribuição espacial"
   ]
  },
  {
   "cell_type": "code",
   "execution_count": null,
   "metadata": {},
   "outputs": [],
   "source": [
    "%%time\n",
    "plt.figure(figsize=[10,5], dpi=300)\n",
    "plt.suptitle(\"Stars from DES DR2\", fontsize=14)\n",
    "plt.subplot(1,2,1)\n",
    "plt.plot(dados_exemplo_1.ra, dados_exemplo_1.dec, 'k.', alpha=0.1)\n",
    "plt.xlabel(\"R.A. (deg)\", fontsize=14)\n",
    "plt.ylabel(\"Dec. (deg)\", fontsize=14)\n",
    "plt.xticks(fontsize=12)\n",
    "plt.yticks(fontsize=12)\n",
    "plt.subplot(1,2,2)\n",
    "plt.plot(dados_exemplo_2.ra, dados_exemplo_2.dec, 'k.', alpha=0.1)\n",
    "plt.xlabel(\"R.A. (deg)\", fontsize=14)\n",
    "plt.ylabel(\"Dec. (deg)\", fontsize=14)\n",
    "plt.xticks(fontsize=12)\n",
    "plt.yticks(fontsize=12)\n",
    "plt.tight_layout()"
   ]
  },
  {
   "cell_type": "markdown",
   "metadata": {},
   "source": [
    "#### Mapa de densidade"
   ]
  },
  {
   "cell_type": "code",
   "execution_count": null,
   "metadata": {},
   "outputs": [],
   "source": [
    "%%time\n",
    "plt.figure(figsize=[12,5], dpi=300)\n",
    "plt.suptitle(\"Stars from DES DR2\", fontsize=14)\n",
    "plt.subplot(1,2,1)\n",
    "plt.hist2d(dados_exemplo_1.ra, dados_exemplo_1.dec, bins=50)\n",
    "plt.xlabel(\"R.A. (deg)\", fontsize=14)\n",
    "plt.ylabel(\"Dec. (deg)\", fontsize=14)\n",
    "plt.colorbar(label=\"density of points\")\n",
    "plt.xticks(fontsize=12)\n",
    "plt.yticks(fontsize=12)\n",
    "plt.subplot(1,2,2)\n",
    "plt.hist2d(dados_exemplo_2.ra, dados_exemplo_2.dec, bins=50)\n",
    "plt.xlabel(\"R.A. (deg)\", fontsize=14)\n",
    "plt.ylabel(\"Dec. (deg)\", fontsize=14)\n",
    "plt.colorbar(label=\"density of points\")\n",
    "plt.xticks(fontsize=12)\n",
    "plt.yticks(fontsize=12)\n",
    "plt.tight_layout()"
   ]
  },
  {
   "cell_type": "markdown",
   "metadata": {},
   "source": [
    "*** "
   ]
  },
  {
   "cell_type": "markdown",
   "metadata": {},
   "source": [
    "Para o gráfico do CMD, vamos utilizar apenas o exemplo 2. "
   ]
  },
  {
   "cell_type": "code",
   "execution_count": null,
   "metadata": {},
   "outputs": [],
   "source": [
    "dados = dados_exemplo_2\n",
    "del dados_exemplo_1   # limpando da memória os dataframes\n",
    "del dados_exemplo_2   # que não vamos mais utilizar "
   ]
  },
  {
   "cell_type": "markdown",
   "metadata": {},
   "source": [
    "Por conveniência, podemos alterar os nomes de algumas colunas. "
   ]
  },
  {
   "cell_type": "code",
   "execution_count": null,
   "metadata": {},
   "outputs": [],
   "source": [
    "new_columns = {\"coadd_object_id\": \"object_id\",\n",
    "               \"mag_auto_g_dered\": \"mag_g\",\n",
    "               \"mag_auto_r_dered\": \"mag_r\",\n",
    "               \"mag_auto_i_dered\": \"mag_i\",\n",
    "               \"magerr_auto_g\": \"err_g\", \n",
    "               \"magerr_auto_r\": \"err_r\", \n",
    "               \"magerr_auto_i\": \"err_i\"}\n",
    "\n",
    "dados.rename(columns=new_columns, inplace=True)"
   ]
  },
  {
   "cell_type": "code",
   "execution_count": null,
   "metadata": {},
   "outputs": [],
   "source": [
    "dados.info()"
   ]
  },
  {
   "cell_type": "code",
   "execution_count": null,
   "metadata": {},
   "outputs": [],
   "source": [
    "dados.head()"
   ]
  },
  {
   "cell_type": "markdown",
   "metadata": {},
   "source": [
    "Cálculo da cor _g-r_ (nova coluna no _dataframe_ **dados**). "
   ]
  },
  {
   "cell_type": "code",
   "execution_count": null,
   "metadata": {},
   "outputs": [],
   "source": [
    "dados[\"gmr\"] = dados.mag_g - dados.mag_r"
   ]
  },
  {
   "cell_type": "code",
   "execution_count": null,
   "metadata": {},
   "outputs": [],
   "source": [
    "dados.head()"
   ]
  },
  {
   "cell_type": "markdown",
   "metadata": {},
   "source": [
    "Limpeza da amostra: vamos selecionar apenas estrelas com fotometria de boa qualidade na banda _g_ (`flags_g < 4`) e com medidas bem sucedidas nas magnitudes ($mag \\neq 99.$) . "
   ]
  },
  {
   "cell_type": "code",
   "execution_count": null,
   "metadata": {},
   "outputs": [],
   "source": [
    "dados.query(\"flags_g < 4  & mag_g != 99. & mag_r != 99. & mag_i != 99. \", inplace=True)"
   ]
  },
  {
   "cell_type": "code",
   "execution_count": null,
   "metadata": {},
   "outputs": [],
   "source": [
    "dados.count()"
   ]
  },
  {
   "cell_type": "code",
   "execution_count": null,
   "metadata": {},
   "outputs": [],
   "source": [
    "dados.describe()"
   ]
  },
  {
   "cell_type": "markdown",
   "metadata": {},
   "source": [
    "#### CMD de Estrelas no DES DR2"
   ]
  },
  {
   "cell_type": "code",
   "execution_count": null,
   "metadata": {},
   "outputs": [],
   "source": [
    "plt.figure(figsize=[7,5])\n",
    "plt.title(\"CMD - Stars from DES DR2\", fontsize=14)\n",
    "plt.hexbin(dados.gmr, dados.mag_r, gridsize=500, bins='log')\n",
    "plt.xlabel(\"$g - r$\", fontsize=14)\n",
    "plt.ylabel(\"$g$\", fontsize=14)\n",
    "plt.colorbar(label=\"density of points\")\n",
    "plt.xticks(fontsize=12)\n",
    "plt.yticks(fontsize=12)\n",
    "plt.xlim(-1.5,2.5)\n",
    "plt.ylim(24,16)\n",
    "plt.tight_layout()"
   ]
  },
  {
   "cell_type": "markdown",
   "metadata": {
    "tags": []
   },
   "source": [
    "## 3. LIneA User Query"
   ]
  },
  {
   "cell_type": "markdown",
   "metadata": {},
   "source": [
    "<font color=\"red\" > Em breve! </font>"
   ]
  },
  {
   "cell_type": "markdown",
   "metadata": {},
   "source": [
    "--- \n",
    "\n",
    "Gostaria de sugerir alguma correção ou melhoria neste _notebook_? \n",
    "\n",
    "Fique à vontade para abrir um _issue_ no repositório [jupyterhub-tutorial](https://github.com/linea-it/jupyterhub-tutorial/issues) da organização [LIneA IT](https://github.com/linea-it/) no GitHub.  \n"
   ]
  }
 ],
 "metadata": {
  "kernelspec": {
   "display_name": "Python 3 (ipykernel)",
   "language": "python",
   "name": "python3"
  },
  "language_info": {
   "codemirror_mode": {
    "name": "ipython",
    "version": 3
   },
   "file_extension": ".py",
   "mimetype": "text/x-python",
   "name": "python",
   "nbconvert_exporter": "python",
   "pygments_lexer": "ipython3",
   "version": "3.10.10"
  }
 },
 "nbformat": 4,
 "nbformat_minor": 4
}
