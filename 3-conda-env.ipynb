{
 "cells": [
  {
   "cell_type": "markdown",
   "metadata": {},
   "source": [
    "\n",
    "<img align=\"left\" src = https://www.linea.org.br/wp-content/themes/LIneA/imagens/logo-header.png width=120 style=\"padding: 20px\"> <br> \n",
    "<img align=\"left\" src = https://jupyter.org/assets/homepage/hublogo.svg width=200 style=\"padding: 20px\"> <br> \n",
    "<br>\n",
    "<br>\n",
    "<br>\n",
    "<br>\n",
    "\n",
    "# JupyterHub Tutorial \n",
    "## Notebook 3 - Gerenciamento de bibliotecas com o Conda\n",
    "\n",
    "Última verificação: 22/11/2022\n",
    "\n",
    "Julia Gschwend\n",
    "\n",
    "***\n"
   ]
  },
  {
   "cell_type": "markdown",
   "metadata": {},
   "source": [
    "Bem vindo(a) ao LIneA JupyterHub! \n",
    "\n",
    "A instalação padrão do LIneA JupyterHub é baseada em uma extensão da imagem [_datascience-notebook_](https://github.com/jupyter/docker-stacks) \n",
    "que já oferece os três kernels [Python](https://www.python.org), [Julia](https://julialang.org) e [R](https://www.r-project.org), com as principais bibliotecas de ciência de dados e as bibliotecas [Astropy](https://docs.astropy.org/en/stable/) e [dblinea](https://dblinea.readthedocs.io/). Para saber mais sobre como utilizar a biblioteca **dblinea** para acessar os dados hospedados no LIneA, veja o _notebook_ [2-acesso-a-dados.ipynb](./2-acesso-a-dados.ipynb) neste mesmo repositório. \n",
    "\n"
   ]
  },
  {
   "cell_type": "markdown",
   "metadata": {},
   "source": [
    "## 1. Trabalhando no ambiente _base_ \n",
    "\n",
    "\n",
    "O gerenciamento de pacotes e bibliotecas no LIneA JupyterHub é feito com o sistema [conda](https://conda.io/projects/conda/en/latest/index.html).  Ao acessar o JupyterHub você encontrará o ambiente _default_ do sistema conda chamado _base_. A lista de bibliotecas disponíveis no ambiente vigente (_base_) pode ser acessada com o comando:\n",
    "\n",
    "```shell\n",
    "conda list\n",
    "```"
   ]
  },
  {
   "cell_type": "code",
   "execution_count": null,
   "metadata": {
    "scrolled": true
   },
   "outputs": [],
   "source": [
    "! conda list "
   ]
  },
  {
   "cell_type": "markdown",
   "metadata": {
    "jp-MarkdownHeadingCollapsed": true,
    "tags": []
   },
   "source": [
    "Caso você não encontre nesta lista a(s) biblioteca(s) necessária(s) para a sua aplicação, você poderá instalá-las via **Terminal** ou dentro de uma célula do _notebook_ (iniciando o comando com \"!\"), usando os comandos `pip install` ou `conda install`. Por exemplo, vamos instalar a biblioteca [Astroquery](https://astroquery.readthedocs.io/):  \n"
   ]
  },
  {
   "cell_type": "code",
   "execution_count": null,
   "metadata": {
    "scrolled": true
   },
   "outputs": [],
   "source": [
    "! pip install astroquery"
   ]
  },
  {
   "cell_type": "markdown",
   "metadata": {},
   "source": [
    "Vamos repetir o comando `! conda list` para verificar a adição da nova biblioteca à lista. "
   ]
  },
  {
   "cell_type": "code",
   "execution_count": null,
   "metadata": {
    "scrolled": true
   },
   "outputs": [],
   "source": [
    "! conda list "
   ]
  },
  {
   "cell_type": "markdown",
   "metadata": {},
   "source": [
    "Agora já podemos importá-la:"
   ]
  },
  {
   "cell_type": "code",
   "execution_count": null,
   "metadata": {},
   "outputs": [],
   "source": [
    "import astroquery"
   ]
  },
  {
   "cell_type": "markdown",
   "metadata": {},
   "source": [
    "\n",
    "***\n",
    "\n",
    "Por _default_, o ambiente _base_ fica salvo no diretório `/opt/conda` que é criado temporariamente junto com a sua sessão no JupyterHub. Este diretório é destruído quando a sessão termina. \n",
    "\n",
    "<font color='red'>ATENÇÃO: </font> As bibliotecas instaladas no ambiente _base_ ficarão disponíveis apenas durante a sessão atual. Quando você se desconectar e fizer \"_spawn_\" novamente, ou seja, reiniciar o servidor no painel de controle, encontrará apenas o ambiente _base_ \"limpo\" (apenas com as bibliotecas da instalação _default_). "
   ]
  },
  {
   "cell_type": "markdown",
   "metadata": {},
   "source": [
    "## 2. Criando um ambiente novo (avançado)\n",
    "\n",
    "Caso você participe de diferentes projetos que requerem diferentes versões de bibliotecas, recomendamos que crie um novo ambiente (ou mais de um) contendo as bibliotecas com as versões desejadas. Para saber mais sobre os ambientes no conda, acesse a documentação [neste link](https://conda.io/projects/conda/en/latest/user-guide/tasks/manage-environments.html). Um resumo dos comandos mais importantes do conda está disponível na tabela [CONDA CHEATSHEET](https://docs.conda.io/projects/conda/en/4.6.0/_downloads/52a95608c49671267e40c689e0bc00ca/conda-cheatsheet.pdf). \n",
    " \n",
    "Para que os ambientes criados continuem disponíveis em futuras sessões do JupyterHub, ao invés de ficarem guardados no diretório `/opt/conda`, eles devem ser salvos em locais persistentes como, por exemplo, a _home_ do usuário. Se você é um usuário com perfil ouro, prata, ou membro de colaboração, poderá contar com este recurso. **Se você é um usuário do serviço aberto ao público (usuários com perfil bronze), o seu diretório home também é destruído a cada fim de sessão e recriado a cada início de sessão. Portanto, todas as instalações de pacotes e ambientes criados são válidos apenas para a sessão atual.** \n",
    "\n",
    "Para listar os ambientes disponíveis e os respectivos locais onde estão salvos utilize o comando:\n",
    "\n",
    "\n",
    " "
   ]
  },
  {
   "cell_type": "code",
   "execution_count": null,
   "metadata": {},
   "outputs": [],
   "source": [
    "! conda env list"
   ]
  },
  {
   "cell_type": "markdown",
   "metadata": {},
   "source": [
    "Se você estiver acessando pela primeira vez, vai encontrar apenas o ambiente \"_base_\". "
   ]
  },
  {
   "cell_type": "markdown",
   "metadata": {},
   "source": [
    "Para criar um ambiente novo e deixá-lo disponível para ser usado como um kernel no notebook, esta é a sequência de comandos:\n",
    "\n",
    "```bash\n",
    "$ conda create -p [full_path/env_name] [libraries (optional)] \n",
    "$ conda activate [env_name]\n",
    "$ conda install -c anaconda ipykernel\n",
    "$ python -m ipykernel install --user --name=[env_name]\n",
    "```\n",
    "\n",
    "No exemplo abaixo vamos executá-los e comentar o que cada um deles significa. "
   ]
  },
  {
   "cell_type": "markdown",
   "metadata": {},
   "source": [
    "***\n",
    "\n",
    "\n",
    "<font color='red'>ATENÇÃO: </font> os comandos abaixo deverão ser executados no Terminal. Na seção anterior usamos o \"!\" no início da célula como um atalho para rodar os comandos do Terminal a partir do notebook. Para os próximos passos, como vamos gerenciar ambientes no _conda_, será necessário trabalhar diretamente no Terminal. Abra um **Terminal** pelo _Launcher_ (clique no botão \"+\" no canto superior esquerdo e em seguida no card \"Terminal\"), ou pelo menu do Jupyter Lab em: `File > New > Terminal`. \n",
    "\n",
    "***\n",
    "\n",
    "<font color='green'>DICA: </font> para ver o Terminal e este _notebook_ ao mesmo tempo, clique em uma das abas (a aba to Terminal ou a deste notebook) e arraste com o cursor para o lado e para baixo. Uma sombra azul aparecerá delimitando a região que a aba vai ocupar parcialmente a tela. Solte o cursor quando a sombra estiver na posição desejada.\n",
    "\n",
    "***\n",
    "\n",
    "**Exemplo**\n",
    "\n",
    "Neste exemplo, vamos criar um novo ambiente chamado \"tutorial\". Para que este ambiente fique disponível mesmo após a reinicialização do servidor, vamos salvá-lo em um diretório na _home_ do usuário. Sugestão (opcional): utilizar o _path_ `$HOME/.conda/envs/`, onde `$HOME` é uma variável de ambiente que indica a localização da _home_ do usuário em questão. Desse modo, os ambientes criados ficam salvos na sua _home_, dentro do diretório oculto \".conda\".   \n",
    "\n",
    "No Terminal, entre com os comandos: (e pressione Enter quando for solicitada confirmação: Proceed ([y]/n)? ) \n",
    "\n",
    "<p style=\"background-color:black; color:white;\">\n",
    "    <font face=\"Courier New\">\n",
    "        $ conda create -p \\$HOME/.conda/envs/tutorial \n",
    "    </font>\n",
    "</p>"
   ]
  },
  {
   "cell_type": "markdown",
   "metadata": {},
   "source": [
    "Repita o comando para listar os ambientes disponíveis e verifique a presença do ambiente recém-criado. \n",
    "\n",
    "<p style=\"background-color:black; color:white;\">\n",
    "    <font face=\"Courier New\">\n",
    "        $ conda env list\n",
    "    </font>\n",
    "</p>\n",
    "\n",
    "Note que o símbolo \"*\" indica que o ambiente _base_ continua ativo. \n"
   ]
  },
  {
   "cell_type": "markdown",
   "metadata": {},
   "source": [
    "<font color='red'>IMPORTANTE: </font> Para ativar um ambiente utilize o comando `conda activate [env_name]`, para o nosso exemplo:\n",
    "\n",
    "<p style=\"background-color:black; color:white;\">\n",
    "    <font face=\"Courier New\">\n",
    "        $ conda activate tutorial\n",
    "    </font>\n",
    "</p>\n",
    "\n",
    "Com o ambiente **tutorial** ativo, você pode instalar as demais bibliotecas necessárias nas versões desejadas. Por exemplo, vamos instalar a biblioteca [Numpy](https://numpy.org/doc/stable/) e as suas respectivas dependências.\n",
    "\n",
    "<p style=\"background-color:black; color:white;\">\n",
    "    <font face=\"Courier New\">\n",
    "        $ conda install numpy\n",
    "    </font>\n",
    "</p>\n",
    "\n",
    "\n",
    "Use o comando `conda list` para consultar as bibliotecas disponíveis no ambiente.\n",
    "\n",
    "<p style=\"background-color:black; color:white;\">\n",
    "    <font face=\"Courier New\">\n",
    "        $ conda list\n",
    "    </font>\n",
    "</p>\n",
    "\n",
    "\n",
    "*** "
   ]
  },
  {
   "cell_type": "markdown",
   "metadata": {},
   "source": [
    "Para poder acessar o ambiente criado a partir do Jupyter Notebook, são necessários mais dois comandos: \n",
    "\n",
    "<p style=\"background-color:black; color:white;\">\n",
    "    <font face=\"Courier New\">\n",
    "        $ conda install -c anaconda ipykernel \n",
    "    </font>\n",
    "</p>\n",
    "\n",
    "<p style=\"background-color:black; color:white;\">\n",
    "    <font face=\"Courier New\">\n",
    "        $ python -m ipykernel install --user --name=tutorial\n",
    "    </font>\n",
    "</p>\n",
    "\n",
    "Estes comandos vão fazer com que o ambiente criado seja disponibilizado como um kernel para o Jupyter Notebook. Note que apareceu um novo card na aba _Launcher_ com o nome do ambiente criado. Você também pode selecioná-lo no menu de kernels (canto superior direito). \n",
    "\n",
    "<p style=\"background-color:black; color:white;\">\n",
    "    <font face=\"Courier New\">\n",
    "        $ jupyter kernelspec uninstall 'environment_name'\n",
    "    </font>\n",
    "</p>\n",
    "\n",
    "\n",
    "\n",
    "\n",
    "***"
   ]
  },
  {
   "cell_type": "markdown",
   "metadata": {},
   "source": [
    "No Terminal, caso queira desativar o ambiente \"tutorial\" e retornar ao ambiente anterior, basta entrar com o comando:\n",
    "\n",
    "<p style=\"background-color:black; color:white;\">\n",
    "    <font face=\"Courier New\">\n",
    "        $ conda deactivate\n",
    "    </font>\n",
    "</p>\n"
   ]
  },
  {
   "cell_type": "markdown",
   "metadata": {},
   "source": [
    "--- \n",
    "\n",
    "Gostaria de sugerir alguma correção ou melhoria neste _notebook_? \n",
    "\n",
    "Fique à vontade para abrir um _issue_ no repositório [jupyterhub-tutorial](https://github.com/linea-it/jupyterhub-tutorial/issues) da organização [LIneA IT](https://github.com/linea-it/) no GitHub.  \n"
   ]
  }
 ],
 "metadata": {
  "kernelspec": {
   "display_name": "Python 3 (ipykernel)",
   "language": "python",
   "name": "python3"
  },
  "language_info": {
   "codemirror_mode": {
    "name": "ipython",
    "version": 3
   },
   "file_extension": ".py",
   "mimetype": "text/x-python",
   "name": "python",
   "nbconvert_exporter": "python",
   "pygments_lexer": "ipython3",
   "version": "3.10.10"
  }
 },
 "nbformat": 4,
 "nbformat_minor": 4
}
