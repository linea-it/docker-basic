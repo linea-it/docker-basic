{
 "cells": [
  {
   "cell_type": "markdown",
   "metadata": {},
   "source": [
    "# Curso básico de Python aplicado à Astronomia\n",
    "### Laboratório Interinstitucional de e-Astronomia\n",
    "# Aula XX - Cosmologia com de Aglomerados de Galáxias\n",
    "Michel Aguena, LAPP/IN2P3 & LIneA\n",
    "\n",
    "## Objetivo\n",
    "\n",
    "\n",
    "Aglomerados de galáxias podem ser ferramentas poderosas para se obter infomação sobre a cosmologia,\n",
    "mas é necessário fazer a associação entre os aglomerados e os halos de matéria escura. Dentre essas propriedades, está a relação entre a riqueza de aglomerados e a massa dos halos.\n",
    "\n",
    "## Índice\n",
    "1. [Aglomerados de galáxias](#cluster)\n",
    "2. [Calibrando a relação massa-riqueza](#mr)\n",
    "3. [Função de seleção](#fsel)\n",
    "4. [Vinculos cosmológicos](#cosm)\n",
    "5. [Pratica](#ex)"
   ]
  },
  {
   "cell_type": "code",
   "execution_count": null,
   "metadata": {},
   "outputs": [],
   "source": [
    "# ignore warnings\n",
    "import warnings\n",
    "warnings.filterwarnings('ignore')\n",
    "# computation\n",
    "import numpy as np\n",
    "from astropy.table import Table\n",
    "# display\n",
    "from IPython.display import Markdown as md\n",
    "from IPython.display import display, Math\n",
    "# plots\n",
    "import pylab as plt\n",
    "from mpl_toolkits.mplot3d import Axes3D\n",
    "from matplotlib.ticker import MultipleLocator\n",
    "# widgets plot\n",
    "import ipywidgets as widgets\n",
    "%matplotlib widget\n",
    "# auto reload local modules\n",
    "%load_ext autoreload\n",
    "%autoreload 2\n",
    "# my functions\n",
    "import aux_funcs"
   ]
  },
  {
   "cell_type": "markdown",
   "metadata": {},
   "source": [
    "# 1. Aglomerados de galáxias <a class=\"anchor\" id=\"cluster\"></a>\n",
    "\n",
    "Conjuntos de galaxias gravitacionalmente conectadas, composta de centenas a milhares de galaxias e com uma massa da ordem de 100 Trilhões de masssas solares. Podem ser detectados através de emissões em raio-x ($\\sim10^{10}$ GHz), pelo efeito Sunyaev Zel'dovich ($\\sim100$ GHz), ou em surveys opticos ($\\sim10^5$ GHz) de galaxias.\n",
    "<table>\n",
    "    <tr>\n",
    "        <td style=\"text-align:center\"><img src='figs/xray.jpeg' width='200' height='200'/><br>\n",
    "            Aglomerado Abell 1689 com emissão em <b>raio-x</b>, imagem composta da combinação de observações do HST (Hubble Space Telescope) e CXO (Chandra X-ray Observatory).</td>\n",
    "        <td style=\"text-align:center\"><img src='figs/sz.jpg' width='220' height='200'/><br>\n",
    "            Efeito <b>Sunyaev–Zeldovich</b> termico no aglomerado RX J1347.5-1145 observado pelo telescopio ALMA (Atacama Large Millimeter Array).</td>\n",
    "        <td style=\"text-align:center\"><a href='https://doi.org/10.1093/mnras/stab264'><img src='figs/wazp.jpg' width='240' height='200'/><br>\n",
    "            Aglomerado <b>optico</b> detectado pelo algoritimo WaZP (Wavelet Z Photometric) no primeiro ano de dados do DES (Dark Energy Survey).</a></td>\n",
    "    </tr>\n",
    "</table>"
   ]
  },
  {
   "cell_type": "markdown",
   "metadata": {},
   "source": [
    "## 1.1 Aplicação em cosmologia\n",
    "\n",
    "Halos de matréria escura são as maiores estruturas ligadas gravitacionalmente conectadas.\n",
    "A abundância de halos esta conectada com algumas componentes fundamentais do Universo como a quantidade de matéria escura, de energia escura e sua evolução. Abaixo podemos ver explicitamente como a fração de matéria no Universo ($\\Omega_m$) e o parâmetro da evolução da energia escura ($w$) afetam a contagem esperada de halos em cada intervalo de massa e redshift:"
   ]
  },
  {
   "cell_type": "code",
   "execution_count": null,
   "metadata": {},
   "outputs": [],
   "source": [
    "from aux_funcs import plot_nc\n",
    "%matplotlib widget\n",
    "plot_nc()"
   ]
  },
  {
   "cell_type": "markdown",
   "metadata": {},
   "source": [
    "Aglomerados de Galáxias são traçadores dos halos de matéria escura, e podem portanto serem usados para se inferir a abundancia de halos. Porem é necessário compreender o mapeamento entre os halos de materia escura e os aglomerados de galaxias.\n",
    "\n",
    "Portanto, para que aglomerados sejam usados para se vincular cosmologia, é preciso:\n",
    "\n",
    "* Detectar os aglomerados\n",
    "* Caraterizar a detecção (contagem de aglomerados->contagem de halos)\n",
    "* Caraterizar os redshifts dos aglomerados\n",
    "* **Determinar um indicativo de massa para os aglomerados**\n",
    "\n",
    "## 1.2 Relação massa-riqueza\n",
    "\n",
    "\n",
    "A contagem de halos é extremamente sensível a massa mímima considerada. Isso pode ser visto abaixo:\n",
    "\n",
    "<table><tr>\n",
    "    <td><img src='figs/dndlogM.png'/></td>\n",
    "    <td style=\"text-align:left\">\n",
    "        Contagem de halos de matéria escura previstos em 10,000 graus$^2$,\n",
    "        <br> observando-se até redshift 2.\n",
    "        <table style=\"border: 1px solid black\">\n",
    "            <tr><th>Massa mínima</th><th>Numero de halos</th></tr>\n",
    "            <tr><td>$4.0\\times10^{13}$</td><td>$\\sim800,000$</td></tr>\n",
    "            <tr><td>$6.3\\times10^{13}$</td><td>$\\sim450,000$</td></tr>\n",
    "            <tr><td>$1.0\\times10^{14}$</td><td>$\\sim230,000$</td></tr>\n",
    "            <tr><td>$1.6\\times10^{14}$</td><td>$\\sim110,000$</td></tr>\n",
    "            <tr><td>$2.5\\times10^{14}$</td><td>$\\sim50,000$</td></tr>\n",
    "        </table>\n",
    "    </td>\n",
    "</tr></table>\n",
    "\n",
    "Portanto, é muito importante que haja um mapeamento da massa dos halos com alguma propriedade dos aglomerados.\n",
    "No caso de aglomerados opticos, essa propriedade é a riqueza do aglomerado, que está associada com o numero de galaxias-membro do aglomerado.\n",
    "\n",
    "<table><tr>\n",
    "    <td><a href='https://academic.oup.com/mnras/article/482/1/1352/5123719'><img src='figs/mr_mcclintock.png' width='300'/>McClintock et al. 2018</a></td>\n",
    "    <td><a href='https://arxiv.org/abs/1910.13548'><img src='figs/mr_kirby.png' width='300'/>Kirby et al. 2019</a></td>\n",
    "</tr></table>"
   ]
  },
  {
   "cell_type": "markdown",
   "metadata": {},
   "source": [
    "# 2. Calibrando a relação massa-riqueza <a class=\"anchor\" id=\"mr\"></a>\n",
    "\n",
    "A relação entre a massa dos halos e a riqueza dos aglomerados é approximada por uma relação de escala:\n",
    "\n",
    "\\begin{equation}\n",
    "\\left(\\frac{M}{M^0}\\right) \\approx\n",
    "\\left(\\frac{N_{gals}}{N_{gals}^0}\\right)^\\alpha \n",
    "\\end{equation}\n",
    "\n",
    "Abaixo temos um conjunto de dados com a massa, erro e riqueza de alguns aglomerados:"
   ]
  },
  {
   "cell_type": "code",
   "execution_count": null,
   "metadata": {},
   "outputs": [],
   "source": [
    "data = Table(np.genfromtxt('data/MR.dat', delimiter=',', names=True))\n",
    "data"
   ]
  },
  {
   "cell_type": "markdown",
   "metadata": {},
   "source": [
    "Visualizar os dados:"
   ]
  },
  {
   "cell_type": "code",
   "execution_count": null,
   "metadata": {},
   "outputs": [],
   "source": [
    "%matplotlib widget\n",
    "aux_funcs.plot_mr(data)"
   ]
  },
  {
   "cell_type": "markdown",
   "metadata": {},
   "source": [
    "### A relação massa-riqueza definida em escala logaritimica:\n",
    "\n",
    "\\begin{equation}\n",
    "logM=\\alpha\\,logN_{gals}+\\beta,\n",
    "\\end{equation}\n",
    "\n",
    "onde $\\beta= logM_0-\\alpha\\,logN_{gals}^0$.\n",
    "\n",
    "* Detalhe:\n",
    "\\begin{equation}\n",
    "Err_{logM}=\\frac{Err_{M}}{M ln(10)}\n",
    "\\end{equation}"
   ]
  },
  {
   "cell_type": "code",
   "execution_count": null,
   "metadata": {},
   "outputs": [],
   "source": [
    "%matplotlib widget\n",
    "aux_funcs.plot_mr(data, fit=True)"
   ]
  },
  {
   "cell_type": "markdown",
   "metadata": {},
   "source": [
    "## Determinar quem são as quantidades a serem fitadas"
   ]
  },
  {
   "cell_type": "code",
   "execution_count": null,
   "metadata": {},
   "outputs": [],
   "source": [
    "# Preencher:\n",
    "logN = # ???\n",
    "logM = # ???\n",
    "siglogM = # ???"
   ]
  },
  {
   "cell_type": "markdown",
   "metadata": {},
   "source": [
    "## E os valores dos parâmetros a serem explorados:"
   ]
  },
  {
   "cell_type": "code",
   "execution_count": null,
   "metadata": {},
   "outputs": [],
   "source": [
    "%matplotlib widget\n",
    "aux_funcs.plot_mr(data, fit=True)"
   ]
  },
  {
   "cell_type": "code",
   "execution_count": null,
   "metadata": {},
   "outputs": [],
   "source": [
    "# Preencher:\n",
    "alpha_vals = # ???\n",
    "beta_vals = # ???"
   ]
  },
  {
   "cell_type": "markdown",
   "metadata": {},
   "source": [
    "### Visualizar em 2D"
   ]
  },
  {
   "cell_type": "code",
   "execution_count": null,
   "metadata": {},
   "outputs": [],
   "source": [
    "%matplotlib inline\n",
    "aux_funcs.plot_likelihood2D(\n",
    "    alpha_vals=alpha_vals, beta_vals=beta_vals,\n",
    "    func=func, x=logN, y=logM, err=siglogM\n",
    ")"
   ]
  },
  {
   "cell_type": "markdown",
   "metadata": {},
   "source": [
    "### Ou 3D"
   ]
  },
  {
   "cell_type": "code",
   "execution_count": null,
   "metadata": {},
   "outputs": [],
   "source": [
    "%matplotlib widget\n",
    "aux_funcs.plot_likelihood3D(\n",
    "    alpha_vals=alpha_vals, beta_vals=beta_vals,\n",
    "    func=func, x=logN, y=logM, err=siglogM\n",
    ")"
   ]
  },
  {
   "cell_type": "markdown",
   "metadata": {},
   "source": [
    "# 3. Função de seleção<a class=\"anchor\" id=\"fsel\"></a>\n",
    "\n",
    "\n",
    "\\begin{equation}\n",
    "\\frac{c(M,z)}{\\displaystyle p(N^{gals},z^{phot})}\n",
    "\\end{equation}\n"
   ]
  },
  {
   "cell_type": "markdown",
   "metadata": {},
   "source": [
    "# 4. Vinculos cosmológicos <a class=\"anchor\" id=\"cosm\"></a>\n",
    "\n",
    "\n",
    "A relação entre a massa dos halos e a riqueza dos aglomerados é approximada por uma relação de escala:\n",
    "\n",
    "\\begin{equation}\n",
    "\\bar m_{\\alpha,i} \\equiv \n",
    "\\Delta \\Omega \\int_{z^{phot}_i}^{z^{phot}{i+1}} dz^{phot} \n",
    "\\int    dz \\frac{D_A(z)^2}{H(z)} \n",
    "P(z^{phot}| z)\n",
    "\\int_{\\ln N^{gals}_{\\alpha}}^{\\ln N^{gals}_{\\alpha+1}} {d \\ln N^{gals}}\n",
    "\\int d\\ln M\n",
    "{d \\bar n \\over d\\ln M}\n",
    "P(N^{gals} | M)\\nonumber \n",
    "\\frac{c(M,z)}{\\displaystyle p(N^{gals},z^{phot})}\n",
    "\\end{equation}\n",
    "\n",
    "Abaixo temos um conjunto de dados com a massa, erro e riqueza de alguns aglomerados:"
   ]
  },
  {
   "cell_type": "markdown",
   "metadata": {},
   "source": [
    "# 5. Pratica<a class=\"anchor\" id=\"ex\"></a>"
   ]
  },
  {
   "cell_type": "code",
   "execution_count": null,
   "metadata": {},
   "outputs": [],
   "source": []
  }
 ],
 "metadata": {
  "kernelspec": {
   "display_name": "conda-clmmenv",
   "language": "python",
   "name": "conda-clmmenv"
  },
  "language_info": {
   "codemirror_mode": {
    "name": "ipython",
    "version": 3
   },
   "file_extension": ".py",
   "mimetype": "text/x-python",
   "name": "python",
   "nbconvert_exporter": "python",
   "pygments_lexer": "ipython3",
   "version": "3.9.0"
  }
 },
 "nbformat": 4,
 "nbformat_minor": 4
}
