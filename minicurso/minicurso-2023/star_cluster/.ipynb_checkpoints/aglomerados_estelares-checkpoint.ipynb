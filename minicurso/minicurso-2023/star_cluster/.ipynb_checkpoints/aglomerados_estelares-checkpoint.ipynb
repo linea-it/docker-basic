{
 "cells": [
  {
   "cell_type": "markdown",
   "id": "2141fc5b",
   "metadata": {},
   "source": [
    "# Aglomerados Estelares\n",
    "\n",
    "Authors: Gabriel Luan Souza de Oliveira, Adriano Pieres, Luiz A. Nicolaci da Costa."
   ]
  },
  {
   "cell_type": "markdown",
   "id": "f060b22c-790f-40fd-90cd-428096c851eb",
   "metadata": {},
   "source": [
    "## O que é um Aglomerado Estelar?"
   ]
  },
  {
   "cell_type": "markdown",
   "id": "3602c640-4ab0-40ea-a040-4b56dbbe1d98",
   "metadata": {},
   "source": [
    "&nbsp;&nbsp;&nbsp;&nbsp;&nbsp;&nbsp; Em uma galáxia, aglomerados estelares são agrupamentos de estrelas ligadas gravitacionalmente entre si e que compartilharam a mesma nuvem gasosa primordial. Tais agrupamentos podem apresentar de dezenas à milhares de estrelas, e podem ser classificados morfologicamente em dois tipos: aglomerados abertos e aglomerados globulares."
   ]
  },
  {
   "cell_type": "markdown",
   "id": "1bea73fe-6b8b-4864-abc0-eefb89e854c5",
   "metadata": {},
   "source": [
    "<p align=\"center\" style=\"text-align: center;\">\n",
    "    <img title=\"Alguns dos aglomerados estelares mais brilhantes no céu.\" src=\"figs/star_clusters.jpg\"  width=\"700\" style=\"display: block; margin-left: auto; margin-right: auto; background-color: black; padding: 5px;\">\n",
    "    <span style=\"font-weight: normal;\">Alguns dos aglomerados estelares mais brilhantes no céu.</span>\n",
    "</p>"
   ]
  },
  {
   "cell_type": "markdown",
   "id": "f892daa7-4670-4bf7-8ecd-768f4e51496d",
   "metadata": {},
   "source": [
    "### Aglomerados abertos"
   ]
  },
  {
   "cell_type": "markdown",
   "id": "e1489361-ea51-44e6-b84c-9b3e66362087",
   "metadata": {
    "tags": []
   },
   "source": [
    "&nbsp;&nbsp;&nbsp;&nbsp;&nbsp;&nbsp; Aglomerados abertos tendem a apresentar uma distribuição de estrelas mais dispersa, ligadas gravitacionalmente de forma menos intensa. São confinados ao plano galáctico e quase sempre são encontrados em braços de espirais. São normalmente compostos por estrelas jovens e são constituídos por algumas centenas de estrelas no máximo."
   ]
  },
  {
   "cell_type": "markdown",
   "id": "ccdf754a-3c5a-4423-b44e-2c4e2498e48a",
   "metadata": {
    "tags": []
   },
   "source": [
    "<p align=\"center\" style=\"text-align: center;\">\n",
    "    <img src=\"figs/Pleiades.jpg\"  width=\"500\" style=\"display: block; margin-left: auto; margin-right: auto; background-color: black; padding: 5px;\">\n",
    "    <span style=\"font-weight: normal;\">Pleiades, exemplo de aglomerado aberto.</span>\n",
    "</p>"
   ]
  },
  {
   "cell_type": "markdown",
   "id": "095391fa-01a8-42d9-9fd5-0ccb977d5c14",
   "metadata": {},
   "source": [
    "### Aglomerados globulares"
   ]
  },
  {
   "cell_type": "markdown",
   "id": "7ed25611-6d09-41d2-ad8d-89ac66b6bee8",
   "metadata": {},
   "source": [
    "&nbsp;&nbsp;&nbsp;&nbsp;&nbsp;&nbsp; Aglomerados globulares apresentam uma distribuição de estrelas esférica, ligadas gravitacionalmente de forma bastante intensa. São encontrados tanto no halo quanto orbitando o centro da galáxia, distribuídos de forma esférica. São normalmente compostos por estrelas velhas e podem apresentar milhares de estrelas."
   ]
  },
  {
   "cell_type": "markdown",
   "id": "12ad70dc-f7e5-4dce-95f2-415c24ab535d",
   "metadata": {},
   "source": [
    "<p align=\"center\" style=\"text-align: center;\">\n",
    "    <img src=\"figs/caldwell_87.jpeg\"  width=\"500\" style=\"display: block; margin-left: auto; margin-right: auto; background-color: black; padding: 5px;\">\n",
    "    <span style=\"font-weight: normal;\">Caldwell 87, exemplo de aglomerado globular.</span>\n",
    "</p>"
   ]
  },
  {
   "cell_type": "markdown",
   "id": "608a8798",
   "metadata": {},
   "source": [
    "## Catálogos de Aglomerados Globulares:\n",
    "\n",
    "Abaixo são apresentados dois catálogos, com vários aglomerados em comum, disponíveis e de fácil acesso na internet:\n",
    "\n",
    "- **Harris, 1996 (2010 edition)**: \n",
    "    - Catálogo: https://physics.mcmaster.ca/~harris/mwgc.dat\n",
    "    - Site baseado no catálogo: https://gclusters.altervista.org/\n",
    "    - A New Catalog of Globular Clusters in the Milky Way (artigo): https://arxiv.org/pdf/1012.3224.pdf\n",
    "<br/><br/>\n",
    "- **Gaia EDR3 data based catalog (2023 edition)**:\n",
    "    - Catálogo:\n",
    "        - Orbital parameters: https://people.smp.uq.edu.au/HolgerBaumgardt/globular/orbits.html\n",
    "        - Structural Parameters: https://people.smp.uq.edu.au/HolgerBaumgardt/globular/parameter.html\n",
    "        - Structural Parameters (Local Group): https://people.smp.uq.edu.au/HolgerBaumgardt/globular/lgclusters/parameter.html\n",
    "            - \"Local group\" se refere aos aglomerados globulares localizados nas galáxias vizinhas à Via Láctea.\n",
    "    <br/><br/>\n",
    "    - Site baseado no catálogo: https://people.smp.uq.edu.au/HolgerBaumgardt/globular/\n",
    "        - Nesse site é possível visualizar cada um dos aglomerados individualmente.\n",
    "    <br/><br/>\n",
    "    - Artigos relacionados:\n",
    "        - Gaia EDR3 view on galactic globular clusters: https://academic.oup.com/mnras/article/505/4/5978/6283730\n",
    "        - Absolute V-band magnitudes and mass-to-light ratios of Galactic globular clusters: https://ui.adsabs.harvard.edu/abs/2020PASA...37...46B/abstract.\n",
    "        - Accurate distances to Galactic globular clusters through a combination of Gaia EDR3, HST, and literature data: https://ui.adsabs.harvard.edu/abs/2021MNRAS.505.5957B/abstract.\n",
    "        - N -body modelling of globular clusters: masses, mass-to-light ratios and intermediate-mass black holes: https://ui.adsabs.harvard.edu/abs/2017MNRAS.464.2174B/abstract.\n",
    "        - A catalogue of masses, structural parameters, and velocity dispersion profiles of 112 Milky Way globular clusters: https://ui.adsabs.harvard.edu/abs/2018MNRAS.478.1520B/abstract.\n",
    "        - Evidence for a bottom-light initial mass function in massive star clusters: https://ui.adsabs.harvard.edu/abs/2023MNRAS.521.3991B/abstract.\n",
    "        - The eye of Gaia on globular clusters kinematics: internal rotation: https://ui.adsabs.harvard.edu/abs/2019MNRAS.485.1460S/abstract.\n",
    "        - A new catalog of orbits of 152 globular clusters from Gaia EDR3: https://arxiv.org/pdf/2212.00739.pdf\n",
    "        <br/><br/>"
   ]
  },
  {
   "cell_type": "markdown",
   "id": "61754b84-c5e8-449e-8269-eb55e62ff9f0",
   "metadata": {},
   "source": [
    "<p align=\"center\">\n",
    "    <img src=\"https://www.darkenergysurvey.org/wp-content/uploads/2016/01/des-logo-rev-lg.png\" alt=\"Image\" width=\"700\" style=\"display: block; margin-left: auto; margin-right: auto; background-color: black; padding: 10px;\">\n",
    "</p>\n",
    "\n",
    "\n",
    "<!-- Alinhado na direita-->\n",
    "<!-- \n",
    "<p style=\"text-align: right;\">\n",
    "    <img src=\"https://www.darkenergysurvey.org/wp-content/uploads/2016/01/des-logo-rev-lg.png\" alt=\"Image\" width=\"700\" style=\"background-color: black; padding: 10px;\">\n",
    "</p>-->\n",
    "\n",
    "<!-- Alinhado na esquerda-->\n",
    "<!--\n",
    "<p style=\"text-align: left;\">\n",
    "    <img src=\"https://www.darkenergysurvey.org/wp-content/uploads/2016/01/des-logo-rev-lg.png\" alt=\"Image\" width=\"700\" style=\"background-color: black; padding: 10px;\">\n",
    "</p>-->"
   ]
  },
  {
   "cell_type": "markdown",
   "id": "ac955eaa-d9dd-4044-ad7e-d8140c27639c",
   "metadata": {},
   "source": [
    "## O que é o Dark Energy Survey (DES)?"
   ]
  },
  {
   "cell_type": "markdown",
   "id": "a8489fda-1559-45b9-983a-b64517b74ac9",
   "metadata": {},
   "source": [
    "O DES é um levantamento de dados que observou uma área de 5.000 graus quadrados do céu do hemisfério sul (aproximadamente 1/8 do céu total) durante 525 noites usando a Dark Energy Camera (DECam). Essa câmera foi montada no telescópio Blanco, de 4 metros de diâmetro, no Observatório Interamericano Cerro Tololo, localizado no alto dos Andes chilenos."
   ]
  },
  {
   "cell_type": "markdown",
   "id": "dbc55fba-1a56-4bee-9409-0a727c56d628",
   "metadata": {},
   "source": [
    "## Aglomerados globulares observados no DES"
   ]
  },
  {
   "cell_type": "markdown",
   "id": "801f60f0",
   "metadata": {},
   "source": [
    "Conforme a figura abaixo, o footprint do DES varia em ascensão reta (RA) de 300° a 90° (20<sup>h</sup> a 6<sup>h</sup>), aproximadamente, e varia em declinação de 0° a 67°, aproximadamente. Se acessarmos o catálogo de parâmetros orbitais (https://people.smp.uq.edu.au/HolgerBaumgardt/globular/orbits.html) dos aglomerados e organizarmos a tabela por ascensão reta crescente (só clicar na coluna de RA no site), podemos analisar quais aglomerados foram observados pelo DES. "
   ]
  },
  {
   "cell_type": "markdown",
   "id": "1822263f-f9c3-4f37-94d9-20cb3282bb36",
   "metadata": {},
   "source": [
    "<p align=\"center\">\n",
    "    <img src=\"https://www.darkenergysurvey.org/wp-content/uploads/2015/04/DESObservingStrategy_Lahav2016.png\" alt=\"Image\" width=\"700\" style=\"display: block; margin-left: auto; margin-right: auto; background-color: black; padding: 2px;\">\n",
    "</p>\n",
    "\n"
   ]
  },
  {
   "cell_type": "markdown",
   "id": "c722184c-e0a4-418a-a11a-5cfff075a0a9",
   "metadata": {},
   "source": [
    "São aproximadamente 150 aglomerados na tabela, então uma inspeção visual é suficiente para identificarmos todos os aglomerados. No total, podemos encontrar 8 aglomerados globulares:\n",
    "\n",
    "|Nome do aglomerado|Ascensão Reta (RA)|Declinação (DEC)\n",
    "|---|---|---| \n",
    "|NGC_288|13.188500|-26.582611\n",
    "|Whiting_1|30.737499|-3.252778\n",
    "|NGC_1261|48.067543|-55.216225\n",
    "|AM_1|58.759586|-49.615276\n",
    "|Eridanus|66.185608|-21.186781\n",
    "|NGC_1851|78.528160|-40.046555\n",
    "|NGC_1904|81.045837|-24.524416\n",
    "|NGC_7089|323.362579|-0.823250"
   ]
  },
  {
   "cell_type": "markdown",
   "id": "dbe0f09d-2c3d-4a27-b949-c023e1f83fff",
   "metadata": {},
   "source": [
    "## Visualização e análise dos aglomerados"
   ]
  },
  {
   "cell_type": "markdown",
   "id": "357108cb-a63d-4cb7-847f-0246d41ef194",
   "metadata": {
    "tags": []
   },
   "source": [
    "### Importando módulos de python necessários"
   ]
  },
  {
   "cell_type": "code",
   "execution_count": null,
   "id": "78444d8d-ae85-47c5-814d-bf1a8ad01df4",
   "metadata": {
    "tags": []
   },
   "outputs": [],
   "source": [
    "import numpy as np\n",
    "import pandas as pd\n",
    "import matplotlib.pyplot as plt"
   ]
  },
  {
   "cell_type": "markdown",
   "id": "64dd42e2-7757-4e41-8540-698da10852aa",
   "metadata": {},
   "source": [
    "### Importando os dados dos aglomerados globulares"
   ]
  },
  {
   "cell_type": "code",
   "execution_count": null,
   "id": "6b09d892-dfbd-4545-841f-70bf3aa771ef",
   "metadata": {
    "tags": []
   },
   "outputs": [],
   "source": [
    "clusters_table = pd.read_csv('catalogs/stellar_clusters_in_des.csv', comment = '#')"
   ]
  },
  {
   "cell_type": "code",
   "execution_count": null,
   "id": "8211674b-0c8a-446d-96b1-d0702f2298b1",
   "metadata": {
    "tags": []
   },
   "outputs": [],
   "source": [
    "clusters_table"
   ]
  },
  {
   "cell_type": "markdown",
   "id": "f98c818b-9650-4e1b-b1e4-05af4763d86e",
   "metadata": {},
   "source": [
    "em que R_sun e R_sun_err são dados em kpc e r_c,r_hl e r_hm são dados em pc."
   ]
  },
  {
   "cell_type": "markdown",
   "id": "bca041f9-81f9-47c3-baaf-8696fa447dd5",
   "metadata": {},
   "source": [
    "### Obtendo o raio aproximado do aglomerado, em graus, para utilizar na query"
   ]
  },
  {
   "cell_type": "markdown",
   "id": "633b5821-a4e5-46f7-8dae-06c48a58dee6",
   "metadata": {},
   "source": [
    "Considerando que a distância entre a Terra (lugar onde foi feita a observação) e o Sol é muito menor que a distância entre o Sol e os aglomerados globulares apresentados, e supondo que o espaço entre Sol e o aglomerado globular é plano, podemos estimar a aberturta angular correspondente ao raio do aglomerado conforme a ilustração presente na figura abaixo: "
   ]
  },
  {
   "cell_type": "markdown",
   "id": "52a0662b-7113-439f-a2bb-bb4c761c0b8c",
   "metadata": {},
   "source": [
    "<p align=\"center\">\n",
    "    <img src=\"figs/r_ilustration.jpg\" alt=\"Image\" width=\"700\" style=\"display: block; margin-left: auto; margin-right: auto; background-color: black; padding: 5px;\">\n",
    "</p>"
   ]
  },
  {
   "cell_type": "code",
   "execution_count": null,
   "id": "aed8b9f5-0b0a-44fa-8d5c-3952c707a63c",
   "metadata": {
    "tags": []
   },
   "outputs": [],
   "source": [
    "def cluster_radius_in_sky(r_pc,r_sun):\n",
    "    '''Função que calcula o raio de um aglomerado em graus, dada sua distância\n",
    "    em relação ao sol e seu raio em pc.\n",
    "    \n",
    "    Parameters:\n",
    "    -----------\n",
    "        r_pc: float\n",
    "            O raio do aglomerado, em pc.\n",
    "        r_sun: float\n",
    "            A distância do aglomerado em relação ao Sol, em kpc.\n",
    "    \n",
    "    Return:\n",
    "        radius: float\n",
    "            O raio do aglomerado em graus\n",
    "    '''\n",
    "    tan_theta = r_pc/(r_sun*1000)\n",
    "    theta = np.arctan(tan_theta) #em radianos\n",
    "    radius = np.rad2deg(theta) #em graus\n",
    "    return radius"
   ]
  },
  {
   "cell_type": "code",
   "execution_count": null,
   "id": "7b9def49-2172-4b7a-9d38-e2b2d9b7c628",
   "metadata": {
    "tags": []
   },
   "outputs": [],
   "source": [
    "for radius_type in ['r_c','r_hl','r_hm']:\n",
    "    r_pc_array  = clusters_table[radius_type]\n",
    "    r_sun_array = clusters_table['R_sun']\n",
    "    r_deg       = cluster_radius_in_sky(r_pc_array,r_sun_array)\n",
    "    clusters_table[radius_type+'_deg'] = r_deg\n",
    "clusters_table"
   ]
  },
  {
   "cell_type": "markdown",
   "id": "b5c359b8-0c44-4b5d-9d04-c3e0cd9617f6",
   "metadata": {},
   "source": [
    "### Acesso ao banco de dados"
   ]
  },
  {
   "cell_type": "code",
   "execution_count": null,
   "id": "519dace9-8b0f-4731-9bf2-d9a457c1b967",
   "metadata": {
    "tags": []
   },
   "outputs": [],
   "source": [
    "from dblinea import DBBase\n",
    "db = DBBase()\n",
    "schema = \"des_dr2\"  \n",
    "tablename = \"coadd_objects\""
   ]
  },
  {
   "cell_type": "markdown",
   "id": "182bbe0f-4289-4b02-96e3-f81c10f05bff",
   "metadata": {},
   "source": [
    "### Visualizando o nome das colunas da tabela"
   ]
  },
  {
   "cell_type": "code",
   "execution_count": null,
   "id": "73622ec4-dea4-4baa-a4c9-d8849bbbfe82",
   "metadata": {
    "tags": []
   },
   "outputs": [],
   "source": [
    "#db.get_table_columns(tablename, schema=schema)"
   ]
  },
  {
   "cell_type": "markdown",
   "id": "bdb82d30-15fd-4c3b-9dc1-593351abbd44",
   "metadata": {},
   "source": [
    "### Criando Query circular para visualização do aglomerado"
   ]
  },
  {
   "cell_type": "markdown",
   "id": "356b4a61-9c00-4283-b87f-545d8bb82c28",
   "metadata": {},
   "source": [
    "```sql\n",
    "SELECT coadd_object_id, ra ,dec, flags_g, flags_r, flags_i, flags_z, flags_y,\n",
    "       wavg_mag_psf_g_dered,wavg_mag_psf_r_dered,wavg_mag_psf_i_dered,wavg_mag_psf_z_dered,wavg_mag_psf_y_dered,\n",
    "       extended_class_coadd,extended_class_wavg,\n",
    "       wavg_magerr_psf_g,wavg_magerr_psf_r,wavg_magerr_psf_i,wavg_magerr_psf_z,wavg_magerr_psf_y\n",
    "FROM des_dr2.coadd_objects \n",
    "WHERE q3c_radial_query(ra, dec, ra_c,dec_c, r_c)\n",
    "AND extended_class_coadd < 2\n",
    "```"
   ]
  },
  {
   "cell_type": "markdown",
   "id": "e8ad0939-ecfd-4c4d-9a79-f6a69a9e5c33",
   "metadata": {},
   "source": [
    "**Criando dicionário com as informações dos clusters**"
   ]
  },
  {
   "cell_type": "code",
   "execution_count": null,
   "id": "eae2fb31-aaff-48e3-9011-d3aa4d7e21ab",
   "metadata": {
    "tags": []
   },
   "outputs": [],
   "source": [
    "cluster_dict = {}\n",
    "for cluster_name,ra,dec,r_hm_deg in zip(clusters_table['cluster_name'],clusters_table['ra'],clusters_table['dec'],clusters_table['r_hm_deg']):\n",
    "    cluster_dict[cluster_name] = {'ra':ra, 'dec': dec, 'r':r_hm_deg}"
   ]
  },
  {
   "cell_type": "markdown",
   "id": "d60c9c98-0adb-4fc5-94ba-14fe25930f78",
   "metadata": {},
   "source": [
    "**Criando dicionários com os fatores multiplicativos dos raios**"
   ]
  },
  {
   "cell_type": "code",
   "execution_count": null,
   "id": "b3c908c6-a5b5-4e34-a150-e3f831395dc1",
   "metadata": {},
   "outputs": [],
   "source": [
    "# Fatores que correspondem ao raio que alcança a borda do aglomerado\n",
    "factor_dict={'NGC_288':2.2,\n",
    "             'Whiting_1':1,\n",
    "             'NGC_1261':5,\n",
    "             'AM_1':5,\n",
    "             'Eridanus':5,\n",
    "             'NGC_1851':7.5,\n",
    "             'NGC_1904':5,\n",
    "             'NGC_7089':5}\n",
    "\n",
    "# Fatores que correspondem ao n vezes o raio que alcança a borda do aglomerado\n",
    "n=5\n",
    "factor_dict_xn = {}\n",
    "for cluster_name in factor_dict:\n",
    "    factor_dict_xn[cluster_name] = n*factor_dict[cluster_name]"
   ]
  },
  {
   "cell_type": "markdown",
   "id": "578c55d7-2c81-4bda-aa7b-e03cb793fbaa",
   "metadata": {},
   "source": [
    "**Gerando string com a query**"
   ]
  },
  {
   "cell_type": "code",
   "execution_count": null,
   "id": "ee4e867f-58a4-4fbc-b448-d03c56c2962e",
   "metadata": {
    "tags": []
   },
   "outputs": [],
   "source": [
    "cluster_name = 'NGC_7089'\n",
    "factor = factor_dict_xn[cluster_name]\n",
    "ra_c, dec_c, r_c = cluster_dict[cluster_name]['ra'], cluster_dict[cluster_name]['dec'],cluster_dict[cluster_name]['r']\n",
    "columns = \"SELECT coadd_object_id, ra ,dec, flags_g, flags_r, flags_i, flags_z, flags_y,wavg_mag_psf_g_dered,wavg_mag_psf_r_dered,wavg_mag_psf_i_dered,wavg_mag_psf_z_dered,wavg_mag_psf_y_dered,extended_class_coadd,extended_class_wavg,wavg_magerr_psf_g,wavg_magerr_psf_r,wavg_magerr_psf_i,wavg_magerr_psf_z,wavg_magerr_psf_y \"\n",
    "table = \"FROM des_dr2.coadd_objects \"\n",
    "query_type = f\"WHERE q3c_radial_query(ra, dec, {ra_c},{dec_c}, {r_c*factor}) \"\n",
    "object_type = \"AND extended_class_coadd < 2\"\n",
    "query = columns + table + query_type + object_type\n",
    "query"
   ]
  },
  {
   "cell_type": "markdown",
   "id": "ce163f8d-2cf6-4187-a14a-b813c909a1bf",
   "metadata": {},
   "source": [
    "**Obtendo a tabela com os objetos selecionados**"
   ]
  },
  {
   "cell_type": "code",
   "execution_count": null,
   "id": "00d43314-5c26-478f-b8c7-f4d3edbd3815",
   "metadata": {
    "tags": []
   },
   "outputs": [],
   "source": [
    "%%time\n",
    "stars = db.fetchall_df(query)\n",
    "stars"
   ]
  },
  {
   "cell_type": "markdown",
   "id": "d982d941-66c8-4590-bcdb-44110344aef6",
   "metadata": {},
   "source": [
    "**Limpando os dados**"
   ]
  },
  {
   "cell_type": "code",
   "execution_count": null,
   "id": "3d6d51bc-fd79-4bc3-a4d9-8ab3a8050f26",
   "metadata": {
    "tags": []
   },
   "outputs": [],
   "source": [
    "flags = 'flags_g < 4  & flags_r < 4 & flags_i < 4 & flags_z < 4 & flags_y < 4'\n",
    "mags  = '& wavg_mag_psf_g_dered != -99. & wavg_mag_psf_r_dered != -99. & wavg_mag_psf_i_dered != -99. & wavg_mag_psf_z_dered != -99. & wavg_mag_psf_y_dered != -99.'\n",
    "stars.query(flags+mags, inplace=True)\n",
    "stars['center_distance'] = np.sqrt((stars['ra'] - ra_c)**2+(stars['dec'] - dec_c)**2)\n",
    "stars"
   ]
  },
  {
   "cell_type": "markdown",
   "id": "07c695b7-40d6-4f73-a4e1-90462191446f",
   "metadata": {},
   "source": [
    "## Visualizando o aglomerado"
   ]
  },
  {
   "cell_type": "markdown",
   "id": "988c73be-d718-4086-b992-43bbaae714e9",
   "metadata": {},
   "source": [
    "### Localização das estrelas"
   ]
  },
  {
   "cell_type": "code",
   "execution_count": null,
   "id": "d178e463-8811-405a-b7cf-b6996a1cebc4",
   "metadata": {
    "tags": []
   },
   "outputs": [],
   "source": [
    "plt.plot(stars.ra, stars.dec, 'b.', alpha=0.05)\n",
    "plt.xlabel(\"R.A. (deg)\", fontsize=14)\n",
    "plt.ylabel(\"Dec. (deg)\", fontsize=14)\n",
    "plt.xticks(fontsize=12)\n",
    "plt.yticks(fontsize=12)\n",
    "plt.tight_layout()\n",
    "plt.show()"
   ]
  },
  {
   "cell_type": "markdown",
   "id": "07182cfb-d86c-4f03-9636-f194bd6edef7",
   "metadata": {},
   "source": [
    "### Distribuição espacial das estrelas"
   ]
  },
  {
   "cell_type": "code",
   "execution_count": null,
   "id": "d976bb5f-a054-4bd0-b6b1-a624322df1d3",
   "metadata": {
    "tags": []
   },
   "outputs": [],
   "source": [
    "plt.hist2d(stars.ra, stars.dec, bins=50)\n",
    "plt.xlabel(\"R.A. (deg)\", fontsize=14)\n",
    "plt.ylabel(\"Dec. (deg)\", fontsize=14)\n",
    "plt.colorbar(label=\"density of points\")\n",
    "plt.xticks(fontsize=12)\n",
    "plt.yticks(fontsize=12)\n",
    "plt.tight_layout()"
   ]
  },
  {
   "cell_type": "markdown",
   "id": "588c60db-4b0b-4686-a279-3387e54af9b8",
   "metadata": {},
   "source": [
    "### Diagramas cor-magnitude (CMDs)"
   ]
  },
  {
   "cell_type": "markdown",
   "id": "2f2d2ac1-8674-4265-953b-60a7cb0aaf0b",
   "metadata": {},
   "source": [
    "**Selecionando os objetos pertences ao aglomerado (visualmente)**"
   ]
  },
  {
   "cell_type": "code",
   "execution_count": null,
   "id": "bd24fc98-175d-45f5-a676-390d413603ec",
   "metadata": {
    "tags": []
   },
   "outputs": [],
   "source": [
    "restrict_query = f'center_distance < {factor_dict[cluster_name]*r_c}'\n",
    "stars.query(restrict_query, inplace=True)\n",
    "stars"
   ]
  },
  {
   "cell_type": "code",
   "execution_count": null,
   "id": "1638d7a5-02f5-4623-900a-bdf72fae27f6",
   "metadata": {
    "tags": []
   },
   "outputs": [],
   "source": [
    "fig, axs = plt.subplots(figsize=[21,7], nrows = 1, ncols =3)\n",
    "xlims = {'g':(-1,2), 'r':(-0.5,2), 'i':(-0.4,1)}\n",
    "ylims = {'g':(25,15), 'r':(24,15), 'i':(23,15)}\n",
    "for ax,band,band_minus in zip(axs,['g','r','i'],['r','i','z']):\n",
    "    ax.set_title(\"CMD\", fontsize=14)\n",
    "    mappable = ax.hexbin(stars[f'wavg_mag_psf_{band}_dered'] - stars[f'wavg_mag_psf_{band_minus}_dered'], stars[f'wavg_mag_psf_{band}_dered'], gridsize=500, bins='log')\n",
    "    ax.set_xlabel(f\"{band} - {band_minus}\", fontsize=14)\n",
    "    ax.set_ylabel(f\"{band}\", fontsize=14)\n",
    "    ax.tick_params(axis='both', labelsize=12)\n",
    "    ax.set_xlim(xlims[band][0],xlims[band][1])\n",
    "    ax.set_ylim(ylims[band][0],ylims[band][1])\n",
    "    ax.grid(alpha = 0.25)\n",
    "    cbar = ax.figure.colorbar(mappable, ax=ax, pad=0.02)\n",
    "    cbar.set_label(\"density of points\")"
   ]
  },
  {
   "cell_type": "markdown",
   "id": "086951d1-4a91-4ef2-b20d-b2b4798689a8",
   "metadata": {},
   "source": [
    "## Comparando com região fora do aglomerado"
   ]
  },
  {
   "cell_type": "code",
   "execution_count": null,
   "id": "b2951f36-2a8b-48d2-ba0b-0fe83b33dee3",
   "metadata": {
    "tags": []
   },
   "outputs": [],
   "source": [
    "factor = factor_dict[cluster_name]\n",
    "ra_c, dec_c, r_c = cluster_dict[cluster_name]['ra'] + 10*factor*cluster_dict[cluster_name]['r'], cluster_dict[cluster_name]['dec'],cluster_dict[cluster_name]['r']\n",
    "columns = \"SELECT coadd_object_id, ra ,dec, flags_g, flags_r, flags_i, flags_z, flags_y,wavg_mag_psf_g_dered,wavg_mag_psf_r_dered,wavg_mag_psf_i_dered,wavg_mag_psf_z_dered,wavg_mag_psf_y_dered,extended_class_coadd,extended_class_wavg,wavg_magerr_psf_g,wavg_magerr_psf_r,wavg_magerr_psf_i,wavg_magerr_psf_z,wavg_magerr_psf_y \"\n",
    "table = \"FROM des_dr2.coadd_objects \"\n",
    "query_type = f\"WHERE q3c_radial_query(ra, dec, {ra_c},{dec_c}, {3*r_c*factor}) \"\n",
    "object_type = \"AND extended_class_coadd < 2\"\n",
    "query = columns + table + query_type + object_type"
   ]
  },
  {
   "cell_type": "code",
   "execution_count": null,
   "id": "f9490f54-8606-4a46-8e09-74b177a779d6",
   "metadata": {
    "tags": []
   },
   "outputs": [],
   "source": [
    "%%time\n",
    "outside = db.fetchall_df(query)\n",
    "outside"
   ]
  },
  {
   "cell_type": "code",
   "execution_count": null,
   "id": "03e7f923-b77f-4cc7-bf60-cb03c6adecc9",
   "metadata": {
    "tags": []
   },
   "outputs": [],
   "source": [
    "flags = 'flags_g < 4  & flags_r < 4 & flags_i < 4 & flags_z < 4 & flags_y < 4'\n",
    "mags  = '& wavg_mag_psf_g_dered != -99. & wavg_mag_psf_r_dered != -99. & wavg_mag_psf_i_dered != -99. & wavg_mag_psf_z_dered != -99. & wavg_mag_psf_y_dered != -99.'\n",
    "outside.query(flags+mags, inplace=True)\n",
    "outside"
   ]
  },
  {
   "cell_type": "markdown",
   "id": "3a64d085-9b93-4da2-a542-3a550261e3e7",
   "metadata": {},
   "source": [
    "### Localização das estrelas"
   ]
  },
  {
   "cell_type": "code",
   "execution_count": null,
   "id": "7d06ff1c-3ed1-4ae8-bac6-6348b43ef70a",
   "metadata": {
    "tags": []
   },
   "outputs": [],
   "source": [
    "f = 0.5\n",
    "fig,axs = plt.subplots(figsize = [f*20,f*10], nrows = 1, ncols = 2)\n",
    "axs[0].plot(stars.ra, stars.dec, 'b.', alpha=0.05)\n",
    "axs[0].set_xlabel(\"R.A. (deg)\", fontsize=14)\n",
    "axs[0].set_ylabel(\"Dec. (deg)\", fontsize=14)\n",
    "axs[0].tick_params(axis='both', labelsize=12)\n",
    "axs[0].set_title(\"Aglomerado\", fontsize = 14)\n",
    "\n",
    "axs[1].plot(outside.ra, outside.dec, 'b.', alpha=0.05)\n",
    "axs[1].set_xlabel(\"R.A. (deg)\", fontsize=14)\n",
    "axs[1].set_ylabel(\"Dec. (deg)\", fontsize=14)\n",
    "axs[1].tick_params(axis='both', labelsize=12)\n",
    "axs[1].set_title(\"Fora do aglomerado\", fontsize = 14)\n",
    "plt.tight_layout()\n",
    "plt.show()"
   ]
  },
  {
   "cell_type": "markdown",
   "id": "e0c0b5d3-9d84-491a-aeaf-c6a8e3e23b2d",
   "metadata": {},
   "source": [
    "### Distribuição espacial das estrelas"
   ]
  },
  {
   "cell_type": "code",
   "execution_count": null,
   "id": "01e389bb-1ff8-401e-9e55-a6933f06f595",
   "metadata": {
    "tags": []
   },
   "outputs": [],
   "source": [
    "f = 0.5\n",
    "fig,axs = plt.subplots(figsize = [f*20,f*10], nrows = 1, ncols = 2)\n",
    "hist0 = axs[0].hist2d(stars.ra, stars.dec, bins=50)\n",
    "axs[0].set_xlabel(\"R.A. (deg)\", fontsize=14)\n",
    "axs[0].set_ylabel(\"Dec. (deg)\", fontsize=14)\n",
    "cbar = axs[1].figure.colorbar(hist0[3], ax=axs[0], pad=0.02)\n",
    "cbar.set_label(\"density of points\")\n",
    "axs[0].tick_params(axis='both', labelsize=12)\n",
    "axs[0].set_title(\"Aglomerado\", fontsize = 14)\n",
    "\n",
    "hist = axs[1].hist2d(outside.ra, outside.dec, bins=50)\n",
    "axs[1].set_xlabel(\"R.A. (deg)\", fontsize=14)\n",
    "axs[1].set_ylabel(\"Dec. (deg)\", fontsize=14)\n",
    "cbar = axs[1].figure.colorbar(hist[3], ax=axs[1], pad=0.02)\n",
    "cbar.set_label(\"density of points\")\n",
    "axs[1].tick_params(axis='both', labelsize=12)\n",
    "axs[1].set_title(\"Fora do aglomerado\", fontsize = 14)\n",
    "\n",
    "plt.tight_layout()\n",
    "plt.show()"
   ]
  },
  {
   "cell_type": "markdown",
   "id": "c8320403-2749-4db9-b77b-c8eeafc1bd98",
   "metadata": {
    "tags": []
   },
   "source": [
    "### Diagramas cor-magnitude (CMDs)"
   ]
  },
  {
   "cell_type": "code",
   "execution_count": null,
   "id": "5e6caf4d-d788-40d1-a024-ffd757c606d5",
   "metadata": {
    "tags": []
   },
   "outputs": [],
   "source": [
    "fig, axs = plt.subplots(figsize=[21,7], nrows = 2, ncols =3)\n",
    "xlims = {'g':(-1,2), 'r':(-0.5,2), 'i':(-0.4,1)}\n",
    "ylims = {'g':(25,15), 'r':(24,15), 'i':(23,15)}\n",
    "\n",
    "for ax,band,band_minus in zip(axs[0],['g','r','i'],['r','i','z']):\n",
    "    ax.set_title(\"CMD\", fontsize=14)\n",
    "    mappable = ax.hexbin(stars[f'wavg_mag_psf_{band}_dered'] - stars[f'wavg_mag_psf_{band_minus}_dered'], stars[f'wavg_mag_psf_{band}_dered'], gridsize=500, bins='log')\n",
    "    ax.set_xlabel(f\"{band} - {band_minus}\", fontsize=14)\n",
    "    ax.set_ylabel(f\"{band}\", fontsize=14)\n",
    "    ax.tick_params(axis='both', labelsize=12)\n",
    "    ax.set_xlim(xlims[band][0],xlims[band][1])\n",
    "    ax.set_ylim(ylims[band][0],ylims[band][1])\n",
    "    ax.grid(alpha = 0.25)\n",
    "    cbar = ax.figure.colorbar(mappable, ax=ax, pad=0.02)\n",
    "    cbar.set_label(\"density of points\")\n",
    "\n",
    "for ax,band,band_minus in zip(axs[1],['g','r','i'],['r','i','z']):\n",
    "    ax.set_title(\"CMD\", fontsize=14)\n",
    "    mappable = ax.hexbin(outside[f'wavg_mag_psf_{band}_dered'] - outside[f'wavg_mag_psf_{band_minus}_dered'], outside[f'wavg_mag_psf_{band}_dered'], gridsize=500, bins='log')\n",
    "    ax.set_xlabel(f\"{band} - {band_minus}\", fontsize=14)\n",
    "    ax.set_ylabel(f\"{band}\", fontsize=14)\n",
    "    ax.tick_params(axis='both', labelsize=12)\n",
    "    ax.set_xlim(xlims[band][0],xlims[band][1])\n",
    "    ax.set_ylim(ylims[band][0],ylims[band][1])\n",
    "    ax.grid(alpha = 0.25)\n",
    "    cbar = ax.figure.colorbar(mappable, ax=ax, pad=0.02)\n",
    "    cbar.set_label(\"density of points\")\n",
    "plt.tight_layout()\n",
    "plt.show()"
   ]
  }
 ],
 "metadata": {
  "kernelspec": {
   "display_name": "tutorial",
   "language": "python",
   "name": "tutorial"
  },
  "language_info": {
   "codemirror_mode": {
    "name": "ipython",
    "version": 3
   },
   "file_extension": ".py",
   "mimetype": "text/x-python",
   "name": "python",
   "nbconvert_exporter": "python",
   "pygments_lexer": "ipython3",
   "version": "3.11.3"
  }
 },
 "nbformat": 4,
 "nbformat_minor": 5
}
