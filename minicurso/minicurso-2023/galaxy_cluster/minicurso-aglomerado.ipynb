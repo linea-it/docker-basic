{
 "cells": [
  {
   "cell_type": "markdown",
   "id": "d044566d-8cf7-4356-9615-2828382651ec",
   "metadata": {},
   "source": [
    "\n",
    "<img align=\"left\" src = https://www.linea.org.br/wp-content/themes/LIneA/imagens/logo-header.png width=120 style=\"padding: 20px\"> <br> \n",
    "<img align=\"right\" src = https://jupyter.org/assets/homepage/hublogo.svg width=200 style=\"padding: 20px\"> <br> \n",
    "<br>\n",
    "<br>\n",
    "<br>\n",
    "<br>\n",
    "\n",
    "# Minicurso JupyterHub - Caso Científico 2: Aglomerados de Galáxias"
   ]
  },
  {
   "cell_type": "markdown",
   "id": "2f64e338-06da-4e34-b4c7-874f67bab1ea",
   "metadata": {},
   "source": [
    "Andressa Wille"
   ]
  },
  {
   "cell_type": "markdown",
   "id": "3f9475b3-fa17-473f-aa68-c50d284dc930",
   "metadata": {},
   "source": [
    "## Contexto e Objetivos"
   ]
  },
  {
   "cell_type": "markdown",
   "id": "58d107ad-f077-44af-9e32-bf4c34e47c79",
   "metadata": {},
   "source": [
    "Neste notebook vamos explorar galáxias massivas da sequência vermelha de aglomerados."
   ]
  },
  {
   "cell_type": "markdown",
   "id": "dc326f78-4a3b-4e4b-8b03-dc375d212e9f",
   "metadata": {},
   "source": [
    "Aglomerados de galáxias são grandes estruturas compostas por centenas a milhares de galáxias. Um exemplo famoso é o Aglomerado de Fornax (ACO S 373). Veja algumas das galáxias que o compõe na figura abaixo."
   ]
  },
  {
   "cell_type": "markdown",
   "id": "a6c7b6a2-0d72-4af2-bd8e-8aea84750a8b",
   "metadata": {},
   "source": [
    "<img src=\"Fornax-Galaxy-Cluster.jpg\">"
   ]
  },
  {
   "cell_type": "markdown",
   "id": "54271c51-dd0d-4021-ac01-75df192bff3b",
   "metadata": {},
   "source": [
    "Uma ferramenta importante para o estudo de aglomerados é o diagrama cor-magnitude (ou color-magnitude diagram, CMD). Nesse diagrama, é comum aparecerem duas regiões mais densas: a red sequence (sequência vermelha) e a blue cloud (nuvem azul)."
   ]
  },
  {
   "cell_type": "markdown",
   "id": "a4e35b79-e153-4f1e-bb20-4f2f17e31713",
   "metadata": {},
   "source": [
    "<img src=\"color-magnitude_diagram.jpg\">"
   ]
  },
  {
   "cell_type": "markdown",
   "id": "f6dca0ff-1b39-48f4-a034-d0b22076c4d1",
   "metadata": {},
   "source": [
    "Neste exemplo, vamos plotar o CMD de aglomerados com redshift entre 0.5 e 0.6. Depois, vamos selecionar algumas galáxias mais massivas da sequência vermelha para visualizar no Target Viewer."
   ]
  },
  {
   "cell_type": "markdown",
   "id": "08afad05-7547-4ee8-85f1-b0d17a347d82",
   "metadata": {},
   "source": [
    "## Bibliotecas e Environment"
   ]
  },
  {
   "cell_type": "markdown",
   "id": "a5b0e39e-007a-4a93-ba25-40075c2328d7",
   "metadata": {},
   "source": [
    " Para criar um ambiente e instalar as bibliotecas necessárias a execução desse jupyter notebook, é necessário que os seguintes comandos sejam executados no terminal (conforme explicado nos slides):"
   ]
  },
  {
   "cell_type": "markdown",
   "id": "e5811c14-0c82-42f9-99f3-7fe011525da8",
   "metadata": {
    "tags": []
   },
   "source": [
    "```console\n",
    "conda create -p $HOME/.conda/envs/tutorial\n",
    "conda env list\n",
    "conda activate tutorial # (ou source activate tutorial)\n",
    "conda install pip numpy astropy scipy pandas sqlalchemy psycopg2 matplotlib seaborn ipykernel\n",
    "conda install -c conda-forge fitsio\n",
    "pip install astropandas\n",
    "pip install dblinea\n",
    "python -m ipykernel install --user --name=tutorial\n",
    "# Refresh page (F5 no teclado não funciona, tem que ser no ícone mesmo).\t\n",
    "```"
   ]
  },
  {
   "cell_type": "markdown",
   "id": "5a9536d0-0899-4b38-8bd5-ab94b5c6fb52",
   "metadata": {},
   "source": [
    "Realizada a configuração do ambiente, podemos prosseguir com a importação dos pacotes/módulos que serão utilizados nesse minicurso."
   ]
  },
  {
   "cell_type": "markdown",
   "id": "65a45a95-e3c1-46af-bba3-a64af7723541",
   "metadata": {},
   "source": [
    "## Importando Módulos"
   ]
  },
  {
   "cell_type": "code",
   "execution_count": null,
   "id": "2330fc8a-1950-46e4-865a-756bd10bb0fc",
   "metadata": {
    "tags": []
   },
   "outputs": [],
   "source": [
    "import matplotlib.pyplot as plt #Visualização de gráficos\n",
    "import pandas as pd #Manejamento de tabelas e dataframes\n",
    "import numpy as np #Pacote muntifuncional para uso matemático\n",
    "from scipy.optimize import curve_fit #Função para ajuste de curvas\n",
    "\n",
    "#Astropy é um módulo com inúmeras ferramentas úteis na vida dos astronomos/astrofísicos\n",
    "from astropy import units as u\n",
    "from astropy.coordinates import SkyCoord\n",
    "from astropy.table import Table\n",
    "\n",
    "import astropandas as apd #Pacote necessário para o cross-match\n",
    "\n",
    "#Comandos do JupyterNotebook para agilizar reimportações\n",
    "%reload_ext autoreload\n",
    "%autoreload 2"
   ]
  },
  {
   "cell_type": "markdown",
   "id": "a780adf5-3194-404a-baf4-b781e90ec02b",
   "metadata": {},
   "source": [
    "## Acesso ao banco de dados"
   ]
  },
  {
   "cell_type": "markdown",
   "id": "1327cff8-ec99-484e-bd67-d4150cbe20d8",
   "metadata": {},
   "source": [
    "Para acessar os dados do DES, vamos usar o módulo dblinea."
   ]
  },
  {
   "cell_type": "code",
   "execution_count": null,
   "id": "7d893dbe-b51b-4312-bf87-7bacaaf192ca",
   "metadata": {
    "tags": []
   },
   "outputs": [],
   "source": [
    "from dblinea import DBBase\n",
    "db = DBBase()\n",
    "schema = \"des_dr2\"  \n",
    "tablename = \"coadd_objects\""
   ]
  },
  {
   "cell_type": "markdown",
   "id": "66fc468f-76e0-41cc-99b1-b4ab51c09cf3",
   "metadata": {},
   "source": [
    "## Seleção de dados"
   ]
  },
  {
   "cell_type": "markdown",
   "id": "1393af1d-26b7-49ff-bc8d-e1dcfcd6e9a0",
   "metadata": {},
   "source": [
    "### WaZP"
   ]
  },
  {
   "cell_type": "markdown",
   "id": "3f8b7e34-dcbe-4e4c-ba50-37574f811edc",
   "metadata": {},
   "source": [
    "As galáxias membros de aglomerados que vamos estudar foram identificados por um algoritmo buscador de aglomerados chamado WaZP - Wavelet Z Photometric cluster finder -, aplicado sobre os dados do Dark Energy Survey. \n",
    "Nós utilizaremos a tabela do WaZP porque precisamos selecionar objetos no intervalo de redshift 0.5 a 0.6."
   ]
  },
  {
   "cell_type": "markdown",
   "id": "587bf49e-baa2-416c-96d7-14e5b5a44f68",
   "metadata": {},
   "source": [
    "Essa tabela está disponível em http://dev.linea.org.br/~aguena//public_cats/wazp_y1/y1a1_dnf_wazp_v5.0.11.5943+39_members.fits\n",
    "\n",
    "Você deve baixá-la antes de seguir os próximos passos do notebook."
   ]
  },
  {
   "cell_type": "code",
   "execution_count": null,
   "id": "e946be38-3bfd-41ce-9714-9f93e57ac9a6",
   "metadata": {
    "tags": []
   },
   "outputs": [],
   "source": [
    "! wget http://dev.linea.org.br/~aguena//public_cats/wazp_y1/y1a1_dnf_wazp_v5.0.11.5943+39_members.fits "
   ]
  },
  {
   "cell_type": "markdown",
   "id": "4cc6ad34-326e-48c6-a237-a2f6712c7080",
   "metadata": {
    "tags": []
   },
   "source": [
    "Não iremos usar todos os dados da tabela, por isso faremos máscaras para pegar apenas uma região específica e no intervalo de redshift escolhido."
   ]
  },
  {
   "cell_type": "code",
   "execution_count": null,
   "id": "23495102-796b-43e8-9a96-a21e6f4ab10d",
   "metadata": {
    "tags": []
   },
   "outputs": [],
   "source": [
    "wazp_members = Table.read('y1a1_dnf_wazp_v5.0.11.5943+39_members.fits', format='fits')\n",
    "\n",
    "mask_z = (wazp_members['ZP'] > 0.5) & (wazp_members['ZP'] < 0.6)\n",
    "mask_ra = (wazp_members['RA'] > 40) & (wazp_members['RA'] < 50)\n",
    "mask_dec = (wazp_members['DEC'] > -50) & (wazp_members['DEC'] < -40)\n",
    "mask = mask_z & mask_ra & mask_dec\n",
    "\n",
    "wazp = wazp_members[mask]\n",
    "wazp"
   ]
  },
  {
   "cell_type": "markdown",
   "id": "9c89d659-5b9d-448f-ad78-4e28d356ca85",
   "metadata": {},
   "source": [
    "Como não precisamos de todas as informações da tabela, vamos selecionar apenas as colunas necessárias."
   ]
  },
  {
   "cell_type": "code",
   "execution_count": null,
   "id": "60113c43-e9ac-4d24-87d5-cac29badba4e",
   "metadata": {
    "tags": []
   },
   "outputs": [],
   "source": [
    "wazp_2 = wazp[['RA', 'DEC', 'ZP', 'mag_g', 'mag_r']]\n",
    "wazp_2"
   ]
  },
  {
   "cell_type": "markdown",
   "id": "88f9a87c-d1c7-4709-91c0-8cd541b414c5",
   "metadata": {},
   "source": [
    "Converter para pandas dataframe:"
   ]
  },
  {
   "cell_type": "code",
   "execution_count": null,
   "id": "6ad01e8d-ee05-4517-9bb9-daf9e5458879",
   "metadata": {
    "tags": []
   },
   "outputs": [],
   "source": [
    "wazp_df = Table.to_pandas(wazp_2)\n",
    "wazp_df"
   ]
  },
  {
   "cell_type": "markdown",
   "id": "d04d0c0f-6162-4e19-9a47-01247e1e1c53",
   "metadata": {},
   "source": [
    "#### Visualização espacial - WaZP"
   ]
  },
  {
   "cell_type": "code",
   "execution_count": null,
   "id": "8b516d42-80ba-43d4-8220-e87bb6f3b126",
   "metadata": {
    "tags": []
   },
   "outputs": [],
   "source": [
    "ra =  wazp_df['RA']\n",
    "dec =  wazp_df['DEC']\n",
    "\n",
    "plt.hexbin(ra, dec, None,  mincnt=1, cmap='viridis', gridsize=[200,100])\n",
    "plt.xlabel('ra (°)')\n",
    "plt.ylabel('dec (°)')\n",
    "plt.colorbar(label='density of points')\n",
    "plt.title('Spacial distribution for WaZP members')\n",
    "plt.grid()\n",
    "plt.tight_layout()"
   ]
  },
  {
   "cell_type": "markdown",
   "id": "0c2b73ad-3363-4211-b3a6-20df8835a57b",
   "metadata": {},
   "source": [
    "#### CMD - WaZP"
   ]
  },
  {
   "cell_type": "code",
   "execution_count": null,
   "id": "6825eecf-d458-401e-9701-b4988b25038e",
   "metadata": {
    "tags": []
   },
   "outputs": [],
   "source": [
    "mag1 = 'g'\n",
    "mag2 = 'r'\n",
    "\n",
    "plt.figure()\n",
    "color = np.array(wazp_df[f'mag_{mag1}']) - np.array(wazp_df[f'mag_{mag2}'])\n",
    "mag = np.array(wazp_df[f'mag_{mag1}'])               \n",
    "#mask = (mag>14)&(mag<32)&(color<3)&(color>-3)\n",
    "\n",
    "plt.hexbin(mag, color, None, mincnt=1, cmap='viridis', gridsize=[200,100])\n",
    "cbar = plt.colorbar(label='density of points')\n",
    "plt.xlabel('mag '+mag1)\n",
    "plt.ylabel(f'{mag1}-{mag2}')\n",
    "plt.title('Color-magnitude diagram for WaZP members')\n",
    "plt.grid(True)\n",
    "plt.tight_layout()"
   ]
  },
  {
   "cell_type": "markdown",
   "id": "76667606-4cc9-4b61-8cfb-b72fa3b287ff",
   "metadata": {},
   "source": [
    "Já nesse plot é possível ver duas regiões de maior densidade, a red sequence e a blue cloud. Porém, esses dados ainda não precisos o suficiente, pois a cada medição de magnitude existe um erro associado."
   ]
  },
  {
   "cell_type": "markdown",
   "id": "1b93cac2-7969-4778-a51a-373952887996",
   "metadata": {},
   "source": [
    "Vamos filtrar nossos dados, eliminando galáxias com erro em magnitude maiores do que 0.1.\n",
    "A tabela do WaZP não tem coluna de erro em magnitude, mas a tabela do DES DR2 sim. Faremos um cross-match."
   ]
  },
  {
   "cell_type": "markdown",
   "id": "9c9ad213-e942-4532-a68d-49cceea181e9",
   "metadata": {},
   "source": [
    "### DES DR2 "
   ]
  },
  {
   "cell_type": "markdown",
   "id": "c911c0f5-a40b-47a2-af9e-8fc7a9ccac0b",
   "metadata": {},
   "source": [
    "O DES DR2 tem muitos dados, divididos em várias colunas. A descrição de cada coluna pode ser encontrada em:\n",
    "https://des.ncsa.illinois.edu/releases/dr2/dr2-products/dr2-schema"
   ]
  },
  {
   "cell_type": "markdown",
   "id": "9834d652-cbad-4a5c-ba28-efff7bff6823",
   "metadata": {},
   "source": [
    "A função a seguir nos mostra o nome das colunas disponíveis na tabela escolhida."
   ]
  },
  {
   "cell_type": "code",
   "execution_count": null,
   "id": "cea60924-4486-4b25-9bc9-55ba00f94f41",
   "metadata": {
    "scrolled": true,
    "tags": []
   },
   "outputs": [],
   "source": [
    "db.get_table_columns(tablename, schema=schema)"
   ]
  },
  {
   "cell_type": "markdown",
   "id": "0f185f52-86a0-4f94-80a3-da74a856af94",
   "metadata": {},
   "source": [
    "A partir do dblinea é possível realizar queries, utilizando linguagem SQL. Vamos usar a função db.fetchall_df para coletar os dados."
   ]
  },
  {
   "cell_type": "markdown",
   "id": "d26b042c-e4ec-4cd1-906a-302dd7c34387",
   "metadata": {},
   "source": [
    "Se quiser saber mais sobre uma função, basta buscar pelo help dela:"
   ]
  },
  {
   "cell_type": "code",
   "execution_count": null,
   "id": "3efedece-2fc9-49e0-ae8d-e976a0ef15c6",
   "metadata": {
    "tags": []
   },
   "outputs": [],
   "source": [
    "help(db.fetchall_df)"
   ]
  },
  {
   "cell_type": "markdown",
   "id": "3c7b0834-399b-4501-949c-79e86c048746",
   "metadata": {},
   "source": [
    "A query que executaremos será a seguinte:"
   ]
  },
  {
   "cell_type": "markdown",
   "id": "96664361-2598-46fd-8263-0a8c7dcdadfb",
   "metadata": {},
   "source": [
    "```sql\n",
    "SELECT ra, dec, extended_class_coadd, mag_auto_g, mag_auto_r, magerr_auto_g, magerr_auto_r\n",
    "FROM des_dr2.coadd_objects \n",
    "WHERE q3c_poly_query(ra, dec, ARRAY[{xlim[0]}, {ylim[1]}, {xlim[0]}, {ylim[0]}, {xlim[1]}, {ylim[0]}, {xlim[1]}, {ylim[1]}]) \n",
    "AND extended_class_coadd >= 2 \n",
    "limit {l}\n",
    "````"
   ]
  },
  {
   "cell_type": "markdown",
   "id": "f95f1db1-3fd0-4621-b4e3-b6e3dd3acc63",
   "metadata": {},
   "source": [
    "Precisamos das coordenadas (da mesma região que selecionamos anteriormente!), das magnitudes e erros em magnitude nas bandas g e r. Para selecionar objetos que são galáxias, não estrelas, usaremos o filtro extended_class_coadd >= 2."
   ]
  },
  {
   "cell_type": "code",
   "execution_count": null,
   "id": "e7d32aef-b2d0-41cc-a491-322d1f90fb42",
   "metadata": {
    "tags": []
   },
   "outputs": [],
   "source": [
    "xlim = [40, 50]\n",
    "ylim = [-50, -40]\n",
    "l = 7500000\n",
    "query = f\"SELECT ra, dec, extended_class_coadd, mag_auto_g, mag_auto_r, magerr_auto_g, magerr_auto_r FROM des_dr2.coadd_objects WHERE q3c_poly_query(ra, dec, ARRAY[{xlim[0]}, {ylim[1]}, {xlim[0]}, {ylim[0]}, {xlim[1]}, {ylim[0]}, {xlim[1]}, {ylim[1]}]) AND extended_class_coadd >= 2 limit {l}\""
   ]
  },
  {
   "cell_type": "markdown",
   "id": "84163ab0-4eb4-4673-a5a9-c3aecfb611c1",
   "metadata": {},
   "source": [
    "A célula seguinte pode demorar alguns minutos para rodar."
   ]
  },
  {
   "cell_type": "code",
   "execution_count": null,
   "id": "ed809463-7e77-4c75-bd3b-c12a12a79c9b",
   "metadata": {
    "tags": []
   },
   "outputs": [],
   "source": [
    "%%time\n",
    "des_df = db.fetchall_df(query)\n",
    "des_df"
   ]
  },
  {
   "cell_type": "markdown",
   "id": "2b16e757-c7cc-4aeb-8caf-4a79c9aeb9a1",
   "metadata": {},
   "source": [
    "#### Visualização espacial - DES"
   ]
  },
  {
   "cell_type": "code",
   "execution_count": null,
   "id": "7724f8fc-163d-43c5-b38b-23764c62d1e7",
   "metadata": {
    "tags": []
   },
   "outputs": [],
   "source": [
    "ra =  des_df['ra']\n",
    "dec =  des_df['dec']\n",
    "\n",
    "plt.hexbin(ra, dec, None,  mincnt=1, cmap='viridis', gridsize=[200,100])\n",
    "plt.xlabel('ra (°)')\n",
    "plt.ylabel('dec (°)')\n",
    "plt.colorbar(label='density of points')\n",
    "plt.title('Spacial distribution for DES data')\n",
    "plt.grid(True)\n",
    "plt.tight_layout()"
   ]
  },
  {
   "cell_type": "markdown",
   "id": "a3dae30c-1ce6-4c43-9d87-52605e085f2b",
   "metadata": {
    "tags": []
   },
   "source": [
    "#### Cross-match"
   ]
  },
  {
   "cell_type": "markdown",
   "id": "b1816317-961e-4b52-af8e-dee5c352dd75",
   "metadata": {},
   "source": [
    "O cross-match será feito pela função match do astropandas, que compara ascensão reta e declinação de dois dataframes diferentes."
   ]
  },
  {
   "cell_type": "code",
   "execution_count": null,
   "id": "48d0982e-a153-4f3d-93e5-5db3064b3344",
   "metadata": {
    "tags": []
   },
   "outputs": [],
   "source": [
    "merged, info = apd.match(\n",
    "    left=wazp_df, right=des_df,\n",
    "    left_ra=\"RA\", left_dec=\"DEC\",\n",
    "    right_ra=\"ra\", right_dec=\"dec\",\n",
    "    threshold=1/3600)"
   ]
  },
  {
   "cell_type": "code",
   "execution_count": null,
   "id": "d5619c7a-e8e3-47ab-a8e2-2420b4b75866",
   "metadata": {
    "tags": []
   },
   "outputs": [],
   "source": [
    "merged"
   ]
  },
  {
   "cell_type": "markdown",
   "id": "0ca6cf80-a5fa-4fc9-a0cd-1d313702b796",
   "metadata": {},
   "source": [
    "#### CMD"
   ]
  },
  {
   "cell_type": "markdown",
   "id": "0c0bc2c2-b1a5-4fdb-901b-803c189d1898",
   "metadata": {},
   "source": [
    "Agora que temos a coluna de erro em magnitude, podemos fazer a máscara para eleminar objetos com erro muito grande, e plotar nosso diagrama cor-magnitude final."
   ]
  },
  {
   "cell_type": "code",
   "execution_count": null,
   "id": "a4a471b4-6091-4b54-a9f6-a2cc77c0cc16",
   "metadata": {
    "tags": []
   },
   "outputs": [],
   "source": [
    "mag1 = 'g'\n",
    "mag2 = 'r'\n",
    "\n",
    "plt.figure()\n",
    "color = np.array(merged[f'mag_auto_{mag1}']) - np.array(merged[f'mag_auto_{mag2}'])\n",
    "mag = np.array(merged[f'mag_auto_{mag1}'])    \n",
    "\n",
    "mask_err = merged[f'magerr_auto_{mag1}'] < 0.1\n",
    "\n",
    "plt.hexbin(mag[mask_err], color[mask_err], None, mincnt=1, cmap='viridis', gridsize=[200,100])\n",
    "cbar = plt.colorbar(label='density of points')\n",
    "plt.xlabel('mag '+mag1)\n",
    "plt.ylabel(f'{mag1}-{mag2}')\n",
    "plt.title('Color-magnitude diagram')\n",
    "plt.grid(True)\n",
    "plt.tight_layout()"
   ]
  },
  {
   "cell_type": "markdown",
   "id": "ac25598d-410e-4507-81f2-8ccf9da460ee",
   "metadata": {},
   "source": [
    "## Seleção das galáxias mais vermelhas"
   ]
  },
  {
   "cell_type": "markdown",
   "id": "d3b15752-5054-4bdf-99ea-67601b017171",
   "metadata": {},
   "source": [
    "Vamos selecionar as galáxias mais vermelhas (cor maior) e mais brilhantes (magnitude menor)."
   ]
  },
  {
   "cell_type": "code",
   "execution_count": null,
   "id": "996e4c5b-8cc7-47fc-9047-917598a70813",
   "metadata": {
    "tags": []
   },
   "outputs": [],
   "source": [
    "mask_red = (merged['mag_auto_g']<21) & (merged['mag_auto_g']-merged['mag_auto_r']>1.6)"
   ]
  },
  {
   "cell_type": "code",
   "execution_count": null,
   "id": "9b0e65c6-b557-402d-9389-54e40ec69c34",
   "metadata": {
    "tags": []
   },
   "outputs": [],
   "source": [
    "mag1 = 'g'\n",
    "mag2 = 'r'\n",
    "\n",
    "plt.figure()\n",
    "color = np.array(merged[f'mag_auto_{mag1}']) - np.array(merged[f'mag_auto_{mag2}'])\n",
    "mag = np.array(merged[f'mag_auto_{mag1}'])    \n",
    "\n",
    "mask_err = merged[f'magerr_auto_{mag1}'] < 0.1 \n",
    "mask = mask_err & mask_red\n",
    "\n",
    "plt.plot(mag[mask], color[mask], 'ro')\n",
    "plt.xlabel(\"mag \"+mag1)\n",
    "plt.ylabel(f\"{mag1}-{mag2}\")\n",
    "plt.grid(True)\n",
    "plt.tight_layout()"
   ]
  },
  {
   "cell_type": "markdown",
   "id": "343efc2c-55a8-4ecb-8a09-3c991c96a356",
   "metadata": {},
   "source": [
    "Quais são as coordenadas desses objetos?"
   ]
  },
  {
   "cell_type": "code",
   "execution_count": null,
   "id": "23c4f7bf-1e4c-40d8-9698-67e320406769",
   "metadata": {
    "tags": []
   },
   "outputs": [],
   "source": [
    "for ra, dec in zip(merged[mask]['RA'], merged[mask]['DEC']): \n",
    "    print(ra, \",\", dec)"
   ]
  },
  {
   "cell_type": "markdown",
   "id": "8cd9b25f-fcec-4940-86ee-cf946467c748",
   "metadata": {},
   "source": [
    "Agora que temos as coordenadas, podemos observar esses objetos no Science Server:\n",
    "\n",
    "https://scienceserver.linea.org.br/target/#home\n",
    "\n",
    "https://scienceserver.linea.org.br/sky/#sky"
   ]
  },
  {
   "cell_type": "code",
   "execution_count": null,
   "id": "e4a7b2c1-d40e-41cb-b2ac-fcfd58fe6878",
   "metadata": {},
   "outputs": [],
   "source": []
  }
 ],
 "metadata": {
  "kernelspec": {
   "display_name": "tutorial",
   "language": "python",
   "name": "tutorial"
  },
  "language_info": {
   "codemirror_mode": {
    "name": "ipython",
    "version": 3
   },
   "file_extension": ".py",
   "mimetype": "text/x-python",
   "name": "python",
   "nbconvert_exporter": "python",
   "pygments_lexer": "ipython3",
   "version": "3.11.3"
  }
 },
 "nbformat": 4,
 "nbformat_minor": 5
}
