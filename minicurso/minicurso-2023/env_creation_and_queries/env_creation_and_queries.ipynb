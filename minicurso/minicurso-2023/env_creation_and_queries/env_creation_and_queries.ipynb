{
 "cells": [
  {
   "cell_type": "markdown",
   "id": "d044566d-8cf7-4356-9615-2828382651ec",
   "metadata": {},
   "source": [
    "\n",
    "<img align=\"left\" src = https://www.linea.org.br/wp-content/themes/LIneA/imagens/logo-header.png width=120 style=\"padding: 20px\"> <br> \n",
    "<img align=\"right\" src = https://jupyter.org/assets/homepage/hublogo.svg width=200 style=\"padding: 20px\"> <br> \n",
    "<br>\n",
    "<br>\n",
    "<br>\n",
    "<br>\n",
    "\n",
    "# Minicurso JupyterHub - Acesso a dados do DES e exemplos "
   ]
  },
  {
   "cell_type": "markdown",
   "id": "2f64e338-06da-4e34-b4c7-874f67bab1ea",
   "metadata": {},
   "source": [
    "Última verificação: 06/06/23\n",
    "\n",
    "Andressa Wille e Gabriel Oliveira"
   ]
  },
  {
   "cell_type": "markdown",
   "id": "08afad05-7547-4ee8-85f1-b0d17a347d82",
   "metadata": {},
   "source": [
    "## Bibliotecas e Environment"
   ]
  },
  {
   "cell_type": "markdown",
   "id": "a5b0e39e-007a-4a93-ba25-40075c2328d7",
   "metadata": {},
   "source": [
    " Para criar um ambiente e instalar as bibliotecas necessárias a execução desse jupyter notebook, é necessário que os seguintes comandos sejam executados no terminal (conforme explicado nos slides):"
   ]
  },
  {
   "cell_type": "markdown",
   "id": "e5811c14-0c82-42f9-99f3-7fe011525da8",
   "metadata": {
    "tags": []
   },
   "source": [
    "```console\n",
    "conda create -p $HOME/.conda/envs/tutorial\n",
    "conda env list\n",
    "conda activate tutorial (ou source activate tutorial)\n",
    "conda install pip numpy astropy scipy pandas sqlalchemy psycopg2 matplotlib seaborn ipykernel\n",
    "pip install dblinea\n",
    "python -m ipykernel install --user --name=tutorial\n",
    "# Refresh page (F5 no teclado não funciona, tem que ser no ícone mesmo).\t\n",
    "```"
   ]
  },
  {
   "cell_type": "markdown",
   "id": "ce1d4d97-98eb-4b43-b77a-e72ec121b5be",
   "metadata": {
    "tags": []
   },
   "source": [
    "É comum que a instalação de novos pacotes seja necessária conforme realizamos alguma tarefa científica.\n",
    "Nesse caso, se já foi feita a criação de um kernel, é necessário que esse seja removido, que o pacote novo seja instalado e que o kernel seja novamente criado.\n",
    "Podemos fazer isso utilizando os seguintes comandos:"
   ]
  },
  {
   "cell_type": "markdown",
   "id": "c8c1ae89-67c4-4083-bd5c-44129cf05794",
   "metadata": {},
   "source": [
    "```console\n",
    "conda deactivate\n",
    "jupyter kernelspec list\n",
    "jupyter kernelspec remove tutorial\n",
    "conda activate tutorial (ou source activate tutorial)\n",
    "# (instalação do pacote, conda ou pip)\n",
    "python -m ipykernel install --user --name=tutorial\n",
    "```"
   ]
  },
  {
   "cell_type": "markdown",
   "id": "5a9536d0-0899-4b38-8bd5-ab94b5c6fb52",
   "metadata": {},
   "source": [
    "Realizada a configuração do ambiente, podemos prosseguir com a importação dos pacotes/módulos que serão utilizados nesse minicurso."
   ]
  },
  {
   "cell_type": "markdown",
   "id": "65a45a95-e3c1-46af-bba3-a64af7723541",
   "metadata": {},
   "source": [
    "## Importando Módulos"
   ]
  },
  {
   "cell_type": "code",
   "execution_count": null,
   "id": "2330fc8a-1950-46e4-865a-756bd10bb0fc",
   "metadata": {
    "tags": []
   },
   "outputs": [],
   "source": [
    "import matplotlib.pyplot as plt #Visualização de gráficos\n",
    "import pandas as pd #Manejamento de Tabelas e dataframes\n",
    "import numpy as np #Pacote muntifuncional para uso matemático\n",
    "\n",
    "#Astropy é um módulo com inúmeras ferramentas úteis na vida dos astronomos/astrofísicos\n",
    "from astropy import units as u\n",
    "from astropy.coordinates import SkyCoord\n",
    "\n",
    "#Comandos do JupyterNotebook para agilizar reimportações\n",
    "%reload_ext autoreload\n",
    "%autoreload 2"
   ]
  },
  {
   "cell_type": "markdown",
   "id": "a780adf5-3194-404a-baf4-b781e90ec02b",
   "metadata": {},
   "source": [
    "## Acesso ao banco de dados"
   ]
  },
  {
   "cell_type": "code",
   "execution_count": null,
   "id": "7d893dbe-b51b-4312-bf87-7bacaaf192ca",
   "metadata": {
    "tags": []
   },
   "outputs": [],
   "source": [
    "from dblinea import DBBase\n",
    "db = DBBase()\n",
    "schema = \"des_dr2\"  \n",
    "tablename = \"coadd_objects\""
   ]
  },
  {
   "cell_type": "markdown",
   "id": "05ae844d-e3bc-4e5c-8189-082f3f67cbac",
   "metadata": {},
   "source": [
    "## Visualizando colunas da tabela"
   ]
  },
  {
   "cell_type": "markdown",
   "id": "c911c0f5-a40b-47a2-af9e-8fc7a9ccac0b",
   "metadata": {},
   "source": [
    "A descrição de cada coluna pode ser encontrada em:\n",
    "https://des.ncsa.illinois.edu/releases/dr2/dr2-products/dr2-schema"
   ]
  },
  {
   "cell_type": "code",
   "execution_count": null,
   "id": "aff1b644-773a-4908-bbc9-7e7ed073cc68",
   "metadata": {
    "tags": []
   },
   "outputs": [],
   "source": [
    "db.get_table_columns(tablename, schema=schema)"
   ]
  },
  {
   "cell_type": "markdown",
   "id": "8aa23102-5371-4de3-84fd-ab6fdb710cc5",
   "metadata": {},
   "source": [
    "## Realizando Queries"
   ]
  },
  {
   "cell_type": "markdown",
   "id": "7943fcd3-69ec-4f49-8afa-950d7bbd02f9",
   "metadata": {
    "tags": []
   },
   "source": [
    "A partir do dblinea é possível realizar queries, utilizando linguagem SQL. Para isso, utilizaremos a função db.fetchall_df"
   ]
  },
  {
   "cell_type": "code",
   "execution_count": null,
   "id": "22a2c1e0-36fd-46e4-b200-7888a44b02bf",
   "metadata": {
    "tags": []
   },
   "outputs": [],
   "source": [
    "help(db.fetchall_df)"
   ]
  },
  {
   "cell_type": "markdown",
   "id": "c2e11a76-c8f6-4fe0-b101-f21fab922bcd",
   "metadata": {},
   "source": [
    "**Primeira query**"
   ]
  },
  {
   "cell_type": "markdown",
   "id": "24df9d2a-7170-4472-bd76-7b8f259f4e37",
   "metadata": {},
   "source": [
    "```sql\n",
    "SELECT coadd_object_id, ra, dec, galactic_l, galactic_b, extended_class_coadd, mag_auto_g,\n",
    "mag_auto_r, mag_auto_i, mag_auto_z, mag_auto_y, magerr_auto_g, magerr_auto_r, magerr_auto_i, magerr_auto_z, magerr_auto_y \n",
    "FROM des_dr2.coadd_objects \n",
    "limit 100000\n",
    "````"
   ]
  },
  {
   "cell_type": "code",
   "execution_count": null,
   "id": "3fc9bca1-975b-4ccf-94f4-c3c6c336e668",
   "metadata": {
    "tags": []
   },
   "outputs": [],
   "source": [
    "limit = 100000\n",
    "query = f\"SELECT coadd_object_id, ra, dec, galactic_l, galactic_b, extended_class_coadd, mag_auto_g, mag_auto_r, mag_auto_i, mag_auto_z, mag_auto_y, magerr_auto_g, magerr_auto_r, magerr_auto_i, magerr_auto_z, magerr_auto_y FROM des_dr2.coadd_objects limit {limit}\""
   ]
  },
  {
   "cell_type": "markdown",
   "id": "855b5815-91ed-4648-9789-c5213fb89325",
   "metadata": {},
   "source": [
    "**Query retangular**"
   ]
  },
  {
   "cell_type": "markdown",
   "id": "a304b1d5-4a35-4202-9e7c-38176481729d",
   "metadata": {},
   "source": [
    "```sql\n",
    "SELECT coadd_object_id, ra, dec, galactic_l, galactic_b, extended_class_coadd, mag_auto_g,mag_auto_r, mag_auto_i, mag_auto_z, mag_auto_y, magerr_auto_g, magerr_auto_r, magerr_auto_i, magerr_auto_z, magerr_auto_y \n",
    "FROM des_dr2.coadd_objects \n",
    "WHERE q3c_poly_query(ra, dec, ARRAY[{xlim[0]}, {ylim[1]}, {xlim[0]}, {ylim[0]}, {xlim[1]}, {ylim[0]}, {xlim[1]}, {ylim[1]}])\n",
    "limit {limit}\n",
    "```"
   ]
  },
  {
   "cell_type": "code",
   "execution_count": null,
   "id": "bb26e2de-73b8-4eac-9572-1b99c3ff8778",
   "metadata": {
    "tags": []
   },
   "outputs": [],
   "source": [
    "xlim = [32,34]\n",
    "ylim = [-34,-32]\n",
    "limit = 100000\n",
    "query = f\"SELECT coadd_object_id, ra, dec, galactic_l, galactic_b, extended_class_coadd, mag_auto_g,mag_auto_r, mag_auto_i, mag_auto_z, mag_auto_y, magerr_auto_g, magerr_auto_r, magerr_auto_i, magerr_auto_z, magerr_auto_y FROM des_dr2.coadd_objects WHERE q3c_poly_query(ra, dec, ARRAY[{xlim[0]}, {ylim[1]}, {xlim[0]}, {ylim[0]}, {xlim[1]}, {ylim[0]}, {xlim[1]}, {ylim[1]}]) limit {limit}\""
   ]
  },
  {
   "cell_type": "markdown",
   "id": "3fc84ff6-2132-491f-8554-db4933c02da5",
   "metadata": {},
   "source": [
    "**Query circular**"
   ]
  },
  {
   "cell_type": "markdown",
   "id": "35c8b735-8148-4b4a-ad63-b9ddc3197fc3",
   "metadata": {},
   "source": [
    "```sql\n",
    "SELECT coadd_object_id, ra, dec, galactic_l, galactic_b, extended_class_coadd, mag_auto_g,mag_auto_r, mag_auto_i, mag_auto_z, mag_auto_y, magerr_auto_g, magerr_auto_r, magerr_auto_i, magerr_auto_z, magerr_auto_y \n",
    "FROM des_dr2.coadd_objects \n",
    "WHERE q3c_radial_query(ra, dec, {x}, {y}, {r}) \n",
    "limit {limit}\n",
    "```"
   ]
  },
  {
   "cell_type": "code",
   "execution_count": null,
   "id": "f2ffe864-6f1f-4490-b606-850ee0468be4",
   "metadata": {
    "tags": []
   },
   "outputs": [],
   "source": [
    "x,y = 32,-34\n",
    "r = 2.0\n",
    "query = f\"SELECT coadd_object_id, ra, dec, galactic_l, galactic_b, extended_class_coadd, mag_auto_g,mag_auto_r, mag_auto_i, mag_auto_z, mag_auto_y, magerr_auto_g, magerr_auto_r, magerr_auto_i, magerr_auto_z, magerr_auto_y FROM des_dr2.coadd_objects WHERE q3c_radial_query(ra, dec, {x}, {y}, {r}) limit {limit}\""
   ]
  },
  {
   "cell_type": "markdown",
   "id": "789d601c-952c-4c5f-91e3-f3e3b1bba86d",
   "metadata": {},
   "source": [
    "**Obtendo o dataframe a partir da query**"
   ]
  },
  {
   "cell_type": "code",
   "execution_count": null,
   "id": "ce26b630-53c3-4ea2-892b-0c229aac1f55",
   "metadata": {
    "tags": []
   },
   "outputs": [],
   "source": [
    "dataframe = db.fetchall_df(query)\n",
    "dataframe"
   ]
  },
  {
   "cell_type": "markdown",
   "id": "c23b765c-e479-4a42-b7cd-612e6c6ee683",
   "metadata": {},
   "source": [
    "## Exemplos de Utilização"
   ]
  },
  {
   "cell_type": "markdown",
   "id": "eebb63d9-a726-435f-8d2c-258bacd307bc",
   "metadata": {},
   "source": [
    "**Parâmetros dos plots**"
   ]
  },
  {
   "cell_type": "code",
   "execution_count": null,
   "id": "458ccbc6-8c5b-4a15-aabf-88cbf7eba49c",
   "metadata": {
    "tags": []
   },
   "outputs": [],
   "source": [
    "plt.rc('text', usetex=True)\n",
    "plt.rcParams['figure.figsize'] = (7,6)\n",
    "plt.rcParams['font.size'] = 15"
   ]
  },
  {
   "cell_type": "markdown",
   "id": "7bdced98-7b95-4fcd-973b-a2439dec87ff",
   "metadata": {},
   "source": [
    "### 1. Distribuição espacial de objetos no céu (densidade)"
   ]
  },
  {
   "cell_type": "code",
   "execution_count": null,
   "id": "7ce4527e-4978-4366-a7fb-4c4c1646d7b3",
   "metadata": {
    "tags": []
   },
   "outputs": [],
   "source": [
    "ra =  dataframe['ra']\n",
    "dec =  dataframe['dec']\n",
    "\n",
    "plt.hexbin(ra, dec, None,  mincnt=1, cmap='viridis', gridsize=[200,100])\n",
    "plt.xlabel(\"ra (°)\")\n",
    "plt.ylabel(\"dec (°)\")\n",
    "plt.colorbar(label=\"density of points\")\n",
    "plt.grid()\n",
    "plt.tight_layout()"
   ]
  },
  {
   "cell_type": "markdown",
   "id": "00e4e80f-8d82-4167-acae-eb8f9d4f34c8",
   "metadata": {},
   "source": [
    "### 2. Distribuição espacial de objetos no céu (classificação)"
   ]
  },
  {
   "cell_type": "code",
   "execution_count": null,
   "id": "da165b5e-601b-4135-bb41-a73016bfe332",
   "metadata": {
    "tags": []
   },
   "outputs": [],
   "source": [
    "plt.figure(figsize=[12,5], dpi=300)\n",
    "\n",
    "ra =  dataframe['ra']\n",
    "dec =  dataframe['dec']\n",
    "\n",
    "stars = dataframe['extended_class_coadd'] < 2\n",
    "galaxies = dataframe['extended_class_coadd'] >= 2\n",
    "\n",
    "plt.subplot(1,2,1)\n",
    "plt.scatter(ra[galaxies], dec[galaxies], c='black', marker='.', alpha=0.2, label='galaxies')\n",
    "plt.xlabel(\"ra (°)\")\n",
    "plt.ylabel(\"dec (°)\")\n",
    "plt.grid()\n",
    "plt.legend(frameon = False)\n",
    "\n",
    "plt.subplot(1,2,2)\n",
    "plt.scatter(ra[stars], dec[stars], c='yellow', marker='*', alpha=0.2, label='stars')\n",
    "plt.xlabel(\"ra (°)\")\n",
    "plt.ylabel(\"dec (°)\")\n",
    "plt.grid()\n",
    "plt.legend(frameon = False)\n",
    "\n",
    "plt.tight_layout()"
   ]
  },
  {
   "cell_type": "markdown",
   "id": "ec38fd66-3797-4d22-a481-94f823ce999c",
   "metadata": {
    "tags": []
   },
   "source": [
    "### 3. Distribuição de magnitudes"
   ]
  },
  {
   "cell_type": "code",
   "execution_count": null,
   "id": "babaeb87-9dd0-484c-835d-fe5cfa6de368",
   "metadata": {
    "tags": []
   },
   "outputs": [],
   "source": [
    "bands = ['g', 'r', 'i', 'z', 'y']\n",
    "colors = ['blue', 'green', 'red', 'orange', 'purple']\n",
    "plt.figure()\n",
    "bins = np.linspace(9, 37, 57)\n",
    "for i, (band, color) in enumerate(zip(bands,colors)):\n",
    "    plt.hist(dataframe[f'mag_auto_{band}'], histtype='stepfilled', bins=bins, label=f'mag {band}', alpha = 0.5, edgecolor = \"black\", color = color)\n",
    "    plt.xlabel(\"magnitude\")\n",
    "    plt.ylabel(\"Counts\")\n",
    "    plt.xlim(9, 37)\n",
    "    plt.yscale('log')\n",
    "    plt.legend()\n",
    "    plt.grid(True)\n",
    "    plt.show()"
   ]
  },
  {
   "cell_type": "markdown",
   "id": "eb0af616-5470-411f-a37c-5a01f1d33639",
   "metadata": {},
   "source": [
    "### 4. Ajuste de Gaussiana"
   ]
  },
  {
   "cell_type": "markdown",
   "id": "e9fc90a7-62ea-429b-bdd7-3304e5669e56",
   "metadata": {},
   "source": [
    "Utilizaremos uma função muito conhecida em ajustes de curvas, chamada curve_fit, do scipy.optimize"
   ]
  },
  {
   "cell_type": "markdown",
   "id": "17f43b80-820f-4bd9-9d51-4468b91c4060",
   "metadata": {},
   "source": [
    "**Importando o módulo/função**"
   ]
  },
  {
   "cell_type": "code",
   "execution_count": null,
   "id": "dfa0a06e-e185-4214-9536-8a6e0aaa5114",
   "metadata": {
    "tags": []
   },
   "outputs": [],
   "source": [
    "from scipy.optimize import curve_fit"
   ]
  },
  {
   "cell_type": "markdown",
   "id": "584c0d3f-59cf-40bf-bdc9-1bb333fc56e5",
   "metadata": {},
   "source": [
    "**Definindo a função Gaussiana**"
   ]
  },
  {
   "cell_type": "code",
   "execution_count": null,
   "id": "be81ff25-f236-4d31-827a-26ab644b83b7",
   "metadata": {
    "tags": []
   },
   "outputs": [],
   "source": [
    "def gauss(x, mu, sigma, A):\n",
    "    return A*np.exp(-(x-mu)**2/2/sigma**2)"
   ]
  },
  {
   "cell_type": "markdown",
   "id": "83e1d6d1-3d39-4e96-9a2e-f1d0d66b15ac",
   "metadata": {},
   "source": [
    "**Distribuição de magnitude da banda g**"
   ]
  },
  {
   "cell_type": "markdown",
   "id": "2274a344-e47d-46e7-9b36-b0de41e21310",
   "metadata": {},
   "source": [
    "Neste exemplo básico, vamos ajustar uma curva gaussiana no histograma de magnitudes na banda g."
   ]
  },
  {
   "cell_type": "code",
   "execution_count": null,
   "id": "6132693e-8d2b-44ee-b78d-63888561d45b",
   "metadata": {
    "tags": []
   },
   "outputs": [],
   "source": [
    "plt.figure()\n",
    "bins = np.linspace(13, 33, 41)\n",
    "plt.hist(dataframe['mag_auto_g'], fc=\"moccasin\", ec='sandybrown', bins=bins, label='distribuição mag g')\n",
    "plt.xlabel(\"magnitude\")\n",
    "plt.ylabel(\"counts\")\n",
    "plt.xlim(13, 33)\n",
    "plt.legend(frameon=False, loc='upper left')\n",
    "plt.grid(False)\n",
    "plt.tight_layout()"
   ]
  },
  {
   "cell_type": "markdown",
   "id": "60978a90-20e2-47f2-81c3-8a2acd5e1cd1",
   "metadata": {},
   "source": [
    "**Ajuste + figura**"
   ]
  },
  {
   "cell_type": "code",
   "execution_count": null,
   "id": "d33e9758-4cd1-4df3-b5e6-5becc23b1cee",
   "metadata": {
    "tags": []
   },
   "outputs": [],
   "source": [
    "#plot da distribuição\n",
    "y,x,_=plt.hist(dataframe['mag_auto_g'], fc=\"moccasin\", ec='sandybrown', bins=bins, label='distribuição mag g')\n",
    "\n",
    "#Ajuste\n",
    "x=(x[1:]+x[:-1])/2\n",
    "expected = (25, 5, 16000)\n",
    "params, cov = curve_fit(gauss, x, y, expected)\n",
    "sigma=np.sqrt(np.diag(cov))\n",
    "x_fit = np.linspace(x.min(), x.max(), 500)\n",
    "\n",
    "#Plot da linha correspondente ao ajuste\n",
    "plt.plot(x_fit, gauss(x_fit, *params), color='red', lw=2, label='ajuste gaussiana')\n",
    "plt.legend(frameon=False, loc='upper left')\n",
    "plt.xlabel(\"magnitude\")\n",
    "plt.ylabel(\"counts\")\n",
    "plt.xlim(13, 33)\n",
    "\n",
    "#Retorno dos parâmetros associados ao ajuste\n",
    "data = pd.DataFrame(data={'params': params, 'err': sigma}, index=gauss.__code__.co_varnames[1:])\n",
    "print(data)"
   ]
  },
  {
   "cell_type": "markdown",
   "id": "53839a94-389b-4332-832a-f7a935252304",
   "metadata": {},
   "source": [
    "Repare nos resultados:\n",
    "    A é a altura da gaussiana,\n",
    "    $\\mu$ é o centro da gaussiana,\n",
    "    e $\\sigma$ é o desvio."
   ]
  },
  {
   "cell_type": "markdown",
   "id": "124fd4f3-ca99-43bd-ba7a-9054609267f1",
   "metadata": {},
   "source": [
    "### 5. Magnitudes vs erros"
   ]
  },
  {
   "cell_type": "code",
   "execution_count": null,
   "id": "a5c97dd1-51de-4197-a461-1a6013e7ebb1",
   "metadata": {
    "tags": []
   },
   "outputs": [],
   "source": [
    "bands = ['g', 'r', 'i', 'z', 'y']\n",
    "for i, band in enumerate(bands):\n",
    "    plt.figure(figsize=[10,4])\n",
    "    plt.subplot(121) \n",
    "    mag = np.array(dataframe[f'mag_auto_{band}'])\n",
    "    err = np.array(dataframe[f'magerr_auto_{band}'])\n",
    "    mask = (mag>14)&(mag<32)&(err<10)\n",
    "    plt.hexbin(err[mask], mag[mask], None, mincnt=1, cmap='inferno', gridsize=[200,100], bins='log')\n",
    "    cbar = plt.colorbar(label='density of points')\n",
    "    plt.ylabel(\"mag \"+band)\n",
    "    plt.xlabel(\"err mag \"+band)\n",
    "    plt.grid(True)\n",
    "    plt.tight_layout()"
   ]
  },
  {
   "cell_type": "markdown",
   "id": "9c3c38f8-01e7-4db4-9264-b470daec1c16",
   "metadata": {
    "tags": []
   },
   "source": [
    "### 6. Diagramas cor-magnitude"
   ]
  },
  {
   "cell_type": "code",
   "execution_count": null,
   "id": "ae60e6c3-5764-4861-98f8-3981e82f08c3",
   "metadata": {
    "tags": []
   },
   "outputs": [],
   "source": [
    "bands = ['g', 'r', 'i', 'z', 'y']\n",
    "mag_diff = {}\n",
    "stars = dataframe['extended_class_coadd'] < 2\n",
    "for band,_band in zip(bands, bands[1::]):\n",
    "    plt.figure(figsize=[10,4])\n",
    "    plt.subplot(121)\n",
    "    mag_diff = np.array(dataframe[f'mag_auto_{band}'][stars]) - np.array(dataframe[f'mag_auto_{_band}'][stars])\n",
    "    mag = np.array(dataframe[f'mag_auto_{_band}'][stars])\n",
    "                   \n",
    "    mask = (mag>14)&(mag<32)&(mag_diff<10)\n",
    "    plt.hexbin(mag_diff[mask], mag[mask], None, mincnt=1, cmap='viridis', gridsize=[200,100], bins='log')\n",
    "    cbar = plt.colorbar(label='density of points')\n",
    "    plt.ylabel(\"mag \"+band)\n",
    "    plt.xlabel(f\"{band}-{_band}\")\n",
    "    plt.grid(True)\n",
    "    plt.tight_layout()"
   ]
  },
  {
   "cell_type": "markdown",
   "id": "662f01a8-38ff-4e05-b242-66c7d99080de",
   "metadata": {},
   "source": [
    "### 6. Diagrama cor-cor"
   ]
  },
  {
   "cell_type": "code",
   "execution_count": null,
   "id": "668bd0cc-a9e8-423a-8069-7d8f959c3ee1",
   "metadata": {
    "tags": []
   },
   "outputs": [],
   "source": [
    "def CCD(mag1, mag2, mag3, maglim):\n",
    "    bright = (mag1 <= maglim)\n",
    "    mag1 = mag1[bright]\n",
    "    mag2 = mag2[bright]\n",
    "    mag3 = mag3[bright]\n",
    "    x = mag1-mag2\n",
    "    y = mag2-mag3\n",
    "    return x, y"
   ]
  },
  {
   "cell_type": "code",
   "execution_count": null,
   "id": "772594e6-7d76-42e2-9b39-fdc83ca38dbd",
   "metadata": {
    "tags": []
   },
   "outputs": [],
   "source": [
    "plt.figure()\n",
    "\n",
    "x, y = CCD(dataframe[f'mag_auto_g'], dataframe[f'mag_auto_r'], dataframe[f'mag_auto_i'], 24)\n",
    "\n",
    "plt.scatter(x[galaxies], y[galaxies], c='blue', marker='.', alpha=0.2, label='galaxies')\n",
    "plt.scatter(x[stars], y[stars], c='yellow', marker='*', alpha=0.2, label='stars')\n",
    "plt.ylabel(\"r-i\")\n",
    "plt.xlabel(\"g-r\")\n",
    "plt.xlim(-1, 2.2)\n",
    "plt.ylim(-1, 2.2)\n",
    "plt.grid(True)\n",
    "plt.legend()\n",
    "plt.tight_layout()"
   ]
  },
  {
   "cell_type": "code",
   "execution_count": null,
   "id": "2c81882f-0095-4896-8c4a-aeefc7b679f8",
   "metadata": {
    "tags": []
   },
   "outputs": [],
   "source": [
    "plt.figure()\n",
    "\n",
    "x, y = CCD(dataframe[f'mag_auto_r'], dataframe[f'mag_auto_i'], dataframe[f'mag_auto_z'], 24)\n",
    "\n",
    "plt.scatter(x[galaxies], y[galaxies], c='blue', marker='.', alpha=0.2, label='galaxies')\n",
    "plt.scatter(x[stars], y[stars], c='yellow', marker='*', alpha=0.2, label='stars')\n",
    "plt.xlabel(\"i-z\")\n",
    "plt.ylabel(\"r-i\")\n",
    "plt.xlim(-1, 2.2)\n",
    "plt.ylim(-1, 2.2)\n",
    "plt.grid(True)\n",
    "plt.legend()\n",
    "plt.tight_layout()"
   ]
  }
 ],
 "metadata": {
  "kernelspec": {
   "display_name": "tutorial",
   "language": "python",
   "name": "tutorial"
  },
  "language_info": {
   "codemirror_mode": {
    "name": "ipython",
    "version": 3
   },
   "file_extension": ".py",
   "mimetype": "text/x-python",
   "name": "python",
   "nbconvert_exporter": "python",
   "pygments_lexer": "ipython3",
   "version": "3.11.3"
  }
 },
 "nbformat": 4,
 "nbformat_minor": 5
}
