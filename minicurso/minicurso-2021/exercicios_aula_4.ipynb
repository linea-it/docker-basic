{
 "cells": [
  {
   "cell_type": "markdown",
   "metadata": {},
   "source": [
    "<img align=\"left\" src = https://www.linea.gov.br/wp-content/themes/LIneA/imagens/logo-header.png width=180 style=\"padding: 20px\"> <br>\n",
    "\n",
    "## Curso básico de ferramentas computacionais para astronomia\n",
    "Contato: Julia Gschwend ([julia@linea.gov.br](mailto:julia@linea.gov.br)) <br>\n",
    "Github: https://github.com/linea-it/minicurso-jupyter  <br>\n",
    "Site: https://minicurso-ed2.linea.gov.br/ <br> \n",
    "Última verificação: 30/08/2021<br> "
   ]
  },
  {
   "cell_type": "markdown",
   "metadata": {},
   "source": [
    "# Exercícios Aula 4 - Visualização de dados\n",
    "\n",
    "\n",
    "### Objetivo: Color-magnitude diagram (CMD) de estrelas.\n",
    "\n",
    "Depois de praticar os comandos para criar e customizar gráficos básicos, ao final do notebook faremos um diagrama cor-magnitude de estrelas com os dados observacionais do levantamento DES (DR2) disponíveis no LIneA Science Server. \n",
    "\n",
    "\n",
    "Ao contrário dos exercícios anteriores, neste notebook as células de código já estão completas e as células to tipo _Markdown_ estão em branco. **Escreva com suas palavras o que o código em cada célula está fazendo, especialmente o que mudou em comparação a célula anterior.** \n",
    "\n",
    "#### CMD teórico:\n",
    "\n",
    "<img src=\"https://www.schoolsobservatory.org/sites/default/files/activ/clusters/Hertzsprung-Russel_StarData.png\" width=\"500\"/> \n",
    "\n",
    "Fonte da imagem: [NATIONAL SCHOOLS' OBSERVATORY web page](https://www.schoolsobservatory.org/discover/projects/clusters/cmd) \n",
    "\n",
    "\n",
    "\n",
    "#### \"_Caveats_\" e adaptações necessárias:\n",
    "\n",
    "+ Usaremos a cor $g-r$ (eixo x) e a magnitude na banda $g$ (eixo y).\n",
    "+ Usaremos as magnitudes já corrigidas da extinção (sufixo \"_dered\" nas colunas no banco de dados).\n",
    "\n",
    "\n",
    "**Dica: Para navegar nas seções do notebook, use o índice da barra lateral do Jupyter Lab.**"
   ]
  },
  {
   "cell_type": "markdown",
   "metadata": {},
   "source": [
    "## 0. Setup"
   ]
  },
  {
   "cell_type": "code",
   "execution_count": null,
   "metadata": {},
   "outputs": [],
   "source": [
    "import numpy as np\n",
    "import pandas as pd\n",
    "import matplotlib.pyplot as plt\n",
    "import seaborn as sns\n",
    "\n",
    "%matplotlib inline"
   ]
  },
  {
   "cell_type": "markdown",
   "metadata": {},
   "source": [
    "**Leitura dos dados**\n",
    "\n",
    "Para este exercício, usaremos o arquivo `estrelas.csv` disponível na pasta `dados`. Se você tem acesso ao [LIneA Science Server](https://desportal2.cosmology.illinois.edu) e quiser reproduzir o download, vá até a ferramenta **User Query** e execute a seguinte _query_:\n"
   ]
  },
  {
   "cell_type": "markdown",
   "metadata": {},
   "source": [
    "```sql \n",
    "SELECT coadd_object_id, ra ,dec, mag_auto_g_dered, mag_auto_r_dered, mag_auto_i_dered, magerr_auto_g, magerr_auto_r, magerr_auto_i, flags_g\n",
    "FROM DES_ADMIN.DR2_MAIN\n",
    "WHERE ra > 14.5 and ra < 15.5\n",
    "AND dec > -34.2 and dec < -33.2\n",
    "AND mag_auto_g_dered between 15 and 24\n",
    "AND mag_auto_r_dered between 15 and 24\n",
    "AND mag_auto_i_dered between 15 and 24\n",
    "AND CLASS_STAR_G > 0.9\n",
    "AND FLAGS_G <=4\n",
    "````"
   ]
  },
  {
   "cell_type": "code",
   "execution_count": null,
   "metadata": {},
   "outputs": [],
   "source": [
    "dados = pd.read_csv(\"dados/estrelas.csv\")"
   ]
  },
  {
   "cell_type": "markdown",
   "metadata": {},
   "source": []
  },
  {
   "cell_type": "code",
   "execution_count": null,
   "metadata": {},
   "outputs": [],
   "source": [
    "dados.head()"
   ]
  },
  {
   "cell_type": "markdown",
   "metadata": {},
   "source": []
  },
  {
   "cell_type": "code",
   "execution_count": null,
   "metadata": {},
   "outputs": [],
   "source": [
    "dados.columns"
   ]
  },
  {
   "cell_type": "markdown",
   "metadata": {},
   "source": []
  },
  {
   "cell_type": "code",
   "execution_count": null,
   "metadata": {},
   "outputs": [],
   "source": [
    "dados.rename(columns={\"mag_auto_g_dered\" : \"mag_g\",\n",
    "                      \"mag_auto_r_dered\" : \"mag_r\",\n",
    "                      \"mag_auto_i_dered\" : \"mag_i\",\n",
    "                      \"magerr_auto_g\" : \"err_g\",\n",
    "                      \"magerr_auto_r\" : \"err_r\",\n",
    "                      \"magerr_auto_i\" : \"err_i\",\n",
    "                      \"coadd_object_id\": \"obj_id\",\n",
    "                      \"flags_g\" : \"flag\"\n",
    "                     }, inplace=True)"
   ]
  },
  {
   "cell_type": "markdown",
   "metadata": {},
   "source": []
  },
  {
   "cell_type": "code",
   "execution_count": null,
   "metadata": {},
   "outputs": [],
   "source": [
    "dados.head()"
   ]
  },
  {
   "cell_type": "markdown",
   "metadata": {},
   "source": []
  },
  {
   "cell_type": "code",
   "execution_count": null,
   "metadata": {},
   "outputs": [],
   "source": [
    "dados.drop(columns=[\"meta_id\"], inplace=True)\n",
    "dados.head()"
   ]
  },
  {
   "cell_type": "markdown",
   "metadata": {},
   "source": []
  },
  {
   "cell_type": "code",
   "execution_count": null,
   "metadata": {},
   "outputs": [],
   "source": [
    "dados.describe()"
   ]
  },
  {
   "cell_type": "markdown",
   "metadata": {},
   "source": [
    "# 1. Gráficos com a biblioteca Matplotlib\n",
    "\n",
    "Documentação da biblioteca: [matplotlib.org](https://matplotlib.org/)\n",
    "\n",
    "Dicas: [cheatsheets](https://github.com/matplotlib/cheatsheets#cheatsheets)"
   ]
  },
  {
   "cell_type": "markdown",
   "metadata": {},
   "source": [
    "## 1.1 Histogramas (1D)"
   ]
  },
  {
   "cell_type": "markdown",
   "metadata": {},
   "source": []
  },
  {
   "cell_type": "code",
   "execution_count": null,
   "metadata": {},
   "outputs": [],
   "source": [
    "plt.hist(dados.mag_i)\n",
    "plt.tight_layout()"
   ]
  },
  {
   "cell_type": "markdown",
   "metadata": {},
   "source": []
  },
  {
   "cell_type": "code",
   "execution_count": null,
   "metadata": {},
   "outputs": [],
   "source": [
    "plt.hist(dados.mag_i, bins=100)\n",
    "plt.tight_layout()"
   ]
  },
  {
   "cell_type": "markdown",
   "metadata": {},
   "source": []
  },
  {
   "cell_type": "code",
   "execution_count": null,
   "metadata": {},
   "outputs": [],
   "source": [
    "plt.hist(dados.mag_i, bins=np.arange(15,25,0.5))\n",
    "plt.tight_layout()"
   ]
  },
  {
   "cell_type": "markdown",
   "metadata": {},
   "source": [
    "**Freedman–Diaconis rule**\n",
    "\n",
    "Regra da estatística para calcular a largura de bin ótima para exibir uma distribuição de dados. Fonte: [Wikipedia](https://en.wikipedia.org/wiki/Freedman%E2%80%93Diaconis_rule)\n",
    "\n",
    "\n",
    "\n",
    "$$ bin \\ width = 2 \\  \\frac{Q_{3}-Q_{1}}{\\sqrt[3]{N}}  $$\n",
    "\n",
    "\n",
    "\n",
    "\n",
    "\n",
    "\n"
   ]
  },
  {
   "cell_type": "code",
   "execution_count": null,
   "metadata": {},
   "outputs": [],
   "source": [
    "q1, q2, q3 = dados.mag_i.quantile(q=[0.25, 0.50, 0.75])\n",
    "q1, q2, q3"
   ]
  },
  {
   "cell_type": "markdown",
   "metadata": {},
   "source": []
  },
  {
   "cell_type": "code",
   "execution_count": null,
   "metadata": {},
   "outputs": [],
   "source": [
    "def bin_width(series):\n",
    "    \"\"\"Return optimal bin width for a given pandas Series \n",
    "        object based on the Freedman–Diaconis rule\"\"\"   \n",
    "    \n",
    "    q1, q3 = series.quantile(q=[0.25, 0.75])\n",
    "    width = 2 * ((q3-q1)/(series.count()**(1./3.)))\n",
    "    \n",
    "    return width"
   ]
  },
  {
   "cell_type": "markdown",
   "metadata": {},
   "source": []
  },
  {
   "cell_type": "code",
   "execution_count": null,
   "metadata": {},
   "outputs": [],
   "source": [
    "bin_width(dados.mag_i)"
   ]
  },
  {
   "cell_type": "markdown",
   "metadata": {},
   "source": []
  },
  {
   "cell_type": "code",
   "execution_count": null,
   "metadata": {},
   "outputs": [],
   "source": [
    "bin_width(dados.err_g)"
   ]
  },
  {
   "cell_type": "markdown",
   "metadata": {},
   "source": []
  },
  {
   "cell_type": "code",
   "execution_count": null,
   "metadata": {},
   "outputs": [],
   "source": [
    "plt.hist(dados.mag_i, bins=np.arange(15,25,bin_width(dados.mag_i)))\n",
    "plt.tight_layout()"
   ]
  },
  {
   "cell_type": "code",
   "execution_count": null,
   "metadata": {},
   "outputs": [],
   "source": [
    "help(plt.hist)"
   ]
  },
  {
   "cell_type": "code",
   "execution_count": null,
   "metadata": {},
   "outputs": [],
   "source": [
    "help(np.histogram_bin_edges)"
   ]
  },
  {
   "cell_type": "markdown",
   "metadata": {},
   "source": []
  },
  {
   "cell_type": "code",
   "execution_count": null,
   "metadata": {},
   "outputs": [],
   "source": [
    "plt.hist(dados.mag_i, bins=\"fd\")\n",
    "plt.tight_layout()"
   ]
  },
  {
   "cell_type": "markdown",
   "metadata": {},
   "source": []
  },
  {
   "cell_type": "code",
   "execution_count": null,
   "metadata": {},
   "outputs": [],
   "source": [
    "plt.hist(dados.mag_i, bins=\"fd\", color=\"g\")\n",
    "plt.tight_layout()"
   ]
  },
  {
   "cell_type": "markdown",
   "metadata": {},
   "source": []
  },
  {
   "cell_type": "code",
   "execution_count": null,
   "metadata": {},
   "outputs": [],
   "source": [
    "plt.hist(dados.mag_i, bins=\"fd\", ec=\"r\", fc=\"y\")\n",
    "plt.tight_layout()"
   ]
  },
  {
   "cell_type": "markdown",
   "metadata": {},
   "source": []
  },
  {
   "cell_type": "code",
   "execution_count": null,
   "metadata": {},
   "outputs": [],
   "source": [
    "plt.hist(dados.mag_i, bins=\"fd\", color=\"g\", histtype=\"step\")\n",
    "plt.tight_layout()"
   ]
  },
  {
   "cell_type": "markdown",
   "metadata": {},
   "source": []
  },
  {
   "cell_type": "code",
   "execution_count": null,
   "metadata": {},
   "outputs": [],
   "source": [
    "plt.hist(dados.mag_i, bins=\"fd\", color=\"g\", histtype=\"step\", lw=2)\n",
    "plt.tight_layout()"
   ]
  },
  {
   "cell_type": "markdown",
   "metadata": {},
   "source": []
  },
  {
   "cell_type": "code",
   "execution_count": null,
   "metadata": {},
   "outputs": [],
   "source": [
    "plt.hist(dados.mag_i, bins=\"fd\", color=\"g\", histtype=\"step\", lw=2)\n",
    "plt.xlabel(\"magnitude ($i$-band)\")\n",
    "plt.ylabel(\"counts\")\n",
    "plt.tight_layout()"
   ]
  },
  {
   "cell_type": "markdown",
   "metadata": {},
   "source": []
  },
  {
   "cell_type": "code",
   "execution_count": null,
   "metadata": {},
   "outputs": [],
   "source": [
    "plt.hist(dados.mag_i, bins=\"fd\", color=\"g\", histtype=\"step\", lw=2)\n",
    "plt.xlabel(\"magnitude ($i$-band)\", fontsize=14)\n",
    "plt.ylabel(\"counts\", fontsize=14)\n",
    "plt.tight_layout()"
   ]
  },
  {
   "cell_type": "markdown",
   "metadata": {},
   "source": []
  },
  {
   "cell_type": "code",
   "execution_count": null,
   "metadata": {},
   "outputs": [],
   "source": [
    "plt.hist(dados.mag_i, bins=\"fd\", color=\"g\", histtype=\"step\", lw=2)\n",
    "plt.xlabel(\"magnitude ($i$-band)\", fontsize=14)\n",
    "plt.ylabel(\"counts\", fontsize=14)\n",
    "plt.xticks(fontsize=12)\n",
    "plt.yticks(fontsize=12)\n",
    "plt.tight_layout()"
   ]
  },
  {
   "cell_type": "markdown",
   "metadata": {},
   "source": []
  },
  {
   "cell_type": "code",
   "execution_count": null,
   "metadata": {},
   "outputs": [],
   "source": [
    "plt.hist(dados.mag_i, bins=\"fd\", color=\"g\", histtype=\"step\", lw=2, density=True) # a ordem dos algumentos opcionais (nomeados) não importa\n",
    "plt.xlabel(\"magnitude ($i$-band)\", fontsize=14)\n",
    "plt.ylabel(\"PDF\", fontsize=14)\n",
    "plt.xticks(fontsize=12)\n",
    "plt.yticks(fontsize=12)\n",
    "plt.tight_layout()"
   ]
  },
  {
   "cell_type": "markdown",
   "metadata": {},
   "source": []
  },
  {
   "cell_type": "code",
   "execution_count": null,
   "metadata": {},
   "outputs": [],
   "source": [
    "for band in [\"g\", \"r\", \"i\"]:\n",
    "    plt.hist(dados[f\"mag_{band}\"], bins=\"fd\", histtype=\"step\", lw=2, density=True)\n",
    "plt.xlabel(\"magnitude\", fontsize=14)\n",
    "plt.ylabel(\"PDF\", fontsize=14)\n",
    "plt.xticks(fontsize=12)\n",
    "plt.yticks(fontsize=12)\n",
    "plt.tight_layout()"
   ]
  },
  {
   "cell_type": "markdown",
   "metadata": {},
   "source": []
  },
  {
   "cell_type": "code",
   "execution_count": null,
   "metadata": {},
   "outputs": [],
   "source": [
    "for band in [\"g\", \"r\", \"i\"]:\n",
    "    plt.hist(dados[f\"mag_{band}\"], bins=\"fd\", histtype=\"step\", lw=2, density=True, label=band)\n",
    "plt.xlabel(\"magnitude\", fontsize=14)\n",
    "plt.ylabel(\"PDF\", fontsize=14)\n",
    "plt.xticks(fontsize=12)\n",
    "plt.yticks(fontsize=12)\n",
    "plt.legend()\n",
    "plt.tight_layout()"
   ]
  },
  {
   "cell_type": "markdown",
   "metadata": {},
   "source": []
  },
  {
   "cell_type": "code",
   "execution_count": null,
   "metadata": {},
   "outputs": [],
   "source": [
    "for band in [\"g\", \"r\", \"i\"]:\n",
    "    plt.hist(dados[f\"mag_{band}\"], bins=\"fd\", histtype=\"step\", lw=2, density=True, label=band)\n",
    "plt.xlabel(\"magnitude\", fontsize=14)\n",
    "plt.ylabel(\"PDF\", fontsize=14)\n",
    "plt.xticks(fontsize=12)\n",
    "plt.yticks(fontsize=12)\n",
    "plt.legend(loc=\"upper left\")\n",
    "plt.tight_layout()"
   ]
  },
  {
   "cell_type": "markdown",
   "metadata": {},
   "source": []
  },
  {
   "cell_type": "code",
   "execution_count": null,
   "metadata": {},
   "outputs": [],
   "source": [
    "for band in [\"g\", \"r\", \"i\"]:\n",
    "    plt.hist(dados[f\"mag_{band}\"], bins=\"fd\", lw=2, density=True, label=band, histtype=\"stepfilled\")\n",
    "plt.xlabel(\"magnitude\", fontsize=14)\n",
    "plt.ylabel(\"PDF\", fontsize=14)\n",
    "plt.xticks(fontsize=12)\n",
    "plt.yticks(fontsize=12)\n",
    "plt.legend(loc=\"upper left\")\n",
    "plt.tight_layout()"
   ]
  },
  {
   "cell_type": "markdown",
   "metadata": {},
   "source": []
  },
  {
   "cell_type": "code",
   "execution_count": null,
   "metadata": {},
   "outputs": [],
   "source": [
    "for band in [\"g\", \"r\", \"i\"]:\n",
    "    plt.hist(dados[f\"mag_{band}\"], bins=\"fd\", lw=2, density=True, label=band, alpha=0.5, histtype=\"stepfilled\")\n",
    "plt.xlabel(\"magnitude\", fontsize=14)\n",
    "plt.ylabel(\"PDF\", fontsize=14)\n",
    "plt.xticks(fontsize=12)\n",
    "plt.yticks(fontsize=12)\n",
    "plt.legend(loc=\"upper left\")\n",
    "plt.tight_layout()"
   ]
  },
  {
   "cell_type": "markdown",
   "metadata": {},
   "source": []
  },
  {
   "cell_type": "code",
   "execution_count": null,
   "metadata": {},
   "outputs": [],
   "source": [
    "for band in [\"g\", \"r\", \"i\"]:\n",
    "    plt.hist(dados[f\"mag_{band}\"], bins=\"fd\", lw=1, density=True, label=band, alpha=0.5, ec=\"k\", histtype=\"stepfilled\")\n",
    "plt.xlabel(\"magnitude\", fontsize=14)\n",
    "plt.ylabel(\"PDF\", fontsize=14)\n",
    "plt.xticks(fontsize=12)\n",
    "plt.yticks(fontsize=12)\n",
    "plt.legend(loc=\"upper left\")\n",
    "plt.tight_layout()"
   ]
  },
  {
   "cell_type": "markdown",
   "metadata": {},
   "source": []
  },
  {
   "cell_type": "code",
   "execution_count": null,
   "metadata": {},
   "outputs": [],
   "source": [
    "for band in [\"g\", \"r\", \"i\"]:\n",
    "    plt.hist(dados[f\"mag_{band}\"], bins=\"fd\", lw=1, density=True, label=band, alpha=0.5, ec=\"k\", histtype=\"stepfilled\")\n",
    "plt.xlabel(\"magnitude\", fontsize=14)\n",
    "plt.ylabel(\"PDF\", fontsize=14)\n",
    "plt.xticks(fontsize=12)\n",
    "plt.yticks(fontsize=12)\n",
    "plt.legend(loc=\"upper left\")\n",
    "plt.grid()\n",
    "plt.tight_layout()"
   ]
  },
  {
   "cell_type": "markdown",
   "metadata": {},
   "source": []
  },
  {
   "cell_type": "code",
   "execution_count": null,
   "metadata": {},
   "outputs": [],
   "source": [
    "for band in [\"g\", \"r\", \"i\"]:\n",
    "    plt.hist(dados[f\"mag_{band}\"], bins=\"fd\", lw=1, density=True, label=band, alpha=0.5, ec=\"k\", histtype=\"stepfilled\")\n",
    "plt.xlabel(\"magnitude\", fontsize=14)\n",
    "plt.ylabel(\"PDF\", fontsize=14)\n",
    "plt.xticks(fontsize=12)\n",
    "plt.yticks(fontsize=12)\n",
    "plt.legend(loc=\"upper left\")\n",
    "plt.grid()\n",
    "plt.title(\"Stars from DES DR2\")\n",
    "plt.tight_layout()"
   ]
  },
  {
   "cell_type": "markdown",
   "metadata": {},
   "source": []
  },
  {
   "cell_type": "code",
   "execution_count": null,
   "metadata": {},
   "outputs": [],
   "source": [
    "for band in [\"g\", \"r\", \"i\"]:\n",
    "    plt.hist(dados[f\"mag_{band}\"], bins=\"fd\", lw=1, density=False, label=band, alpha=0.5, ec=\"k\", histtype=\"stepfilled\", log=True)\n",
    "plt.xlabel(\"magnitude\", fontsize=14)\n",
    "plt.ylabel(\"Number counts\", fontsize=14)\n",
    "plt.xticks(fontsize=12)\n",
    "plt.yticks(fontsize=12)\n",
    "plt.legend(loc=\"upper left\")\n",
    "plt.grid()\n",
    "plt.title(\"Stars from DES DR2\")\n",
    "plt.tight_layout()"
   ]
  },
  {
   "cell_type": "markdown",
   "metadata": {},
   "source": []
  },
  {
   "cell_type": "code",
   "execution_count": null,
   "metadata": {},
   "outputs": [],
   "source": [
    "for band in [\"g\", \"r\", \"i\"]:\n",
    "    plt.hist(dados[f\"mag_{band}\"], bins=\"fd\", lw=1, density=False, label=band, alpha=0.5, ec=\"k\", histtype=\"stepfilled\", log=False)\n",
    "plt.xlabel(\"magnitude\", fontsize=14)\n",
    "plt.ylabel(\"Counts\", fontsize=14)\n",
    "plt.xticks(fontsize=12)\n",
    "plt.yticks(fontsize=12)\n",
    "plt.legend(loc=\"upper left\")\n",
    "plt.grid()\n",
    "plt.title(\"Stars from DES DR2\")\n",
    "plt.tight_layout()"
   ]
  },
  {
   "cell_type": "markdown",
   "metadata": {},
   "source": []
  },
  {
   "cell_type": "code",
   "execution_count": null,
   "metadata": {},
   "outputs": [],
   "source": [
    "for band in [\"g\", \"r\", \"i\"]:\n",
    "    plt.hist(dados[f\"err_{band}\"], bins=\"fd\", lw=1, label=band, alpha=0.5, ec=\"k\", histtype=\"stepfilled\")\n",
    "plt.xlabel(\"magnitude error\", fontsize=14)\n",
    "plt.ylabel(\"Counts\", fontsize=14)\n",
    "plt.xticks(fontsize=12)\n",
    "plt.yticks(fontsize=12)\n",
    "plt.xlim(0,0.2)\n",
    "plt.legend(loc=\"upper right\")\n",
    "plt.grid()\n",
    "plt.title(\"Stars from DES DR2\")\n",
    "plt.tight_layout()"
   ]
  },
  {
   "cell_type": "markdown",
   "metadata": {},
   "source": []
  },
  {
   "cell_type": "code",
   "execution_count": null,
   "metadata": {},
   "outputs": [],
   "source": [
    "plt.subplot(1,2,1)\n",
    "for band in [\"g\", \"r\", \"i\"]:\n",
    "    plt.hist(dados[f\"mag_{band}\"], bins=\"fd\", lw=1, density=False, label=band, alpha=0.5, ec=\"k\", histtype=\"stepfilled\", log=False)\n",
    "plt.xlabel(\"magnitude\", fontsize=14)\n",
    "plt.ylabel(\"Counts\", fontsize=14)\n",
    "plt.xticks(fontsize=12)\n",
    "plt.yticks(fontsize=12)\n",
    "plt.legend(loc=\"upper left\")\n",
    "plt.grid()\n",
    "plt.subplot(1,2,2)\n",
    "for band in [\"g\", \"r\", \"i\"]:\n",
    "    plt.hist(dados[f\"err_{band}\"], bins=\"fd\", lw=1, label=band, alpha=0.5, ec=\"k\", histtype=\"stepfilled\")\n",
    "plt.xlabel(\"magnitude error\", fontsize=14)\n",
    "plt.ylabel(\"Counts\", fontsize=14)\n",
    "plt.xticks(fontsize=12)\n",
    "plt.yticks(fontsize=12)\n",
    "plt.xlim(0,0.2)\n",
    "plt.legend(loc=\"upper right\")\n",
    "plt.grid()\n",
    "plt.suptitle(\"Stars from DES DR2\", fontsize=14)\n",
    "plt.tight_layout()"
   ]
  },
  {
   "cell_type": "markdown",
   "metadata": {},
   "source": []
  },
  {
   "cell_type": "code",
   "execution_count": null,
   "metadata": {},
   "outputs": [],
   "source": [
    "plt.figure(figsize=[12,5], dpi=300)\n",
    "plt.suptitle(\"Stars from DES DR2\", fontsize=14)\n",
    "plt.subplot(1,2,1)\n",
    "for band in [\"g\", \"r\", \"i\"]:\n",
    "    plt.hist(dados[f\"mag_{band}\"], bins=\"fd\", lw=1, density=False, label=band, alpha=0.5, ec=\"k\", histtype=\"stepfilled\", log=False)\n",
    "plt.xlabel(\"magnitude\", fontsize=14)\n",
    "plt.ylabel(\"Counts\", fontsize=14)\n",
    "plt.xticks(fontsize=12)\n",
    "plt.yticks(fontsize=12)\n",
    "plt.legend(loc=\"upper left\")\n",
    "plt.grid()\n",
    "plt.subplot(1,2,2)\n",
    "for band in [\"g\", \"r\", \"i\"]:\n",
    "    plt.hist(dados[f\"err_{band}\"], bins=\"fd\", lw=1, label=band, alpha=0.5, ec=\"k\", histtype=\"stepfilled\")\n",
    "plt.xlabel(\"magnitude error\", fontsize=14)\n",
    "plt.ylabel(\"Counts\", fontsize=14)\n",
    "plt.xticks(fontsize=12)\n",
    "plt.yticks(fontsize=12)\n",
    "plt.xlim(0,0.2)\n",
    "plt.legend(loc=\"upper right\")\n",
    "plt.grid()\n",
    "plt.tight_layout()"
   ]
  },
  {
   "cell_type": "markdown",
   "metadata": {},
   "source": []
  },
  {
   "cell_type": "code",
   "execution_count": null,
   "metadata": {},
   "outputs": [],
   "source": [
    "plt.figure(figsize=[12,5], dpi=300)\n",
    "plt.suptitle(\"Stars from DES DR2\", fontsize=14)\n",
    "plt.subplot(1,2,1)\n",
    "for band in [\"g\", \"r\", \"i\"]:\n",
    "    plt.hist(dados[f\"mag_{band}\"], bins=\"fd\", lw=1, density=False, label=band, alpha=0.5, ec=\"k\", histtype=\"stepfilled\", log=False)\n",
    "plt.xlabel(\"magnitude\", fontsize=14)\n",
    "plt.ylabel(\"Counts\", fontsize=14)\n",
    "plt.xticks(fontsize=12)\n",
    "plt.yticks(fontsize=12)\n",
    "plt.legend(loc=\"upper left\")\n",
    "plt.grid()\n",
    "plt.subplot(1,2,2)\n",
    "for band in [\"g\", \"r\", \"i\"]:\n",
    "    plt.hist(dados[f\"err_{band}\"], bins=\"fd\", lw=1, label=band, alpha=0.5, ec=\"k\", histtype=\"stepfilled\")\n",
    "plt.xlabel(\"magnitude error\", fontsize=14)\n",
    "plt.ylabel(\"Counts\", fontsize=14)\n",
    "plt.xticks(fontsize=12)\n",
    "plt.yticks(fontsize=12)\n",
    "plt.xlim(0,0.2)\n",
    "plt.legend(loc=\"upper right\")\n",
    "plt.grid()\n",
    "plt.tight_layout()\n",
    "plt.savefig(\"mag_and_err_dist_stars.png\")"
   ]
  },
  {
   "cell_type": "markdown",
   "metadata": {},
   "source": []
  },
  {
   "cell_type": "markdown",
   "metadata": {},
   "source": [
    "## 1.2 Plot (xy) and Scatter plots"
   ]
  },
  {
   "cell_type": "markdown",
   "metadata": {},
   "source": []
  },
  {
   "cell_type": "code",
   "execution_count": null,
   "metadata": {},
   "outputs": [],
   "source": [
    "plt.plot(dados.mag_i, dados.err_i)\n",
    "plt.tight_layout()"
   ]
  },
  {
   "cell_type": "markdown",
   "metadata": {},
   "source": []
  },
  {
   "cell_type": "code",
   "execution_count": null,
   "metadata": {},
   "outputs": [],
   "source": [
    "plt.plot(dados.mag_i, dados.err_i, \"ko\")\n",
    "plt.tight_layout()"
   ]
  },
  {
   "cell_type": "markdown",
   "metadata": {},
   "source": []
  },
  {
   "cell_type": "code",
   "execution_count": null,
   "metadata": {},
   "outputs": [],
   "source": [
    "plt.plot(dados.mag_i, dados.err_i, \"k.\")\n",
    "plt.xlim(14,24)\n",
    "plt.ylim(0.,0.3)\n",
    "plt.tight_layout()"
   ]
  },
  {
   "cell_type": "markdown",
   "metadata": {},
   "source": []
  },
  {
   "cell_type": "code",
   "execution_count": null,
   "metadata": {},
   "outputs": [],
   "source": [
    "plt.plot(dados.mag_i, dados.err_i, \"k.\", alpha=0.2)\n",
    "plt.xlim(14,24)\n",
    "plt.ylim(0.,0.3)\n",
    "plt.tight_layout()"
   ]
  },
  {
   "cell_type": "markdown",
   "metadata": {},
   "source": []
  },
  {
   "cell_type": "code",
   "execution_count": null,
   "metadata": {},
   "outputs": [],
   "source": [
    "plt.plot(dados.mag_i, dados.err_i, \"k.\", alpha=0.2)\n",
    "plt.xlim(14,24)\n",
    "plt.ylim(0.,0.3)\n",
    "plt.xlabel(\"magnitude\", fontsize=14)\n",
    "plt.ylabel(\"error\", fontsize=14)\n",
    "plt.xticks(fontsize=12)\n",
    "plt.yticks(fontsize=12)\n",
    "plt.tight_layout()"
   ]
  },
  {
   "cell_type": "markdown",
   "metadata": {},
   "source": []
  },
  {
   "cell_type": "code",
   "execution_count": null,
   "metadata": {},
   "outputs": [],
   "source": [
    "plt.plot(dados.mag_g, dados.err_g, \"bo\", alpha=0.5)\n",
    "plt.plot(dados.mag_r, dados.err_r, \"ys\", alpha=0.5)\n",
    "plt.plot(dados.mag_i, dados.err_i, \"r^\", alpha=0.5)\n",
    "plt.xlim(14,24)\n",
    "plt.ylim(0.,0.3)\n",
    "plt.xlabel(\"magnitude\", fontsize=14)\n",
    "plt.ylabel(\"error\", fontsize=14)\n",
    "plt.xticks(fontsize=12)\n",
    "plt.yticks(fontsize=12)\n",
    "plt.tight_layout()"
   ]
  },
  {
   "cell_type": "markdown",
   "metadata": {},
   "source": []
  },
  {
   "cell_type": "code",
   "execution_count": null,
   "metadata": {},
   "outputs": [],
   "source": [
    "plt.figure(figsize=[16,5], dpi=300)\n",
    "plt.suptitle(\"Stars from DES DR2\", fontsize=16)\n",
    "#-------------------------#\n",
    "plt.subplot(1,3,1)\n",
    "plt.plot(dados.mag_g, dados.err_g, \"bo\", alpha=0.5)\n",
    "plt.xlim(14,24)\n",
    "plt.ylim(0.,0.3)\n",
    "plt.xlabel(\"magnitude (g-band)\", fontsize=14)\n",
    "plt.ylabel(\"error\", fontsize=14)\n",
    "plt.xticks(fontsize=12)\n",
    "plt.yticks(fontsize=12)\n",
    "#-------------------------#\n",
    "plt.subplot(1,3,2)\n",
    "plt.plot(dados.mag_r, dados.err_r, \"ys\", alpha=0.5)\n",
    "plt.xlim(14,24)\n",
    "plt.ylim(0.,0.3)\n",
    "plt.xlabel(\"magnitude (r-band)\", fontsize=14)\n",
    "plt.ylabel(\"error\", fontsize=14)\n",
    "plt.xticks(fontsize=12)\n",
    "plt.yticks(fontsize=12)\n",
    "#-------------------------#\n",
    "plt.subplot(1,3,3)\n",
    "plt.plot(dados.mag_i, dados.err_i, \"r^\", alpha=0.5)\n",
    "plt.xlim(14,24)\n",
    "plt.ylim(0.,0.3)\n",
    "plt.xlabel(\"magnitude (i-band)\", fontsize=14)\n",
    "plt.ylabel(\"error\", fontsize=14)\n",
    "plt.xticks(fontsize=12)\n",
    "plt.yticks(fontsize=12)\n",
    "plt.tight_layout()"
   ]
  },
  {
   "cell_type": "markdown",
   "metadata": {},
   "source": []
  },
  {
   "cell_type": "code",
   "execution_count": null,
   "metadata": {},
   "outputs": [],
   "source": [
    "plt.title(\"Stars from DES DR2\", fontsize=14)\n",
    "plt.plot(dados.mag_i, dados.err_i, \"k.\", alpha=0.5)\n",
    "plt.xlim(14,24)\n",
    "plt.ylim(0.,0.3)\n",
    "plt.xlabel(\"magnitude (i-band)\", fontsize=14)\n",
    "plt.ylabel(\"error\", fontsize=14)\n",
    "plt.xticks(fontsize=12)\n",
    "plt.yticks(fontsize=12)\n",
    "plt.tight_layout()"
   ]
  },
  {
   "cell_type": "markdown",
   "metadata": {},
   "source": []
  },
  {
   "cell_type": "code",
   "execution_count": null,
   "metadata": {},
   "outputs": [],
   "source": [
    "plt.title(\"Stars from DES DR2\", fontsize=14)\n",
    "for flag_value in [0,1,2,3,4]: \n",
    "    plt.plot(dados.query(f\"flag == {flag_value}\").mag_i, \n",
    "             dados.query(f\"flag == {flag_value}\").err_i, \".\")\n",
    "plt.xlim(14,24)\n",
    "plt.ylim(0.,0.3)\n",
    "plt.xlabel(\"magnitude (i-band)\", fontsize=14)\n",
    "plt.ylabel(\"error\", fontsize=14)\n",
    "plt.xticks(fontsize=12)\n",
    "plt.yticks(fontsize=12)\n",
    "plt.tight_layout()"
   ]
  },
  {
   "cell_type": "markdown",
   "metadata": {},
   "source": []
  },
  {
   "cell_type": "code",
   "execution_count": null,
   "metadata": {},
   "outputs": [],
   "source": [
    "flag_color = {0:\"b\", 1:\"g\", 2:\"y\", 3:\"r\", 4:\"m\"}\n",
    "flag_marker = {0:\"o\", 1:\"s\", 2:\"^\", 3:\"*\", 4:\"d\"}"
   ]
  },
  {
   "cell_type": "markdown",
   "metadata": {},
   "source": []
  },
  {
   "cell_type": "code",
   "execution_count": null,
   "metadata": {},
   "outputs": [],
   "source": [
    "plt.title(\"Stars from DES DR2\", fontsize=14)\n",
    "for flag_value in [0,1,2,3,4]:\n",
    "    plt.plot(dados.query(f\"flag == {flag_value}\").mag_i, \n",
    "             dados.query(f\"flag == {flag_value}\").err_i, \n",
    "             color=flag_color[flag_value], \n",
    "             marker=flag_marker[flag_value], ls=\"\")\n",
    "plt.xlim(14,24)\n",
    "plt.ylim(0.,0.3)\n",
    "plt.xlabel(\"magnitude (i-band)\", fontsize=14)\n",
    "plt.ylabel(\"error\", fontsize=14)\n",
    "plt.xticks(fontsize=12)\n",
    "plt.yticks(fontsize=12)\n",
    "plt.tight_layout()"
   ]
  },
  {
   "cell_type": "markdown",
   "metadata": {},
   "source": []
  },
  {
   "cell_type": "code",
   "execution_count": null,
   "metadata": {},
   "outputs": [],
   "source": [
    "plt.title(\"Stars from DES DR2\", fontsize=14)\n",
    "for flag_value in [0,1,2,3,4]:\n",
    "    plt.plot(dados.query(f\"flag == {flag_value}\").mag_i, \n",
    "             dados.query(f\"flag == {flag_value}\").err_i, \n",
    "             color=flag_color[flag_value], \n",
    "             marker=flag_marker[flag_value], ls=\"\",\n",
    "            label=f\"flag={flag_value}\")\n",
    "plt.legend()\n",
    "plt.xlim(14,24)\n",
    "plt.ylim(0.,0.3)\n",
    "plt.xlabel(\"magnitude (i-band)\", fontsize=14)\n",
    "plt.ylabel(\"error\", fontsize=14)\n",
    "plt.xticks(fontsize=12)\n",
    "plt.yticks(fontsize=12)\n",
    "plt.tight_layout()"
   ]
  },
  {
   "cell_type": "markdown",
   "metadata": {},
   "source": []
  },
  {
   "cell_type": "markdown",
   "metadata": {},
   "source": [
    "Scatter plot"
   ]
  },
  {
   "cell_type": "markdown",
   "metadata": {},
   "source": []
  },
  {
   "cell_type": "code",
   "execution_count": null,
   "metadata": {},
   "outputs": [],
   "source": [
    "plt.title(\"Stars from DES DR2\", fontsize=14)\n",
    "for flag_value in [0,1,2,3,4]:\n",
    "    plt.scatter(dados.query(f\"flag == {flag_value}\").mag_i, \n",
    "             dados.query(f\"flag == {flag_value}\").err_i, \n",
    "             c=flag_color[flag_value], \n",
    "             marker=flag_marker[flag_value],\n",
    "            label=f\"flag={flag_value}\")\n",
    "plt.legend()\n",
    "plt.xlim(14,24)\n",
    "plt.ylim(0.,0.3)\n",
    "plt.xlabel(\"magnitude (i-band)\", fontsize=14)\n",
    "plt.ylabel(\"error\", fontsize=14)\n",
    "plt.xticks(fontsize=12)\n",
    "plt.yticks(fontsize=12)\n",
    "plt.tight_layout()"
   ]
  },
  {
   "cell_type": "markdown",
   "metadata": {},
   "source": []
  },
  {
   "cell_type": "code",
   "execution_count": null,
   "metadata": {},
   "outputs": [],
   "source": [
    "plt.title(\"Stars from DES DR2\", fontsize=14)\n",
    "plt.scatter(dados.ra, dados.dec)\n",
    "plt.xlabel(\"R.A. (deg)\", fontsize=14)\n",
    "plt.ylabel(\"Dec. (deg)\", fontsize=14)\n",
    "plt.xticks(fontsize=12)\n",
    "plt.yticks(fontsize=12)\n",
    "plt.tight_layout()"
   ]
  },
  {
   "cell_type": "markdown",
   "metadata": {},
   "source": []
  },
  {
   "cell_type": "code",
   "execution_count": null,
   "metadata": {},
   "outputs": [],
   "source": [
    "plt.figure(figsize=[5,5])\n",
    "plt.title(\"Stars from DES DR2\", fontsize=14)\n",
    "plt.scatter(dados.ra, dados.dec, alpha=0.2)\n",
    "plt.xlabel(\"R.A. (deg)\", fontsize=14)\n",
    "plt.ylabel(\"Dec. (deg)\", fontsize=14)\n",
    "plt.xticks(fontsize=12)\n",
    "plt.yticks(fontsize=12)\n",
    "plt.tight_layout()"
   ]
  },
  {
   "cell_type": "markdown",
   "metadata": {},
   "source": []
  },
  {
   "cell_type": "code",
   "execution_count": null,
   "metadata": {},
   "outputs": [],
   "source": [
    "plt.figure(figsize=[5,5])\n",
    "plt.title(\"Stars from DES DR2\", fontsize=14)\n",
    "plt.scatter(dados.ra, dados.dec, alpha=0.2, c=dados.ra)\n",
    "plt.xlabel(\"R.A. (deg)\", fontsize=14)\n",
    "plt.ylabel(\"Dec. (deg)\", fontsize=14)\n",
    "plt.xticks(fontsize=12)\n",
    "plt.yticks(fontsize=12)\n",
    "plt.tight_layout()"
   ]
  },
  {
   "cell_type": "markdown",
   "metadata": {},
   "source": []
  },
  {
   "cell_type": "markdown",
   "metadata": {},
   "source": [
    "Lista de colormaps disponíveis: \n",
    "https://matplotlib.org/stable/gallery/color/colormap_reference.html "
   ]
  },
  {
   "cell_type": "markdown",
   "metadata": {},
   "source": []
  },
  {
   "cell_type": "code",
   "execution_count": null,
   "metadata": {},
   "outputs": [],
   "source": [
    "plt.figure(figsize=[6,5])\n",
    "plt.title(\"Stars from DES DR2\", fontsize=14)\n",
    "plt.scatter(dados.ra, dados.dec, alpha=0.2, c=dados.ra)\n",
    "plt.xlabel(\"R.A. (deg)\", fontsize=14)\n",
    "plt.ylabel(\"Dec. (deg)\", fontsize=14)\n",
    "plt.colorbar()\n",
    "plt.xticks(fontsize=12)\n",
    "plt.yticks(fontsize=12)\n",
    "plt.tight_layout()"
   ]
  },
  {
   "cell_type": "markdown",
   "metadata": {},
   "source": []
  },
  {
   "cell_type": "code",
   "execution_count": null,
   "metadata": {},
   "outputs": [],
   "source": [
    "plt.figure(figsize=[6,5])\n",
    "plt.title(\"Stars from DES DR2\", fontsize=14)\n",
    "plt.scatter(dados.ra, dados.dec, alpha=0.2, c=dados.ra, cmap=\"inferno\")\n",
    "plt.xlabel(\"R.A. (deg)\", fontsize=14)\n",
    "plt.ylabel(\"Dec. (deg)\", fontsize=14)\n",
    "plt.colorbar()\n",
    "plt.xticks(fontsize=12)\n",
    "plt.yticks(fontsize=12)\n",
    "plt.tight_layout()"
   ]
  },
  {
   "cell_type": "markdown",
   "metadata": {},
   "source": []
  },
  {
   "cell_type": "code",
   "execution_count": null,
   "metadata": {},
   "outputs": [],
   "source": [
    "plt.figure(figsize=[6,5])\n",
    "plt.title(\"Stars from DES DR2\", fontsize=14)\n",
    "plt.scatter(dados.ra, dados.dec, alpha=0.2, c=dados.ra, cmap=\"rainbow\")\n",
    "plt.xlabel(\"R.A. (deg)\", fontsize=14)\n",
    "plt.ylabel(\"Dec. (deg)\", fontsize=14)\n",
    "plt.colorbar()\n",
    "plt.xticks(fontsize=12)\n",
    "plt.yticks(fontsize=12)\n",
    "plt.tight_layout()"
   ]
  },
  {
   "cell_type": "markdown",
   "metadata": {},
   "source": []
  },
  {
   "cell_type": "code",
   "execution_count": null,
   "metadata": {},
   "outputs": [],
   "source": [
    "plt.figure(figsize=[6,5])\n",
    "plt.title(\"Stars from DES DR2\", fontsize=14)\n",
    "plt.scatter(dados.ra, dados.dec, alpha=0.2, c=dados.ra, cmap=\"rainbow_r\")\n",
    "plt.xlabel(\"R.A. (deg)\", fontsize=14)\n",
    "plt.ylabel(\"Dec. (deg)\", fontsize=14)\n",
    "plt.colorbar()\n",
    "plt.xticks(fontsize=12)\n",
    "plt.yticks(fontsize=12)\n",
    "plt.tight_layout()"
   ]
  },
  {
   "cell_type": "markdown",
   "metadata": {},
   "source": []
  },
  {
   "cell_type": "markdown",
   "metadata": {},
   "source": [
    "## 1.3 Density plots"
   ]
  },
  {
   "cell_type": "code",
   "execution_count": null,
   "metadata": {},
   "outputs": [],
   "source": [
    "from scipy.stats import gaussian_kde"
   ]
  },
  {
   "cell_type": "markdown",
   "metadata": {},
   "source": []
  },
  {
   "cell_type": "code",
   "execution_count": null,
   "metadata": {},
   "outputs": [],
   "source": [
    "plt.figure(figsize=[6,5])\n",
    "plt.title(\"Stars from DES DR2\", fontsize=14)\n",
    "xy = np.vstack([dados.ra, dados.dec])\n",
    "z = gaussian_kde(xy)(xy)\n",
    "plt.scatter(dados.ra, dados.dec, c=z)\n",
    "plt.xlabel(\"R.A. (deg)\", fontsize=14)\n",
    "plt.ylabel(\"Dec. (deg)\", fontsize=14)\n",
    "plt.colorbar(label=\"density of points\")\n",
    "plt.xticks(fontsize=12)\n",
    "plt.yticks(fontsize=12)\n",
    "plt.tight_layout()"
   ]
  },
  {
   "cell_type": "markdown",
   "metadata": {},
   "source": []
  },
  {
   "cell_type": "code",
   "execution_count": null,
   "metadata": {},
   "outputs": [],
   "source": [
    "plt.figure(figsize=[6,5])\n",
    "plt.title(\"Stars from DES DR2\", fontsize=14)\n",
    "xy = np.vstack([dados.ra, dados.dec])\n",
    "z = gaussian_kde(xy)(xy)\n",
    "plt.scatter(dados.ra, dados.dec, c=z, cmap=\"inferno\")\n",
    "plt.xlabel(\"R.A. (deg)\", fontsize=14)\n",
    "plt.ylabel(\"Dec. (deg)\", fontsize=14)\n",
    "plt.colorbar(label=\"density of points\")\n",
    "plt.xticks(fontsize=12)\n",
    "plt.yticks(fontsize=12)\n",
    "plt.tight_layout()"
   ]
  },
  {
   "cell_type": "markdown",
   "metadata": {},
   "source": []
  },
  {
   "cell_type": "code",
   "execution_count": null,
   "metadata": {},
   "outputs": [],
   "source": [
    "plt.figure(figsize=[6,5])\n",
    "plt.title(\"Stars from DES DR2\", fontsize=14)\n",
    "xy = np.vstack([dados.mag_i, dados.err_i])\n",
    "z = gaussian_kde(xy)(xy)\n",
    "plt.scatter(dados.mag_i, dados.err_i, c=z)\n",
    "plt.xlim(14,24)\n",
    "plt.ylim(0.,0.3)\n",
    "plt.xlabel(\"magnitude (i-band)\", fontsize=14)\n",
    "plt.ylabel(\"error\", fontsize=14)\n",
    "plt.xticks(fontsize=12)\n",
    "plt.yticks(fontsize=12)\n",
    "plt.tight_layout()"
   ]
  },
  {
   "cell_type": "markdown",
   "metadata": {},
   "source": [
    "Histogram 2D"
   ]
  },
  {
   "cell_type": "markdown",
   "metadata": {},
   "source": []
  },
  {
   "cell_type": "code",
   "execution_count": null,
   "metadata": {},
   "outputs": [],
   "source": [
    "plt.title(\"Stars from DES DR2\", fontsize=14)\n",
    "plt.hist2d(dados.ra, dados.dec)\n",
    "plt.xlabel(\"R.A. (deg)\", fontsize=14)\n",
    "plt.ylabel(\"Dec. (deg)\", fontsize=14)\n",
    "plt.colorbar(label=\"density of points\")\n",
    "plt.xticks(fontsize=12)\n",
    "plt.yticks(fontsize=12)\n",
    "plt.tight_layout()"
   ]
  },
  {
   "cell_type": "markdown",
   "metadata": {},
   "source": []
  },
  {
   "cell_type": "code",
   "execution_count": null,
   "metadata": {},
   "outputs": [],
   "source": [
    "plt.title(\"Stars from DES DR2\", fontsize=14)\n",
    "plt.hist2d(dados.ra, dados.dec, bins=50)\n",
    "plt.xlabel(\"R.A. (deg)\", fontsize=14)\n",
    "plt.ylabel(\"Dec. (deg)\", fontsize=14)\n",
    "plt.colorbar(label=\"density of points\")\n",
    "plt.xticks(fontsize=12)\n",
    "plt.yticks(fontsize=12)\n",
    "plt.tight_layout()"
   ]
  },
  {
   "cell_type": "markdown",
   "metadata": {},
   "source": [
    "Hexbin"
   ]
  },
  {
   "cell_type": "markdown",
   "metadata": {},
   "source": []
  },
  {
   "cell_type": "code",
   "execution_count": null,
   "metadata": {},
   "outputs": [],
   "source": [
    "plt.title(\"Stars from DES DR2\", fontsize=14)\n",
    "plt.hexbin(dados.ra, dados.dec)\n",
    "plt.xlabel(\"R.A. (deg)\", fontsize=14)\n",
    "plt.ylabel(\"Dec. (deg)\", fontsize=14)\n",
    "plt.colorbar(label=\"density of points\")\n",
    "plt.xticks(fontsize=12)\n",
    "plt.yticks(fontsize=12)\n",
    "plt.tight_layout()"
   ]
  },
  {
   "cell_type": "markdown",
   "metadata": {},
   "source": []
  },
  {
   "cell_type": "code",
   "execution_count": null,
   "metadata": {},
   "outputs": [],
   "source": [
    "plt.title(\"Stars from DES DR2\", fontsize=14)\n",
    "plt.hexbin(dados.ra, dados.dec, gridsize=50)\n",
    "plt.xlabel(\"R.A. (deg)\", fontsize=14)\n",
    "plt.ylabel(\"Dec. (deg)\", fontsize=14)\n",
    "plt.colorbar(label=\"density of points\")\n",
    "plt.xticks(fontsize=12)\n",
    "plt.yticks(fontsize=12)\n",
    "plt.tight_layout()"
   ]
  },
  {
   "cell_type": "markdown",
   "metadata": {},
   "source": []
  },
  {
   "cell_type": "code",
   "execution_count": null,
   "metadata": {},
   "outputs": [],
   "source": [
    "plt.title(\"Stars from DES DR2\", fontsize=14)\n",
    "plt.hexbin(dados.ra, dados.dec, gridsize=20)\n",
    "plt.xlabel(\"R.A. (deg)\", fontsize=14)\n",
    "plt.ylabel(\"Dec. (deg)\", fontsize=14)\n",
    "plt.colorbar(label=\"density of points\")\n",
    "plt.xticks(fontsize=12)\n",
    "plt.yticks(fontsize=12)\n",
    "plt.tight_layout()"
   ]
  },
  {
   "cell_type": "markdown",
   "metadata": {},
   "source": []
  },
  {
   "cell_type": "code",
   "execution_count": null,
   "metadata": {},
   "outputs": [],
   "source": [
    "plt.title(\"Stars from DES DR2\", fontsize=14)\n",
    "plt.hexbin(dados.ra, dados.dec, bins=\"log\")\n",
    "plt.xlabel(\"R.A. (deg)\", fontsize=14)\n",
    "plt.ylabel(\"Dec. (deg)\", fontsize=14)\n",
    "plt.colorbar(label=\"density of points\")\n",
    "plt.xticks(fontsize=12)\n",
    "plt.yticks(fontsize=12)\n",
    "plt.tight_layout()"
   ]
  },
  {
   "cell_type": "markdown",
   "metadata": {},
   "source": []
  },
  {
   "cell_type": "code",
   "execution_count": null,
   "metadata": {},
   "outputs": [],
   "source": [
    "plt.title(\"Stars from DES DR2\", fontsize=14)\n",
    "plt.hexbin(dados.mag_i, dados.err_i, gridsize=[100,1000], mincnt=1)\n",
    "plt.xlim(14,24)\n",
    "plt.ylim(0.,0.3)\n",
    "plt.xlabel(\"magnitude (i-band)\", fontsize=14)\n",
    "plt.ylabel(\"error\", fontsize=14)\n",
    "plt.xticks(fontsize=12)\n",
    "plt.yticks(fontsize=12)\n",
    "plt.colorbar(label=\"density of points\")\n",
    "plt.tight_layout()"
   ]
  },
  {
   "cell_type": "markdown",
   "metadata": {},
   "source": [
    "# 2. Gráficos com a biblioteca Seaborn"
   ]
  },
  {
   "cell_type": "code",
   "execution_count": null,
   "metadata": {},
   "outputs": [],
   "source": [
    "sns.set(color_codes=True, font_scale=1.5) # seaborn plot config"
   ]
  },
  {
   "cell_type": "markdown",
   "metadata": {},
   "source": [
    "## 2.1 Histogramas (1D)"
   ]
  },
  {
   "cell_type": "markdown",
   "metadata": {},
   "source": []
  },
  {
   "cell_type": "code",
   "execution_count": null,
   "metadata": {},
   "outputs": [],
   "source": [
    "sns.displot(dados.mag_i)\n",
    "plt.tight_layout()"
   ]
  },
  {
   "cell_type": "markdown",
   "metadata": {},
   "source": []
  },
  {
   "cell_type": "code",
   "execution_count": null,
   "metadata": {},
   "outputs": [],
   "source": [
    "sns.displot(dados.mag_i, kde=True)\n",
    "plt.tight_layout()"
   ]
  },
  {
   "cell_type": "markdown",
   "metadata": {},
   "source": []
  },
  {
   "cell_type": "code",
   "execution_count": null,
   "metadata": {},
   "outputs": [],
   "source": [
    "sns.kdeplot(dados.mag_i)\n",
    "plt.tight_layout()"
   ]
  },
  {
   "cell_type": "markdown",
   "metadata": {},
   "source": []
  },
  {
   "cell_type": "code",
   "execution_count": null,
   "metadata": {},
   "outputs": [],
   "source": [
    "sns.kdeplot(dados.mag_i, shade=True)\n",
    "plt.tight_layout()"
   ]
  },
  {
   "cell_type": "markdown",
   "metadata": {},
   "source": []
  },
  {
   "cell_type": "code",
   "execution_count": null,
   "metadata": {},
   "outputs": [],
   "source": [
    "bands = [\"g\", \"r\", \"i\"]"
   ]
  },
  {
   "cell_type": "markdown",
   "metadata": {},
   "source": []
  },
  {
   "cell_type": "code",
   "execution_count": null,
   "metadata": {},
   "outputs": [],
   "source": [
    "plt.figure()\n",
    "for band in bands:\n",
    "    sns.kdeplot(dados[f\"mag_{band}\"], shade=True)"
   ]
  },
  {
   "cell_type": "markdown",
   "metadata": {},
   "source": []
  },
  {
   "cell_type": "code",
   "execution_count": null,
   "metadata": {},
   "outputs": [],
   "source": [
    "plt.figure()\n",
    "for band in bands:\n",
    "    sns.kdeplot(dados[f\"mag_{band}\"], shade=True, label=band)\n",
    "plt.legend()\n",
    "plt.tight_layout()"
   ]
  },
  {
   "cell_type": "markdown",
   "metadata": {},
   "source": []
  },
  {
   "cell_type": "markdown",
   "metadata": {},
   "source": [
    "## 2.2 Scatter plot"
   ]
  },
  {
   "cell_type": "code",
   "execution_count": null,
   "metadata": {},
   "outputs": [],
   "source": [
    "sns.scatterplot(data=dados.query(\"mag_i<24\"), x=\"mag_i\", y=\"err_i\")\n",
    "plt.tight_layout()"
   ]
  },
  {
   "cell_type": "markdown",
   "metadata": {},
   "source": []
  },
  {
   "cell_type": "code",
   "execution_count": null,
   "metadata": {},
   "outputs": [],
   "source": [
    "sns.scatterplot(data=dados.query(\"mag_i<24\"), x=\"mag_i\", y=\"err_i\", size=\"flag\")\n",
    "plt.tight_layout()"
   ]
  },
  {
   "cell_type": "markdown",
   "metadata": {},
   "source": []
  },
  {
   "cell_type": "markdown",
   "metadata": {},
   "source": [
    "## 2.3 Density plots"
   ]
  },
  {
   "cell_type": "code",
   "execution_count": null,
   "metadata": {},
   "outputs": [],
   "source": [
    "plt.figure()\n",
    "sns.kdeplot(data=dados, x=\"ra\", y=\"dec\")\n",
    "plt.tight_layout()"
   ]
  },
  {
   "cell_type": "markdown",
   "metadata": {},
   "source": []
  },
  {
   "cell_type": "code",
   "execution_count": null,
   "metadata": {},
   "outputs": [],
   "source": [
    "plt.figure()\n",
    "sns.kdeplot(data=dados, x=\"ra\", y=\"dec\", shade=True)\n",
    "plt.tight_layout()"
   ]
  },
  {
   "cell_type": "markdown",
   "metadata": {},
   "source": []
  },
  {
   "cell_type": "code",
   "execution_count": null,
   "metadata": {},
   "outputs": [],
   "source": [
    "plt.figure()\n",
    "sns.jointplot(data=dados.query(\"mag_i<24\"), x=\"mag_i\", y=\"err_i\")#, shade=True)\n",
    "plt.tight_layout()"
   ]
  },
  {
   "cell_type": "markdown",
   "metadata": {},
   "source": []
  },
  {
   "cell_type": "code",
   "execution_count": null,
   "metadata": {},
   "outputs": [],
   "source": [
    "plt.figure()\n",
    "sns.jointplot(data=dados.query(\"mag_i<24\"), x=\"mag_i\", y=\"err_i\")\n",
    "plt.tight_layout()"
   ]
  },
  {
   "cell_type": "markdown",
   "metadata": {},
   "source": []
  },
  {
   "cell_type": "code",
   "execution_count": null,
   "metadata": {},
   "outputs": [],
   "source": [
    "plt.figure()\n",
    "sns.jointplot(data=dados.query(\"mag_i<24\"), x=\"mag_i\", y=\"err_i\", kind=\"kde\")\n",
    "plt.tight_layout()"
   ]
  },
  {
   "cell_type": "markdown",
   "metadata": {},
   "source": []
  },
  {
   "cell_type": "code",
   "execution_count": null,
   "metadata": {},
   "outputs": [],
   "source": [
    "plt.figure()\n",
    "sns.jointplot(data=dados.query(\"mag_i<24\"), x=\"mag_i\", y=\"err_i\", kind=\"kde\", shade=True)\n",
    "plt.tight_layout()"
   ]
  },
  {
   "cell_type": "markdown",
   "metadata": {},
   "source": [
    "# 3. CMD"
   ]
  },
  {
   "cell_type": "markdown",
   "metadata": {},
   "source": []
  },
  {
   "cell_type": "code",
   "execution_count": null,
   "metadata": {},
   "outputs": [],
   "source": [
    "dados[\"gmr\"] = dados.mag_g - dados.mag_r"
   ]
  },
  {
   "cell_type": "markdown",
   "metadata": {},
   "source": [
    "### 3.1 Com a função `hexbin` da biblioteca _Matplotlib_."
   ]
  },
  {
   "cell_type": "code",
   "execution_count": null,
   "metadata": {},
   "outputs": [],
   "source": [
    "plt.figure(figsize=[8,6])\n",
    "plt.title(\"Observed CMD - Stars from DES DR2\", fontsize=14)\n",
    "plt.hexbin(dados.gmr, dados.mag_r, gridsize=200, bins='log')\n",
    "plt.xlabel(\"$g_{0} - r_{0}$\", fontsize=14)\n",
    "plt.ylabel(\"$g_{0}$\", fontsize=14)\n",
    "plt.colorbar(label=\"density of points\")\n",
    "plt.xticks(fontsize=12)\n",
    "plt.yticks(fontsize=12)\n",
    "plt.xlim(2.,-1.)\n",
    "plt.ylim(24,17)\n",
    "plt.tight_layout()\n",
    "plt.savefig(\"cmd_stars_hexbin.png\")"
   ]
  },
  {
   "cell_type": "markdown",
   "metadata": {},
   "source": [
    "### 3.2 Com a função `kdeplot` da biblioteca _Seaborn_."
   ]
  },
  {
   "cell_type": "code",
   "execution_count": null,
   "metadata": {},
   "outputs": [],
   "source": [
    "plt.figure(figsize=[8,6])\n",
    "plt.title(\"Observed CMD - Stars from DES DR2\", fontsize=14)\n",
    "sns.kdeplot(data=dados, x=dados.gmr, y=dados.mag_r)\n",
    "plt.xlabel(\"$g_{0} - r_{0}$\", fontsize=14)\n",
    "plt.ylabel(\"$g_{0}$\", fontsize=14)\n",
    "#plt.colorbar(label=\"density of points\")\n",
    "plt.xticks(fontsize=12)\n",
    "plt.yticks(fontsize=12)\n",
    "plt.xlim(2.,-1.)\n",
    "plt.ylim(25,16)\n",
    "plt.tight_layout()\n",
    "plt.savefig(\"cmd_stars_kdeplot.png\")"
   ]
  },
  {
   "cell_type": "markdown",
   "metadata": {},
   "source": [
    "# 4. Export  \n",
    "\n",
    "Para exportar seu notebook com resultados para uma versão estática e leve que abre em qualquer navegador, basta ir no menu em:\n",
    "\n",
    "`File > Export Notebook As > Export to HTML`"
   ]
  },
  {
   "cell_type": "markdown",
   "metadata": {},
   "source": [
    "Antes de salvar o arquivo **.ipynb**, não se esqueça de limpar todos os outputs:\n",
    "\n",
    "`Edit > Clear All Outputs`"
   ]
  },
  {
   "cell_type": "code",
   "execution_count": null,
   "metadata": {},
   "outputs": [],
   "source": []
  }
 ],
 "metadata": {
  "kernelspec": {
   "display_name": "Python 3",
   "language": "python",
   "name": "python3"
  },
  "language_info": {
   "codemirror_mode": {
    "name": "ipython",
    "version": 3
   },
   "file_extension": ".py",
   "mimetype": "text/x-python",
   "name": "python",
   "nbconvert_exporter": "python",
   "pygments_lexer": "ipython3",
   "version": "3.8.6"
  },
  "toc-showcode": false
 },
 "nbformat": 4,
 "nbformat_minor": 4
}
